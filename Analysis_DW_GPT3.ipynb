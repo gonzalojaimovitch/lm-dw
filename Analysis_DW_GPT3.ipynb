{
  "nbformat": 4,
  "nbformat_minor": 0,
  "metadata": {
    "colab": {
      "name": "Analysis_DW_GPT3.ipynb",
      "provenance": []
    },
    "kernelspec": {
      "name": "python3",
      "display_name": "Python 3"
    },
    "language_info": {
      "name": "python"
    }
  },
  "cells": [
    {
      "cell_type": "code",
      "metadata": {
        "id": "VP5wYeb_Bie0"
      },
      "source": [
        "import pandas as pd"
      ],
      "execution_count": null,
      "outputs": []
    },
    {
      "cell_type": "code",
      "metadata": {
        "id": "7Rj8I6zRBkd_"
      },
      "source": [
        "df = pd.read_csv(\"results_dw_acc.csv\",delimiter = \";\")"
      ],
      "execution_count": null,
      "outputs": []
    },
    {
      "cell_type": "code",
      "metadata": {
        "id": "VHBQZBSPB3br",
        "colab": {
          "base_uri": "https://localhost:8080/",
          "height": 204
        },
        "outputId": "7c07ce62-2f93-413b-a856-2fa6274d11c6"
      },
      "source": [
        "df.head()"
      ],
      "execution_count": null,
      "outputs": [
        {
          "output_type": "execute_result",
          "data": {
            "text/html": [
              "<div>\n",
              "<style scoped>\n",
              "    .dataframe tbody tr th:only-of-type {\n",
              "        vertical-align: middle;\n",
              "    }\n",
              "\n",
              "    .dataframe tbody tr th {\n",
              "        vertical-align: top;\n",
              "    }\n",
              "\n",
              "    .dataframe thead th {\n",
              "        text-align: right;\n",
              "    }\n",
              "</style>\n",
              "<table border=\"1\" class=\"dataframe\">\n",
              "  <thead>\n",
              "    <tr style=\"text-align: right;\">\n",
              "      <th></th>\n",
              "      <th>Strategy</th>\n",
              "      <th>System</th>\n",
              "      <th>Problem</th>\n",
              "      <th>Domain</th>\n",
              "      <th>Accuracy</th>\n",
              "    </tr>\n",
              "  </thead>\n",
              "  <tbody>\n",
              "    <tr>\n",
              "      <th>0</th>\n",
              "      <td>1-shot</td>\n",
              "      <td>DaVinci</td>\n",
              "      <td>addPunctuation-1</td>\n",
              "      <td>dates</td>\n",
              "      <td>0.6</td>\n",
              "    </tr>\n",
              "    <tr>\n",
              "      <th>1</th>\n",
              "      <td>1-shot</td>\n",
              "      <td>DaVinci</td>\n",
              "      <td>addPunctuation-2</td>\n",
              "      <td>dates</td>\n",
              "      <td>0.4</td>\n",
              "    </tr>\n",
              "    <tr>\n",
              "      <th>2</th>\n",
              "      <td>1-shot</td>\n",
              "      <td>DaVinci</td>\n",
              "      <td>changeFormat-1</td>\n",
              "      <td>dates</td>\n",
              "      <td>0.4</td>\n",
              "    </tr>\n",
              "    <tr>\n",
              "      <th>3</th>\n",
              "      <td>1-shot</td>\n",
              "      <td>DaVinci</td>\n",
              "      <td>changeFormat-2</td>\n",
              "      <td>dates</td>\n",
              "      <td>0.0</td>\n",
              "    </tr>\n",
              "    <tr>\n",
              "      <th>4</th>\n",
              "      <td>1-shot</td>\n",
              "      <td>DaVinci</td>\n",
              "      <td>changeFormat-3</td>\n",
              "      <td>dates</td>\n",
              "      <td>0.2</td>\n",
              "    </tr>\n",
              "  </tbody>\n",
              "</table>\n",
              "</div>"
            ],
            "text/plain": [
              "  Strategy   System           Problem Domain  Accuracy\n",
              "0   1-shot  DaVinci  addPunctuation-1  dates       0.6\n",
              "1   1-shot  DaVinci  addPunctuation-2  dates       0.4\n",
              "2   1-shot  DaVinci    changeFormat-1  dates       0.4\n",
              "3   1-shot  DaVinci    changeFormat-2  dates       0.0\n",
              "4   1-shot  DaVinci    changeFormat-3  dates       0.2"
            ]
          },
          "metadata": {
            "tags": []
          },
          "execution_count": 4
        }
      ]
    },
    {
      "cell_type": "code",
      "metadata": {
        "id": "zU6pUpaqI8lv",
        "colab": {
          "base_uri": "https://localhost:8080/",
          "height": 297
        },
        "outputId": "2632c8a0-8e58-47e6-8212-37fcb0ce1bd2"
      },
      "source": [
        "df.describe()"
      ],
      "execution_count": null,
      "outputs": [
        {
          "output_type": "execute_result",
          "data": {
            "text/html": [
              "<div>\n",
              "<style scoped>\n",
              "    .dataframe tbody tr th:only-of-type {\n",
              "        vertical-align: middle;\n",
              "    }\n",
              "\n",
              "    .dataframe tbody tr th {\n",
              "        vertical-align: top;\n",
              "    }\n",
              "\n",
              "    .dataframe thead th {\n",
              "        text-align: right;\n",
              "    }\n",
              "</style>\n",
              "<table border=\"1\" class=\"dataframe\">\n",
              "  <thead>\n",
              "    <tr style=\"text-align: right;\">\n",
              "      <th></th>\n",
              "      <th>Accuracy</th>\n",
              "    </tr>\n",
              "  </thead>\n",
              "  <tbody>\n",
              "    <tr>\n",
              "      <th>count</th>\n",
              "      <td>1872.000000</td>\n",
              "    </tr>\n",
              "    <tr>\n",
              "      <th>mean</th>\n",
              "      <td>0.510764</td>\n",
              "    </tr>\n",
              "    <tr>\n",
              "      <th>std</th>\n",
              "      <td>0.415531</td>\n",
              "    </tr>\n",
              "    <tr>\n",
              "      <th>min</th>\n",
              "      <td>0.000000</td>\n",
              "    </tr>\n",
              "    <tr>\n",
              "      <th>25%</th>\n",
              "      <td>0.000000</td>\n",
              "    </tr>\n",
              "    <tr>\n",
              "      <th>50%</th>\n",
              "      <td>0.500000</td>\n",
              "    </tr>\n",
              "    <tr>\n",
              "      <th>75%</th>\n",
              "      <td>1.000000</td>\n",
              "    </tr>\n",
              "    <tr>\n",
              "      <th>max</th>\n",
              "      <td>1.000000</td>\n",
              "    </tr>\n",
              "  </tbody>\n",
              "</table>\n",
              "</div>"
            ],
            "text/plain": [
              "          Accuracy\n",
              "count  1872.000000\n",
              "mean      0.510764\n",
              "std       0.415531\n",
              "min       0.000000\n",
              "25%       0.000000\n",
              "50%       0.500000\n",
              "75%       1.000000\n",
              "max       1.000000"
            ]
          },
          "metadata": {
            "tags": []
          },
          "execution_count": 5
        }
      ]
    },
    {
      "cell_type": "markdown",
      "metadata": {
        "id": "raxZ48HAzwV1"
      },
      "source": [
        "Questions to solve:\n",
        "\n",
        "1. What are the top performance domains? What are the bottom performance domains? Why? (Check outputs?)"
      ]
    },
    {
      "cell_type": "code",
      "metadata": {
        "id": "iypEm0ssIFYz",
        "colab": {
          "base_uri": "https://localhost:8080/",
          "height": 297
        },
        "outputId": "ff996e47-569a-49f1-d415-45c2ee4267fa"
      },
      "source": [
        "df.groupby(['Domain']).mean().sort_values(by='Accuracy',ascending=False)"
      ],
      "execution_count": null,
      "outputs": [
        {
          "output_type": "execute_result",
          "data": {
            "text/html": [
              "<div>\n",
              "<style scoped>\n",
              "    .dataframe tbody tr th:only-of-type {\n",
              "        vertical-align: middle;\n",
              "    }\n",
              "\n",
              "    .dataframe tbody tr th {\n",
              "        vertical-align: top;\n",
              "    }\n",
              "\n",
              "    .dataframe thead th {\n",
              "        text-align: right;\n",
              "    }\n",
              "</style>\n",
              "<table border=\"1\" class=\"dataframe\">\n",
              "  <thead>\n",
              "    <tr style=\"text-align: right;\">\n",
              "      <th></th>\n",
              "      <th>Accuracy</th>\n",
              "    </tr>\n",
              "    <tr>\n",
              "      <th>Domain</th>\n",
              "      <th></th>\n",
              "    </tr>\n",
              "  </thead>\n",
              "  <tbody>\n",
              "    <tr>\n",
              "      <th>emails</th>\n",
              "      <td>0.832060</td>\n",
              "    </tr>\n",
              "    <tr>\n",
              "      <th>freetext</th>\n",
              "      <td>0.606960</td>\n",
              "    </tr>\n",
              "    <tr>\n",
              "      <th>names</th>\n",
              "      <td>0.552885</td>\n",
              "    </tr>\n",
              "    <tr>\n",
              "      <th>phones</th>\n",
              "      <td>0.518981</td>\n",
              "    </tr>\n",
              "    <tr>\n",
              "      <th>dates</th>\n",
              "      <td>0.452679</td>\n",
              "    </tr>\n",
              "    <tr>\n",
              "      <th>times</th>\n",
              "      <td>0.404905</td>\n",
              "    </tr>\n",
              "    <tr>\n",
              "      <th>units</th>\n",
              "      <td>0.316458</td>\n",
              "    </tr>\n",
              "  </tbody>\n",
              "</table>\n",
              "</div>"
            ],
            "text/plain": [
              "          Accuracy\n",
              "Domain            \n",
              "emails    0.832060\n",
              "freetext  0.606960\n",
              "names     0.552885\n",
              "phones    0.518981\n",
              "dates     0.452679\n",
              "times     0.404905\n",
              "units     0.316458"
            ]
          },
          "metadata": {
            "tags": []
          },
          "execution_count": 29
        }
      ]
    },
    {
      "cell_type": "markdown",
      "metadata": {
        "id": "5Qt7zyRA3YAn"
      },
      "source": [
        "2. Does performance improve with the number of parameters?"
      ]
    },
    {
      "cell_type": "code",
      "metadata": {
        "colab": {
          "base_uri": "https://localhost:8080/",
          "height": 204
        },
        "id": "_kmlPiVA3bHN",
        "outputId": "689053ef-aad9-4057-8985-9b59443ed746"
      },
      "source": [
        "df.groupby(['System']).mean().sort_values(by='Accuracy',ascending=False)"
      ],
      "execution_count": null,
      "outputs": [
        {
          "output_type": "execute_result",
          "data": {
            "text/html": [
              "<div>\n",
              "<style scoped>\n",
              "    .dataframe tbody tr th:only-of-type {\n",
              "        vertical-align: middle;\n",
              "    }\n",
              "\n",
              "    .dataframe tbody tr th {\n",
              "        vertical-align: top;\n",
              "    }\n",
              "\n",
              "    .dataframe thead th {\n",
              "        text-align: right;\n",
              "    }\n",
              "</style>\n",
              "<table border=\"1\" class=\"dataframe\">\n",
              "  <thead>\n",
              "    <tr style=\"text-align: right;\">\n",
              "      <th></th>\n",
              "      <th>Accuracy</th>\n",
              "    </tr>\n",
              "    <tr>\n",
              "      <th>System</th>\n",
              "      <th></th>\n",
              "    </tr>\n",
              "  </thead>\n",
              "  <tbody>\n",
              "    <tr>\n",
              "      <th>DaVinci</th>\n",
              "      <td>0.609188</td>\n",
              "    </tr>\n",
              "    <tr>\n",
              "      <th>Curie</th>\n",
              "      <td>0.542058</td>\n",
              "    </tr>\n",
              "    <tr>\n",
              "      <th>Babbage</th>\n",
              "      <td>0.480983</td>\n",
              "    </tr>\n",
              "    <tr>\n",
              "      <th>Ada</th>\n",
              "      <td>0.410826</td>\n",
              "    </tr>\n",
              "  </tbody>\n",
              "</table>\n",
              "</div>"
            ],
            "text/plain": [
              "         Accuracy\n",
              "System           \n",
              "DaVinci  0.609188\n",
              "Curie    0.542058\n",
              "Babbage  0.480983\n",
              "Ada      0.410826"
            ]
          },
          "metadata": {
            "tags": []
          },
          "execution_count": 30
        }
      ]
    },
    {
      "cell_type": "markdown",
      "metadata": {
        "id": "695taOqMKBtJ"
      },
      "source": [
        "3. How much additional examples impact the performance?"
      ]
    },
    {
      "cell_type": "code",
      "metadata": {
        "colab": {
          "base_uri": "https://localhost:8080/",
          "height": 204
        },
        "id": "95J82nxR3p0g",
        "outputId": "a62753be-f41f-41cb-a3b4-043005fd3297"
      },
      "source": [
        "df.groupby(['Strategy']).mean().sort_values(by='Accuracy',ascending=False)"
      ],
      "execution_count": null,
      "outputs": [
        {
          "output_type": "execute_result",
          "data": {
            "text/html": [
              "<div>\n",
              "<style scoped>\n",
              "    .dataframe tbody tr th:only-of-type {\n",
              "        vertical-align: middle;\n",
              "    }\n",
              "\n",
              "    .dataframe tbody tr th {\n",
              "        vertical-align: top;\n",
              "    }\n",
              "\n",
              "    .dataframe thead th {\n",
              "        text-align: right;\n",
              "    }\n",
              "</style>\n",
              "<table border=\"1\" class=\"dataframe\">\n",
              "  <thead>\n",
              "    <tr style=\"text-align: right;\">\n",
              "      <th></th>\n",
              "      <th>Accuracy</th>\n",
              "    </tr>\n",
              "    <tr>\n",
              "      <th>Strategy</th>\n",
              "      <th></th>\n",
              "    </tr>\n",
              "  </thead>\n",
              "  <tbody>\n",
              "    <tr>\n",
              "      <th>4-shot</th>\n",
              "      <td>0.589744</td>\n",
              "    </tr>\n",
              "    <tr>\n",
              "      <th>3-shot</th>\n",
              "      <td>0.564103</td>\n",
              "    </tr>\n",
              "    <tr>\n",
              "      <th>2-shot</th>\n",
              "      <td>0.529380</td>\n",
              "    </tr>\n",
              "    <tr>\n",
              "      <th>1-shot</th>\n",
              "      <td>0.359829</td>\n",
              "    </tr>\n",
              "  </tbody>\n",
              "</table>\n",
              "</div>"
            ],
            "text/plain": [
              "          Accuracy\n",
              "Strategy          \n",
              "4-shot    0.589744\n",
              "3-shot    0.564103\n",
              "2-shot    0.529380\n",
              "1-shot    0.359829"
            ]
          },
          "metadata": {
            "tags": []
          },
          "execution_count": 31
        }
      ]
    },
    {
      "cell_type": "code",
      "metadata": {
        "colab": {
          "base_uri": "https://localhost:8080/"
        },
        "id": "PHn41n-O33AJ",
        "outputId": "6c8a7fed-ef88-45ca-cbb2-7a1409860fc6"
      },
      "source": [
        "#Mean accuracy percentage increase \n",
        "\n",
        "print(\"1-shot -> 2-shot: \" + str(0.529380-0.359829))\n",
        "print(\"2-shot -> 3-shot: \" + str(0.564103-0.529380))\n",
        "print(\"3-shot -> 4-shot: \" + str(0.589744-0.564103))"
      ],
      "execution_count": null,
      "outputs": [
        {
          "output_type": "stream",
          "text": [
            "1-shot -> 2-shot: 0.16955099999999995\n",
            "2-shot -> 3-shot: 0.03472300000000006\n",
            "3-shot -> 4-shot: 0.025641000000000025\n"
          ],
          "name": "stdout"
        }
      ]
    },
    {
      "cell_type": "markdown",
      "metadata": {
        "id": "Xk6lG8aj4pjP"
      },
      "source": [
        "4. Perform specific analysis to 'units' problems"
      ]
    },
    {
      "cell_type": "code",
      "metadata": {
        "colab": {
          "base_uri": "https://localhost:8080/",
          "height": 390
        },
        "id": "JUsVv2Tb5OSu",
        "outputId": "61db5177-937e-46d2-fb15-c92be785c0c4"
      },
      "source": [
        "df.query('Domain==\"units\"').groupby(['Problem']).mean().sort_values(by='Accuracy',ascending=False)"
      ],
      "execution_count": null,
      "outputs": [
        {
          "output_type": "execute_result",
          "data": {
            "text/html": [
              "<div>\n",
              "<style scoped>\n",
              "    .dataframe tbody tr th:only-of-type {\n",
              "        vertical-align: middle;\n",
              "    }\n",
              "\n",
              "    .dataframe tbody tr th {\n",
              "        vertical-align: top;\n",
              "    }\n",
              "\n",
              "    .dataframe thead th {\n",
              "        text-align: right;\n",
              "    }\n",
              "</style>\n",
              "<table border=\"1\" class=\"dataframe\">\n",
              "  <thead>\n",
              "    <tr style=\"text-align: right;\">\n",
              "      <th></th>\n",
              "      <th>Accuracy</th>\n",
              "    </tr>\n",
              "    <tr>\n",
              "      <th>Problem</th>\n",
              "      <th></th>\n",
              "    </tr>\n",
              "  </thead>\n",
              "  <tbody>\n",
              "    <tr>\n",
              "      <th>getUnits-2</th>\n",
              "      <td>0.737500</td>\n",
              "    </tr>\n",
              "    <tr>\n",
              "      <th>getUnits-1</th>\n",
              "      <td>0.725000</td>\n",
              "    </tr>\n",
              "    <tr>\n",
              "      <th>getValue-2</th>\n",
              "      <td>0.645833</td>\n",
              "    </tr>\n",
              "    <tr>\n",
              "      <th>getValue-1</th>\n",
              "      <td>0.551042</td>\n",
              "    </tr>\n",
              "    <tr>\n",
              "      <th>getSystem-2</th>\n",
              "      <td>0.203125</td>\n",
              "    </tr>\n",
              "    <tr>\n",
              "      <th>getSystem-1</th>\n",
              "      <td>0.177083</td>\n",
              "    </tr>\n",
              "    <tr>\n",
              "      <th>convert-2</th>\n",
              "      <td>0.088542</td>\n",
              "    </tr>\n",
              "    <tr>\n",
              "      <th>convert-4</th>\n",
              "      <td>0.036458</td>\n",
              "    </tr>\n",
              "    <tr>\n",
              "      <th>convert-1</th>\n",
              "      <td>0.000000</td>\n",
              "    </tr>\n",
              "    <tr>\n",
              "      <th>convert-3</th>\n",
              "      <td>0.000000</td>\n",
              "    </tr>\n",
              "  </tbody>\n",
              "</table>\n",
              "</div>"
            ],
            "text/plain": [
              "             Accuracy\n",
              "Problem              \n",
              "getUnits-2   0.737500\n",
              "getUnits-1   0.725000\n",
              "getValue-2   0.645833\n",
              "getValue-1   0.551042\n",
              "getSystem-2  0.203125\n",
              "getSystem-1  0.177083\n",
              "convert-2    0.088542\n",
              "convert-4    0.036458\n",
              "convert-1    0.000000\n",
              "convert-3    0.000000"
            ]
          },
          "metadata": {
            "tags": []
          },
          "execution_count": 6
        }
      ]
    },
    {
      "cell_type": "markdown",
      "metadata": {
        "id": "GOF95G76ASWX"
      },
      "source": [
        "Here the performance difference between problems is extremely clear. It is very probable that GPT-3 doesn't understand that the task at hand is perform the calculation of changing between units (problem 'convert') plus the extra effort to expect GPT-3 to perform the calculation itself. Get the units system (problem 'getSystem') doesn't seem like a pretty demanding task, but once again maybe not super clear of what has to be done. Finally, 'getValue' and 'getUnits' makes sense to be performed easier as it is just staying with a part of the string."
      ]
    },
    {
      "cell_type": "code",
      "metadata": {
        "colab": {
          "base_uri": "https://localhost:8080/",
          "height": 390
        },
        "id": "U8ZM917JGFH8",
        "outputId": "5d835a86-0f73-44c0-d2fe-2a06816ce59b"
      },
      "source": [
        "#Here only for DaVinci\n",
        "df.query('Domain==\"units\" and System ==\"DaVinci\"').groupby(['Problem']).mean().sort_values(by='Accuracy',ascending=False)"
      ],
      "execution_count": null,
      "outputs": [
        {
          "output_type": "execute_result",
          "data": {
            "text/html": [
              "<div>\n",
              "<style scoped>\n",
              "    .dataframe tbody tr th:only-of-type {\n",
              "        vertical-align: middle;\n",
              "    }\n",
              "\n",
              "    .dataframe tbody tr th {\n",
              "        vertical-align: top;\n",
              "    }\n",
              "\n",
              "    .dataframe thead th {\n",
              "        text-align: right;\n",
              "    }\n",
              "</style>\n",
              "<table border=\"1\" class=\"dataframe\">\n",
              "  <thead>\n",
              "    <tr style=\"text-align: right;\">\n",
              "      <th></th>\n",
              "      <th>Accuracy</th>\n",
              "    </tr>\n",
              "    <tr>\n",
              "      <th>Problem</th>\n",
              "      <th></th>\n",
              "    </tr>\n",
              "  </thead>\n",
              "  <tbody>\n",
              "    <tr>\n",
              "      <th>getUnits-2</th>\n",
              "      <td>0.950000</td>\n",
              "    </tr>\n",
              "    <tr>\n",
              "      <th>getUnits-1</th>\n",
              "      <td>0.837500</td>\n",
              "    </tr>\n",
              "    <tr>\n",
              "      <th>getValue-2</th>\n",
              "      <td>0.750000</td>\n",
              "    </tr>\n",
              "    <tr>\n",
              "      <th>getValue-1</th>\n",
              "      <td>0.629167</td>\n",
              "    </tr>\n",
              "    <tr>\n",
              "      <th>getSystem-2</th>\n",
              "      <td>0.541667</td>\n",
              "    </tr>\n",
              "    <tr>\n",
              "      <th>getSystem-1</th>\n",
              "      <td>0.416667</td>\n",
              "    </tr>\n",
              "    <tr>\n",
              "      <th>convert-2</th>\n",
              "      <td>0.354167</td>\n",
              "    </tr>\n",
              "    <tr>\n",
              "      <th>convert-4</th>\n",
              "      <td>0.145833</td>\n",
              "    </tr>\n",
              "    <tr>\n",
              "      <th>convert-1</th>\n",
              "      <td>0.000000</td>\n",
              "    </tr>\n",
              "    <tr>\n",
              "      <th>convert-3</th>\n",
              "      <td>0.000000</td>\n",
              "    </tr>\n",
              "  </tbody>\n",
              "</table>\n",
              "</div>"
            ],
            "text/plain": [
              "             Accuracy\n",
              "Problem              \n",
              "getUnits-2   0.950000\n",
              "getUnits-1   0.837500\n",
              "getValue-2   0.750000\n",
              "getValue-1   0.629167\n",
              "getSystem-2  0.541667\n",
              "getSystem-1  0.416667\n",
              "convert-2    0.354167\n",
              "convert-4    0.145833\n",
              "convert-1    0.000000\n",
              "convert-3    0.000000"
            ]
          },
          "metadata": {
            "tags": []
          },
          "execution_count": 7
        }
      ]
    },
    {
      "cell_type": "markdown",
      "metadata": {
        "id": "f3DKSCwK8xhq"
      },
      "source": [
        "5. Perform specific analysis to 'times' problems"
      ]
    },
    {
      "cell_type": "code",
      "metadata": {
        "colab": {
          "base_uri": "https://localhost:8080/",
          "height": 824
        },
        "id": "-FGiutRd8wy6",
        "outputId": "8d9b2dec-1ff7-44cf-e302-b813e51cc042"
      },
      "source": [
        "df.query('Domain==\"times\"').groupby(['Problem']).mean().sort_values(by='Accuracy',ascending=False)"
      ],
      "execution_count": null,
      "outputs": [
        {
          "output_type": "execute_result",
          "data": {
            "text/html": [
              "<div>\n",
              "<style scoped>\n",
              "    .dataframe tbody tr th:only-of-type {\n",
              "        vertical-align: middle;\n",
              "    }\n",
              "\n",
              "    .dataframe tbody tr th {\n",
              "        vertical-align: top;\n",
              "    }\n",
              "\n",
              "    .dataframe thead th {\n",
              "        text-align: right;\n",
              "    }\n",
              "</style>\n",
              "<table border=\"1\" class=\"dataframe\">\n",
              "  <thead>\n",
              "    <tr style=\"text-align: right;\">\n",
              "      <th></th>\n",
              "      <th>Accuracy</th>\n",
              "    </tr>\n",
              "    <tr>\n",
              "      <th>Problem</th>\n",
              "      <th></th>\n",
              "    </tr>\n",
              "  </thead>\n",
              "  <tbody>\n",
              "    <tr>\n",
              "      <th>getTime-2</th>\n",
              "      <td>0.956250</td>\n",
              "    </tr>\n",
              "    <tr>\n",
              "      <th>appendTime-4</th>\n",
              "      <td>0.950000</td>\n",
              "    </tr>\n",
              "    <tr>\n",
              "      <th>appendTime-2</th>\n",
              "      <td>0.950000</td>\n",
              "    </tr>\n",
              "    <tr>\n",
              "      <th>getTime-1</th>\n",
              "      <td>0.900000</td>\n",
              "    </tr>\n",
              "    <tr>\n",
              "      <th>getHour-2</th>\n",
              "      <td>0.812500</td>\n",
              "    </tr>\n",
              "    <tr>\n",
              "      <th>appendTime-3</th>\n",
              "      <td>0.654167</td>\n",
              "    </tr>\n",
              "    <tr>\n",
              "      <th>getMinutes-1</th>\n",
              "      <td>0.648958</td>\n",
              "    </tr>\n",
              "    <tr>\n",
              "      <th>convert-2</th>\n",
              "      <td>0.573958</td>\n",
              "    </tr>\n",
              "    <tr>\n",
              "      <th>appendTime-1</th>\n",
              "      <td>0.472917</td>\n",
              "    </tr>\n",
              "    <tr>\n",
              "      <th>convert-1</th>\n",
              "      <td>0.385417</td>\n",
              "    </tr>\n",
              "    <tr>\n",
              "      <th>deleteTime-1</th>\n",
              "      <td>0.335417</td>\n",
              "    </tr>\n",
              "    <tr>\n",
              "      <th>getMinutes-2</th>\n",
              "      <td>0.300000</td>\n",
              "    </tr>\n",
              "    <tr>\n",
              "      <th>addTime-2</th>\n",
              "      <td>0.263542</td>\n",
              "    </tr>\n",
              "    <tr>\n",
              "      <th>deleteTime-2</th>\n",
              "      <td>0.258333</td>\n",
              "    </tr>\n",
              "    <tr>\n",
              "      <th>convert-5</th>\n",
              "      <td>0.242708</td>\n",
              "    </tr>\n",
              "    <tr>\n",
              "      <th>convert-3</th>\n",
              "      <td>0.211458</td>\n",
              "    </tr>\n",
              "    <tr>\n",
              "      <th>convert-9</th>\n",
              "      <td>0.186458</td>\n",
              "    </tr>\n",
              "    <tr>\n",
              "      <th>getHour-1</th>\n",
              "      <td>0.175000</td>\n",
              "    </tr>\n",
              "    <tr>\n",
              "      <th>convert-7</th>\n",
              "      <td>0.170833</td>\n",
              "    </tr>\n",
              "    <tr>\n",
              "      <th>convert-4</th>\n",
              "      <td>0.129167</td>\n",
              "    </tr>\n",
              "    <tr>\n",
              "      <th>convert-6</th>\n",
              "      <td>0.078125</td>\n",
              "    </tr>\n",
              "    <tr>\n",
              "      <th>addTime-1</th>\n",
              "      <td>0.037500</td>\n",
              "    </tr>\n",
              "    <tr>\n",
              "      <th>convert-8</th>\n",
              "      <td>0.012500</td>\n",
              "    </tr>\n",
              "    <tr>\n",
              "      <th>convert-10</th>\n",
              "      <td>0.012500</td>\n",
              "    </tr>\n",
              "  </tbody>\n",
              "</table>\n",
              "</div>"
            ],
            "text/plain": [
              "              Accuracy\n",
              "Problem               \n",
              "getTime-2     0.956250\n",
              "appendTime-4  0.950000\n",
              "appendTime-2  0.950000\n",
              "getTime-1     0.900000\n",
              "getHour-2     0.812500\n",
              "appendTime-3  0.654167\n",
              "getMinutes-1  0.648958\n",
              "convert-2     0.573958\n",
              "appendTime-1  0.472917\n",
              "convert-1     0.385417\n",
              "deleteTime-1  0.335417\n",
              "getMinutes-2  0.300000\n",
              "addTime-2     0.263542\n",
              "deleteTime-2  0.258333\n",
              "convert-5     0.242708\n",
              "convert-3     0.211458\n",
              "convert-9     0.186458\n",
              "getHour-1     0.175000\n",
              "convert-7     0.170833\n",
              "convert-4     0.129167\n",
              "convert-6     0.078125\n",
              "addTime-1     0.037500\n",
              "convert-8     0.012500\n",
              "convert-10    0.012500"
            ]
          },
          "metadata": {
            "tags": []
          },
          "execution_count": 44
        }
      ]
    },
    {
      "cell_type": "markdown",
      "metadata": {
        "id": "CqevyQ089iTV"
      },
      "source": [
        "Why for example addTime-1 has worst performance than addTime-2?"
      ]
    },
    {
      "cell_type": "code",
      "metadata": {
        "colab": {
          "base_uri": "https://localhost:8080/",
          "height": 204
        },
        "id": "CWFQuU_gGRE9",
        "outputId": "cb91d282-5932-4024-ac16-bb54132b55f5"
      },
      "source": [
        "#Here only for DaVinci\n",
        "df.query('Domain==\"times\" and System==\"DaVinci\"').groupby(['Problem','Strategy']).mean().sort_values(by='Accuracy',ascending=False)"
      ],
      "execution_count": null,
      "outputs": [
        {
          "output_type": "execute_result",
          "data": {
            "text/html": [
              "<div>\n",
              "<style scoped>\n",
              "    .dataframe tbody tr th:only-of-type {\n",
              "        vertical-align: middle;\n",
              "    }\n",
              "\n",
              "    .dataframe tbody tr th {\n",
              "        vertical-align: top;\n",
              "    }\n",
              "\n",
              "    .dataframe thead th {\n",
              "        text-align: right;\n",
              "    }\n",
              "</style>\n",
              "<table border=\"1\" class=\"dataframe\">\n",
              "  <thead>\n",
              "    <tr style=\"text-align: right;\">\n",
              "      <th></th>\n",
              "      <th></th>\n",
              "      <th>Accuracy</th>\n",
              "    </tr>\n",
              "    <tr>\n",
              "      <th>Problem</th>\n",
              "      <th>Strategy</th>\n",
              "      <th></th>\n",
              "    </tr>\n",
              "  </thead>\n",
              "  <tbody>\n",
              "    <tr>\n",
              "      <th rowspan=\"4\" valign=\"top\">addTime-2</th>\n",
              "      <th>1-shot</th>\n",
              "      <td>0.800000</td>\n",
              "    </tr>\n",
              "    <tr>\n",
              "      <th>3-shot</th>\n",
              "      <td>0.666667</td>\n",
              "    </tr>\n",
              "    <tr>\n",
              "      <th>2-shot</th>\n",
              "      <td>0.500000</td>\n",
              "    </tr>\n",
              "    <tr>\n",
              "      <th>4-shot</th>\n",
              "      <td>0.500000</td>\n",
              "    </tr>\n",
              "  </tbody>\n",
              "</table>\n",
              "</div>"
            ],
            "text/plain": [
              "                    Accuracy\n",
              "Problem   Strategy          \n",
              "addTime-2 1-shot    0.800000\n",
              "          3-shot    0.666667\n",
              "          2-shot    0.500000\n",
              "          4-shot    0.500000"
            ]
          },
          "metadata": {
            "tags": []
          },
          "execution_count": 12
        }
      ]
    },
    {
      "cell_type": "markdown",
      "metadata": {
        "id": "mlmnMXR889pK"
      },
      "source": [
        "6. Perform specific analysis to 'dates' problems"
      ]
    },
    {
      "cell_type": "code",
      "metadata": {
        "colab": {
          "base_uri": "https://localhost:8080/",
          "height": 731
        },
        "id": "kCDR0sT89CRU",
        "outputId": "e2625f32-b6d3-426b-d192-1e7c1b431e05"
      },
      "source": [
        "df.query('Domain==\"dates\"').groupby(['Problem']).mean().sort_values(by='Accuracy',ascending=False)"
      ],
      "execution_count": null,
      "outputs": [
        {
          "output_type": "execute_result",
          "data": {
            "text/html": [
              "<div>\n",
              "<style scoped>\n",
              "    .dataframe tbody tr th:only-of-type {\n",
              "        vertical-align: middle;\n",
              "    }\n",
              "\n",
              "    .dataframe tbody tr th {\n",
              "        vertical-align: top;\n",
              "    }\n",
              "\n",
              "    .dataframe thead th {\n",
              "        text-align: right;\n",
              "    }\n",
              "</style>\n",
              "<table border=\"1\" class=\"dataframe\">\n",
              "  <thead>\n",
              "    <tr style=\"text-align: right;\">\n",
              "      <th></th>\n",
              "      <th>Accuracy</th>\n",
              "    </tr>\n",
              "    <tr>\n",
              "      <th>Problem</th>\n",
              "      <th></th>\n",
              "    </tr>\n",
              "  </thead>\n",
              "  <tbody>\n",
              "    <tr>\n",
              "      <th>changePunctuation-2</th>\n",
              "      <td>0.975000</td>\n",
              "    </tr>\n",
              "    <tr>\n",
              "      <th>getMonthName-2</th>\n",
              "      <td>0.950000</td>\n",
              "    </tr>\n",
              "    <tr>\n",
              "      <th>changePunctuation-1</th>\n",
              "      <td>0.934375</td>\n",
              "    </tr>\n",
              "    <tr>\n",
              "      <th>getWeekDay-1</th>\n",
              "      <td>0.875000</td>\n",
              "    </tr>\n",
              "    <tr>\n",
              "      <th>getDay-3</th>\n",
              "      <td>0.773958</td>\n",
              "    </tr>\n",
              "    <tr>\n",
              "      <th>addPunctuation-1</th>\n",
              "      <td>0.690625</td>\n",
              "    </tr>\n",
              "    <tr>\n",
              "      <th>getWeekDay-2</th>\n",
              "      <td>0.686458</td>\n",
              "    </tr>\n",
              "    <tr>\n",
              "      <th>getDay-2</th>\n",
              "      <td>0.640625</td>\n",
              "    </tr>\n",
              "    <tr>\n",
              "      <th>reduceMonthName-1</th>\n",
              "      <td>0.510417</td>\n",
              "    </tr>\n",
              "    <tr>\n",
              "      <th>addPunctuation-2</th>\n",
              "      <td>0.502083</td>\n",
              "    </tr>\n",
              "    <tr>\n",
              "      <th>getMonthName-1</th>\n",
              "      <td>0.475000</td>\n",
              "    </tr>\n",
              "    <tr>\n",
              "      <th>changeFormat-1</th>\n",
              "      <td>0.332292</td>\n",
              "    </tr>\n",
              "    <tr>\n",
              "      <th>changeFormat-4</th>\n",
              "      <td>0.326042</td>\n",
              "    </tr>\n",
              "    <tr>\n",
              "      <th>reduceMonthName-2</th>\n",
              "      <td>0.276042</td>\n",
              "    </tr>\n",
              "    <tr>\n",
              "      <th>getDay-1</th>\n",
              "      <td>0.268750</td>\n",
              "    </tr>\n",
              "    <tr>\n",
              "      <th>getDayOrdinal-2</th>\n",
              "      <td>0.177083</td>\n",
              "    </tr>\n",
              "    <tr>\n",
              "      <th>changeFormat-3</th>\n",
              "      <td>0.037500</td>\n",
              "    </tr>\n",
              "    <tr>\n",
              "      <th>changeFormat-2</th>\n",
              "      <td>0.031250</td>\n",
              "    </tr>\n",
              "    <tr>\n",
              "      <th>getDayOrdinal-1</th>\n",
              "      <td>0.028125</td>\n",
              "    </tr>\n",
              "    <tr>\n",
              "      <th>setFormat-2</th>\n",
              "      <td>0.015625</td>\n",
              "    </tr>\n",
              "    <tr>\n",
              "      <th>setFormat-1</th>\n",
              "      <td>0.000000</td>\n",
              "    </tr>\n",
              "  </tbody>\n",
              "</table>\n",
              "</div>"
            ],
            "text/plain": [
              "                     Accuracy\n",
              "Problem                      \n",
              "changePunctuation-2  0.975000\n",
              "getMonthName-2       0.950000\n",
              "changePunctuation-1  0.934375\n",
              "getWeekDay-1         0.875000\n",
              "getDay-3             0.773958\n",
              "addPunctuation-1     0.690625\n",
              "getWeekDay-2         0.686458\n",
              "getDay-2             0.640625\n",
              "reduceMonthName-1    0.510417\n",
              "addPunctuation-2     0.502083\n",
              "getMonthName-1       0.475000\n",
              "changeFormat-1       0.332292\n",
              "changeFormat-4       0.326042\n",
              "reduceMonthName-2    0.276042\n",
              "getDay-1             0.268750\n",
              "getDayOrdinal-2      0.177083\n",
              "changeFormat-3       0.037500\n",
              "changeFormat-2       0.031250\n",
              "getDayOrdinal-1      0.028125\n",
              "setFormat-2          0.015625\n",
              "setFormat-1          0.000000"
            ]
          },
          "metadata": {
            "tags": []
          },
          "execution_count": 45
        }
      ]
    }
  ]
}