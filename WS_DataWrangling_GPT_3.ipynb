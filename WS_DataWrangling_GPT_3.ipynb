{
  "nbformat": 4,
  "nbformat_minor": 0,
  "metadata": {
    "colab": {
      "name": "Copy of WS-DataWrangling_GPT-3.ipynb",
      "provenance": [],
      "collapsed_sections": [],
      "toc_visible": true
    },
    "kernelspec": {
      "name": "python3",
      "display_name": "Python 3"
    }
  },
  "cells": [
    {
      "cell_type": "markdown",
      "metadata": {
        "id": "TWtu0-0_zaeP"
      },
      "source": [
        "## 1. Import the Data Wrangling dataset and clean the data"
      ]
    },
    {
      "cell_type": "code",
      "metadata": {
        "id": "VP5wYeb_Bie0"
      },
      "source": [
        "import pandas as pd"
      ],
      "execution_count": null,
      "outputs": []
    },
    {
      "cell_type": "code",
      "metadata": {
        "id": "7Rj8I6zRBkd_"
      },
      "source": [
        "#http://dmip.webs.upv.es/datawrangling/catalog.html\n",
        "df = pd.read_csv(\"all_in_one.csv\")"
      ],
      "execution_count": null,
      "outputs": []
    },
    {
      "cell_type": "code",
      "metadata": {
        "id": "VHBQZBSPB3br",
        "colab": {
          "base_uri": "https://localhost:8080/",
          "height": 204
        },
        "outputId": "a44e787a-66b0-47f7-a964-13bf804cb2af"
      },
      "source": [
        "df.head()"
      ],
      "execution_count": null,
      "outputs": [
        {
          "output_type": "execute_result",
          "data": {
            "text/html": [
              "<div>\n",
              "<style scoped>\n",
              "    .dataframe tbody tr th:only-of-type {\n",
              "        vertical-align: middle;\n",
              "    }\n",
              "\n",
              "    .dataframe tbody tr th {\n",
              "        vertical-align: top;\n",
              "    }\n",
              "\n",
              "    .dataframe thead th {\n",
              "        text-align: right;\n",
              "    }\n",
              "</style>\n",
              "<table border=\"1\" class=\"dataframe\">\n",
              "  <thead>\n",
              "    <tr style=\"text-align: right;\">\n",
              "      <th></th>\n",
              "      <th>dataset</th>\n",
              "      <th>domain</th>\n",
              "      <th>input_1</th>\n",
              "      <th>input_2</th>\n",
              "      <th>input_3</th>\n",
              "      <th>expected_output</th>\n",
              "    </tr>\n",
              "  </thead>\n",
              "  <tbody>\n",
              "    <tr>\n",
              "      <th>0</th>\n",
              "      <td>addPunctuation-1</td>\n",
              "      <td>dates</td>\n",
              "      <td>290386</td>\n",
              "      <td>NaN</td>\n",
              "      <td>NaN</td>\n",
              "      <td>29-03-86</td>\n",
              "    </tr>\n",
              "    <tr>\n",
              "      <th>1</th>\n",
              "      <td>addPunctuation-1</td>\n",
              "      <td>dates</td>\n",
              "      <td>250374</td>\n",
              "      <td>NaN</td>\n",
              "      <td>NaN</td>\n",
              "      <td>25-03-74</td>\n",
              "    </tr>\n",
              "    <tr>\n",
              "      <th>2</th>\n",
              "      <td>addPunctuation-1</td>\n",
              "      <td>dates</td>\n",
              "      <td>170615</td>\n",
              "      <td>NaN</td>\n",
              "      <td>NaN</td>\n",
              "      <td>17-06-15</td>\n",
              "    </tr>\n",
              "    <tr>\n",
              "      <th>3</th>\n",
              "      <td>addPunctuation-1</td>\n",
              "      <td>dates</td>\n",
              "      <td>170905</td>\n",
              "      <td>NaN</td>\n",
              "      <td>NaN</td>\n",
              "      <td>17-09-05</td>\n",
              "    </tr>\n",
              "    <tr>\n",
              "      <th>4</th>\n",
              "      <td>addPunctuation-1</td>\n",
              "      <td>dates</td>\n",
              "      <td>241206</td>\n",
              "      <td>NaN</td>\n",
              "      <td>NaN</td>\n",
              "      <td>24-12-06</td>\n",
              "    </tr>\n",
              "  </tbody>\n",
              "</table>\n",
              "</div>"
            ],
            "text/plain": [
              "            dataset domain input_1 input_2 input_3 expected_output\n",
              "0  addPunctuation-1  dates  290386     NaN     NaN        29-03-86\n",
              "1  addPunctuation-1  dates  250374     NaN     NaN        25-03-74\n",
              "2  addPunctuation-1  dates  170615     NaN     NaN        17-06-15\n",
              "3  addPunctuation-1  dates  170905     NaN     NaN        17-09-05\n",
              "4  addPunctuation-1  dates  241206     NaN     NaN        24-12-06"
            ]
          },
          "metadata": {
            "tags": []
          },
          "execution_count": 5
        }
      ]
    },
    {
      "cell_type": "code",
      "metadata": {
        "id": "zU6pUpaqI8lv",
        "colab": {
          "base_uri": "https://localhost:8080/",
          "height": 173
        },
        "outputId": "0297a262-48ef-4ea4-bc27-7861140f9ad9"
      },
      "source": [
        "df.describe()"
      ],
      "execution_count": null,
      "outputs": [
        {
          "output_type": "execute_result",
          "data": {
            "text/html": [
              "<div>\n",
              "<style scoped>\n",
              "    .dataframe tbody tr th:only-of-type {\n",
              "        vertical-align: middle;\n",
              "    }\n",
              "\n",
              "    .dataframe tbody tr th {\n",
              "        vertical-align: top;\n",
              "    }\n",
              "\n",
              "    .dataframe thead th {\n",
              "        text-align: right;\n",
              "    }\n",
              "</style>\n",
              "<table border=\"1\" class=\"dataframe\">\n",
              "  <thead>\n",
              "    <tr style=\"text-align: right;\">\n",
              "      <th></th>\n",
              "      <th>dataset</th>\n",
              "      <th>domain</th>\n",
              "      <th>input_1</th>\n",
              "      <th>input_2</th>\n",
              "      <th>input_3</th>\n",
              "      <th>expected_output</th>\n",
              "    </tr>\n",
              "  </thead>\n",
              "  <tbody>\n",
              "    <tr>\n",
              "      <th>count</th>\n",
              "      <td>731</td>\n",
              "      <td>731</td>\n",
              "      <td>731</td>\n",
              "      <td>210</td>\n",
              "      <td>36</td>\n",
              "      <td>721</td>\n",
              "    </tr>\n",
              "    <tr>\n",
              "      <th>unique</th>\n",
              "      <td>119</td>\n",
              "      <td>7</td>\n",
              "      <td>485</td>\n",
              "      <td>94</td>\n",
              "      <td>15</td>\n",
              "      <td>560</td>\n",
              "    </tr>\n",
              "    <tr>\n",
              "      <th>top</th>\n",
              "      <td>convert-3</td>\n",
              "      <td>freetext</td>\n",
              "      <td>17:55</td>\n",
              "      <td>425</td>\n",
              "      <td>UTC</td>\n",
              "      <td>hotmail.com</td>\n",
              "    </tr>\n",
              "    <tr>\n",
              "      <th>freq</th>\n",
              "      <td>12</td>\n",
              "      <td>146</td>\n",
              "      <td>12</td>\n",
              "      <td>18</td>\n",
              "      <td>14</td>\n",
              "      <td>14</td>\n",
              "    </tr>\n",
              "  </tbody>\n",
              "</table>\n",
              "</div>"
            ],
            "text/plain": [
              "          dataset    domain input_1 input_2 input_3 expected_output\n",
              "count         731       731     731     210      36             721\n",
              "unique        119         7     485      94      15             560\n",
              "top     convert-3  freetext   17:55     425     UTC     hotmail.com\n",
              "freq           12       146      12      18      14              14"
            ]
          },
          "metadata": {
            "tags": []
          },
          "execution_count": 6
        }
      ]
    },
    {
      "cell_type": "code",
      "metadata": {
        "id": "srYhGTgfuuzC"
      },
      "source": [
        "df['expected_output'] = df['expected_output'].str.lstrip()"
      ],
      "execution_count": null,
      "outputs": []
    },
    {
      "cell_type": "code",
      "metadata": {
        "id": "xYpYbgCxE8v-"
      },
      "source": [
        "df[\"input_2\"].fillna(\"Null\", inplace = True)\n",
        "df[\"input_3\"].fillna(\"Null\", inplace = True)\n",
        "df[\"expected_output\"].fillna(\"\", inplace = True)"
      ],
      "execution_count": null,
      "outputs": []
    },
    {
      "cell_type": "code",
      "metadata": {
        "colab": {
          "base_uri": "https://localhost:8080/",
          "height": 419
        },
        "id": "omDb6nSZIIPj",
        "outputId": "571adcd9-c690-4f19-eccc-988e9ea321d8"
      },
      "source": [
        "df"
      ],
      "execution_count": null,
      "outputs": [
        {
          "output_type": "execute_result",
          "data": {
            "text/html": [
              "<div>\n",
              "<style scoped>\n",
              "    .dataframe tbody tr th:only-of-type {\n",
              "        vertical-align: middle;\n",
              "    }\n",
              "\n",
              "    .dataframe tbody tr th {\n",
              "        vertical-align: top;\n",
              "    }\n",
              "\n",
              "    .dataframe thead th {\n",
              "        text-align: right;\n",
              "    }\n",
              "</style>\n",
              "<table border=\"1\" class=\"dataframe\">\n",
              "  <thead>\n",
              "    <tr style=\"text-align: right;\">\n",
              "      <th></th>\n",
              "      <th>dataset</th>\n",
              "      <th>domain</th>\n",
              "      <th>input_1</th>\n",
              "      <th>input_2</th>\n",
              "      <th>input_3</th>\n",
              "      <th>expected_output</th>\n",
              "    </tr>\n",
              "  </thead>\n",
              "  <tbody>\n",
              "    <tr>\n",
              "      <th>0</th>\n",
              "      <td>addPunctuation-1</td>\n",
              "      <td>dates</td>\n",
              "      <td>290386</td>\n",
              "      <td>Null</td>\n",
              "      <td>Null</td>\n",
              "      <td>29-03-86</td>\n",
              "    </tr>\n",
              "    <tr>\n",
              "      <th>1</th>\n",
              "      <td>addPunctuation-1</td>\n",
              "      <td>dates</td>\n",
              "      <td>250374</td>\n",
              "      <td>Null</td>\n",
              "      <td>Null</td>\n",
              "      <td>25-03-74</td>\n",
              "    </tr>\n",
              "    <tr>\n",
              "      <th>2</th>\n",
              "      <td>addPunctuation-1</td>\n",
              "      <td>dates</td>\n",
              "      <td>170615</td>\n",
              "      <td>Null</td>\n",
              "      <td>Null</td>\n",
              "      <td>17-06-15</td>\n",
              "    </tr>\n",
              "    <tr>\n",
              "      <th>3</th>\n",
              "      <td>addPunctuation-1</td>\n",
              "      <td>dates</td>\n",
              "      <td>170905</td>\n",
              "      <td>Null</td>\n",
              "      <td>Null</td>\n",
              "      <td>17-09-05</td>\n",
              "    </tr>\n",
              "    <tr>\n",
              "      <th>4</th>\n",
              "      <td>addPunctuation-1</td>\n",
              "      <td>dates</td>\n",
              "      <td>241206</td>\n",
              "      <td>Null</td>\n",
              "      <td>Null</td>\n",
              "      <td>24-12-06</td>\n",
              "    </tr>\n",
              "    <tr>\n",
              "      <th>...</th>\n",
              "      <td>...</td>\n",
              "      <td>...</td>\n",
              "      <td>...</td>\n",
              "      <td>...</td>\n",
              "      <td>...</td>\n",
              "      <td>...</td>\n",
              "    </tr>\n",
              "    <tr>\n",
              "      <th>726</th>\n",
              "      <td>getValue-2</td>\n",
              "      <td>units</td>\n",
              "      <td>41.8g</td>\n",
              "      <td>Null</td>\n",
              "      <td>Null</td>\n",
              "      <td>41.8</td>\n",
              "    </tr>\n",
              "    <tr>\n",
              "      <th>727</th>\n",
              "      <td>getValue-2</td>\n",
              "      <td>units</td>\n",
              "      <td>98 ms</td>\n",
              "      <td>Null</td>\n",
              "      <td>Null</td>\n",
              "      <td>98</td>\n",
              "    </tr>\n",
              "    <tr>\n",
              "      <th>728</th>\n",
              "      <td>getValue-2</td>\n",
              "      <td>units</td>\n",
              "      <td>4054kA</td>\n",
              "      <td>Null</td>\n",
              "      <td>Null</td>\n",
              "      <td>4054</td>\n",
              "    </tr>\n",
              "    <tr>\n",
              "      <th>729</th>\n",
              "      <td>getValue-2</td>\n",
              "      <td>units</td>\n",
              "      <td>92.26 K</td>\n",
              "      <td>Null</td>\n",
              "      <td>Null</td>\n",
              "      <td>92.26</td>\n",
              "    </tr>\n",
              "    <tr>\n",
              "      <th>730</th>\n",
              "      <td>getValue-2</td>\n",
              "      <td>units</td>\n",
              "      <td>81 hl</td>\n",
              "      <td>Null</td>\n",
              "      <td>Null</td>\n",
              "      <td>81</td>\n",
              "    </tr>\n",
              "  </tbody>\n",
              "</table>\n",
              "<p>731 rows × 6 columns</p>\n",
              "</div>"
            ],
            "text/plain": [
              "              dataset domain  input_1 input_2 input_3 expected_output\n",
              "0    addPunctuation-1  dates   290386    Null    Null        29-03-86\n",
              "1    addPunctuation-1  dates   250374    Null    Null        25-03-74\n",
              "2    addPunctuation-1  dates   170615    Null    Null        17-06-15\n",
              "3    addPunctuation-1  dates   170905    Null    Null        17-09-05\n",
              "4    addPunctuation-1  dates   241206    Null    Null        24-12-06\n",
              "..                ...    ...      ...     ...     ...             ...\n",
              "726        getValue-2  units    41.8g    Null    Null            41.8\n",
              "727        getValue-2  units    98 ms    Null    Null              98\n",
              "728        getValue-2  units   4054kA    Null    Null            4054\n",
              "729        getValue-2  units  92.26 K    Null    Null           92.26\n",
              "730        getValue-2  units    81 hl    Null    Null              81\n",
              "\n",
              "[731 rows x 6 columns]"
            ]
          },
          "metadata": {
            "tags": []
          },
          "execution_count": 9
        }
      ]
    },
    {
      "cell_type": "code",
      "metadata": {
        "id": "iypEm0ssIFYz"
      },
      "source": [
        "domains = df['domain'].drop_duplicates().to_list()"
      ],
      "execution_count": null,
      "outputs": []
    },
    {
      "cell_type": "markdown",
      "metadata": {
        "id": "PHIY3aBOzlob"
      },
      "source": [
        "## 2. Perform the problem and example sampling and build the different GPT-3 prompts"
      ]
    },
    {
      "cell_type": "code",
      "metadata": {
        "id": "NYAlYY-1LDh4",
        "colab": {
          "base_uri": "https://localhost:8080/"
        },
        "outputId": "0e6b9038-3ba1-4d5c-cb26-3c93ccdc8028"
      },
      "source": [
        "import random as rn\n",
        "\n",
        "final_problems = []\n",
        "\n",
        "for i in range(0, len(domains)):\n",
        "  print(\"Domain: \" + domains[i])\n",
        "  sel_prob = df[['dataset','domain']].query('domain == \"' + domains[i] + '\"')['dataset'].drop_duplicates().to_list()\n",
        "  print(\"Problems: \" + str(sel_prob))\n",
        "  for j in range(0,len(sel_prob)):\n",
        "    sel_prob[j] = [sel_prob[j],domains[i]]\n",
        "  final_problems = final_problems + sel_prob\n"
      ],
      "execution_count": null,
      "outputs": [
        {
          "output_type": "stream",
          "text": [
            "Domain: dates\n",
            "Problems: ['addPunctuation-1', 'addPunctuation-2', 'changeFormat-1', 'changeFormat-2', 'changeFormat-3', 'changeFormat-4', 'changePunctuation-1', 'changePunctuation-2', 'getDay-1', 'getDay-2', 'getDay-3', 'getDayOrdinal-1', 'getDayOrdinal-2', 'getMonthName-1', 'getMonthName-2', 'getWeekDay-1', 'getWeekDay-2', 'reduceMonthName-1', 'reduceMonthName-2', 'setFormat-1', 'setFormat-2']\n",
            "Domain: emails\n",
            "Problems: ['generate-1', 'generate-2', 'generate-3', 'getAfterAt-1', 'getAfterAt-2', 'getAfterAt-3', 'getAfterAt-4', 'getDomain-1', 'getDomain-2', 'someBeforeAt-NA']\n",
            "Domain: freetext\n",
            "Problems: ['afterSymbol-1', 'afterSymbol-2', 'betweenSymbols-1', 'betweenSymbols-2', 'brackets-1', 'brackets-2', 'deletePunctuation-1', 'deletePunctuation-2', 'deletePunctuation-3', 'deletePunctuation-4', 'deleteSpaces-1', 'deleteSpaces-2', 'digitToEnd-1', 'digitToEnd-2', 'firstCharacter-1', 'firstCharacter-2', 'getAfterComma-1', 'getAfterComma-2', 'getBetweenCommas-1', 'getBetweenCommas-2', 'getCaps-1', 'getCaps-2', 'getCaps-3', 'toUpper-1', 'toUpper-2']\n",
            "Domain: names\n",
            "Problems: ['addTitle-1', 'addTitle-2', 'getTitle-1', 'getTitle-2', 'login-1', 'login-2', 'reduceName-1', 'reduceName-2', 'reduceName-3', 'reduceName-4', 'reduceName-5', 'reduceName-6', 'reduceName-7', 'reduceName-8', 'reduceName-9']\n",
            "Domain: phones\n",
            "Problems: ['countryPrefix-1', 'countryPrefix-2', 'countryPrefix-3', 'countryPrefix-7', 'countryPrefix-8', 'countryPrefix-9', 'deleteParentheses-1', 'deleteParentheses-2', 'getNumber-1', 'getNumber-2', 'setPrefix-1', 'setPrefix-2', 'setPrefix-3', 'setPrefix-4', 'setPrefix-5', 'setPrefix-6', 'setPunctuation-1', 'setPunctuation-2']\n",
            "Domain: times\n",
            "Problems: ['addTime-1', 'addTime-2', 'appendTime-1', 'appendTime-2', 'appendTime-3', 'appendTime-4', 'convert-1', 'convert-10', 'convert-2', 'convert-3', 'convert-4', 'convert-5', 'convert-6', 'convert-7', 'convert-8', 'convert-9', 'deleteTime-1', 'deleteTime-2', 'getHour-1', 'getHour-2', 'getMinutes-1', 'getMinutes-2', 'getTime-1', 'getTime-2']\n",
            "Domain: units\n",
            "Problems: ['convert-1', 'convert-2', 'convert-3', 'convert-4', 'getSystem-1', 'getSystem-2', 'getUnits-1', 'getUnits-2', 'getValue-1', 'getValue-2']\n"
          ],
          "name": "stdout"
        }
      ]
    },
    {
      "cell_type": "code",
      "metadata": {
        "id": "3FRJ_2-fZnZS",
        "colab": {
          "base_uri": "https://localhost:8080/"
        },
        "outputId": "c03ae8d6-e16e-4e81-d659-7220605b184b"
      },
      "source": [
        "len(final_problems)"
      ],
      "execution_count": null,
      "outputs": [
        {
          "output_type": "execute_result",
          "data": {
            "text/plain": [
              "123"
            ]
          },
          "metadata": {
            "tags": []
          },
          "execution_count": 12
        }
      ]
    },
    {
      "cell_type": "code",
      "metadata": {
        "colab": {
          "base_uri": "https://localhost:8080/"
        },
        "id": "Kf3hsYxdLKqN",
        "outputId": "a8ab9a77-210b-481e-a7db-5170fa4e92b6"
      },
      "source": [
        "for i in range(0, len(final_problems)):\n",
        "  if len(df.query('dataset == \"' + final_problems[i][0] + '\" and domain == \"' + final_problems[i][1] + '\"')['input_1'].to_list()) < 6:\n",
        "    print(i)"
      ],
      "execution_count": null,
      "outputs": [
        {
          "output_type": "stream",
          "text": [
            "24\n",
            "41\n",
            "44\n"
          ],
          "name": "stdout"
        }
      ]
    },
    {
      "cell_type": "code",
      "metadata": {
        "id": "JNplve-oLjhH"
      },
      "source": [
        "del final_problems[44]\n",
        "del final_problems[41]\n",
        "del final_problems[24]"
      ],
      "execution_count": null,
      "outputs": []
    },
    {
      "cell_type": "code",
      "metadata": {
        "colab": {
          "base_uri": "https://localhost:8080/"
        },
        "id": "Z-pJsEhlMBi5",
        "outputId": "5d183ef3-80ca-40f1-bb97-f55b80116aa6"
      },
      "source": [
        "for i in range(0, len(final_problems)):\n",
        "  if len(df.query('dataset == \"' + final_problems[i][0] + '\" and domain == \"' + final_problems[i][1] + '\"')['input_1'].to_list()) > 6:\n",
        "    print(i)"
      ],
      "execution_count": null,
      "outputs": [
        {
          "output_type": "stream",
          "text": [
            "47\n",
            "62\n",
            "65\n"
          ],
          "name": "stdout"
        }
      ]
    },
    {
      "cell_type": "code",
      "metadata": {
        "id": "3VQ17ZYqPQY_"
      },
      "source": [
        "del final_problems[65]\n",
        "del final_problems[62]\n",
        "del final_problems[47]"
      ],
      "execution_count": null,
      "outputs": []
    },
    {
      "cell_type": "code",
      "metadata": {
        "colab": {
          "base_uri": "https://localhost:8080/"
        },
        "id": "EBu4za5Y2gVc",
        "outputId": "a90768e2-470f-4aee-c215-b89695e19278"
      },
      "source": [
        "sum = 0\n",
        "for i in range(0, len(domains)):\n",
        "  for j in range(0, len(final_problems)):\n",
        "    if final_problems[j][1] == domains[i]:\n",
        "      sum = sum + 1\n",
        "  print(\"Domain \" + domains[i] + \": \" + str(sum))\n",
        "  sum = 0"
      ],
      "execution_count": null,
      "outputs": [
        {
          "output_type": "stream",
          "text": [
            "Domain dates: 21\n",
            "Domain emails: 9\n",
            "Domain freetext: 22\n",
            "Domain names: 13\n",
            "Domain phones: 18\n",
            "Domain times: 24\n",
            "Domain units: 10\n"
          ],
          "name": "stdout"
        }
      ]
    },
    {
      "cell_type": "code",
      "metadata": {
        "id": "6m_qlMRWOPwT"
      },
      "source": [
        "#task_explanation = ['Set the date input into the format \"mm/dd/yyyy\"', 'Set the date input into the format \"dd/mm/yyyy\"','Extract the month from the date input', 'Set the date input into the format \"dd-mm-yyyy\"','Generate the email address based on the inputs', 'Generate the email address based on the inputs','Extract the information after the first . and before the @ in the email address','Extract the information after the first \".\" and before the \"@\" in the email address','Extract the information from the inputs', 'Write the whole input text in capital letters', 'Add the missing brackets to bin the input text', 'Get the content after the comma from the input', 'Add the corresponding title to the provided name', 'Reduce the first name from the input, using just the first letter. Ignore the possible titles', \"Extract the professional title from the input. In case there is no professional title, don't return anything\", 'Reduce the first name from the input, using just the first letter. Ignore the possible titles', 'Add the country prefix to the phone number', 'Add the country prefix to the phone number', 'Add the country prefix to the phone number','Separate the phone number following the structure \"XXX-XXX-XXXX\"','Add the seconds to the time input, being the seconds \"00\"','Get only the numerical part of the time input', 'Add the seconds to the time input in case they are not already included, being the seconds \"30\"','Delete the seconds from the time input', 'Convert the measure from the initial units to the target units', 'Convert the measure from the initial units to the target units', 'Get the input value without the units', 'Get the input value without the units']"
      ],
      "execution_count": null,
      "outputs": []
    },
    {
      "cell_type": "code",
      "metadata": {
        "id": "_u9e640eZVa7"
      },
      "source": [
        "#Prompt generator - 1 shot\n",
        "\n",
        "queries = [[]]*len(final_problems)\n",
        "common_prompt = [\"\"]*len(final_problems)\n",
        "test_targets = [[]]*len(final_problems)\n",
        "\n",
        "trainingNum = 1\n",
        "\n",
        "for i in range(0, len(final_problems)):\n",
        "  #Extract examples from DataFrame \n",
        "  input1 = df.query('dataset == \"' + final_problems[i][0] + '\" and domain == \"' + final_problems[i][1] + '\"')['input_1'].to_list()\n",
        "  input2 = df.query('dataset == \"' + final_problems[i][0] + '\" and domain == \"' + final_problems[i][1] + '\"')['input_2'].to_list()\n",
        "  input3 = df.query('dataset == \"' + final_problems[i][0] + '\" and domain == \"' + final_problems[i][1] + '\"')['input_3'].to_list()\n",
        "  output = df.query('dataset == \"' + final_problems[i][0] + '\" and domain == \"' + final_problems[i][1] + '\"')['expected_output'].to_list()\n",
        "\n",
        "  final_input_1 = []\n",
        "  final_input_2 = []\n",
        "  final_input_3 = []\n",
        "  final_output = []\n",
        "\n",
        "  #Extract\n",
        "\n",
        "  for j in range(0, trainingNum):\n",
        "    final_input_1.append(input1[0])\n",
        "    del input1[0]\n",
        "\n",
        "  for j in range(0, trainingNum):\n",
        "    final_input_2.append(input2[0])\n",
        "    del input2[0]\n",
        "\n",
        "  for j in range(0, trainingNum):\n",
        "    final_input_3.append(input3[0])\n",
        "    del input3[0]\n",
        "\n",
        "  for j in range(0, trainingNum):\n",
        "    final_output.append(output[0])\n",
        "    del output[0]\n",
        "\n",
        "  #Common prompt builder\n",
        "\n",
        "  #If we don't want the task descriptions in the prompt, comment the next line\n",
        "  #common_prompt[i] = task_explanation[i] + \"\\n\\n\"\n",
        "  for j in range(0, trainingNum):\n",
        "      if final_input_2[j] != \"Null\" and final_input_3[j] != \"Null\":\n",
        "        common_prompt[i] = common_prompt[i] + \"Input: \" + str(final_input_1[j]) + \"; \" + str(final_input_2[j]) + \"; \" + str(final_input_3[j]) + \"\\nOutput: \" + str(final_output[j]) + \"\\n\\n\"\n",
        "      elif final_input_2[j] != \"Null\":\n",
        "        common_prompt[i] = common_prompt[i] + \"Input: \" + str(final_input_1[j]) + \"; \" + str(final_input_2[j]) + \"\\nOutput: \" + str(final_output[j]) + \"\\n\\n\"\n",
        "      else:\n",
        "        common_prompt[i] = common_prompt[i] = common_prompt[i] + \"Input: \" + str(final_input_1[j]) + \"\\nOutput: \" + str(final_output[j]) + \"\\n\\n\"\n",
        "\n",
        "\n",
        "  #Queries building\n",
        "\n",
        "  queries[i] = [\"\"]*len(input1)\n",
        "  test_targets[i] = [\"\"]*len(input1)\n",
        "\n",
        "  for j in range(0, len(input1)):\n",
        "      if input2[j] != \"Null\" and input3[j] != \"Null\":\n",
        "        queries[i][j] = common_prompt[i] + \"Input: \" + str(input1[j]) + \"; \" + str(input2[j]) + \"; \" + str(input3[j]) + \"\\nOutput:\"\n",
        "      elif input2[j] != \"Null\":\n",
        "        queries[i][j] = common_prompt[i] + \"Input: \" + str(input1[j]) + \"; \" + str(input2[j]) + \"\\nOutput:\"\n",
        "      else:\n",
        "        queries[i][j] = common_prompt[i] + \"Input: \" + str(input1[j]) + \"\\nOutput:\"\n",
        "\n",
        "      test_targets[i][j] = output[j]\n",
        "  "
      ],
      "execution_count": null,
      "outputs": []
    },
    {
      "cell_type": "code",
      "metadata": {
        "id": "iAfO-0L6lbQi",
        "colab": {
          "base_uri": "https://localhost:8080/"
        },
        "outputId": "b01584a1-7be9-418f-fd1c-ebcf3922a1d3"
      },
      "source": [
        "printed_queries = []\n",
        "for i in range(0, len(queries)):\n",
        "  for j in range(0, len(queries[i])):\n",
        "    printed_queries.append(queries[i][j])\n",
        "\n",
        "print(printed_queries)"
      ],
      "execution_count": null,
      "outputs": [
        {
          "output_type": "stream",
          "text": [
            "['Input: 290386\\nOutput: 29-03-86\\n\\nInput: 250374\\nOutput:', 'Input: 290386\\nOutput: 29-03-86\\n\\nInput: 170615\\nOutput:', 'Input: 290386\\nOutput: 29-03-86\\n\\nInput: 170905\\nOutput:', 'Input: 290386\\nOutput: 29-03-86\\n\\nInput: 241206\\nOutput:', 'Input: 290386\\nOutput: 29-03-86\\n\\nInput: 290607\\nOutput:', 'Input: 121099\\nOutput: 12-10-99\\n\\nInput: 90508\\nOutput:', 'Input: 121099\\nOutput: 12-10-99\\n\\nInput: 31108\\nOutput:', 'Input: 121099\\nOutput: 12-10-99\\n\\nInput: 91011\\nOutput:', 'Input: 121099\\nOutput: 12-10-99\\n\\nInput: 290895\\nOutput:', 'Input: 121099\\nOutput: 12-10-99\\n\\nInput: 180413\\nOutput:', 'Input: 20.08.2010\\nOutput: 08/20/2010\\n\\nInput: 2010-06-27\\nOutput:', 'Input: 20.08.2010\\nOutput: 08/20/2010\\n\\nInput: 24/09/1984\\nOutput:', 'Input: 20.08.2010\\nOutput: 08/20/2010\\n\\nInput: 13-03-1986\\nOutput:', 'Input: 20.08.2010\\nOutput: 08/20/2010\\n\\nInput: 17/06/1989\\nOutput:', 'Input: 20.08.2010\\nOutput: 08/20/2010\\n\\nInput: 1990.18.01\\nOutput:', 'Input: 09/05/1991\\nOutput: 09/05/1991\\n\\nInput: 2001-30-01\\nOutput:', 'Input: 09/05/1991\\nOutput: 09/05/1991\\n\\nInput: 29-05-2001\\nOutput:', 'Input: 09/05/1991\\nOutput: 09/05/1991\\n\\nInput: 23.08.2010\\nOutput:', 'Input: 09/05/1991\\nOutput: 09/05/1991\\n\\nInput: 28-10-2001\\nOutput:', 'Input: 09/05/1991\\nOutput: 09/05/1991\\n\\nInput: 16/02/2010\\nOutput:', 'Input: 03/29/86\\nOutput: 29/03/86\\n\\nInput: 04/12/1990\\nOutput:', 'Input: 03/29/86\\nOutput: 29/03/86\\n\\nInput: 26/93/02\\nOutput:', 'Input: 03/29/86\\nOutput: 29/03/86\\n\\nInput: 02-19-1998\\nOutput:', 'Input: 03/29/86\\nOutput: 29/03/86\\n\\nInput: 99/09/03\\nOutput:', 'Input: 03/29/86\\nOutput: 29/03/86\\n\\nInput: 06-04-2001\\nOutput:', 'Input: 74-03-31\\nOutput: 31-03-74\\n\\nInput: 10/15/2002\\nOutput:', 'Input: 74-03-31\\nOutput: 31-03-74\\n\\nInput: 09-29-2015\\nOutput:', 'Input: 74-03-31\\nOutput: 31-03-74\\n\\nInput: 05-01-2017\\nOutput:', 'Input: 74-03-31\\nOutput: 31-03-74\\n\\nInput: 08-07-2017\\nOutput:', 'Input: 74-03-31\\nOutput: 31-03-74\\n\\nInput: 02/26/1993\\nOutput:', 'Input: 29/03/86\\nOutput: 29-03-86\\n\\nInput: 12/10/99\\nOutput:', 'Input: 29/03/86\\nOutput: 29-03-86\\n\\nInput: 11.02.96\\nOutput:', 'Input: 29/03/86\\nOutput: 29-03-86\\n\\nInput: 17/05/17\\nOutput:', 'Input: 29/03/86\\nOutput: 29-03-86\\n\\nInput: 25-08-85\\nOutput:', 'Input: 29/03/86\\nOutput: 29-03-86\\n\\nInput: 30 06 75\\nOutput:', 'Input: 25/03/74\\nOutput: 25-03-74\\n\\nInput: 24/02/88\\nOutput:', 'Input: 25/03/74\\nOutput: 25-03-74\\n\\nInput: 22/10/97\\nOutput:', 'Input: 25/03/74\\nOutput: 25-03-74\\n\\nInput: 17.10.65\\nOutput:', 'Input: 25/03/74\\nOutput: 25-03-74\\n\\nInput: 23/11/18\\nOutput:', 'Input: 25/03/74\\nOutput: 25-03-74\\n\\nInput: 29-12-95\\nOutput:', 'Input: 03/29/86\\nOutput: 29\\n\\nInput: 74-03-31\\nOutput:', 'Input: 03/29/86\\nOutput: 29\\n\\nInput: 99/12/13\\nOutput:', 'Input: 03/29/86\\nOutput: 29\\n\\nInput: 11.02.96\\nOutput:', 'Input: 03/29/86\\nOutput: 29\\n\\nInput: 31/05/17\\nOutput:', 'Input: 03/29/86\\nOutput: 29\\n\\nInput: 25-08-85\\nOutput:', 'Input: 09/08/2007\\nOutput: 9\\n\\nInput: 02/05/2012\\nOutput:', 'Input: 09/08/2007\\nOutput: 9\\n\\nInput: 28/10/2013\\nOutput:', 'Input: 09/08/2007\\nOutput: 9\\n\\nInput: 16/01/2017\\nOutput:', 'Input: 09/08/2007\\nOutput: 9\\n\\nInput: 01/09/2017\\nOutput:', 'Input: 09/08/2007\\nOutput: 9\\n\\nInput: 13/11/2017\\nOutput:', 'Input: 25/03/74\\nOutput: 25\\n\\nInput: 24/02/88\\nOutput:', 'Input: 25/03/74\\nOutput: 25\\n\\nInput: 22/10/97\\nOutput:', 'Input: 25/03/74\\nOutput: 25\\n\\nInput: 17.10.65\\nOutput:', 'Input: 25/03/74\\nOutput: 25\\n\\nInput: 23/11/18\\nOutput:', 'Input: 25/03/74\\nOutput: 25\\n\\nInput: 29-12-95\\nOutput:', 'Input: 3/29/86\\nOutput: 29th\\n\\nInput: 12/99/13\\nOutput:', 'Input: 3/29/86\\nOutput: 29th\\n\\nInput: 10 12 69\\nOutput:', 'Input: 3/29/86\\nOutput: 29th\\n\\nInput: 04/05/99\\nOutput:', 'Input: 3/29/86\\nOutput: 29th\\n\\nInput: 31/03/75\\nOutput:', 'Input: 3/29/86\\nOutput: 29th\\n\\nInput: 09/11/53\\nOutput:', 'Input: 01/04/2005\\nOutput: 1st\\n\\nInput: 27/03/84\\nOutput:', 'Input: 01/04/2005\\nOutput: 1st\\n\\nInput: 03/06/90\\nOutput:', 'Input: 01/04/2005\\nOutput: 1st\\n\\nInput: 27/07/2007\\nOutput:', 'Input: 01/04/2005\\nOutput: 1st\\n\\nInput: 05/09/2008\\nOutput:', 'Input: 01/04/2005\\nOutput: 1st\\n\\nInput: 12/05/2011\\nOutput:', 'Input: 2 of September of 2010, Monday\\nOutput: September\\n\\nInput: 13 November 2008\\nOutput:', 'Input: 2 of September of 2010, Monday\\nOutput: September\\n\\nInput: 6 December 2017\\nOutput:', 'Input: 2 of September of 2010, Monday\\nOutput: September\\n\\nInput: June 23, 2007\\nOutput:', 'Input: 2 of September of 2010, Monday\\nOutput: September\\n\\nInput: February 4, 2008\\nOutput:', 'Input: 2 of September of 2010, Monday\\nOutput: September\\n\\nInput: Thursday, October 31, 1985\\nOutput:', 'Input: Monday, June 21, 1999\\nOutput: June\\n\\nInput: Tuesday, September 16, 1986\\nOutput:', 'Input: Monday, June 21, 1999\\nOutput: June\\n\\nInput: March 21, 2004\\nOutput:', 'Input: Monday, June 21, 1999\\nOutput: June\\n\\nInput: 3 August 2009\\nOutput:', 'Input: Monday, June 21, 1999\\nOutput: June\\n\\nInput: Sunday, August 25, 1996\\nOutput:', 'Input: Monday, June 21, 1999\\nOutput: June\\n\\nInput: Saturday, August 2, 2008\\nOutput:', 'Input: Sunday, 9 November 2014\\nOutput: Sunday\\n\\nInput: 2 of September of 2010, Monday\\nOutput:', 'Input: Sunday, 9 November 2014\\nOutput: Sunday\\n\\nInput: Wednesday, 15 October 2003\\nOutput:', 'Input: Sunday, 9 November 2014\\nOutput: Sunday\\n\\nInput: Saturday, 21 April 2007\\nOutput:', 'Input: Sunday, 9 November 2014\\nOutput: Sunday\\n\\nInput: Sunday, 15 March 2009\\nOutput:', 'Input: Sunday, 9 November 2014\\nOutput: Sunday\\n\\nInput: Sunday, 29 November 2009\\nOutput:', 'Input: Friday, 4 June 2010\\nOutput: Friday\\n\\nInput: Friday, 25 November 2011\\nOutput:', 'Input: Friday, 4 June 2010\\nOutput: Friday\\n\\nInput: Saturday, 30 November 2013\\nOutput:', 'Input: Friday, 4 June 2010\\nOutput: Friday\\n\\nInput: Thursday, 5 June 2014\\nOutput:', 'Input: Friday, 4 June 2010\\nOutput: Friday\\n\\nInput: Tuesday, 16 May 2017\\nOutput:', 'Input: Friday, 4 June 2010\\nOutput: Friday\\n\\nInput: Monday, 17 December 2018\\nOutput:', 'Input: 3/29/86\\nOutput: Mar\\n\\nInput: 15/02/84\\nOutput:', 'Input: 3/29/86\\nOutput: Mar\\n\\nInput: 11/30/2017\\nOutput:', 'Input: 3/29/86\\nOutput: Mar\\n\\nInput: 28/12/2004\\nOutput:', 'Input: 3/29/86\\nOutput: Mar\\n\\nInput: 03/06/2007\\nOutput:', 'Input: 3/29/86\\nOutput: Mar\\n\\nInput: 08/22/2010\\nOutput:', 'Input: 05/08/98\\nOutput: May\\n\\nInput: 31/08/2010\\nOutput:', 'Input: 05/08/98\\nOutput: May\\n\\nInput: 03/18/2014\\nOutput:', 'Input: 05/08/98\\nOutput: May\\n\\nInput: 07/05/95\\nOutput:', 'Input: 05/08/98\\nOutput: May\\n\\nInput: 11/06/2016\\nOutput:', 'Input: 05/08/98\\nOutput: May\\n\\nInput: 14/06/2017\\nOutput:', 'Input: 20040717\\nOutput: 17-07-2004\\n\\nInput: 20021015\\nOutput:', 'Input: 20040717\\nOutput: 17-07-2004\\n\\nInput: 9292015\\nOutput:', 'Input: 20040717\\nOutput: 17-07-2004\\n\\nInput: 5012017\\nOutput:', 'Input: 20040717\\nOutput: 17-07-2004\\n\\nInput: 8072017\\nOutput:', 'Input: 20040717\\nOutput: 17-07-2004\\n\\nInput: 2261993\\nOutput:', 'Input: 11251989\\nOutput: 25/11/1989\\n\\nInput: 8311990\\nOutput:', 'Input: 11251989\\nOutput: 25/11/1989\\n\\nInput: 6171994\\nOutput:', 'Input: 11251989\\nOutput: 25/11/1989\\n\\nInput: 6281996\\nOutput:', 'Input: 11251989\\nOutput: 25/11/1989\\n\\nInput: 8222000\\nOutput:', 'Input: 11251989\\nOutput: 25/11/1989\\n\\nInput: 11202001\\nOutput:', 'Input: Sophia;  domain\\nOutput: Sophia@domain.com\\n\\nInput: Logan;  domain\\nOutput:', 'Input: Sophia;  domain\\nOutput: Sophia@domain.com\\n\\nInput: Lucas;  domain\\nOutput:', 'Input: Sophia;  domain\\nOutput: Sophia@domain.com\\n\\nInput: Audrey;  domain\\nOutput:', 'Input: Sophia;  domain\\nOutput: Sophia@domain.com\\n\\nInput: Amelia;  domain\\nOutput:', 'Input: Sophia;  domain\\nOutput: Sophia@domain.com\\n\\nInput: Laila; domain\\nOutput:', 'Input: bad; girl\\nOutput: bad@girl.com\\n\\nInput: aamedo; hecsa\\nOutput:', 'Input: bad; girl\\nOutput: bad@girl.com\\n\\nInput: elizabeth; gmail\\nOutput:', 'Input: bad; girl\\nOutput: bad@girl.com\\n\\nInput: carnes; hotmail\\nOutput:', 'Input: bad; girl\\nOutput: bad@girl.com\\n\\nInput: agada; petrok\\nOutput:', 'Input: bad; girl\\nOutput: bad@girl.com\\n\\nInput: joypao; hotmail\\nOutput:', 'Input: carlos; gmail\\nOutput: carlos@gmail.com\\n\\nInput: arquitecto; gmail\\nOutput:', 'Input: carlos; gmail\\nOutput: carlos@gmail.com\\n\\nInput: masenjo; gmail\\nOutput:', 'Input: carlos; gmail\\nOutput: carlos@gmail.com\\n\\nInput: Sergio; adretail\\nOutput:', 'Input: carlos; gmail\\nOutput: carlos@gmail.com\\n\\nInput: casper; canal13\\nOutput:', 'Input: carlos; gmail\\nOutput: carlos@gmail.com\\n\\nInput: banto; gmail\\nOutput:', 'Input: TheStupidGamer@gmail.com\\nOutput: gmail.com\\n\\nInput: iabetrae@yahoo.es\\nOutput:', 'Input: TheStupidGamer@gmail.com\\nOutput: gmail.com\\n\\nInput: medrlanes@hotmail.com\\nOutput:', 'Input: TheStupidGamer@gmail.com\\nOutput: gmail.com\\n\\nInput: osaeswca@hotmail.com\\nOutput:', 'Input: TheStupidGamer@gmail.com\\nOutput: gmail.com\\n\\nInput: caedgigo@garmendia.cl\\nOutput:', 'Input: TheStupidGamer@gmail.com\\nOutput: gmail.com\\n\\nInput: Sb.edhxo.sk8@hotmail.com\\nOutput:', 'Input: fedn.arll@live.cl\\nOutput: live.cl\\n\\nInput: cawdvguileram@hotmail.com \\nOutput:', 'Input: fedn.arll@live.cl\\nOutput: live.cl\\n\\nInput: ikxvgrojo@hotmail.com\\nOutput:', 'Input: fedn.arll@live.cl\\nOutput: live.cl\\n\\nInput: dala_aguera_m500@hotmail.com\\nOutput:', 'Input: fedn.arll@live.cl\\nOutput: live.cl\\n\\nInput: viceala@hotmail.com\\nOutput:', 'Input: fedn.arll@live.cl\\nOutput: live.cl\\n\\nInput: alter3@hotmail.com\\nOutput:', 'Input: capseguilera@hotmail.com\\nOutput: hotmail.com\\n\\nInput: apalyusg@hotmail.com\\nOutput:', 'Input: capseguilera@hotmail.com\\nOutput: hotmail.com\\n\\nInput: niertox__@hotmail.com\\nOutput:', 'Input: capseguilera@hotmail.com\\nOutput: hotmail.com\\n\\nInput: luuuddi@hotmail.com\\nOutput:', 'Input: capseguilera@hotmail.com\\nOutput: hotmail.com\\n\\nInput: krrt_sirre_ss@hotmail.com\\nOutput:', 'Input: capseguilera@hotmail.com\\nOutput: hotmail.com\\n\\nInput: masin@hotmail.com\\nOutput:', 'Input: Nancy.FreeHafer@fourthcoffee.com\\nOutput: FreeHafer\\n\\nInput: Andrew.Cencici@northwindtraders.com\\nOutput:', 'Input: Nancy.FreeHafer@fourthcoffee.com\\nOutput: FreeHafer\\n\\nInput: Jan.Kotas@litwareinc.com\\nOutput:', 'Input: Nancy.FreeHafer@fourthcoffee.com\\nOutput: FreeHafer\\n\\nInput: Mariya.Sergienko@gradicdesigninstitute.com\\nOutput:', 'Input: Nancy.FreeHafer@fourthcoffee.com\\nOutput: FreeHafer\\n\\nInput: Steven.Thorpe@northwindtraders.com\\nOutput:', 'Input: Nancy.FreeHafer@fourthcoffee.com\\nOutput: FreeHafer\\n\\nInput: Michael.Neipper@northwindtraders.com\\nOutput:', 'Input: Robert.Zare@northwindtraders.com\\nOutput: Zare\\n\\nInput: Laura.Giussani@adventure-works.com\\nOutput:', 'Input: Robert.Zare@northwindtraders.com\\nOutput: Zare\\n\\nInput: Anne.Hill@northwindtraders.com\\nOutput:', 'Input: Robert.Zare@northwindtraders.com\\nOutput: Zare\\n\\nInput: Alexander.David@contoso.com\\nOutput:', 'Input: Robert.Zare@northwindtraders.com\\nOutput: Zare\\n\\nInput: Kim.Shane@northwindtraders.com\\nOutput:', 'Input: Robert.Zare@northwindtraders.com\\nOutput: Zare\\n\\nInput: Manish.Chopra@northwindtraders.com\\nOutput:', 'Input: Gerwald.Oberleitner@northwindtraders.com\\nOutput: Oberleitner\\n\\nInput: Amr.Zaki@northwindtraders.com\\nOutput:', 'Input: Gerwald.Oberleitner@northwindtraders.com\\nOutput: Oberleitner\\n\\nInput: Yvonne.McKay@northwindtraders.com\\nOutput:', 'Input: Gerwald.Oberleitner@northwindtraders.com\\nOutput: Oberleitner\\n\\nInput: Amanda.Pinto@northwindtraders.com\\nOutput:', 'Input: Gerwald.Oberleitner@northwindtraders.com\\nOutput: Oberleitner\\n\\nInput: krrt.sirre@hotmail.com\\nOutput:', 'Input: Gerwald.Oberleitner@northwindtraders.com\\nOutput: Oberleitner\\n\\nInput: masin.a@hotmail.com\\nOutput:', 'Input: 09:40-09:50\\nOutput: 09:50\\n\\nInput: 09:50-08:30\\nOutput:', 'Input: 09:40-09:50\\nOutput: 09:50\\n\\nInput: 09:50-09:55\\nOutput:', 'Input: 09:40-09:50\\nOutput: 09:50\\n\\nInput: 05:50-06:30\\nOutput:', 'Input: 09:40-09:50\\nOutput: 09:50\\n\\nInput: 06:50-07:30\\nOutput:', 'Input: 09:40-09:50\\nOutput: 09:50\\n\\nInput: 08:50-09:30\\nOutput:', 'Input: 09:50-09:40\\nOutput: 09:40\\n\\nInput: 08:30-09:50\\nOutput:', 'Input: 09:50-09:40\\nOutput: 09:40\\n\\nInput: 09:50-09:55\\nOutput:', 'Input: 09:50-09:40\\nOutput: 09:40\\n\\nInput: 05:50-06:30\\nOutput:', 'Input: 09:50-09:40\\nOutput: 09:40\\n\\nInput: 06:40-05:30\\nOutput:', 'Input: 09:50-09:40\\nOutput: 09:40\\n\\nInput: 06:30-03:30\\nOutput:', 'Input: 09/08/2011; us_8sep11.log\\nOutput: 8sep11\\n\\nInput: 05.03.2010; in_5mar10.log\\nOutput:', 'Input: 09/08/2011; us_8sep11.log\\nOutput: 8sep11\\n\\nInput: 11/23/2011; us_23nov11.log\\nOutput:', 'Input: 09/08/2011; us_8sep11.log\\nOutput: 8sep11\\n\\nInput: 09.08.2010; in_9aug10.log\\nOutput:', 'Input: 09/08/2011; us_8sep11.log\\nOutput: 8sep11\\n\\nInput: 14.09.2010; in_14sep10.log\\nOutput:', 'Input: 09/08/2011; us_8sep11.log\\nOutput: 8sep11\\n\\nInput: 06/15/2011; us_15jun11.log\\nOutput:', 'Input: 09/12/2014; us_12sep14.log\\nOutput: 12sep14\\n\\nInput: 04.02.2010; in_4feb10.log\\nOutput:', 'Input: 09/12/2014; us_12sep14.log\\nOutput: 12sep14\\n\\nInput: 09/24/2011; us_24sep11.log\\nOutput:', 'Input: 09/12/2014; us_12sep14.log\\nOutput: 12sep14\\n\\nInput: 07.12.2011; in_7dec11.log\\nOutput:', 'Input: 09/12/2014; us_12sep14.log\\nOutput: 12sep14\\n\\nInput: 08.11.2010; in_8nov10.log\\nOutput:', 'Input: 09/12/2014; us_12sep14.log\\nOutput: 12sep14\\n\\nInput: 07/12/2011; us_7dec11.log\\nOutput:', 'Input: [CPT-00350\\nOutput: [CPT-00350]\\n\\nInput: [CPT-00340\\nOutput:', 'Input: [CPT-00350\\nOutput: [CPT-00350]\\n\\nInput: CPT-00350]\\nOutput:', 'Input: [CPT-00350\\nOutput: [CPT-00350]\\n\\nInput: [CPT-00340]\\nOutput:', 'Input: [CPT-00350\\nOutput: [CPT-00350]\\n\\nInput: CPT-00350\\nOutput:', 'Input: [CPT-00350\\nOutput: [CPT-00350]\\n\\nInput: CPT-00340]\\nOutput:', 'Input: [Phasellus-234\\nOutput: [Phasellus-234]\\n\\nInput: [ullamcorper-234\\nOutput:', 'Input: [Phasellus-234\\nOutput: [Phasellus-234]\\n\\nInput: pharetra-2345]\\nOutput:', 'Input: [Phasellus-234\\nOutput: [Phasellus-234]\\n\\nInput: odio-345]\\nOutput:', 'Input: [Phasellus-234\\nOutput: [Phasellus-234]\\n\\nInput: [eu-345\\nOutput:', 'Input: [Phasellus-234\\nOutput: [Phasellus-234]\\n\\nInput: iaculis-345\\nOutput:', 'Input: 1-452-789-4567\\nOutput: 14527894567\\n\\nInput: 1-503-897-4567\\nOutput:', 'Input: 1-452-789-4567\\nOutput: 14527894567\\n\\nInput: 1-408-789-4561\\nOutput:', 'Input: 1-452-789-4567\\nOutput: 14527894567\\n\\nInput: 1-406-789-1562\\nOutput:', 'Input: 1-452-789-4567\\nOutput: 14527894567\\n\\nInput: 1-845-456-7891\\nOutput:', 'Input: 1-452-789-4567\\nOutput: 14527894567\\n\\nInput: 1-845-333-7891\\nOutput:', 'Input: 1-4565\\nOutput: 14565\\n\\nInput: 1-4568\\nOutput:', 'Input: 1-4565\\nOutput: 14565\\n\\nInput: 1-4569\\nOutput:', 'Input: 1-4565\\nOutput: 14565\\n\\nInput: 1-1562\\nOutput:', 'Input: 1-4565\\nOutput: 14565\\n\\nInput: 1-7891\\nOutput:', 'Input: 1-4565\\nOutput: 14565\\n\\nInput: 1-7892\\nOutput:', 'Input: Integer pulvinar felis sit amet venenatis consequat.\\nOutput: Integerpulvinarfelissitametvenenatisconsequat\\n\\nInput: Morbi fermentum sem sit amet nibh mattis semper.\\nOutput:', 'Input: Integer pulvinar felis sit amet venenatis consequat.\\nOutput: Integerpulvinarfelissitametvenenatisconsequat\\n\\nInput: Nam vitae orci quis nunc sodales rutrum sit amet dictum mi.\\nOutput:', 'Input: Integer pulvinar felis sit amet venenatis consequat.\\nOutput: Integerpulvinarfelissitametvenenatisconsequat\\n\\nInput: Sed convallis diam imperdiet urna tincidunt consectetur.\\nOutput:', 'Input: Integer pulvinar felis sit amet venenatis consequat.\\nOutput: Integerpulvinarfelissitametvenenatisconsequat\\n\\nInput: Etiam dapibus tortor sed cursus blandit.\\nOutput:', 'Input: Integer pulvinar felis sit amet venenatis consequat.\\nOutput: Integerpulvinarfelissitametvenenatisconsequat\\n\\nInput: Quisque mattis dolor ac metus fermentum consectetur.\\nOutput:', 'Input: Lorem ipsum dolor sit amet, consectetur adipiscing elit.\\nOutput: Loremipsumdolorsitametconsecteturadipiscingelit\\n\\nInput: Donec blandit orci at purus lobortis ornare.\\nOutput:', 'Input: Lorem ipsum dolor sit amet, consectetur adipiscing elit.\\nOutput: Loremipsumdolorsitametconsecteturadipiscingelit\\n\\nInput: Vestibulum dignissim orci quis auctor finibus.\\nOutput:', 'Input: Lorem ipsum dolor sit amet, consectetur adipiscing elit.\\nOutput: Loremipsumdolorsitametconsecteturadipiscingelit\\n\\nInput: Praesent sed ipsum euismod, tempor dolor at, varius leo.\\nOutput:', 'Input: Lorem ipsum dolor sit amet, consectetur adipiscing elit.\\nOutput: Loremipsumdolorsitametconsecteturadipiscingelit\\n\\nInput: Integer malesuada elit et hendrerit fermentum.\\nOutput:', 'Input: Lorem ipsum dolor sit amet, consectetur adipiscing elit.\\nOutput: Loremipsumdolorsitametconsecteturadipiscingelit\\n\\nInput: Pellentesque tempor justo a dui varius maximus.\\nOutput:', 'Input: Sed quis nibh a metus ultricies commodo eu sit amet sem\\nOutput: Sedquisnibhametusultriciescommodoeusitametsem\\n\\nInput: Phasellus tempus lectus sit amet nisl ultricies eget pretium odio semper\\nOutput:', 'Input: Sed quis nibh a metus ultricies commodo eu sit amet sem\\nOutput: Sedquisnibhametusultriciescommodoeusitametsem\\n\\nInput: Aenean ultrices dolor eu aliquam sollicitudin\\nOutput:', 'Input: Sed quis nibh a metus ultricies commodo eu sit amet sem\\nOutput: Sedquisnibhametusultriciescommodoeusitametsem\\n\\nInput: Vivamus elementum tellus et mattis dapibus\\nOutput:', 'Input: Sed quis nibh a metus ultricies commodo eu sit amet sem\\nOutput: Sedquisnibhametusultriciescommodoeusitametsem\\n\\nInput: Mauris fringilla neque nec libero consequat quis facilisis nisi tristique\\nOutput:', 'Input: Sed quis nibh a metus ultricies commodo eu sit amet sem\\nOutput: Sedquisnibhametusultriciescommodoeusitametsem\\n\\nInput: Nam cursus purus nec mi maximus fermentum\\nOutput:', 'Input: CAMP DRY DBL NDL 3.6 OZ\\nOutput: 3.6 OZ\\n\\nInput: DRY NDL 0.23 KG\\nOutput:', 'Input: CAMP DRY DBL NDL 3.6 OZ\\nOutput: 3.6 OZ\\n\\nInput: BTR KRNL WK CORN 15Z\\nOutput:', 'Input: CAMP DRY DBL NDL 3.6 OZ\\nOutput: 3.6 OZ\\n\\nInput: CHORE BOY HD SC SPNG 1 PK\\nOutput:', 'Input: CAMP DRY DBL NDL 3.6 OZ\\nOutput: 3.6 OZ\\n\\nInput: FRENCH WORCESTERSHIRE 5 Z\\nOutput:', 'Input: CAMP DRY DBL NDL 3.6 OZ\\nOutput: 3.6 OZ\\n\\nInput: O F TOMATO PASTE 6 OZ\\nOutput:', 'Input: male\\nOutput: m\\n\\nInput: female\\nOutput:', 'Input: male\\nOutput: m\\n\\nInput: hombre\\nOutput:', 'Input: male\\nOutput: m\\n\\nInput: mujer\\nOutput:', 'Input: male\\nOutput: m\\n\\nInput: doctor\\nOutput:', 'Input: male\\nOutput: m\\n\\nInput: professional\\nOutput:', 'Input: ac\\nOutput: a\\n\\nInput: molestie\\nOutput:', 'Input: ac\\nOutput: a\\n\\nInput: magna\\nOutput:', 'Input: ac\\nOutput: a\\n\\nInput: vulputate\\nOutput:', 'Input: ac\\nOutput: a\\n\\nInput: id\\nOutput:', 'Input: ac\\nOutput: a\\n\\nInput: Aliquam\\nOutput:', 'Input: Mumbai, India\\nOutput: India\\n\\nInput: Los Angeles, United States of America\\nOutput:', 'Input: Mumbai, India\\nOutput: India\\n\\nInput: Newark, United States\\nOutput:', 'Input: Mumbai, India\\nOutput: India\\n\\nInput: New York, United States of America\\nOutput:', 'Input: Mumbai, India\\nOutput: India\\n\\nInput: Wellington, New Zealand\\nOutput:', 'Input: Mumbai, India\\nOutput: India\\n\\nInput: New Delhi, India\\nOutput:', 'Input: Valencia, Spain\\nOutput: Spain\\n\\nInput: Sydney, Australia\\nOutput:', 'Input: Valencia, Spain\\nOutput: Spain\\n\\nInput: Washington D.C., United States of America\\nOutput:', 'Input: Valencia, Spain\\nOutput: Spain\\n\\nInput: Melbourne, Australia\\nOutput:', 'Input: Valencia, Spain\\nOutput: Spain\\n\\nInput: Riva del Garda, Italy\\nOutput:', 'Input: Valencia, Spain\\nOutput: Spain\\n\\nInput: Strasbourg, France\\nOutput:', 'Input: 243 Flyer Dr,Cambridge, MA 02145\\nOutput: Cambridge\\n\\nInput: 512 Wir Ave,Los Angeles, CA 78911\\nOutput:', 'Input: 243 Flyer Dr,Cambridge, MA 02145\\nOutput: Cambridge\\n\\nInput: 64 128th St,Seattle, WA 98102\\nOutput:', 'Input: 243 Flyer Dr,Cambridge, MA 02145\\nOutput: Cambridge\\n\\nInput: 560 Heal St,San Mateo, CA 94129\\nOutput:', 'Input: 243 Flyer Dr,Cambridge, MA 02145\\nOutput: Cambridge\\n\\nInput: 45 23rd St,New York, NY 98102\\nOutput:', 'Input: 243 Flyer Dr,Cambridge, MA 02145\\nOutput: Cambridge\\n\\nInput: 64 Lol St,DC, DC 94129\\nOutput:', 'Input: International Business Machines\\nOutput: IBM\\n\\nInput: Principles Of Programming Languages\\nOutput:', 'Input: International Business Machines\\nOutput: IBM\\n\\nInput: International Conference on Software Engineering\\nOutput:', 'Input: International Business Machines\\nOutput: IBM\\n\\nInput: International Conference on Data Mining series\\nOutput:', 'Input: International Business Machines\\nOutput: IBM\\n\\nInput: European Data Science Conference\\nOutput:', 'Input: International Business Machines\\nOutput: IBM\\n\\nInput: International Conference on Computational Science\\nOutput:', 'Input: American Association for Artificial Intelligence\\nOutput: AAAI\\n\\nInput: Association of Computational Linguistics\\nOutput:', 'Input: American Association for Artificial Intelligence\\nOutput: AAAI\\n\\nInput: Architectural Support for Programming Languages and Operating Systems\\nOutput:', 'Input: American Association for Artificial Intelligence\\nOutput: AAAI\\n\\nInput: Computer Aided Verification\\nOutput:', 'Input: American Association for Artificial Intelligence\\nOutput: AAAI\\n\\nInput: Computer and Communications Security\\nOutput:', 'Input: American Association for Artificial Intelligence\\nOutput: AAAI\\n\\nInput: Conference on Computational Learning Theory\\nOutput:', 'Input: Conference on Computer Vision and Pattern Recognition\\nOutput: CVPR\\n\\nInput: Data Compression Conference\\nOutput:', 'Input: Conference on Computer Vision and Pattern Recognition\\nOutput: CVPR\\n\\nInput: High Performance Computer Architecture\\nOutput:', 'Input: Conference on Computer Vision and Pattern Recognition\\nOutput: CVPR\\n\\nInput: International Conference on Automated Planning and Scheduling\\nOutput:', 'Input: Conference on Computer Vision and Pattern Recognition\\nOutput: CVPR\\n\\nInput: International Conference on Computer Vision\\nOutput:', 'Input: Conference on Computer Vision and Pattern Recognition\\nOutput: CVPR\\n\\nInput: International Conference on Data Engineering\\nOutput:', 'Input: Integer pulvinar felis sit amet venenatis consequat.\\nOutput: INTEGER PULVINAR FELIS SIT AMET VENENATIS CONSEQUAT\\n\\nInput: Morbi fermentum sem sit amet nibh mattis semper.\\nOutput:', 'Input: Integer pulvinar felis sit amet venenatis consequat.\\nOutput: INTEGER PULVINAR FELIS SIT AMET VENENATIS CONSEQUAT\\n\\nInput: Nam vitae orci quis nunc sodales rutrum sit amet dictum mi.\\nOutput:', 'Input: Integer pulvinar felis sit amet venenatis consequat.\\nOutput: INTEGER PULVINAR FELIS SIT AMET VENENATIS CONSEQUAT\\n\\nInput: Sed convallis diam imperdiet urna tincidunt consectetur.\\nOutput:', 'Input: Integer pulvinar felis sit amet venenatis consequat.\\nOutput: INTEGER PULVINAR FELIS SIT AMET VENENATIS CONSEQUAT\\n\\nInput: Etiam dapibus tortor sed cursus blandit.\\nOutput:', 'Input: Integer pulvinar felis sit amet venenatis consequat.\\nOutput: INTEGER PULVINAR FELIS SIT AMET VENENATIS CONSEQUAT\\n\\nInput: Quisque mattis dolor ac metus fermentum consectetur.\\nOutput:', 'Input: Lorem ipsum dolor sit amet, consectetur adipiscing elit.\\nOutput: LOREM IPSUM DOLOR SIT AMET, CONSECTETUR ADIPISCING ELIT\\n\\nInput: Donec blandit orci at purus lobortis ornare.\\nOutput:', 'Input: Lorem ipsum dolor sit amet, consectetur adipiscing elit.\\nOutput: LOREM IPSUM DOLOR SIT AMET, CONSECTETUR ADIPISCING ELIT\\n\\nInput: Vestibulum dignissim orci quis auctor finibus.\\nOutput:', 'Input: Lorem ipsum dolor sit amet, consectetur adipiscing elit.\\nOutput: LOREM IPSUM DOLOR SIT AMET, CONSECTETUR ADIPISCING ELIT\\n\\nInput: Praesent sed ipsum euismod, tempor dolor at, varius leo.\\nOutput:', 'Input: Lorem ipsum dolor sit amet, consectetur adipiscing elit.\\nOutput: LOREM IPSUM DOLOR SIT AMET, CONSECTETUR ADIPISCING ELIT\\n\\nInput: Integer malesuada elit et hendrerit fermentum.\\nOutput:', 'Input: Lorem ipsum dolor sit amet, consectetur adipiscing elit.\\nOutput: LOREM IPSUM DOLOR SIT AMET, CONSECTETUR ADIPISCING ELIT\\n\\nInput: Pellentesque tempor justo a dui varius maximus.\\nOutput:', 'Input: Roger; 2\\nOutput: Mr. Roger\\n\\nInput: Simon; 1\\nOutput:', 'Input: Roger; 2\\nOutput: Mr. Roger\\n\\nInput: Benjamin; 2\\nOutput:', 'Input: Roger; 2\\nOutput: Mr. Roger\\n\\nInput: John; 5\\nOutput:', 'Input: Roger; 2\\nOutput: Mr. Roger\\n\\nInput: Schur; 2\\nOutput:', 'Input: Roger; 2\\nOutput: Mr. Roger\\n\\nInput: Randalf; 1\\nOutput:', 'Input: Guigen; 5\\nOutput: D. Guigen\\n\\nInput: Ragsh; 6\\nOutput:', 'Input: Guigen; 5\\nOutput: D. Guigen\\n\\nInput: Agustino; 5\\nOutput:', 'Input: Guigen; 5\\nOutput: D. Guigen\\n\\nInput: Hass; 2\\nOutput:', 'Input: Guigen; 5\\nOutput: D. Guigen\\n\\nInput: Jones; 1\\nOutput:', 'Input: Guigen; 5\\nOutput: D. Guigen\\n\\nInput: Lopez; 5\\nOutput:', 'Input: Dr. Mark Sipser\\nOutput: Dr.\\n\\nInput: Louis Johnson, PhD\\nOutput:', 'Input: Dr. Mark Sipser\\nOutput: Dr.\\n\\nInput: Prof. Edward Davis\\nOutput:', 'Input: Dr. Mark Sipser\\nOutput: Dr.\\n\\nInput: Robert Mills\\nOutput:', 'Input: Dr. Mark Sipser\\nOutput: Dr.\\n\\nInput: David Jones, PhD\\nOutput:', 'Input: Dr. Mark Sipser\\nOutput: Dr.\\n\\nInput: Mr. Lopez\\nOutput:', 'Input: Dr. B. Schdur\\nOutput: Dr.\\n\\nInput: Prof. R.G.H. Laabertink\\nOutput:', 'Input: Dr. B. Schdur\\nOutput: Dr.\\n\\nInput: Prof. H. Huifen\\nOutput:', 'Input: Dr. B. Schdur\\nOutput: Dr.\\n\\nInput: Mr. Ragsh Mutgoo\\nOutput:', 'Input: Dr. B. Schdur\\nOutput: Dr.\\n\\nInput: Mr. Agustino Zimmann\\nOutput:', 'Input: Dr. B. Schdur\\nOutput: Dr.\\n\\nInput: Mr. Hass Hooggen\\nOutput:', 'Input: Guillermo Filiepatos\\nOutput: gufi\\n\\nInput: Federico A. Fithsakampf\\nOutput:', 'Input: Guillermo Filiepatos\\nOutput: gufi\\n\\nInput: Carmen Funcsrentano\\nOutput:', 'Input: Guillermo Filiepatos\\nOutput: gufi\\n\\nInput: Diana Gada Arosia\\nOutput:', 'Input: Guillermo Filiepatos\\nOutput: gufi\\n\\nInput: Dario Gag-Dorado\\nOutput:', 'Input: Guillermo Filiepatos\\nOutput: gufi\\n\\nInput: Paco Gabot Narale\\nOutput:', 'Input: Maria Sartori\\nOutput: masa\\n\\nInput: Berta Gornek\\nOutput:', 'Input: Maria Sartori\\nOutput: masa\\n\\nInput: Damian Gobbee\\nOutput:', 'Input: Maria Sartori\\nOutput: masa\\n\\nInput: Antonio Lopez Hernandez\\nOutput:', 'Input: Maria Sartori\\nOutput: masa\\n\\nInput: Daman Hivser-Kleiner\\nOutput:', 'Input: Maria Sartori\\nOutput: masa\\n\\nInput: Giussepe Hindravtoks\\nOutput:', 'Input: Dr. Eran Yahav\\nOutput: Yahav, E.\\n\\nInput: Prof. Kathleen S. Fisher\\nOutput:', 'Input: Dr. Eran Yahav\\nOutput: Yahav, E.\\n\\nInput: Bill Gates, Sr.\\nOutput:', 'Input: Dr. Eran Yahav\\nOutput: Yahav, E.\\n\\nInput: George Ciprian Necula\\nOutput:', 'Input: Dr. Eran Yahav\\nOutput: Yahav, E.\\n\\nInput: Ken McMillan, II\\nOutput:', 'Input: Dr. Eran Yahav\\nOutput: Yahav, E.\\n\\nInput: Mr. David Jones\\nOutput:', 'Input: Guillermo Filiepatos\\nOutput: Filiepatos, G.\\n\\nInput: Federico A. Fthskampf\\nOutput:', 'Input: Guillermo Filiepatos\\nOutput: Filiepatos, G.\\n\\nInput: Carmen Funcsrentano\\nOutput:', 'Input: Guillermo Filiepatos\\nOutput: Filiepatos, G.\\n\\nInput: Diana Gada\\nOutput:', 'Input: Guillermo Filiepatos\\nOutput: Filiepatos, G.\\n\\nInput: Dario Gag-Dorado\\nOutput:', 'Input: Guillermo Filiepatos\\nOutput: Filiepatos, G.\\n\\nInput: Mr. Paco Gabt\\nOutput:', 'Input: Maria Glikgon\\nOutput: Glikgon, M.\\n\\nInput: Dr. Bruno Gornek\\nOutput:', 'Input: Maria Glikgon\\nOutput: Glikgon, M.\\n\\nInput: Damian Gobbee\\nOutput:', 'Input: Maria Glikgon\\nOutput: Glikgon, M.\\n\\nInput: Antonio Hege\\nOutput:', 'Input: Maria Glikgon\\nOutput: Glikgon, M.\\n\\nInput: Damancio Hivser-Kleiner\\nOutput:', 'Input: Maria Glikgon\\nOutput: Glikgon, M.\\n\\nInput: Giussepe Hindravtoks\\nOutput:', 'Input: Schur;  Brandon\\nOutput: Schur, B.\\n\\nInput: Randalf;  Laabertink\\nOutput:', 'Input: Schur;  Brandon\\nOutput: Schur, B.\\n\\nInput: Guigen;  Albert\\nOutput:', 'Input: Schur;  Brandon\\nOutput: Schur, B.\\n\\nInput: Ragsh;  Mutgoo\\nOutput:', 'Input: Schur;  Brandon\\nOutput: Schur, B.\\n\\nInput: Agustino;  Zimmann\\nOutput:', 'Input: Schur;  Brandon\\nOutput: Schur, B.\\n\\nInput: Hass;  Hooggen\\nOutput:', 'Input: Mark Sipser\\nOutput: M.Sipser\\n\\nInput: Louis Johnson\\nOutput:', 'Input: Mark Sipser\\nOutput: M.Sipser\\n\\nInput: Edward Davis\\nOutput:', 'Input: Mark Sipser\\nOutput: M.Sipser\\n\\nInput: Dr. Mark Sipser\\nOutput:', 'Input: Mark Sipser\\nOutput: M.Sipser\\n\\nInput: Louis Johnson, PhD\\nOutput:', 'Input: Mark Sipser\\nOutput: M.Sipser\\n\\nInput: Robert Mills\\nOutput:', 'Input: Sam H. Cook\\nOutput: S. Cook\\n\\nInput: Dr. S. R. Barua PhD\\nOutput:', 'Input: Sam H. Cook\\nOutput: S. Cook\\n\\nInput: Andrew Hudson\\nOutput:', 'Input: Sam H. Cook\\nOutput: S. Cook\\n\\nInput: Mr. Anand Sagar\\nOutput:', 'Input: Sam H. Cook\\nOutput: S. Cook\\n\\nInput: Dale McDermott Jr.\\nOutput:', 'Input: Sam H. Cook\\nOutput: S. Cook\\n\\nInput: Mrs. Jessie Simpson\\nOutput:', 'Input: Damian Gobbee\\nOutput: D. Gobbee\\n\\nInput: Antonio Hege\\nOutput:', 'Input: Damian Gobbee\\nOutput: D. Gobbee\\n\\nInput: Damancio Hivser-Kleiner\\nOutput:', 'Input: Damian Gobbee\\nOutput: D. Gobbee\\n\\nInput: Giussepe Hindravtoks\\nOutput:', 'Input: Damian Gobbee\\nOutput: D. Gobbee\\n\\nInput: Prof. Edward Davis\\nOutput:', 'Input: Damian Gobbee\\nOutput: D. Gobbee\\n\\nInput: Mr. Robert Mills\\nOutput:', 'Input: 235-7654; Taiwan\\nOutput: (886) 235-7654\\n\\nInput: 17-455-81-39; Spain\\nOutput:', 'Input: 235-7654; Taiwan\\nOutput: (886) 235-7654\\n\\nInput: 25-437-96-20; South Korea\\nOutput:', 'Input: 235-7654; Taiwan\\nOutput: (886) 235-7654\\n\\nInput: 457-2130; San Marino\\nOutput:', 'Input: 235-7654; Taiwan\\nOutput: (886) 235-7654\\n\\nInput: 618-4390; Panama\\nOutput:', 'Input: 235-7654; Taiwan\\nOutput: (886) 235-7654\\n\\nInput: 44-743-16-50; Netherlands\\nOutput:', 'Input: 785-4210; Madagascar\\nOutput: (261) 785-4210\\n\\nInput: 352-7960; Kuwait\\nOutput:', 'Input: 785-4210; Madagascar\\nOutput: (261) 785-4210\\n\\nInput: 14-734-21-90; Hungary\\nOutput:', 'Input: 785-4210; Madagascar\\nOutput: (261) 785-4210\\n\\nInput: 25-613-24-50; Chile\\nOutput:', 'Input: 785-4210; Madagascar\\nOutput: (261) 785-4210\\n\\nInput: 36-678-59-10; Austria\\nOutput:', 'Input: 785-4210; Madagascar\\nOutput: (261) 785-4210\\n\\nInput: 846-2730; Andorra\\nOutput:', 'Input: 235-7654; TWN\\nOutput: (886) 235-7654\\n\\nInput: 17-455-81-39; ESP\\nOutput:', 'Input: 235-7654; TWN\\nOutput: (886) 235-7654\\n\\nInput: 25-437-96-20; KOR\\nOutput:', 'Input: 235-7654; TWN\\nOutput: (886) 235-7654\\n\\nInput: 457-2130; SMR\\nOutput:', 'Input: 235-7654; TWN\\nOutput: (886) 235-7654\\n\\nInput: 618-4390; PAN\\nOutput:', 'Input: 235-7654; TWN\\nOutput: (886) 235-7654\\n\\nInput: 44-743-16-50; NLD\\nOutput:', 'Input: 785-4210; MDG\\nOutput: (261) 785-4210\\n\\nInput: 352-7960; KWT\\nOutput:', 'Input: 785-4210; MDG\\nOutput: (261) 785-4210\\n\\nInput: 14-734-21-90; HUN\\nOutput:', 'Input: 785-4210; MDG\\nOutput: (261) 785-4210\\n\\nInput: 25-613-24-50; CHL\\nOutput:', 'Input: 785-4210; MDG\\nOutput: (261) 785-4210\\n\\nInput: 36-678-59-10; AUT\\nOutput:', 'Input: 785-4210; MDG\\nOutput: (261) 785-4210\\n\\nInput: 846-2730; AND\\nOutput:', 'Input: 235-7654; Taiwan\\nOutput: (+886) 235-7654\\n\\nInput: 17-455-81-39; Spain\\nOutput:', 'Input: 235-7654; Taiwan\\nOutput: (+886) 235-7654\\n\\nInput: 25-437-96-20; South Korea\\nOutput:', 'Input: 235-7654; Taiwan\\nOutput: (+886) 235-7654\\n\\nInput: 457-2130; San Marino\\nOutput:', 'Input: 235-7654; Taiwan\\nOutput: (+886) 235-7654\\n\\nInput: 618-4390; Panama\\nOutput:', 'Input: 235-7654; Taiwan\\nOutput: (+886) 235-7654\\n\\nInput: 44-743-16-50; Netherlands\\nOutput:', 'Input: 785-4210; Madagascar\\nOutput: (+261) 785-4210\\n\\nInput: 352-7960; Kuwait\\nOutput:', 'Input: 785-4210; Madagascar\\nOutput: (+261) 785-4210\\n\\nInput: 14-734-21-90; Hungary\\nOutput:', 'Input: 785-4210; Madagascar\\nOutput: (+261) 785-4210\\n\\nInput: 25-613-24-50; Chile\\nOutput:', 'Input: 785-4210; Madagascar\\nOutput: (+261) 785-4210\\n\\nInput: 36-678-59-10; Austria\\nOutput:', 'Input: 785-4210; Madagascar\\nOutput: (+261) 785-4210\\n\\nInput: 846-2730; Andorra\\nOutput:', 'Input: (323)-708-7700\\nOutput: 323-708-7700\\n\\nInput: (163)-587-9240\\nOutput:', 'Input: (323)-708-7700\\nOutput: 323-708-7700\\n\\nInput: (185)-437-9620\\nOutput:', 'Input: (323)-708-7700\\nOutput: 323-708-7700\\n\\nInput: (986)-457-2130\\nOutput:', 'Input: (323)-708-7700\\nOutput: 323-708-7700\\n\\nInput: (725)-618-4390\\nOutput:', 'Input: (323)-708-7700\\nOutput: 323-708-7700\\n\\nInput: (892)-743-1650\\nOutput:', 'Input: (693)-785-4210\\nOutput: 693-785-4210\\n\\nInput: (481)-352-7960\\nOutput:', 'Input: (693)-785-4210\\nOutput: 693-785-4210\\n\\nInput: (568)-734-2190\\nOutput:', 'Input: (693)-785-4210\\nOutput: 693-785-4210\\n\\nInput: (978)-613-2450\\nOutput:', 'Input: (693)-785-4210\\nOutput: 693-785-4210\\n\\nInput: (324)-678-5910\\nOutput:', 'Input: (693)-785-4210\\nOutput: 693-785-4210\\n\\nInput: (195)-846-2730\\nOutput:', 'Input: John DOE 3 Data [TS]865-000-0000 - - 453442-00 06-23-2009\\nOutput: 865-000-0000\\n\\nInput: A GEDA-MARY 100MG 865-001-0020 - - 5941-00 06-23-2009\\nOutput:', 'Input: John DOE 3 Data [TS]865-000-0000 - - 453442-00 06-23-2009\\nOutput: 865-000-0000\\n\\nInput: The quick, brown fox jumps over a lazy dog 425-437-9620 69 11 60 20 13\\nOutput:', 'Input: John DOE 3 Data [TS]865-000-0000 - - 453442-00 06-23-2009\\nOutput: 865-000-0000\\n\\nInput: 425-457-2130, DJs flock by when MTV ax quiz prog:  18:95\\nOutput:', 'Input: John DOE 3 Data [TS]865-000-0000 - - 453442-00 06-23-2009\\nOutput: 865-000-0000\\n\\nInput: 425-618-4390 - 78 2642\\nOutput:', 'Input: John DOE 3 Data [TS]865-000-0000 - - 453442-00 06-23-2009\\nOutput: 865-000-0000\\n\\nInput: 17:58-19:29, 425-743-1650\\nOutput:', 'Input: 23/11/18 425-785-4210\\nOutput: 425-785-4210\\n\\nInput: International Conference on Automated Planning and Scheduling: 425-352-7960\\nOutput:', 'Input: 23/11/18 425-785-4210\\nOutput: 425-785-4210\\n\\nInput: 9 72 87 6 2 500-734-2190\\nOutput:', 'Input: 23/11/18 425-785-4210\\nOutput: 425-785-4210\\n\\nInput: 425-613-2450 000-000\\nOutput:', 'Input: 23/11/18 425-785-4210\\nOutput: 425-785-4210\\n\\nInput: 425-678-5910 425-678-591\\nOutput:', 'Input: 23/11/18 425-785-4210\\nOutput: 425-785-4210\\n\\nInput: 425-846-2730 425-425 425\\nOutput:', 'Input: 235 7654; 425\\nOutput: 425-235-7654\\n\\nInput: 745-8139; 425\\nOutput:', 'Input: 235 7654; 425\\nOutput: 425-235-7654\\n\\nInput: 437-9620; 425\\nOutput:', 'Input: 235 7654; 425\\nOutput: 425-235-7654\\n\\nInput: 457-2130; 425\\nOutput:', 'Input: 235 7654; 425\\nOutput: 425-235-7654\\n\\nInput: 618 4390; 425\\nOutput:', 'Input: 235 7654; 425\\nOutput: 425-235-7654\\n\\nInput: 743-1650; 425\\nOutput:', 'Input: 785 4210; 254\\nOutput: 254-785-4210\\n\\nInput: 352-7960; 25\\nOutput:', 'Input: 785 4210; 254\\nOutput: 254-785-4210\\n\\nInput: 734 2190; 36\\nOutput:', 'Input: 785 4210; 254\\nOutput: 254-785-4210\\n\\nInput: 613-2450; 65\\nOutput:', 'Input: 785 4210; 254\\nOutput: 254-785-4210\\n\\nInput: 678 5910; 25\\nOutput:', 'Input: 785 4210; 254\\nOutput: 254-785-4210\\n\\nInput: 846-2730; 65\\nOutput:', 'Input: 235-7654; 425\\nOutput: (425) 235-7654\\n\\nInput: 745-8139; 425\\nOutput:', 'Input: 235-7654; 425\\nOutput: (425) 235-7654\\n\\nInput: 437-9620; 425\\nOutput:', 'Input: 235-7654; 425\\nOutput: (425) 235-7654\\n\\nInput: 457-2130; 425\\nOutput:', 'Input: 235-7654; 425\\nOutput: (425) 235-7654\\n\\nInput: 618-4390; 425\\nOutput:', 'Input: 235-7654; 425\\nOutput: (425) 235-7654\\n\\nInput: 743-1650; 425\\nOutput:', 'Input: 785-4210; 254\\nOutput: (254) 785-4210\\n\\nInput: 352-7960; 25\\nOutput:', 'Input: 785-4210; 254\\nOutput: (254) 785-4210\\n\\nInput: 734-2190; 36\\nOutput:', 'Input: 785-4210; 254\\nOutput: (254) 785-4210\\n\\nInput: 613-2450; 65\\nOutput:', 'Input: 785-4210; 254\\nOutput: (254) 785-4210\\n\\nInput: 678-5910; 25\\nOutput:', 'Input: 785-4210; 254\\nOutput: (254) 785-4210\\n\\nInput: 846-2730; 65\\nOutput:', 'Input: 235-7654; 425\\nOutput: (+425) 235-7654\\n\\nInput: 745-8139; 425\\nOutput:', 'Input: 235-7654; 425\\nOutput: (+425) 235-7654\\n\\nInput: 437-9620; 425\\nOutput:', 'Input: 235-7654; 425\\nOutput: (+425) 235-7654\\n\\nInput: 457-2130; 425\\nOutput:', 'Input: 235-7654; 425\\nOutput: (+425) 235-7654\\n\\nInput: 618-4390; 425\\nOutput:', 'Input: 235-7654; 425\\nOutput: (+425) 235-7654\\n\\nInput: 743-1650; 425\\nOutput:', 'Input: 785-4210; 254\\nOutput: (+254) 785-4210\\n\\nInput: 352-7960; 25\\nOutput:', 'Input: 785-4210; 254\\nOutput: (+254) 785-4210\\n\\nInput: 734-2190; 36\\nOutput:', 'Input: 785-4210; 254\\nOutput: (+254) 785-4210\\n\\nInput: 613-2450; 65\\nOutput:', 'Input: 785-4210; 254\\nOutput: (+254) 785-4210\\n\\nInput: 678-5910; 25\\nOutput:', 'Input: 785-4210; 254\\nOutput: (+254) 785-4210\\n\\nInput: 846-2730; 65\\nOutput:', 'Input: 3237087700\\nOutput: 323-708-7700\\n\\nInput: 1635879240\\nOutput:', 'Input: 3237087700\\nOutput: 323-708-7700\\n\\nInput: 1854379620\\nOutput:', 'Input: 3237087700\\nOutput: 323-708-7700\\n\\nInput: 9864572130\\nOutput:', 'Input: 3237087700\\nOutput: 323-708-7700\\n\\nInput: 7256184390\\nOutput:', 'Input: 3237087700\\nOutput: 323-708-7700\\n\\nInput: 8927431650\\nOutput:', 'Input: 6937854210\\nOutput: 693-785-4210\\n\\nInput: 4813527960\\nOutput:', 'Input: 6937854210\\nOutput: 693-785-4210\\n\\nInput: 5687342190\\nOutput:', 'Input: 6937854210\\nOutput: 693-785-4210\\n\\nInput: 9786132450\\nOutput:', 'Input: 6937854210\\nOutput: 693-785-4210\\n\\nInput: 3246785910\\nOutput:', 'Input: 6937854210\\nOutput: 693-785-4210\\n\\nInput: 1958462730\\nOutput:', 'Input: 01:34:00; 5\\nOutput: 06:34:00\\n\\nInput: 01:55; 5\\nOutput:', 'Input: 01:34:00; 5\\nOutput: 06:34:00\\n\\nInput: 03; 5\\nOutput:', 'Input: 01:34:00; 5\\nOutput: 06:34:00\\n\\nInput: 07:05; 5\\nOutput:', 'Input: 01:34:00; 5\\nOutput: 06:34:00\\n\\nInput: 08; 5\\nOutput:', 'Input: 01:34:00; 5\\nOutput: 06:34:00\\n\\nInput: 16:15:12; 5\\nOutput:', 'Input: 08:55:00; 5\\nOutput: 13:55:00\\n\\nInput: 20:15:00; 5\\nOutput:', 'Input: 08:55:00; 5\\nOutput: 13:55:00\\n\\nInput: 17:55; 5\\nOutput:', 'Input: 08:55:00; 5\\nOutput: 13:55:00\\n\\nInput: 10:05; 5\\nOutput:', 'Input: 08:55:00; 5\\nOutput: 13:55:00\\n\\nInput: 14:10; 5\\nOutput:', 'Input: 08:55:00; 5\\nOutput: 13:55:00\\n\\nInput: 21:20; 5\\nOutput:', 'Input: 01:34\\nOutput: 01:34:00\\n\\nInput: 01:55\\nOutput:', 'Input: 01:34\\nOutput: 01:34:00\\n\\nInput: 03\\nOutput:', 'Input: 01:34\\nOutput: 01:34:00\\n\\nInput: 07:05\\nOutput:', 'Input: 01:34\\nOutput: 01:34:00\\n\\nInput: 08\\nOutput:', 'Input: 01:34\\nOutput: 01:34:00\\n\\nInput: 16:15:12\\nOutput:', 'Input: 08:55\\nOutput: 08:55:00\\n\\nInput: 20:15:30\\nOutput:', 'Input: 08:55\\nOutput: 08:55:00\\n\\nInput: 17:55\\nOutput:', 'Input: 08:55\\nOutput: 08:55:00\\n\\nInput: 10:05\\nOutput:', 'Input: 08:55\\nOutput: 08:55:00\\n\\nInput: 14:10\\nOutput:', 'Input: 08:55\\nOutput: 08:55:00\\n\\nInput: 21:20\\nOutput:', 'Input: 01:34; 30\\nOutput: 01:34:30\\n\\nInput: 01:55; 30\\nOutput:', 'Input: 01:34; 30\\nOutput: 01:34:30\\n\\nInput: 03; 30\\nOutput:', 'Input: 01:34; 30\\nOutput: 01:34:30\\n\\nInput: 07:05; 30\\nOutput:', 'Input: 01:34; 30\\nOutput: 01:34:30\\n\\nInput: 08; 30\\nOutput:', 'Input: 01:34; 30\\nOutput: 01:34:30\\n\\nInput: 16:15:12; 30\\nOutput:', 'Input: 08:55; 30\\nOutput: 08:55:30\\n\\nInput: 20:15:00; 30\\nOutput:', 'Input: 08:55; 30\\nOutput: 08:55:30\\n\\nInput: 17:55; 30\\nOutput:', 'Input: 08:55; 30\\nOutput: 08:55:30\\n\\nInput: 10:05; 30\\nOutput:', 'Input: 08:55; 30\\nOutput: 08:55:30\\n\\nInput: 14:10; 30\\nOutput:', 'Input: 08:55; 30\\nOutput: 08:55:30\\n\\nInput: 21:20; 30\\nOutput:', 'Input: 1:34:00 PM CST\\nOutput: 13:34:00\\n\\nInput: 01:55\\nOutput:', 'Input: 1:34:00 PM CST\\nOutput: 13:34:00\\n\\nInput: 3:40 AM\\nOutput:', 'Input: 1:34:00 PM CST\\nOutput: 13:34:00\\n\\nInput: 07:05:59\\nOutput:', 'Input: 1:34:00 PM CST\\nOutput: 13:34:00\\n\\nInput: 08:40 UTC\\nOutput:', 'Input: 1:34:00 PM CST\\nOutput: 13:34:00\\n\\nInput: 06:15:12\\nOutput:', 'Input: 20:55; HST; WET\\nOutput: 06:55:00\\n\\nInput: 20:15; PST; GMT\\nOutput:', 'Input: 20:55; HST; WET\\nOutput: 06:55:00\\n\\nInput: 17:55; MST; UTC\\nOutput:', 'Input: 20:55; HST; WET\\nOutput: 06:55:00\\n\\nInput: 10:05; CST; HST\\nOutput:', 'Input: 20:55; HST; WET\\nOutput: 06:55:00\\n\\nInput: 08:40; EST; PST\\nOutput:', 'Input: 20:55; HST; WET\\nOutput: 06:55:00\\n\\nInput: 06:15; CET; MST\\nOutput:', 'Input: 08:55 PM CET\\nOutput: 20:55\\n\\nInput: 20:15:00\\nOutput:', 'Input: 08:55 PM CET\\nOutput: 20:55\\n\\nInput: 17:55\\nOutput:', 'Input: 08:55 PM CET\\nOutput: 20:55\\n\\nInput: 10:05:00 AM\\nOutput:', 'Input: 08:55 PM CET\\nOutput: 20:55\\n\\nInput: 14:10\\nOutput:', 'Input: 08:55 PM CET\\nOutput: 20:55\\n\\nInput: 21:20\\nOutput:', 'Input: 1:34:00 PM CST; 24h\\nOutput: 13:34:00\\n\\nInput: 01:55; 24h\\nOutput:', 'Input: 1:34:00 PM CST; 24h\\nOutput: 13:34:00\\n\\nInput: 3:40 AM; 24h\\nOutput:', 'Input: 1:34:00 PM CST; 24h\\nOutput: 13:34:00\\n\\nInput: 07:05:59; 24h\\nOutput:', 'Input: 1:34:00 PM CST; 24h\\nOutput: 13:34:00\\n\\nInput: 14:10; 12h\\nOutput:', 'Input: 1:34:00 PM CST; 24h\\nOutput: 13:34:00\\n\\nInput: 21:20; 12h\\nOutput:', 'Input: 08:55 PM CET; 24h\\nOutput: 20:55\\n\\nInput: 20:15:00; 24h\\nOutput:', 'Input: 08:55 PM CET; 24h\\nOutput: 20:55\\n\\nInput: 17:55; 12h\\nOutput:', 'Input: 08:55 PM CET; 24h\\nOutput: 20:55\\n\\nInput: 10:05:00 AM; 24h\\nOutput:', 'Input: 08:55 PM CET; 24h\\nOutput: 20:55\\n\\nInput: 08:40 UTC; 24h\\nOutput:', 'Input: 08:55 PM CET; 24h\\nOutput: 20:55\\n\\nInput: 06:15:12; 24h\\nOutput:', 'Input: 01:34:00 CST\\nOutput: 01:34:00 AM\\n\\nInput: 01:55\\nOutput:', 'Input: 01:34:00 CST\\nOutput: 01:34:00 AM\\n\\nInput: 03:40\\nOutput:', 'Input: 01:34:00 CST\\nOutput: 01:34:00 AM\\n\\nInput: 07:05:59\\nOutput:', 'Input: 01:34:00 CST\\nOutput: 01:34:00 AM\\n\\nInput: 14:10\\nOutput:', 'Input: 01:34:00 CST\\nOutput: 01:34:00 AM\\n\\nInput: 21:20\\nOutput:', 'Input: 20:55 CET\\nOutput: 08:55 PM\\n\\nInput: 20:15:00\\nOutput:', 'Input: 20:55 CET\\nOutput: 08:55 PM\\n\\nInput: 17:55\\nOutput:', 'Input: 20:55 CET\\nOutput: 08:55 PM\\n\\nInput: 10:05:00\\nOutput:', 'Input: 20:55 CET\\nOutput: 08:55 PM\\n\\nInput: 08:40 UTC\\nOutput:', 'Input: 20:55 CET\\nOutput: 08:55 PM\\n\\nInput: 06:15:12\\nOutput:', 'Input: 01:34:00; CST; UTC\\nOutput: 07:34:00\\n\\nInput: 01:55; UTC; UTC\\nOutput:', 'Input: 01:34:00; CST; UTC\\nOutput: 07:34:00\\n\\nInput: 03:40; GMT; UTC\\nOutput:', 'Input: 01:34:00; CST; UTC\\nOutput: 07:34:00\\n\\nInput: 07:05:59; WET; UTC\\nOutput:', 'Input: 01:34:00; CST; UTC\\nOutput: 07:34:00\\n\\nInput: 14:10; CET; UTC\\nOutput:', 'Input: 01:34:00; CST; UTC\\nOutput: 07:34:00\\n\\nInput: 21:20; EST; UTC\\nOutput:', 'Input: 20:55; HST; WET\\nOutput: 06:55\\n\\nInput: 20:15:00; PST; GMT\\nOutput:', 'Input: 20:55; HST; WET\\nOutput: 06:55\\n\\nInput: 17:55; MST; UTC\\nOutput:', 'Input: 20:55; HST; WET\\nOutput: 06:55\\n\\nInput: 10:05:00; CST; HST\\nOutput:', 'Input: 20:55; HST; WET\\nOutput: 06:55\\n\\nInput: 08:40; EST; PST\\nOutput:', 'Input: 20:55; HST; WET\\nOutput: 06:55\\n\\nInput: 06:15:12; CET; MST\\nOutput:', 'Input: 01:34; CST; UTC\\nOutput: 07:34:00\\n\\nInput: 01:55; UTC; UTC\\nOutput:', 'Input: 01:34; CST; UTC\\nOutput: 07:34:00\\n\\nInput: 03:40; GMT; UTC\\nOutput:', 'Input: 01:34; CST; UTC\\nOutput: 07:34:00\\n\\nInput: 07:05; WET; UTC\\nOutput:', 'Input: 01:34; CST; UTC\\nOutput: 07:34:00\\n\\nInput: 14:10; CET; UTC\\nOutput:', 'Input: 01:34; CST; UTC\\nOutput: 07:34:00\\n\\nInput: 21:20; EST; UTC\\nOutput:', 'Input: 01:34:00\\nOutput: 01:34\\n\\nInput: 01:55\\nOutput:', 'Input: 01:34:00\\nOutput: 01:34\\n\\nInput: 03\\nOutput:', 'Input: 01:34:00\\nOutput: 01:34\\n\\nInput: 07:05\\nOutput:', 'Input: 01:34:00\\nOutput: 01:34\\n\\nInput: 08\\nOutput:', 'Input: 01:34:00\\nOutput: 01:34\\n\\nInput: 16:15:12\\nOutput:', 'Input: 08:55:00\\nOutput: 08:55\\n\\nInput: 20:15:00\\nOutput:', 'Input: 08:55:00\\nOutput: 08:55\\n\\nInput: 17:55\\nOutput:', 'Input: 08:55:00\\nOutput: 08:55\\n\\nInput: 10:05\\nOutput:', 'Input: 08:55:00\\nOutput: 08:55\\n\\nInput: 14:10\\nOutput:', 'Input: 08:55:00\\nOutput: 08:55\\n\\nInput: 21:20\\nOutput:', 'Input: 1:34:00 PM CST\\nOutput: 1\\n\\nInput: 01:55\\nOutput:', 'Input: 1:34:00 PM CST\\nOutput: 1\\n\\nInput: 03:40 AM\\nOutput:', 'Input: 1:34:00 PM CST\\nOutput: 1\\n\\nInput: 07:05:59\\nOutput:', 'Input: 1:34:00 PM CST\\nOutput: 1\\n\\nInput: 08:40 UTC\\nOutput:', 'Input: 1:34:00 PM CST\\nOutput: 1\\n\\nInput: 16:15:12\\nOutput:', 'Input: 08:55 PM CET\\nOutput: 8\\n\\nInput: 20:15:00\\nOutput:', 'Input: 08:55 PM CET\\nOutput: 8\\n\\nInput: 17:55\\nOutput:', 'Input: 08:55 PM CET\\nOutput: 8\\n\\nInput: 10:05:00 AM\\nOutput:', 'Input: 08:55 PM CET\\nOutput: 8\\n\\nInput: 14:10\\nOutput:', 'Input: 08:55 PM CET\\nOutput: 8\\n\\nInput: 21:20\\nOutput:', 'Input: 1:34:00 PM CST\\nOutput: 34\\n\\nInput: 01:55\\nOutput:', 'Input: 1:34:00 PM CST\\nOutput: 34\\n\\nInput: 03:40 AM\\nOutput:', 'Input: 1:34:00 PM CST\\nOutput: 34\\n\\nInput: 07:05:59\\nOutput:', 'Input: 1:34:00 PM CST\\nOutput: 34\\n\\nInput: 08:40 UTC\\nOutput:', 'Input: 1:34:00 PM CST\\nOutput: 34\\n\\nInput: 16:15:12\\nOutput:', 'Input: 08:55 PM CET\\nOutput: 55\\n\\nInput: 20:15:00\\nOutput:', 'Input: 08:55 PM CET\\nOutput: 55\\n\\nInput: 17:55\\nOutput:', 'Input: 08:55 PM CET\\nOutput: 55\\n\\nInput: 10:05:00 AM\\nOutput:', 'Input: 08:55 PM CET\\nOutput: 55\\n\\nInput: 14:10\\nOutput:', 'Input: 08:55 PM CET\\nOutput: 55\\n\\nInput: 21:20\\nOutput:', 'Input: 1:34:00 PM CST\\nOutput: 1:34:00\\n\\nInput: 01:55\\nOutput:', 'Input: 1:34:00 PM CST\\nOutput: 1:34:00\\n\\nInput: 03:40 AM\\nOutput:', 'Input: 1:34:00 PM CST\\nOutput: 1:34:00\\n\\nInput: 07:05:59\\nOutput:', 'Input: 1:34:00 PM CST\\nOutput: 1:34:00\\n\\nInput: 08:40 UTC\\nOutput:', 'Input: 1:34:00 PM CST\\nOutput: 1:34:00\\n\\nInput: 16:15:12\\nOutput:', 'Input: 08:55 PM CET\\nOutput: 08:55\\n\\nInput: 20:15:00\\nOutput:', 'Input: 08:55 PM CET\\nOutput: 08:55\\n\\nInput: 17:55\\nOutput:', 'Input: 08:55 PM CET\\nOutput: 08:55\\n\\nInput: 10:05:00 AM\\nOutput:', 'Input: 08:55 PM CET\\nOutput: 08:55\\n\\nInput: 14:10\\nOutput:', 'Input: 08:55 PM CET\\nOutput: 08:55\\n\\nInput: 21:20\\nOutput:', 'Input: 1441.8mg; g\\nOutput: 1.4418001\\n\\nInput: 84kg; g\\nOutput:', 'Input: 1441.8mg; g\\nOutput: 1.4418001\\n\\nInput: 14300ms; s\\nOutput:', 'Input: 1441.8mg; g\\nOutput: 1.4418001\\n\\nInput: 87 s; ns\\nOutput:', 'Input: 1441.8mg; g\\nOutput: 1.4418001\\n\\nInput: 12.20dg; mg\\nOutput:', 'Input: 1441.8mg; g\\nOutput: 1.4418001\\n\\nInput: 1854 dam; dm\\nOutput:', 'Input: 1nm; mm\\nOutput: 1000\\n\\nInput: 41.8g; mg\\nOutput:', 'Input: 1nm; mm\\nOutput: 1000\\n\\nInput: 980 ms; s\\nOutput:', 'Input: 1nm; mm\\nOutput: 1000\\n\\nInput: 4054kg; A\\nOutput:', 'Input: 1nm; mm\\nOutput: 1000\\n\\nInput: 92.26 K; cK\\nOutput:', 'Input: 1nm; mm\\nOutput: 1000\\n\\nInput: 81 hm; cm\\nOutput:', 'Input: 1441.8; mg; g\\nOutput: 1.4418001\\n\\nInput: 84; kg; g\\nOutput:', 'Input: 1441.8; mg; g\\nOutput: 1.4418001\\n\\nInput: 14300; ms; s\\nOutput:', 'Input: 1441.8; mg; g\\nOutput: 1.4418001\\n\\nInput: 87; s; ns\\nOutput:', 'Input: 1441.8; mg; g\\nOutput: 1.4418001\\n\\nInput: 12.2; dg; mg\\nOutput:', 'Input: 1441.8; mg; g\\nOutput: 1.4418001\\n\\nInput: 1854; dam; dm\\nOutput:', 'Input: 1; nm; mm\\nOutput: 1000\\n\\nInput: 41.8; g; mg\\nOutput:', 'Input: 1; nm; mm\\nOutput: 1000\\n\\nInput: 980; ms; s\\nOutput:', 'Input: 1; nm; mm\\nOutput: 1000\\n\\nInput: 4054; kg; A\\nOutput:', 'Input: 1; nm; mm\\nOutput: 1000\\n\\nInput: 92.26; K; cK\\nOutput:', 'Input: 1; nm; mm\\nOutput: 1000\\n\\nInput: 81; hm; cm\\nOutput:', 'Input: 56.77cl\\nOutput: Volume\\n\\nInput: 84kg\\nOutput:', 'Input: 56.77cl\\nOutput: Volume\\n\\nInput: 39.88 A\\nOutput:', 'Input: 56.77cl\\nOutput: Volume\\n\\nInput: 87 s\\nOutput:', 'Input: 56.77cl\\nOutput: Volume\\n\\nInput: 12.20dg\\nOutput:', 'Input: 56.77cl\\nOutput: Volume\\n\\nInput: 1854 dam\\nOutput:', 'Input: 1nm\\nOutput: Length\\n\\nInput: 41.8g\\nOutput:', 'Input: 1nm\\nOutput: Length\\n\\nInput: 98 ms\\nOutput:', 'Input: 1nm\\nOutput: Length\\n\\nInput: 4054kA\\nOutput:', 'Input: 1nm\\nOutput: Length\\n\\nInput: 92.26 K\\nOutput:', 'Input: 1nm\\nOutput: Length\\n\\nInput: 81 hl\\nOutput:', 'Input: 56.77cl\\nOutput: cl\\n\\nInput: 84Kg\\nOutput:', 'Input: 56.77cl\\nOutput: cl\\n\\nInput: 39.88 A\\nOutput:', 'Input: 56.77cl\\nOutput: cl\\n\\nInput: 87 s\\nOutput:', 'Input: 56.77cl\\nOutput: cl\\n\\nInput: 12.20dg\\nOutput:', 'Input: 56.77cl\\nOutput: cl\\n\\nInput: 1854 dam\\nOutput:', 'Input: 1nm\\nOutput: nm\\n\\nInput: 41.8g\\nOutput:', 'Input: 1nm\\nOutput: nm\\n\\nInput: 98 ms\\nOutput:', 'Input: 1nm\\nOutput: nm\\n\\nInput: 4054kA\\nOutput:', 'Input: 1nm\\nOutput: nm\\n\\nInput: 92.26 K\\nOutput:', 'Input: 1nm\\nOutput: nm\\n\\nInput: 81 hl\\nOutput:', 'Input: 56.77cl\\nOutput: 56.77\\n\\nInput: 84Kg\\nOutput:', 'Input: 56.77cl\\nOutput: 56.77\\n\\nInput: 39.88 A\\nOutput:', 'Input: 56.77cl\\nOutput: 56.77\\n\\nInput: 87 s\\nOutput:', 'Input: 56.77cl\\nOutput: 56.77\\n\\nInput: 12.20dg\\nOutput:', 'Input: 56.77cl\\nOutput: 56.77\\n\\nInput: 1854 dam\\nOutput:', 'Input: 1nm\\nOutput: 1\\n\\nInput: 41.8g\\nOutput:', 'Input: 1nm\\nOutput: 1\\n\\nInput: 98 ms\\nOutput:', 'Input: 1nm\\nOutput: 1\\n\\nInput: 4054kA\\nOutput:', 'Input: 1nm\\nOutput: 1\\n\\nInput: 92.26 K\\nOutput:', 'Input: 1nm\\nOutput: 1\\n\\nInput: 81 hl\\nOutput:']\n"
          ],
          "name": "stdout"
        }
      ]
    },
    {
      "cell_type": "code",
      "metadata": {
        "id": "_TuIi6xDXeju"
      },
      "source": [
        "text_file = open(\"queries.txt\", \"w\")\n",
        "for i in range(0, len(printed_queries)):\n",
        "  text_file.write(repr(printed_queries[i]))\n",
        "text_file.close()"
      ],
      "execution_count": null,
      "outputs": []
    },
    {
      "cell_type": "code",
      "metadata": {
        "id": "mbX2zVu0Vnw8"
      },
      "source": [
        "#Prompt generator - 2 shot\n",
        "\n",
        "queries = [[]]*len(final_problems)\n",
        "common_prompt = [\"\"]*len(final_problems)\n",
        "test_targets2 = [[]]*len(final_problems)\n",
        "\n",
        "trainingNum = 2\n",
        "\n",
        "for i in range(0, len(final_problems)):\n",
        "  #Extract examples from DataFrame \n",
        "  input1 = df.query('dataset == \"' + final_problems[i][0] + '\" and domain == \"' + final_problems[i][1] + '\"')['input_1'].to_list()\n",
        "  input2 = df.query('dataset == \"' + final_problems[i][0] + '\" and domain == \"' + final_problems[i][1] + '\"')['input_2'].to_list()\n",
        "  input3 = df.query('dataset == \"' + final_problems[i][0] + '\" and domain == \"' + final_problems[i][1] + '\"')['input_3'].to_list()\n",
        "  output = df.query('dataset == \"' + final_problems[i][0] + '\" and domain == \"' + final_problems[i][1] + '\"')['expected_output'].to_list()\n",
        "\n",
        "  final_input_1 = []\n",
        "  final_input_2 = []\n",
        "  final_input_3 = []\n",
        "  final_output = []\n",
        "\n",
        "  #Extract\n",
        "\n",
        "  for j in range(trainingNum-1,-1,-1):\n",
        "    final_input_1.append(input1[j])\n",
        "    del input1[j]\n",
        "\n",
        "  for j in range(trainingNum-1,-1,-1):\n",
        "    final_input_2.append(input2[j])\n",
        "    del input2[j]\n",
        "\n",
        "  for j in range(trainingNum-1,-1,-1):\n",
        "    final_input_3.append(input3[j])\n",
        "    del input3[j]\n",
        "\n",
        "  for j in range(trainingNum-1,-1,-1):\n",
        "    final_output.append(output[j])\n",
        "    del output[j]\n",
        "\n",
        "  #Common prompt builder\n",
        "\n",
        "  #If we don't want the task descriptions in the prompt, comment the next line\n",
        "  #common_prompt[i] = task_explanation[i] + \"\\n\\n\"\n",
        "  for j in range(0, trainingNum):\n",
        "      if final_input_2[j] != \"Null\" and final_input_3[j] != \"Null\":\n",
        "        common_prompt[i] = common_prompt[i] + \"Input: \" + str(final_input_1[j]) + \"; \" + str(final_input_2[j]) + \"; \" + str(final_input_3[j]) + \"\\nOutput: \" + str(final_output[j]) + \"\\n\\n\"\n",
        "      elif final_input_2[j] != \"Null\":\n",
        "        common_prompt[i] = common_prompt[i] + \"Input: \" + str(final_input_1[j]) + \"; \" + str(final_input_2[j]) + \"\\nOutput: \" + str(final_output[j]) + \"\\n\\n\"\n",
        "      else:\n",
        "        common_prompt[i] = common_prompt[i] = common_prompt[i] + \"Input: \" + str(final_input_1[j]) + \"\\nOutput: \" + str(final_output[j]) + \"\\n\\n\"\n",
        "\n",
        "\n",
        "  #Queries building\n",
        "\n",
        "  queries[i] = [\"\"]*len(input1)\n",
        "  test_targets2[i] = [\"\"]*len(input1)\n",
        "\n",
        "  for j in range(0, len(input1)):\n",
        "      if input2[j] != \"Null\" and input3[j] != \"Null\":\n",
        "        queries[i][j] = common_prompt[i] + \"Input: \" + str(input1[j]) + \"; \" + str(input2[j]) + \"; \" + str(input3[j]) + \"\\nOutput:\"\n",
        "      elif input2[j] != \"Null\":\n",
        "        queries[i][j] = common_prompt[i] + \"Input: \" + str(input1[j]) + \"; \" + str(input2[j]) + \"\\nOutput:\"\n",
        "      else:\n",
        "        queries[i][j] = common_prompt[i] + \"Input: \" + str(input1[j]) + \"\\nOutput:\"\n",
        "\n",
        "      test_targets2[i][j] = output[j]\n",
        "\n",
        "\n",
        "  \n",
        "  "
      ],
      "execution_count": null,
      "outputs": []
    },
    {
      "cell_type": "code",
      "metadata": {
        "colab": {
          "base_uri": "https://localhost:8080/"
        },
        "id": "kZDg0pNZX5nc",
        "outputId": "c907ef0c-0189-4cb7-8baf-54f5767c6b37"
      },
      "source": [
        "printed_queries = []\n",
        "for i in range(0, len(queries)):\n",
        "  for j in range(0, len(queries[i])):\n",
        "    printed_queries.append(queries[i][j])\n",
        "\n",
        "print(printed_queries)"
      ],
      "execution_count": null,
      "outputs": [
        {
          "output_type": "stream",
          "text": [
            "['Input: 250374\\nOutput: 25-03-74\\n\\nInput: 290386\\nOutput: 29-03-86\\n\\nInput: 170615\\nOutput:', 'Input: 250374\\nOutput: 25-03-74\\n\\nInput: 290386\\nOutput: 29-03-86\\n\\nInput: 170905\\nOutput:', 'Input: 250374\\nOutput: 25-03-74\\n\\nInput: 290386\\nOutput: 29-03-86\\n\\nInput: 241206\\nOutput:', 'Input: 250374\\nOutput: 25-03-74\\n\\nInput: 290386\\nOutput: 29-03-86\\n\\nInput: 290607\\nOutput:', 'Input: 90508\\nOutput: 09-05-08\\n\\nInput: 121099\\nOutput: 12-10-99\\n\\nInput: 31108\\nOutput:', 'Input: 90508\\nOutput: 09-05-08\\n\\nInput: 121099\\nOutput: 12-10-99\\n\\nInput: 91011\\nOutput:', 'Input: 90508\\nOutput: 09-05-08\\n\\nInput: 121099\\nOutput: 12-10-99\\n\\nInput: 290895\\nOutput:', 'Input: 90508\\nOutput: 09-05-08\\n\\nInput: 121099\\nOutput: 12-10-99\\n\\nInput: 180413\\nOutput:', 'Input: 2010-06-27\\nOutput: 27/06/2010\\n\\nInput: 20.08.2010\\nOutput: 08/20/2010\\n\\nInput: 24/09/1984\\nOutput:', 'Input: 2010-06-27\\nOutput: 27/06/2010\\n\\nInput: 20.08.2010\\nOutput: 08/20/2010\\n\\nInput: 13-03-1986\\nOutput:', 'Input: 2010-06-27\\nOutput: 27/06/2010\\n\\nInput: 20.08.2010\\nOutput: 08/20/2010\\n\\nInput: 17/06/1989\\nOutput:', 'Input: 2010-06-27\\nOutput: 27/06/2010\\n\\nInput: 20.08.2010\\nOutput: 08/20/2010\\n\\nInput: 1990.18.01\\nOutput:', 'Input: 2001-30-01\\nOutput: 01/30/2001\\n\\nInput: 09/05/1991\\nOutput: 09/05/1991\\n\\nInput: 29-05-2001\\nOutput:', 'Input: 2001-30-01\\nOutput: 01/30/2001\\n\\nInput: 09/05/1991\\nOutput: 09/05/1991\\n\\nInput: 23.08.2010\\nOutput:', 'Input: 2001-30-01\\nOutput: 01/30/2001\\n\\nInput: 09/05/1991\\nOutput: 09/05/1991\\n\\nInput: 28-10-2001\\nOutput:', 'Input: 2001-30-01\\nOutput: 01/30/2001\\n\\nInput: 09/05/1991\\nOutput: 09/05/1991\\n\\nInput: 16/02/2010\\nOutput:', 'Input: 04/12/1990\\nOutput: 12/04/1990\\n\\nInput: 03/29/86\\nOutput: 29/03/86\\n\\nInput: 26/93/02\\nOutput:', 'Input: 04/12/1990\\nOutput: 12/04/1990\\n\\nInput: 03/29/86\\nOutput: 29/03/86\\n\\nInput: 02-19-1998\\nOutput:', 'Input: 04/12/1990\\nOutput: 12/04/1990\\n\\nInput: 03/29/86\\nOutput: 29/03/86\\n\\nInput: 99/09/03\\nOutput:', 'Input: 04/12/1990\\nOutput: 12/04/1990\\n\\nInput: 03/29/86\\nOutput: 29/03/86\\n\\nInput: 06-04-2001\\nOutput:', 'Input: 10/15/2002\\nOutput: 15-10-2002\\n\\nInput: 74-03-31\\nOutput: 31-03-74\\n\\nInput: 09-29-2015\\nOutput:', 'Input: 10/15/2002\\nOutput: 15-10-2002\\n\\nInput: 74-03-31\\nOutput: 31-03-74\\n\\nInput: 05-01-2017\\nOutput:', 'Input: 10/15/2002\\nOutput: 15-10-2002\\n\\nInput: 74-03-31\\nOutput: 31-03-74\\n\\nInput: 08-07-2017\\nOutput:', 'Input: 10/15/2002\\nOutput: 15-10-2002\\n\\nInput: 74-03-31\\nOutput: 31-03-74\\n\\nInput: 02/26/1993\\nOutput:', 'Input: 12/10/99\\nOutput: 12-10-99\\n\\nInput: 29/03/86\\nOutput: 29-03-86\\n\\nInput: 11.02.96\\nOutput:', 'Input: 12/10/99\\nOutput: 12-10-99\\n\\nInput: 29/03/86\\nOutput: 29-03-86\\n\\nInput: 17/05/17\\nOutput:', 'Input: 12/10/99\\nOutput: 12-10-99\\n\\nInput: 29/03/86\\nOutput: 29-03-86\\n\\nInput: 25-08-85\\nOutput:', 'Input: 12/10/99\\nOutput: 12-10-99\\n\\nInput: 29/03/86\\nOutput: 29-03-86\\n\\nInput: 30 06 75\\nOutput:', 'Input: 24/02/88\\nOutput: 24-02-88\\n\\nInput: 25/03/74\\nOutput: 25-03-74\\n\\nInput: 22/10/97\\nOutput:', 'Input: 24/02/88\\nOutput: 24-02-88\\n\\nInput: 25/03/74\\nOutput: 25-03-74\\n\\nInput: 17.10.65\\nOutput:', 'Input: 24/02/88\\nOutput: 24-02-88\\n\\nInput: 25/03/74\\nOutput: 25-03-74\\n\\nInput: 23/11/18\\nOutput:', 'Input: 24/02/88\\nOutput: 24-02-88\\n\\nInput: 25/03/74\\nOutput: 25-03-74\\n\\nInput: 29-12-95\\nOutput:', 'Input: 74-03-31\\nOutput: 31\\n\\nInput: 03/29/86\\nOutput: 29\\n\\nInput: 99/12/13\\nOutput:', 'Input: 74-03-31\\nOutput: 31\\n\\nInput: 03/29/86\\nOutput: 29\\n\\nInput: 11.02.96\\nOutput:', 'Input: 74-03-31\\nOutput: 31\\n\\nInput: 03/29/86\\nOutput: 29\\n\\nInput: 31/05/17\\nOutput:', 'Input: 74-03-31\\nOutput: 31\\n\\nInput: 03/29/86\\nOutput: 29\\n\\nInput: 25-08-85\\nOutput:', 'Input: 02/05/2012\\nOutput: 2\\n\\nInput: 09/08/2007\\nOutput: 9\\n\\nInput: 28/10/2013\\nOutput:', 'Input: 02/05/2012\\nOutput: 2\\n\\nInput: 09/08/2007\\nOutput: 9\\n\\nInput: 16/01/2017\\nOutput:', 'Input: 02/05/2012\\nOutput: 2\\n\\nInput: 09/08/2007\\nOutput: 9\\n\\nInput: 01/09/2017\\nOutput:', 'Input: 02/05/2012\\nOutput: 2\\n\\nInput: 09/08/2007\\nOutput: 9\\n\\nInput: 13/11/2017\\nOutput:', 'Input: 24/02/88\\nOutput: 24\\n\\nInput: 25/03/74\\nOutput: 25\\n\\nInput: 22/10/97\\nOutput:', 'Input: 24/02/88\\nOutput: 24\\n\\nInput: 25/03/74\\nOutput: 25\\n\\nInput: 17.10.65\\nOutput:', 'Input: 24/02/88\\nOutput: 24\\n\\nInput: 25/03/74\\nOutput: 25\\n\\nInput: 23/11/18\\nOutput:', 'Input: 24/02/88\\nOutput: 24\\n\\nInput: 25/03/74\\nOutput: 25\\n\\nInput: 29-12-95\\nOutput:', 'Input: 12/99/13\\nOutput: 13th\\n\\nInput: 3/29/86\\nOutput: 29th\\n\\nInput: 10 12 69\\nOutput:', 'Input: 12/99/13\\nOutput: 13th\\n\\nInput: 3/29/86\\nOutput: 29th\\n\\nInput: 04/05/99\\nOutput:', 'Input: 12/99/13\\nOutput: 13th\\n\\nInput: 3/29/86\\nOutput: 29th\\n\\nInput: 31/03/75\\nOutput:', 'Input: 12/99/13\\nOutput: 13th\\n\\nInput: 3/29/86\\nOutput: 29th\\n\\nInput: 09/11/53\\nOutput:', 'Input: 27/03/84\\nOutput: 27th\\n\\nInput: 01/04/2005\\nOutput: 1st\\n\\nInput: 03/06/90\\nOutput:', 'Input: 27/03/84\\nOutput: 27th\\n\\nInput: 01/04/2005\\nOutput: 1st\\n\\nInput: 27/07/2007\\nOutput:', 'Input: 27/03/84\\nOutput: 27th\\n\\nInput: 01/04/2005\\nOutput: 1st\\n\\nInput: 05/09/2008\\nOutput:', 'Input: 27/03/84\\nOutput: 27th\\n\\nInput: 01/04/2005\\nOutput: 1st\\n\\nInput: 12/05/2011\\nOutput:', 'Input: 13 November 2008\\nOutput: November\\n\\nInput: 2 of September of 2010, Monday\\nOutput: September\\n\\nInput: 6 December 2017\\nOutput:', 'Input: 13 November 2008\\nOutput: November\\n\\nInput: 2 of September of 2010, Monday\\nOutput: September\\n\\nInput: June 23, 2007\\nOutput:', 'Input: 13 November 2008\\nOutput: November\\n\\nInput: 2 of September of 2010, Monday\\nOutput: September\\n\\nInput: February 4, 2008\\nOutput:', 'Input: 13 November 2008\\nOutput: November\\n\\nInput: 2 of September of 2010, Monday\\nOutput: September\\n\\nInput: Thursday, October 31, 1985\\nOutput:', 'Input: Tuesday, September 16, 1986\\nOutput: September\\n\\nInput: Monday, June 21, 1999\\nOutput: June\\n\\nInput: March 21, 2004\\nOutput:', 'Input: Tuesday, September 16, 1986\\nOutput: September\\n\\nInput: Monday, June 21, 1999\\nOutput: June\\n\\nInput: 3 August 2009\\nOutput:', 'Input: Tuesday, September 16, 1986\\nOutput: September\\n\\nInput: Monday, June 21, 1999\\nOutput: June\\n\\nInput: Sunday, August 25, 1996\\nOutput:', 'Input: Tuesday, September 16, 1986\\nOutput: September\\n\\nInput: Monday, June 21, 1999\\nOutput: June\\n\\nInput: Saturday, August 2, 2008\\nOutput:', 'Input: 2 of September of 2010, Monday\\nOutput: Monday\\n\\nInput: Sunday, 9 November 2014\\nOutput: Sunday\\n\\nInput: Wednesday, 15 October 2003\\nOutput:', 'Input: 2 of September of 2010, Monday\\nOutput: Monday\\n\\nInput: Sunday, 9 November 2014\\nOutput: Sunday\\n\\nInput: Saturday, 21 April 2007\\nOutput:', 'Input: 2 of September of 2010, Monday\\nOutput: Monday\\n\\nInput: Sunday, 9 November 2014\\nOutput: Sunday\\n\\nInput: Sunday, 15 March 2009\\nOutput:', 'Input: 2 of September of 2010, Monday\\nOutput: Monday\\n\\nInput: Sunday, 9 November 2014\\nOutput: Sunday\\n\\nInput: Sunday, 29 November 2009\\nOutput:', 'Input: Friday, 25 November 2011\\nOutput: Friday\\n\\nInput: Friday, 4 June 2010\\nOutput: Friday\\n\\nInput: Saturday, 30 November 2013\\nOutput:', 'Input: Friday, 25 November 2011\\nOutput: Friday\\n\\nInput: Friday, 4 June 2010\\nOutput: Friday\\n\\nInput: Thursday, 5 June 2014\\nOutput:', 'Input: Friday, 25 November 2011\\nOutput: Friday\\n\\nInput: Friday, 4 June 2010\\nOutput: Friday\\n\\nInput: Tuesday, 16 May 2017\\nOutput:', 'Input: Friday, 25 November 2011\\nOutput: Friday\\n\\nInput: Friday, 4 June 2010\\nOutput: Friday\\n\\nInput: Monday, 17 December 2018\\nOutput:', 'Input: 15/02/84\\nOutput: Feb\\n\\nInput: 3/29/86\\nOutput: Mar\\n\\nInput: 11/30/2017\\nOutput:', 'Input: 15/02/84\\nOutput: Feb\\n\\nInput: 3/29/86\\nOutput: Mar\\n\\nInput: 28/12/2004\\nOutput:', 'Input: 15/02/84\\nOutput: Feb\\n\\nInput: 3/29/86\\nOutput: Mar\\n\\nInput: 03/06/2007\\nOutput:', 'Input: 15/02/84\\nOutput: Feb\\n\\nInput: 3/29/86\\nOutput: Mar\\n\\nInput: 08/22/2010\\nOutput:', 'Input: 31/08/2010\\nOutput: Aug\\n\\nInput: 05/08/98\\nOutput: May\\n\\nInput: 03/18/2014\\nOutput:', 'Input: 31/08/2010\\nOutput: Aug\\n\\nInput: 05/08/98\\nOutput: May\\n\\nInput: 07/05/95\\nOutput:', 'Input: 31/08/2010\\nOutput: Aug\\n\\nInput: 05/08/98\\nOutput: May\\n\\nInput: 11/06/2016\\nOutput:', 'Input: 31/08/2010\\nOutput: Aug\\n\\nInput: 05/08/98\\nOutput: May\\n\\nInput: 14/06/2017\\nOutput:', 'Input: 20021015\\nOutput: 15-10-2002\\n\\nInput: 20040717\\nOutput: 17-07-2004\\n\\nInput: 9292015\\nOutput:', 'Input: 20021015\\nOutput: 15-10-2002\\n\\nInput: 20040717\\nOutput: 17-07-2004\\n\\nInput: 5012017\\nOutput:', 'Input: 20021015\\nOutput: 15-10-2002\\n\\nInput: 20040717\\nOutput: 17-07-2004\\n\\nInput: 8072017\\nOutput:', 'Input: 20021015\\nOutput: 15-10-2002\\n\\nInput: 20040717\\nOutput: 17-07-2004\\n\\nInput: 2261993\\nOutput:', 'Input: 8311990\\nOutput: 31/08/1990\\n\\nInput: 11251989\\nOutput: 25/11/1989\\n\\nInput: 6171994\\nOutput:', 'Input: 8311990\\nOutput: 31/08/1990\\n\\nInput: 11251989\\nOutput: 25/11/1989\\n\\nInput: 6281996\\nOutput:', 'Input: 8311990\\nOutput: 31/08/1990\\n\\nInput: 11251989\\nOutput: 25/11/1989\\n\\nInput: 8222000\\nOutput:', 'Input: 8311990\\nOutput: 31/08/1990\\n\\nInput: 11251989\\nOutput: 25/11/1989\\n\\nInput: 11202001\\nOutput:', 'Input: Logan;  domain\\nOutput: Logan@domain.com\\n\\nInput: Sophia;  domain\\nOutput: Sophia@domain.com\\n\\nInput: Lucas;  domain\\nOutput:', 'Input: Logan;  domain\\nOutput: Logan@domain.com\\n\\nInput: Sophia;  domain\\nOutput: Sophia@domain.com\\n\\nInput: Audrey;  domain\\nOutput:', 'Input: Logan;  domain\\nOutput: Logan@domain.com\\n\\nInput: Sophia;  domain\\nOutput: Sophia@domain.com\\n\\nInput: Amelia;  domain\\nOutput:', 'Input: Logan;  domain\\nOutput: Logan@domain.com\\n\\nInput: Sophia;  domain\\nOutput: Sophia@domain.com\\n\\nInput: Laila; domain\\nOutput:', 'Input: aamedo; hecsa\\nOutput: aamedo@hecsa.com\\n\\nInput: bad; girl\\nOutput: bad@girl.com\\n\\nInput: elizabeth; gmail\\nOutput:', 'Input: aamedo; hecsa\\nOutput: aamedo@hecsa.com\\n\\nInput: bad; girl\\nOutput: bad@girl.com\\n\\nInput: carnes; hotmail\\nOutput:', 'Input: aamedo; hecsa\\nOutput: aamedo@hecsa.com\\n\\nInput: bad; girl\\nOutput: bad@girl.com\\n\\nInput: agada; petrok\\nOutput:', 'Input: aamedo; hecsa\\nOutput: aamedo@hecsa.com\\n\\nInput: bad; girl\\nOutput: bad@girl.com\\n\\nInput: joypao; hotmail\\nOutput:', 'Input: arquitecto; gmail\\nOutput: arquitecto@gmail.com\\n\\nInput: carlos; gmail\\nOutput: carlos@gmail.com\\n\\nInput: masenjo; gmail\\nOutput:', 'Input: arquitecto; gmail\\nOutput: arquitecto@gmail.com\\n\\nInput: carlos; gmail\\nOutput: carlos@gmail.com\\n\\nInput: Sergio; adretail\\nOutput:', 'Input: arquitecto; gmail\\nOutput: arquitecto@gmail.com\\n\\nInput: carlos; gmail\\nOutput: carlos@gmail.com\\n\\nInput: casper; canal13\\nOutput:', 'Input: arquitecto; gmail\\nOutput: arquitecto@gmail.com\\n\\nInput: carlos; gmail\\nOutput: carlos@gmail.com\\n\\nInput: banto; gmail\\nOutput:', 'Input: iabetrae@yahoo.es\\nOutput: yahoo.es\\n\\nInput: TheStupidGamer@gmail.com\\nOutput: gmail.com\\n\\nInput: medrlanes@hotmail.com\\nOutput:', 'Input: iabetrae@yahoo.es\\nOutput: yahoo.es\\n\\nInput: TheStupidGamer@gmail.com\\nOutput: gmail.com\\n\\nInput: osaeswca@hotmail.com\\nOutput:', 'Input: iabetrae@yahoo.es\\nOutput: yahoo.es\\n\\nInput: TheStupidGamer@gmail.com\\nOutput: gmail.com\\n\\nInput: caedgigo@garmendia.cl\\nOutput:', 'Input: iabetrae@yahoo.es\\nOutput: yahoo.es\\n\\nInput: TheStupidGamer@gmail.com\\nOutput: gmail.com\\n\\nInput: Sb.edhxo.sk8@hotmail.com\\nOutput:', 'Input: cawdvguileram@hotmail.com \\nOutput: hotmail.com\\n\\nInput: fedn.arll@live.cl\\nOutput: live.cl\\n\\nInput: ikxvgrojo@hotmail.com\\nOutput:', 'Input: cawdvguileram@hotmail.com \\nOutput: hotmail.com\\n\\nInput: fedn.arll@live.cl\\nOutput: live.cl\\n\\nInput: dala_aguera_m500@hotmail.com\\nOutput:', 'Input: cawdvguileram@hotmail.com \\nOutput: hotmail.com\\n\\nInput: fedn.arll@live.cl\\nOutput: live.cl\\n\\nInput: viceala@hotmail.com\\nOutput:', 'Input: cawdvguileram@hotmail.com \\nOutput: hotmail.com\\n\\nInput: fedn.arll@live.cl\\nOutput: live.cl\\n\\nInput: alter3@hotmail.com\\nOutput:', 'Input: apalyusg@hotmail.com\\nOutput: hotmail.com\\n\\nInput: capseguilera@hotmail.com\\nOutput: hotmail.com\\n\\nInput: niertox__@hotmail.com\\nOutput:', 'Input: apalyusg@hotmail.com\\nOutput: hotmail.com\\n\\nInput: capseguilera@hotmail.com\\nOutput: hotmail.com\\n\\nInput: luuuddi@hotmail.com\\nOutput:', 'Input: apalyusg@hotmail.com\\nOutput: hotmail.com\\n\\nInput: capseguilera@hotmail.com\\nOutput: hotmail.com\\n\\nInput: krrt_sirre_ss@hotmail.com\\nOutput:', 'Input: apalyusg@hotmail.com\\nOutput: hotmail.com\\n\\nInput: capseguilera@hotmail.com\\nOutput: hotmail.com\\n\\nInput: masin@hotmail.com\\nOutput:', 'Input: Andrew.Cencici@northwindtraders.com\\nOutput: Cencici\\n\\nInput: Nancy.FreeHafer@fourthcoffee.com\\nOutput: FreeHafer\\n\\nInput: Jan.Kotas@litwareinc.com\\nOutput:', 'Input: Andrew.Cencici@northwindtraders.com\\nOutput: Cencici\\n\\nInput: Nancy.FreeHafer@fourthcoffee.com\\nOutput: FreeHafer\\n\\nInput: Mariya.Sergienko@gradicdesigninstitute.com\\nOutput:', 'Input: Andrew.Cencici@northwindtraders.com\\nOutput: Cencici\\n\\nInput: Nancy.FreeHafer@fourthcoffee.com\\nOutput: FreeHafer\\n\\nInput: Steven.Thorpe@northwindtraders.com\\nOutput:', 'Input: Andrew.Cencici@northwindtraders.com\\nOutput: Cencici\\n\\nInput: Nancy.FreeHafer@fourthcoffee.com\\nOutput: FreeHafer\\n\\nInput: Michael.Neipper@northwindtraders.com\\nOutput:', 'Input: Laura.Giussani@adventure-works.com\\nOutput: Giussani\\n\\nInput: Robert.Zare@northwindtraders.com\\nOutput: Zare\\n\\nInput: Anne.Hill@northwindtraders.com\\nOutput:', 'Input: Laura.Giussani@adventure-works.com\\nOutput: Giussani\\n\\nInput: Robert.Zare@northwindtraders.com\\nOutput: Zare\\n\\nInput: Alexander.David@contoso.com\\nOutput:', 'Input: Laura.Giussani@adventure-works.com\\nOutput: Giussani\\n\\nInput: Robert.Zare@northwindtraders.com\\nOutput: Zare\\n\\nInput: Kim.Shane@northwindtraders.com\\nOutput:', 'Input: Laura.Giussani@adventure-works.com\\nOutput: Giussani\\n\\nInput: Robert.Zare@northwindtraders.com\\nOutput: Zare\\n\\nInput: Manish.Chopra@northwindtraders.com\\nOutput:', 'Input: Amr.Zaki@northwindtraders.com\\nOutput: Zaki\\n\\nInput: Gerwald.Oberleitner@northwindtraders.com\\nOutput: Oberleitner\\n\\nInput: Yvonne.McKay@northwindtraders.com\\nOutput:', 'Input: Amr.Zaki@northwindtraders.com\\nOutput: Zaki\\n\\nInput: Gerwald.Oberleitner@northwindtraders.com\\nOutput: Oberleitner\\n\\nInput: Amanda.Pinto@northwindtraders.com\\nOutput:', 'Input: Amr.Zaki@northwindtraders.com\\nOutput: Zaki\\n\\nInput: Gerwald.Oberleitner@northwindtraders.com\\nOutput: Oberleitner\\n\\nInput: krrt.sirre@hotmail.com\\nOutput:', 'Input: Amr.Zaki@northwindtraders.com\\nOutput: Zaki\\n\\nInput: Gerwald.Oberleitner@northwindtraders.com\\nOutput: Oberleitner\\n\\nInput: masin.a@hotmail.com\\nOutput:', 'Input: 09:50-08:30\\nOutput: 08:30\\n\\nInput: 09:40-09:50\\nOutput: 09:50\\n\\nInput: 09:50-09:55\\nOutput:', 'Input: 09:50-08:30\\nOutput: 08:30\\n\\nInput: 09:40-09:50\\nOutput: 09:50\\n\\nInput: 05:50-06:30\\nOutput:', 'Input: 09:50-08:30\\nOutput: 08:30\\n\\nInput: 09:40-09:50\\nOutput: 09:50\\n\\nInput: 06:50-07:30\\nOutput:', 'Input: 09:50-08:30\\nOutput: 08:30\\n\\nInput: 09:40-09:50\\nOutput: 09:50\\n\\nInput: 08:50-09:30\\nOutput:', 'Input: 08:30-09:50\\nOutput: 09:50\\n\\nInput: 09:50-09:40\\nOutput: 09:40\\n\\nInput: 09:50-09:55\\nOutput:', 'Input: 08:30-09:50\\nOutput: 09:50\\n\\nInput: 09:50-09:40\\nOutput: 09:40\\n\\nInput: 05:50-06:30\\nOutput:', 'Input: 08:30-09:50\\nOutput: 09:50\\n\\nInput: 09:50-09:40\\nOutput: 09:40\\n\\nInput: 06:40-05:30\\nOutput:', 'Input: 08:30-09:50\\nOutput: 09:50\\n\\nInput: 09:50-09:40\\nOutput: 09:40\\n\\nInput: 06:30-03:30\\nOutput:', 'Input: 05.03.2010; in_5mar10.log\\nOutput: 5mar10\\n\\nInput: 09/08/2011; us_8sep11.log\\nOutput: 8sep11\\n\\nInput: 11/23/2011; us_23nov11.log\\nOutput:', 'Input: 05.03.2010; in_5mar10.log\\nOutput: 5mar10\\n\\nInput: 09/08/2011; us_8sep11.log\\nOutput: 8sep11\\n\\nInput: 09.08.2010; in_9aug10.log\\nOutput:', 'Input: 05.03.2010; in_5mar10.log\\nOutput: 5mar10\\n\\nInput: 09/08/2011; us_8sep11.log\\nOutput: 8sep11\\n\\nInput: 14.09.2010; in_14sep10.log\\nOutput:', 'Input: 05.03.2010; in_5mar10.log\\nOutput: 5mar10\\n\\nInput: 09/08/2011; us_8sep11.log\\nOutput: 8sep11\\n\\nInput: 06/15/2011; us_15jun11.log\\nOutput:', 'Input: 04.02.2010; in_4feb10.log\\nOutput: 4feb10\\n\\nInput: 09/12/2014; us_12sep14.log\\nOutput: 12sep14\\n\\nInput: 09/24/2011; us_24sep11.log\\nOutput:', 'Input: 04.02.2010; in_4feb10.log\\nOutput: 4feb10\\n\\nInput: 09/12/2014; us_12sep14.log\\nOutput: 12sep14\\n\\nInput: 07.12.2011; in_7dec11.log\\nOutput:', 'Input: 04.02.2010; in_4feb10.log\\nOutput: 4feb10\\n\\nInput: 09/12/2014; us_12sep14.log\\nOutput: 12sep14\\n\\nInput: 08.11.2010; in_8nov10.log\\nOutput:', 'Input: 04.02.2010; in_4feb10.log\\nOutput: 4feb10\\n\\nInput: 09/12/2014; us_12sep14.log\\nOutput: 12sep14\\n\\nInput: 07/12/2011; us_7dec11.log\\nOutput:', 'Input: [CPT-00340\\nOutput: [CPT-00340]\\n\\nInput: [CPT-00350\\nOutput: [CPT-00350]\\n\\nInput: CPT-00350]\\nOutput:', 'Input: [CPT-00340\\nOutput: [CPT-00340]\\n\\nInput: [CPT-00350\\nOutput: [CPT-00350]\\n\\nInput: [CPT-00340]\\nOutput:', 'Input: [CPT-00340\\nOutput: [CPT-00340]\\n\\nInput: [CPT-00350\\nOutput: [CPT-00350]\\n\\nInput: CPT-00350\\nOutput:', 'Input: [CPT-00340\\nOutput: [CPT-00340]\\n\\nInput: [CPT-00350\\nOutput: [CPT-00350]\\n\\nInput: CPT-00340]\\nOutput:', 'Input: [ullamcorper-234\\nOutput: [ullamcorper-234]\\n\\nInput: [Phasellus-234\\nOutput: [Phasellus-234]\\n\\nInput: pharetra-2345]\\nOutput:', 'Input: [ullamcorper-234\\nOutput: [ullamcorper-234]\\n\\nInput: [Phasellus-234\\nOutput: [Phasellus-234]\\n\\nInput: odio-345]\\nOutput:', 'Input: [ullamcorper-234\\nOutput: [ullamcorper-234]\\n\\nInput: [Phasellus-234\\nOutput: [Phasellus-234]\\n\\nInput: [eu-345\\nOutput:', 'Input: [ullamcorper-234\\nOutput: [ullamcorper-234]\\n\\nInput: [Phasellus-234\\nOutput: [Phasellus-234]\\n\\nInput: iaculis-345\\nOutput:', 'Input: 1-503-897-4567\\nOutput: 15038974567\\n\\nInput: 1-452-789-4567\\nOutput: 14527894567\\n\\nInput: 1-408-789-4561\\nOutput:', 'Input: 1-503-897-4567\\nOutput: 15038974567\\n\\nInput: 1-452-789-4567\\nOutput: 14527894567\\n\\nInput: 1-406-789-1562\\nOutput:', 'Input: 1-503-897-4567\\nOutput: 15038974567\\n\\nInput: 1-452-789-4567\\nOutput: 14527894567\\n\\nInput: 1-845-456-7891\\nOutput:', 'Input: 1-503-897-4567\\nOutput: 15038974567\\n\\nInput: 1-452-789-4567\\nOutput: 14527894567\\n\\nInput: 1-845-333-7891\\nOutput:', 'Input: 1-4568\\nOutput: 14568\\n\\nInput: 1-4565\\nOutput: 14565\\n\\nInput: 1-4569\\nOutput:', 'Input: 1-4568\\nOutput: 14568\\n\\nInput: 1-4565\\nOutput: 14565\\n\\nInput: 1-1562\\nOutput:', 'Input: 1-4568\\nOutput: 14568\\n\\nInput: 1-4565\\nOutput: 14565\\n\\nInput: 1-7891\\nOutput:', 'Input: 1-4568\\nOutput: 14568\\n\\nInput: 1-4565\\nOutput: 14565\\n\\nInput: 1-7892\\nOutput:', 'Input: Morbi fermentum sem sit amet nibh mattis semper.\\nOutput: Morbifermentumsemsitametnibhmattissemper\\n\\nInput: Integer pulvinar felis sit amet venenatis consequat.\\nOutput: Integerpulvinarfelissitametvenenatisconsequat\\n\\nInput: Nam vitae orci quis nunc sodales rutrum sit amet dictum mi.\\nOutput:', 'Input: Morbi fermentum sem sit amet nibh mattis semper.\\nOutput: Morbifermentumsemsitametnibhmattissemper\\n\\nInput: Integer pulvinar felis sit amet venenatis consequat.\\nOutput: Integerpulvinarfelissitametvenenatisconsequat\\n\\nInput: Sed convallis diam imperdiet urna tincidunt consectetur.\\nOutput:', 'Input: Morbi fermentum sem sit amet nibh mattis semper.\\nOutput: Morbifermentumsemsitametnibhmattissemper\\n\\nInput: Integer pulvinar felis sit amet venenatis consequat.\\nOutput: Integerpulvinarfelissitametvenenatisconsequat\\n\\nInput: Etiam dapibus tortor sed cursus blandit.\\nOutput:', 'Input: Morbi fermentum sem sit amet nibh mattis semper.\\nOutput: Morbifermentumsemsitametnibhmattissemper\\n\\nInput: Integer pulvinar felis sit amet venenatis consequat.\\nOutput: Integerpulvinarfelissitametvenenatisconsequat\\n\\nInput: Quisque mattis dolor ac metus fermentum consectetur.\\nOutput:', 'Input: Donec blandit orci at purus lobortis ornare.\\nOutput: Donecblanditorciatpuruslobortisornare\\n\\nInput: Lorem ipsum dolor sit amet, consectetur adipiscing elit.\\nOutput: Loremipsumdolorsitametconsecteturadipiscingelit\\n\\nInput: Vestibulum dignissim orci quis auctor finibus.\\nOutput:', 'Input: Donec blandit orci at purus lobortis ornare.\\nOutput: Donecblanditorciatpuruslobortisornare\\n\\nInput: Lorem ipsum dolor sit amet, consectetur adipiscing elit.\\nOutput: Loremipsumdolorsitametconsecteturadipiscingelit\\n\\nInput: Praesent sed ipsum euismod, tempor dolor at, varius leo.\\nOutput:', 'Input: Donec blandit orci at purus lobortis ornare.\\nOutput: Donecblanditorciatpuruslobortisornare\\n\\nInput: Lorem ipsum dolor sit amet, consectetur adipiscing elit.\\nOutput: Loremipsumdolorsitametconsecteturadipiscingelit\\n\\nInput: Integer malesuada elit et hendrerit fermentum.\\nOutput:', 'Input: Donec blandit orci at purus lobortis ornare.\\nOutput: Donecblanditorciatpuruslobortisornare\\n\\nInput: Lorem ipsum dolor sit amet, consectetur adipiscing elit.\\nOutput: Loremipsumdolorsitametconsecteturadipiscingelit\\n\\nInput: Pellentesque tempor justo a dui varius maximus.\\nOutput:', 'Input: Phasellus tempus lectus sit amet nisl ultricies eget pretium odio semper\\nOutput: Phasellustempuslectussitametnislultriciesegetpretiumodiosemper\\n\\nInput: Sed quis nibh a metus ultricies commodo eu sit amet sem\\nOutput: Sedquisnibhametusultriciescommodoeusitametsem\\n\\nInput: Aenean ultrices dolor eu aliquam sollicitudin\\nOutput:', 'Input: Phasellus tempus lectus sit amet nisl ultricies eget pretium odio semper\\nOutput: Phasellustempuslectussitametnislultriciesegetpretiumodiosemper\\n\\nInput: Sed quis nibh a metus ultricies commodo eu sit amet sem\\nOutput: Sedquisnibhametusultriciescommodoeusitametsem\\n\\nInput: Vivamus elementum tellus et mattis dapibus\\nOutput:', 'Input: Phasellus tempus lectus sit amet nisl ultricies eget pretium odio semper\\nOutput: Phasellustempuslectussitametnislultriciesegetpretiumodiosemper\\n\\nInput: Sed quis nibh a metus ultricies commodo eu sit amet sem\\nOutput: Sedquisnibhametusultriciescommodoeusitametsem\\n\\nInput: Mauris fringilla neque nec libero consequat quis facilisis nisi tristique\\nOutput:', 'Input: Phasellus tempus lectus sit amet nisl ultricies eget pretium odio semper\\nOutput: Phasellustempuslectussitametnislultriciesegetpretiumodiosemper\\n\\nInput: Sed quis nibh a metus ultricies commodo eu sit amet sem\\nOutput: Sedquisnibhametusultriciescommodoeusitametsem\\n\\nInput: Nam cursus purus nec mi maximus fermentum\\nOutput:', 'Input: DRY NDL 0.23 KG\\nOutput: 0.23 KG\\n\\nInput: CAMP DRY DBL NDL 3.6 OZ\\nOutput: 3.6 OZ\\n\\nInput: BTR KRNL WK CORN 15Z\\nOutput:', 'Input: DRY NDL 0.23 KG\\nOutput: 0.23 KG\\n\\nInput: CAMP DRY DBL NDL 3.6 OZ\\nOutput: 3.6 OZ\\n\\nInput: CHORE BOY HD SC SPNG 1 PK\\nOutput:', 'Input: DRY NDL 0.23 KG\\nOutput: 0.23 KG\\n\\nInput: CAMP DRY DBL NDL 3.6 OZ\\nOutput: 3.6 OZ\\n\\nInput: FRENCH WORCESTERSHIRE 5 Z\\nOutput:', 'Input: DRY NDL 0.23 KG\\nOutput: 0.23 KG\\n\\nInput: CAMP DRY DBL NDL 3.6 OZ\\nOutput: 3.6 OZ\\n\\nInput: O F TOMATO PASTE 6 OZ\\nOutput:', 'Input: female\\nOutput: f\\n\\nInput: male\\nOutput: m\\n\\nInput: hombre\\nOutput:', 'Input: female\\nOutput: f\\n\\nInput: male\\nOutput: m\\n\\nInput: mujer\\nOutput:', 'Input: female\\nOutput: f\\n\\nInput: male\\nOutput: m\\n\\nInput: doctor\\nOutput:', 'Input: female\\nOutput: f\\n\\nInput: male\\nOutput: m\\n\\nInput: professional\\nOutput:', 'Input: molestie\\nOutput: m\\n\\nInput: ac\\nOutput: a\\n\\nInput: magna\\nOutput:', 'Input: molestie\\nOutput: m\\n\\nInput: ac\\nOutput: a\\n\\nInput: vulputate\\nOutput:', 'Input: molestie\\nOutput: m\\n\\nInput: ac\\nOutput: a\\n\\nInput: id\\nOutput:', 'Input: molestie\\nOutput: m\\n\\nInput: ac\\nOutput: a\\n\\nInput: Aliquam\\nOutput:', 'Input: Los Angeles, United States of America\\nOutput: United States of America\\n\\nInput: Mumbai, India\\nOutput: India\\n\\nInput: Newark, United States\\nOutput:', 'Input: Los Angeles, United States of America\\nOutput: United States of America\\n\\nInput: Mumbai, India\\nOutput: India\\n\\nInput: New York, United States of America\\nOutput:', 'Input: Los Angeles, United States of America\\nOutput: United States of America\\n\\nInput: Mumbai, India\\nOutput: India\\n\\nInput: Wellington, New Zealand\\nOutput:', 'Input: Los Angeles, United States of America\\nOutput: United States of America\\n\\nInput: Mumbai, India\\nOutput: India\\n\\nInput: New Delhi, India\\nOutput:', 'Input: Sydney, Australia\\nOutput: Australia\\n\\nInput: Valencia, Spain\\nOutput: Spain\\n\\nInput: Washington D.C., United States of America\\nOutput:', 'Input: Sydney, Australia\\nOutput: Australia\\n\\nInput: Valencia, Spain\\nOutput: Spain\\n\\nInput: Melbourne, Australia\\nOutput:', 'Input: Sydney, Australia\\nOutput: Australia\\n\\nInput: Valencia, Spain\\nOutput: Spain\\n\\nInput: Riva del Garda, Italy\\nOutput:', 'Input: Sydney, Australia\\nOutput: Australia\\n\\nInput: Valencia, Spain\\nOutput: Spain\\n\\nInput: Strasbourg, France\\nOutput:', 'Input: 512 Wir Ave,Los Angeles, CA 78911\\nOutput: Los Angeles\\n\\nInput: 243 Flyer Dr,Cambridge, MA 02145\\nOutput: Cambridge\\n\\nInput: 64 128th St,Seattle, WA 98102\\nOutput:', 'Input: 512 Wir Ave,Los Angeles, CA 78911\\nOutput: Los Angeles\\n\\nInput: 243 Flyer Dr,Cambridge, MA 02145\\nOutput: Cambridge\\n\\nInput: 560 Heal St,San Mateo, CA 94129\\nOutput:', 'Input: 512 Wir Ave,Los Angeles, CA 78911\\nOutput: Los Angeles\\n\\nInput: 243 Flyer Dr,Cambridge, MA 02145\\nOutput: Cambridge\\n\\nInput: 45 23rd St,New York, NY 98102\\nOutput:', 'Input: 512 Wir Ave,Los Angeles, CA 78911\\nOutput: Los Angeles\\n\\nInput: 243 Flyer Dr,Cambridge, MA 02145\\nOutput: Cambridge\\n\\nInput: 64 Lol St,DC, DC 94129\\nOutput:', 'Input: Principles Of Programming Languages\\nOutput: POPL\\n\\nInput: International Business Machines\\nOutput: IBM\\n\\nInput: International Conference on Software Engineering\\nOutput:', 'Input: Principles Of Programming Languages\\nOutput: POPL\\n\\nInput: International Business Machines\\nOutput: IBM\\n\\nInput: International Conference on Data Mining series\\nOutput:', 'Input: Principles Of Programming Languages\\nOutput: POPL\\n\\nInput: International Business Machines\\nOutput: IBM\\n\\nInput: European Data Science Conference\\nOutput:', 'Input: Principles Of Programming Languages\\nOutput: POPL\\n\\nInput: International Business Machines\\nOutput: IBM\\n\\nInput: International Conference on Computational Science\\nOutput:', 'Input: Association of Computational Linguistics\\nOutput: ACL\\n\\nInput: American Association for Artificial Intelligence\\nOutput: AAAI\\n\\nInput: Architectural Support for Programming Languages and Operating Systems\\nOutput:', 'Input: Association of Computational Linguistics\\nOutput: ACL\\n\\nInput: American Association for Artificial Intelligence\\nOutput: AAAI\\n\\nInput: Computer Aided Verification\\nOutput:', 'Input: Association of Computational Linguistics\\nOutput: ACL\\n\\nInput: American Association for Artificial Intelligence\\nOutput: AAAI\\n\\nInput: Computer and Communications Security\\nOutput:', 'Input: Association of Computational Linguistics\\nOutput: ACL\\n\\nInput: American Association for Artificial Intelligence\\nOutput: AAAI\\n\\nInput: Conference on Computational Learning Theory\\nOutput:', 'Input: Data Compression Conference\\nOutput: DCC\\n\\nInput: Conference on Computer Vision and Pattern Recognition\\nOutput: CVPR\\n\\nInput: High Performance Computer Architecture\\nOutput:', 'Input: Data Compression Conference\\nOutput: DCC\\n\\nInput: Conference on Computer Vision and Pattern Recognition\\nOutput: CVPR\\n\\nInput: International Conference on Automated Planning and Scheduling\\nOutput:', 'Input: Data Compression Conference\\nOutput: DCC\\n\\nInput: Conference on Computer Vision and Pattern Recognition\\nOutput: CVPR\\n\\nInput: International Conference on Computer Vision\\nOutput:', 'Input: Data Compression Conference\\nOutput: DCC\\n\\nInput: Conference on Computer Vision and Pattern Recognition\\nOutput: CVPR\\n\\nInput: International Conference on Data Engineering\\nOutput:', 'Input: Morbi fermentum sem sit amet nibh mattis semper.\\nOutput: MORBI FERMENTUM SEM SIT AMET NIBH MATTIS SEMPER\\n\\nInput: Integer pulvinar felis sit amet venenatis consequat.\\nOutput: INTEGER PULVINAR FELIS SIT AMET VENENATIS CONSEQUAT\\n\\nInput: Nam vitae orci quis nunc sodales rutrum sit amet dictum mi.\\nOutput:', 'Input: Morbi fermentum sem sit amet nibh mattis semper.\\nOutput: MORBI FERMENTUM SEM SIT AMET NIBH MATTIS SEMPER\\n\\nInput: Integer pulvinar felis sit amet venenatis consequat.\\nOutput: INTEGER PULVINAR FELIS SIT AMET VENENATIS CONSEQUAT\\n\\nInput: Sed convallis diam imperdiet urna tincidunt consectetur.\\nOutput:', 'Input: Morbi fermentum sem sit amet nibh mattis semper.\\nOutput: MORBI FERMENTUM SEM SIT AMET NIBH MATTIS SEMPER\\n\\nInput: Integer pulvinar felis sit amet venenatis consequat.\\nOutput: INTEGER PULVINAR FELIS SIT AMET VENENATIS CONSEQUAT\\n\\nInput: Etiam dapibus tortor sed cursus blandit.\\nOutput:', 'Input: Morbi fermentum sem sit amet nibh mattis semper.\\nOutput: MORBI FERMENTUM SEM SIT AMET NIBH MATTIS SEMPER\\n\\nInput: Integer pulvinar felis sit amet venenatis consequat.\\nOutput: INTEGER PULVINAR FELIS SIT AMET VENENATIS CONSEQUAT\\n\\nInput: Quisque mattis dolor ac metus fermentum consectetur.\\nOutput:', 'Input: Donec blandit orci at purus lobortis ornare.\\nOutput: DONEC BLANDIT ORCI AT PURUS LOBORTIS ORNARE\\n\\nInput: Lorem ipsum dolor sit amet, consectetur adipiscing elit.\\nOutput: LOREM IPSUM DOLOR SIT AMET, CONSECTETUR ADIPISCING ELIT\\n\\nInput: Vestibulum dignissim orci quis auctor finibus.\\nOutput:', 'Input: Donec blandit orci at purus lobortis ornare.\\nOutput: DONEC BLANDIT ORCI AT PURUS LOBORTIS ORNARE\\n\\nInput: Lorem ipsum dolor sit amet, consectetur adipiscing elit.\\nOutput: LOREM IPSUM DOLOR SIT AMET, CONSECTETUR ADIPISCING ELIT\\n\\nInput: Praesent sed ipsum euismod, tempor dolor at, varius leo.\\nOutput:', 'Input: Donec blandit orci at purus lobortis ornare.\\nOutput: DONEC BLANDIT ORCI AT PURUS LOBORTIS ORNARE\\n\\nInput: Lorem ipsum dolor sit amet, consectetur adipiscing elit.\\nOutput: LOREM IPSUM DOLOR SIT AMET, CONSECTETUR ADIPISCING ELIT\\n\\nInput: Integer malesuada elit et hendrerit fermentum.\\nOutput:', 'Input: Donec blandit orci at purus lobortis ornare.\\nOutput: DONEC BLANDIT ORCI AT PURUS LOBORTIS ORNARE\\n\\nInput: Lorem ipsum dolor sit amet, consectetur adipiscing elit.\\nOutput: LOREM IPSUM DOLOR SIT AMET, CONSECTETUR ADIPISCING ELIT\\n\\nInput: Pellentesque tempor justo a dui varius maximus.\\nOutput:', 'Input: Simon; 1\\nOutput: Sr. Simon\\n\\nInput: Roger; 2\\nOutput: Mr. Roger\\n\\nInput: Benjamin; 2\\nOutput:', 'Input: Simon; 1\\nOutput: Sr. Simon\\n\\nInput: Roger; 2\\nOutput: Mr. Roger\\n\\nInput: John; 5\\nOutput:', 'Input: Simon; 1\\nOutput: Sr. Simon\\n\\nInput: Roger; 2\\nOutput: Mr. Roger\\n\\nInput: Schur; 2\\nOutput:', 'Input: Simon; 1\\nOutput: Sr. Simon\\n\\nInput: Roger; 2\\nOutput: Mr. Roger\\n\\nInput: Randalf; 1\\nOutput:', 'Input: Ragsh; 6\\nOutput: Prof. Ragsh\\n\\nInput: Guigen; 5\\nOutput: D. Guigen\\n\\nInput: Agustino; 5\\nOutput:', 'Input: Ragsh; 6\\nOutput: Prof. Ragsh\\n\\nInput: Guigen; 5\\nOutput: D. Guigen\\n\\nInput: Hass; 2\\nOutput:', 'Input: Ragsh; 6\\nOutput: Prof. Ragsh\\n\\nInput: Guigen; 5\\nOutput: D. Guigen\\n\\nInput: Jones; 1\\nOutput:', 'Input: Ragsh; 6\\nOutput: Prof. Ragsh\\n\\nInput: Guigen; 5\\nOutput: D. Guigen\\n\\nInput: Lopez; 5\\nOutput:', 'Input: Louis Johnson, PhD\\nOutput: PhD\\n\\nInput: Dr. Mark Sipser\\nOutput: Dr.\\n\\nInput: Prof. Edward Davis\\nOutput:', 'Input: Louis Johnson, PhD\\nOutput: PhD\\n\\nInput: Dr. Mark Sipser\\nOutput: Dr.\\n\\nInput: Robert Mills\\nOutput:', 'Input: Louis Johnson, PhD\\nOutput: PhD\\n\\nInput: Dr. Mark Sipser\\nOutput: Dr.\\n\\nInput: David Jones, PhD\\nOutput:', 'Input: Louis Johnson, PhD\\nOutput: PhD\\n\\nInput: Dr. Mark Sipser\\nOutput: Dr.\\n\\nInput: Mr. Lopez\\nOutput:', 'Input: Prof. R.G.H. Laabertink\\nOutput: Prof.\\n\\nInput: Dr. B. Schdur\\nOutput: Dr.\\n\\nInput: Prof. H. Huifen\\nOutput:', 'Input: Prof. R.G.H. Laabertink\\nOutput: Prof.\\n\\nInput: Dr. B. Schdur\\nOutput: Dr.\\n\\nInput: Mr. Ragsh Mutgoo\\nOutput:', 'Input: Prof. R.G.H. Laabertink\\nOutput: Prof.\\n\\nInput: Dr. B. Schdur\\nOutput: Dr.\\n\\nInput: Mr. Agustino Zimmann\\nOutput:', 'Input: Prof. R.G.H. Laabertink\\nOutput: Prof.\\n\\nInput: Dr. B. Schdur\\nOutput: Dr.\\n\\nInput: Mr. Hass Hooggen\\nOutput:', 'Input: Federico A. Fithsakampf\\nOutput: fefi\\n\\nInput: Guillermo Filiepatos\\nOutput: gufi\\n\\nInput: Carmen Funcsrentano\\nOutput:', 'Input: Federico A. Fithsakampf\\nOutput: fefi\\n\\nInput: Guillermo Filiepatos\\nOutput: gufi\\n\\nInput: Diana Gada Arosia\\nOutput:', 'Input: Federico A. Fithsakampf\\nOutput: fefi\\n\\nInput: Guillermo Filiepatos\\nOutput: gufi\\n\\nInput: Dario Gag-Dorado\\nOutput:', 'Input: Federico A. Fithsakampf\\nOutput: fefi\\n\\nInput: Guillermo Filiepatos\\nOutput: gufi\\n\\nInput: Paco Gabot Narale\\nOutput:', 'Input: Berta Gornek\\nOutput: bego\\n\\nInput: Maria Sartori\\nOutput: masa\\n\\nInput: Damian Gobbee\\nOutput:', 'Input: Berta Gornek\\nOutput: bego\\n\\nInput: Maria Sartori\\nOutput: masa\\n\\nInput: Antonio Lopez Hernandez\\nOutput:', 'Input: Berta Gornek\\nOutput: bego\\n\\nInput: Maria Sartori\\nOutput: masa\\n\\nInput: Daman Hivser-Kleiner\\nOutput:', 'Input: Berta Gornek\\nOutput: bego\\n\\nInput: Maria Sartori\\nOutput: masa\\n\\nInput: Giussepe Hindravtoks\\nOutput:', 'Input: Prof. Kathleen S. Fisher\\nOutput: Fisher, K.\\n\\nInput: Dr. Eran Yahav\\nOutput: Yahav, E.\\n\\nInput: Bill Gates, Sr.\\nOutput:', 'Input: Prof. Kathleen S. Fisher\\nOutput: Fisher, K.\\n\\nInput: Dr. Eran Yahav\\nOutput: Yahav, E.\\n\\nInput: George Ciprian Necula\\nOutput:', 'Input: Prof. Kathleen S. Fisher\\nOutput: Fisher, K.\\n\\nInput: Dr. Eran Yahav\\nOutput: Yahav, E.\\n\\nInput: Ken McMillan, II\\nOutput:', 'Input: Prof. Kathleen S. Fisher\\nOutput: Fisher, K.\\n\\nInput: Dr. Eran Yahav\\nOutput: Yahav, E.\\n\\nInput: Mr. David Jones\\nOutput:', 'Input: Federico A. Fthskampf\\nOutput: Fthskampf, F.\\n\\nInput: Guillermo Filiepatos\\nOutput: Filiepatos, G.\\n\\nInput: Carmen Funcsrentano\\nOutput:', 'Input: Federico A. Fthskampf\\nOutput: Fthskampf, F.\\n\\nInput: Guillermo Filiepatos\\nOutput: Filiepatos, G.\\n\\nInput: Diana Gada\\nOutput:', 'Input: Federico A. Fthskampf\\nOutput: Fthskampf, F.\\n\\nInput: Guillermo Filiepatos\\nOutput: Filiepatos, G.\\n\\nInput: Dario Gag-Dorado\\nOutput:', 'Input: Federico A. Fthskampf\\nOutput: Fthskampf, F.\\n\\nInput: Guillermo Filiepatos\\nOutput: Filiepatos, G.\\n\\nInput: Mr. Paco Gabt\\nOutput:', 'Input: Dr. Bruno Gornek\\nOutput: Gornek, B.\\n\\nInput: Maria Glikgon\\nOutput: Glikgon, M.\\n\\nInput: Damian Gobbee\\nOutput:', 'Input: Dr. Bruno Gornek\\nOutput: Gornek, B.\\n\\nInput: Maria Glikgon\\nOutput: Glikgon, M.\\n\\nInput: Antonio Hege\\nOutput:', 'Input: Dr. Bruno Gornek\\nOutput: Gornek, B.\\n\\nInput: Maria Glikgon\\nOutput: Glikgon, M.\\n\\nInput: Damancio Hivser-Kleiner\\nOutput:', 'Input: Dr. Bruno Gornek\\nOutput: Gornek, B.\\n\\nInput: Maria Glikgon\\nOutput: Glikgon, M.\\n\\nInput: Giussepe Hindravtoks\\nOutput:', 'Input: Randalf;  Laabertink\\nOutput: Randalf, L.\\n\\nInput: Schur;  Brandon\\nOutput: Schur, B.\\n\\nInput: Guigen;  Albert\\nOutput:', 'Input: Randalf;  Laabertink\\nOutput: Randalf, L.\\n\\nInput: Schur;  Brandon\\nOutput: Schur, B.\\n\\nInput: Ragsh;  Mutgoo\\nOutput:', 'Input: Randalf;  Laabertink\\nOutput: Randalf, L.\\n\\nInput: Schur;  Brandon\\nOutput: Schur, B.\\n\\nInput: Agustino;  Zimmann\\nOutput:', 'Input: Randalf;  Laabertink\\nOutput: Randalf, L.\\n\\nInput: Schur;  Brandon\\nOutput: Schur, B.\\n\\nInput: Hass;  Hooggen\\nOutput:', 'Input: Louis Johnson\\nOutput: L.Johnson\\n\\nInput: Mark Sipser\\nOutput: M.Sipser\\n\\nInput: Edward Davis\\nOutput:', 'Input: Louis Johnson\\nOutput: L.Johnson\\n\\nInput: Mark Sipser\\nOutput: M.Sipser\\n\\nInput: Dr. Mark Sipser\\nOutput:', 'Input: Louis Johnson\\nOutput: L.Johnson\\n\\nInput: Mark Sipser\\nOutput: M.Sipser\\n\\nInput: Louis Johnson, PhD\\nOutput:', 'Input: Louis Johnson\\nOutput: L.Johnson\\n\\nInput: Mark Sipser\\nOutput: M.Sipser\\n\\nInput: Robert Mills\\nOutput:', 'Input: Dr. S. R. Barua PhD\\nOutput: S. Barua\\n\\nInput: Sam H. Cook\\nOutput: S. Cook\\n\\nInput: Andrew Hudson\\nOutput:', 'Input: Dr. S. R. Barua PhD\\nOutput: S. Barua\\n\\nInput: Sam H. Cook\\nOutput: S. Cook\\n\\nInput: Mr. Anand Sagar\\nOutput:', 'Input: Dr. S. R. Barua PhD\\nOutput: S. Barua\\n\\nInput: Sam H. Cook\\nOutput: S. Cook\\n\\nInput: Dale McDermott Jr.\\nOutput:', 'Input: Dr. S. R. Barua PhD\\nOutput: S. Barua\\n\\nInput: Sam H. Cook\\nOutput: S. Cook\\n\\nInput: Mrs. Jessie Simpson\\nOutput:', 'Input: Antonio Hege\\nOutput: A. Hege\\n\\nInput: Damian Gobbee\\nOutput: D. Gobbee\\n\\nInput: Damancio Hivser-Kleiner\\nOutput:', 'Input: Antonio Hege\\nOutput: A. Hege\\n\\nInput: Damian Gobbee\\nOutput: D. Gobbee\\n\\nInput: Giussepe Hindravtoks\\nOutput:', 'Input: Antonio Hege\\nOutput: A. Hege\\n\\nInput: Damian Gobbee\\nOutput: D. Gobbee\\n\\nInput: Prof. Edward Davis\\nOutput:', 'Input: Antonio Hege\\nOutput: A. Hege\\n\\nInput: Damian Gobbee\\nOutput: D. Gobbee\\n\\nInput: Mr. Robert Mills\\nOutput:', 'Input: 17-455-81-39; Spain\\nOutput: (34) 17-455-81-39\\n\\nInput: 235-7654; Taiwan\\nOutput: (886) 235-7654\\n\\nInput: 25-437-96-20; South Korea\\nOutput:', 'Input: 17-455-81-39; Spain\\nOutput: (34) 17-455-81-39\\n\\nInput: 235-7654; Taiwan\\nOutput: (886) 235-7654\\n\\nInput: 457-2130; San Marino\\nOutput:', 'Input: 17-455-81-39; Spain\\nOutput: (34) 17-455-81-39\\n\\nInput: 235-7654; Taiwan\\nOutput: (886) 235-7654\\n\\nInput: 618-4390; Panama\\nOutput:', 'Input: 17-455-81-39; Spain\\nOutput: (34) 17-455-81-39\\n\\nInput: 235-7654; Taiwan\\nOutput: (886) 235-7654\\n\\nInput: 44-743-16-50; Netherlands\\nOutput:', 'Input: 352-7960; Kuwait\\nOutput: (965) 352-7960\\n\\nInput: 785-4210; Madagascar\\nOutput: (261) 785-4210\\n\\nInput: 14-734-21-90; Hungary\\nOutput:', 'Input: 352-7960; Kuwait\\nOutput: (965) 352-7960\\n\\nInput: 785-4210; Madagascar\\nOutput: (261) 785-4210\\n\\nInput: 25-613-24-50; Chile\\nOutput:', 'Input: 352-7960; Kuwait\\nOutput: (965) 352-7960\\n\\nInput: 785-4210; Madagascar\\nOutput: (261) 785-4210\\n\\nInput: 36-678-59-10; Austria\\nOutput:', 'Input: 352-7960; Kuwait\\nOutput: (965) 352-7960\\n\\nInput: 785-4210; Madagascar\\nOutput: (261) 785-4210\\n\\nInput: 846-2730; Andorra\\nOutput:', 'Input: 17-455-81-39; ESP\\nOutput: (34) 17-455-81-39\\n\\nInput: 235-7654; TWN\\nOutput: (886) 235-7654\\n\\nInput: 25-437-96-20; KOR\\nOutput:', 'Input: 17-455-81-39; ESP\\nOutput: (34) 17-455-81-39\\n\\nInput: 235-7654; TWN\\nOutput: (886) 235-7654\\n\\nInput: 457-2130; SMR\\nOutput:', 'Input: 17-455-81-39; ESP\\nOutput: (34) 17-455-81-39\\n\\nInput: 235-7654; TWN\\nOutput: (886) 235-7654\\n\\nInput: 618-4390; PAN\\nOutput:', 'Input: 17-455-81-39; ESP\\nOutput: (34) 17-455-81-39\\n\\nInput: 235-7654; TWN\\nOutput: (886) 235-7654\\n\\nInput: 44-743-16-50; NLD\\nOutput:', 'Input: 352-7960; KWT\\nOutput: (965) 352-7960\\n\\nInput: 785-4210; MDG\\nOutput: (261) 785-4210\\n\\nInput: 14-734-21-90; HUN\\nOutput:', 'Input: 352-7960; KWT\\nOutput: (965) 352-7960\\n\\nInput: 785-4210; MDG\\nOutput: (261) 785-4210\\n\\nInput: 25-613-24-50; CHL\\nOutput:', 'Input: 352-7960; KWT\\nOutput: (965) 352-7960\\n\\nInput: 785-4210; MDG\\nOutput: (261) 785-4210\\n\\nInput: 36-678-59-10; AUT\\nOutput:', 'Input: 352-7960; KWT\\nOutput: (965) 352-7960\\n\\nInput: 785-4210; MDG\\nOutput: (261) 785-4210\\n\\nInput: 846-2730; AND\\nOutput:', 'Input: 17-455-81-39; Spain\\nOutput: (+34) 17-455-81-39\\n\\nInput: 235-7654; Taiwan\\nOutput: (+886) 235-7654\\n\\nInput: 25-437-96-20; South Korea\\nOutput:', 'Input: 17-455-81-39; Spain\\nOutput: (+34) 17-455-81-39\\n\\nInput: 235-7654; Taiwan\\nOutput: (+886) 235-7654\\n\\nInput: 457-2130; San Marino\\nOutput:', 'Input: 17-455-81-39; Spain\\nOutput: (+34) 17-455-81-39\\n\\nInput: 235-7654; Taiwan\\nOutput: (+886) 235-7654\\n\\nInput: 618-4390; Panama\\nOutput:', 'Input: 17-455-81-39; Spain\\nOutput: (+34) 17-455-81-39\\n\\nInput: 235-7654; Taiwan\\nOutput: (+886) 235-7654\\n\\nInput: 44-743-16-50; Netherlands\\nOutput:', 'Input: 352-7960; Kuwait\\nOutput: (+965) 352-7960\\n\\nInput: 785-4210; Madagascar\\nOutput: (+261) 785-4210\\n\\nInput: 14-734-21-90; Hungary\\nOutput:', 'Input: 352-7960; Kuwait\\nOutput: (+965) 352-7960\\n\\nInput: 785-4210; Madagascar\\nOutput: (+261) 785-4210\\n\\nInput: 25-613-24-50; Chile\\nOutput:', 'Input: 352-7960; Kuwait\\nOutput: (+965) 352-7960\\n\\nInput: 785-4210; Madagascar\\nOutput: (+261) 785-4210\\n\\nInput: 36-678-59-10; Austria\\nOutput:', 'Input: 352-7960; Kuwait\\nOutput: (+965) 352-7960\\n\\nInput: 785-4210; Madagascar\\nOutput: (+261) 785-4210\\n\\nInput: 846-2730; Andorra\\nOutput:', 'Input: (163)-587-9240\\nOutput: 163-587-9240\\n\\nInput: (323)-708-7700\\nOutput: 323-708-7700\\n\\nInput: (185)-437-9620\\nOutput:', 'Input: (163)-587-9240\\nOutput: 163-587-9240\\n\\nInput: (323)-708-7700\\nOutput: 323-708-7700\\n\\nInput: (986)-457-2130\\nOutput:', 'Input: (163)-587-9240\\nOutput: 163-587-9240\\n\\nInput: (323)-708-7700\\nOutput: 323-708-7700\\n\\nInput: (725)-618-4390\\nOutput:', 'Input: (163)-587-9240\\nOutput: 163-587-9240\\n\\nInput: (323)-708-7700\\nOutput: 323-708-7700\\n\\nInput: (892)-743-1650\\nOutput:', 'Input: (481)-352-7960\\nOutput: 481-352-7960\\n\\nInput: (693)-785-4210\\nOutput: 693-785-4210\\n\\nInput: (568)-734-2190\\nOutput:', 'Input: (481)-352-7960\\nOutput: 481-352-7960\\n\\nInput: (693)-785-4210\\nOutput: 693-785-4210\\n\\nInput: (978)-613-2450\\nOutput:', 'Input: (481)-352-7960\\nOutput: 481-352-7960\\n\\nInput: (693)-785-4210\\nOutput: 693-785-4210\\n\\nInput: (324)-678-5910\\nOutput:', 'Input: (481)-352-7960\\nOutput: 481-352-7960\\n\\nInput: (693)-785-4210\\nOutput: 693-785-4210\\n\\nInput: (195)-846-2730\\nOutput:', 'Input: A GEDA-MARY 100MG 865-001-0020 - - 5941-00 06-23-2009\\nOutput: 865-001-0020\\n\\nInput: John DOE 3 Data [TS]865-000-0000 - - 453442-00 06-23-2009\\nOutput: 865-000-0000\\n\\nInput: The quick, brown fox jumps over a lazy dog 425-437-9620 69 11 60 20 13\\nOutput:', 'Input: A GEDA-MARY 100MG 865-001-0020 - - 5941-00 06-23-2009\\nOutput: 865-001-0020\\n\\nInput: John DOE 3 Data [TS]865-000-0000 - - 453442-00 06-23-2009\\nOutput: 865-000-0000\\n\\nInput: 425-457-2130, DJs flock by when MTV ax quiz prog:  18:95\\nOutput:', 'Input: A GEDA-MARY 100MG 865-001-0020 - - 5941-00 06-23-2009\\nOutput: 865-001-0020\\n\\nInput: John DOE 3 Data [TS]865-000-0000 - - 453442-00 06-23-2009\\nOutput: 865-000-0000\\n\\nInput: 425-618-4390 - 78 2642\\nOutput:', 'Input: A GEDA-MARY 100MG 865-001-0020 - - 5941-00 06-23-2009\\nOutput: 865-001-0020\\n\\nInput: John DOE 3 Data [TS]865-000-0000 - - 453442-00 06-23-2009\\nOutput: 865-000-0000\\n\\nInput: 17:58-19:29, 425-743-1650\\nOutput:', 'Input: International Conference on Automated Planning and Scheduling: 425-352-7960\\nOutput: 425-352-7960\\n\\nInput: 23/11/18 425-785-4210\\nOutput: 425-785-4210\\n\\nInput: 9 72 87 6 2 500-734-2190\\nOutput:', 'Input: International Conference on Automated Planning and Scheduling: 425-352-7960\\nOutput: 425-352-7960\\n\\nInput: 23/11/18 425-785-4210\\nOutput: 425-785-4210\\n\\nInput: 425-613-2450 000-000\\nOutput:', 'Input: International Conference on Automated Planning and Scheduling: 425-352-7960\\nOutput: 425-352-7960\\n\\nInput: 23/11/18 425-785-4210\\nOutput: 425-785-4210\\n\\nInput: 425-678-5910 425-678-591\\nOutput:', 'Input: International Conference on Automated Planning and Scheduling: 425-352-7960\\nOutput: 425-352-7960\\n\\nInput: 23/11/18 425-785-4210\\nOutput: 425-785-4210\\n\\nInput: 425-846-2730 425-425 425\\nOutput:', 'Input: 745-8139; 425\\nOutput: 425-745-8139\\n\\nInput: 235 7654; 425\\nOutput: 425-235-7654\\n\\nInput: 437-9620; 425\\nOutput:', 'Input: 745-8139; 425\\nOutput: 425-745-8139\\n\\nInput: 235 7654; 425\\nOutput: 425-235-7654\\n\\nInput: 457-2130; 425\\nOutput:', 'Input: 745-8139; 425\\nOutput: 425-745-8139\\n\\nInput: 235 7654; 425\\nOutput: 425-235-7654\\n\\nInput: 618 4390; 425\\nOutput:', 'Input: 745-8139; 425\\nOutput: 425-745-8139\\n\\nInput: 235 7654; 425\\nOutput: 425-235-7654\\n\\nInput: 743-1650; 425\\nOutput:', 'Input: 352-7960; 25\\nOutput: 25-352-7960\\n\\nInput: 785 4210; 254\\nOutput: 254-785-4210\\n\\nInput: 734 2190; 36\\nOutput:', 'Input: 352-7960; 25\\nOutput: 25-352-7960\\n\\nInput: 785 4210; 254\\nOutput: 254-785-4210\\n\\nInput: 613-2450; 65\\nOutput:', 'Input: 352-7960; 25\\nOutput: 25-352-7960\\n\\nInput: 785 4210; 254\\nOutput: 254-785-4210\\n\\nInput: 678 5910; 25\\nOutput:', 'Input: 352-7960; 25\\nOutput: 25-352-7960\\n\\nInput: 785 4210; 254\\nOutput: 254-785-4210\\n\\nInput: 846-2730; 65\\nOutput:', 'Input: 745-8139; 425\\nOutput: (425) 745-8139\\n\\nInput: 235-7654; 425\\nOutput: (425) 235-7654\\n\\nInput: 437-9620; 425\\nOutput:', 'Input: 745-8139; 425\\nOutput: (425) 745-8139\\n\\nInput: 235-7654; 425\\nOutput: (425) 235-7654\\n\\nInput: 457-2130; 425\\nOutput:', 'Input: 745-8139; 425\\nOutput: (425) 745-8139\\n\\nInput: 235-7654; 425\\nOutput: (425) 235-7654\\n\\nInput: 618-4390; 425\\nOutput:', 'Input: 745-8139; 425\\nOutput: (425) 745-8139\\n\\nInput: 235-7654; 425\\nOutput: (425) 235-7654\\n\\nInput: 743-1650; 425\\nOutput:', 'Input: 352-7960; 25\\nOutput: (25) 352-7960\\n\\nInput: 785-4210; 254\\nOutput: (254) 785-4210\\n\\nInput: 734-2190; 36\\nOutput:', 'Input: 352-7960; 25\\nOutput: (25) 352-7960\\n\\nInput: 785-4210; 254\\nOutput: (254) 785-4210\\n\\nInput: 613-2450; 65\\nOutput:', 'Input: 352-7960; 25\\nOutput: (25) 352-7960\\n\\nInput: 785-4210; 254\\nOutput: (254) 785-4210\\n\\nInput: 678-5910; 25\\nOutput:', 'Input: 352-7960; 25\\nOutput: (25) 352-7960\\n\\nInput: 785-4210; 254\\nOutput: (254) 785-4210\\n\\nInput: 846-2730; 65\\nOutput:', 'Input: 745-8139; 425\\nOutput: (+425) 745-8139\\n\\nInput: 235-7654; 425\\nOutput: (+425) 235-7654\\n\\nInput: 437-9620; 425\\nOutput:', 'Input: 745-8139; 425\\nOutput: (+425) 745-8139\\n\\nInput: 235-7654; 425\\nOutput: (+425) 235-7654\\n\\nInput: 457-2130; 425\\nOutput:', 'Input: 745-8139; 425\\nOutput: (+425) 745-8139\\n\\nInput: 235-7654; 425\\nOutput: (+425) 235-7654\\n\\nInput: 618-4390; 425\\nOutput:', 'Input: 745-8139; 425\\nOutput: (+425) 745-8139\\n\\nInput: 235-7654; 425\\nOutput: (+425) 235-7654\\n\\nInput: 743-1650; 425\\nOutput:', 'Input: 352-7960; 25\\nOutput: (+25) 352-7960\\n\\nInput: 785-4210; 254\\nOutput: (+254) 785-4210\\n\\nInput: 734-2190; 36\\nOutput:', 'Input: 352-7960; 25\\nOutput: (+25) 352-7960\\n\\nInput: 785-4210; 254\\nOutput: (+254) 785-4210\\n\\nInput: 613-2450; 65\\nOutput:', 'Input: 352-7960; 25\\nOutput: (+25) 352-7960\\n\\nInput: 785-4210; 254\\nOutput: (+254) 785-4210\\n\\nInput: 678-5910; 25\\nOutput:', 'Input: 352-7960; 25\\nOutput: (+25) 352-7960\\n\\nInput: 785-4210; 254\\nOutput: (+254) 785-4210\\n\\nInput: 846-2730; 65\\nOutput:', 'Input: 1635879240\\nOutput: 163-587-9240\\n\\nInput: 3237087700\\nOutput: 323-708-7700\\n\\nInput: 1854379620\\nOutput:', 'Input: 1635879240\\nOutput: 163-587-9240\\n\\nInput: 3237087700\\nOutput: 323-708-7700\\n\\nInput: 9864572130\\nOutput:', 'Input: 1635879240\\nOutput: 163-587-9240\\n\\nInput: 3237087700\\nOutput: 323-708-7700\\n\\nInput: 7256184390\\nOutput:', 'Input: 1635879240\\nOutput: 163-587-9240\\n\\nInput: 3237087700\\nOutput: 323-708-7700\\n\\nInput: 8927431650\\nOutput:', 'Input: 4813527960\\nOutput: 481-352-7960\\n\\nInput: 6937854210\\nOutput: 693-785-4210\\n\\nInput: 5687342190\\nOutput:', 'Input: 4813527960\\nOutput: 481-352-7960\\n\\nInput: 6937854210\\nOutput: 693-785-4210\\n\\nInput: 9786132450\\nOutput:', 'Input: 4813527960\\nOutput: 481-352-7960\\n\\nInput: 6937854210\\nOutput: 693-785-4210\\n\\nInput: 3246785910\\nOutput:', 'Input: 4813527960\\nOutput: 481-352-7960\\n\\nInput: 6937854210\\nOutput: 693-785-4210\\n\\nInput: 1958462730\\nOutput:', 'Input: 01:55; 5\\nOutput: 06:55\\n\\nInput: 01:34:00; 5\\nOutput: 06:34:00\\n\\nInput: 03; 5\\nOutput:', 'Input: 01:55; 5\\nOutput: 06:55\\n\\nInput: 01:34:00; 5\\nOutput: 06:34:00\\n\\nInput: 07:05; 5\\nOutput:', 'Input: 01:55; 5\\nOutput: 06:55\\n\\nInput: 01:34:00; 5\\nOutput: 06:34:00\\n\\nInput: 08; 5\\nOutput:', 'Input: 01:55; 5\\nOutput: 06:55\\n\\nInput: 01:34:00; 5\\nOutput: 06:34:00\\n\\nInput: 16:15:12; 5\\nOutput:', 'Input: 20:15:00; 5\\nOutput: 01:15:00\\n\\nInput: 08:55:00; 5\\nOutput: 13:55:00\\n\\nInput: 17:55; 5\\nOutput:', 'Input: 20:15:00; 5\\nOutput: 01:15:00\\n\\nInput: 08:55:00; 5\\nOutput: 13:55:00\\n\\nInput: 10:05; 5\\nOutput:', 'Input: 20:15:00; 5\\nOutput: 01:15:00\\n\\nInput: 08:55:00; 5\\nOutput: 13:55:00\\n\\nInput: 14:10; 5\\nOutput:', 'Input: 20:15:00; 5\\nOutput: 01:15:00\\n\\nInput: 08:55:00; 5\\nOutput: 13:55:00\\n\\nInput: 21:20; 5\\nOutput:', 'Input: 01:55\\nOutput: 01:55:00\\n\\nInput: 01:34\\nOutput: 01:34:00\\n\\nInput: 03\\nOutput:', 'Input: 01:55\\nOutput: 01:55:00\\n\\nInput: 01:34\\nOutput: 01:34:00\\n\\nInput: 07:05\\nOutput:', 'Input: 01:55\\nOutput: 01:55:00\\n\\nInput: 01:34\\nOutput: 01:34:00\\n\\nInput: 08\\nOutput:', 'Input: 01:55\\nOutput: 01:55:00\\n\\nInput: 01:34\\nOutput: 01:34:00\\n\\nInput: 16:15:12\\nOutput:', 'Input: 20:15:30\\nOutput: \\n\\nInput: 08:55\\nOutput: 08:55:00\\n\\nInput: 17:55\\nOutput:', 'Input: 20:15:30\\nOutput: \\n\\nInput: 08:55\\nOutput: 08:55:00\\n\\nInput: 10:05\\nOutput:', 'Input: 20:15:30\\nOutput: \\n\\nInput: 08:55\\nOutput: 08:55:00\\n\\nInput: 14:10\\nOutput:', 'Input: 20:15:30\\nOutput: \\n\\nInput: 08:55\\nOutput: 08:55:00\\n\\nInput: 21:20\\nOutput:', 'Input: 01:55; 30\\nOutput: 01:55:30\\n\\nInput: 01:34; 30\\nOutput: 01:34:30\\n\\nInput: 03; 30\\nOutput:', 'Input: 01:55; 30\\nOutput: 01:55:30\\n\\nInput: 01:34; 30\\nOutput: 01:34:30\\n\\nInput: 07:05; 30\\nOutput:', 'Input: 01:55; 30\\nOutput: 01:55:30\\n\\nInput: 01:34; 30\\nOutput: 01:34:30\\n\\nInput: 08; 30\\nOutput:', 'Input: 01:55; 30\\nOutput: 01:55:30\\n\\nInput: 01:34; 30\\nOutput: 01:34:30\\n\\nInput: 16:15:12; 30\\nOutput:', 'Input: 20:15:00; 30\\nOutput: \\n\\nInput: 08:55; 30\\nOutput: 08:55:30\\n\\nInput: 17:55; 30\\nOutput:', 'Input: 20:15:00; 30\\nOutput: \\n\\nInput: 08:55; 30\\nOutput: 08:55:30\\n\\nInput: 10:05; 30\\nOutput:', 'Input: 20:15:00; 30\\nOutput: \\n\\nInput: 08:55; 30\\nOutput: 08:55:30\\n\\nInput: 14:10; 30\\nOutput:', 'Input: 20:15:00; 30\\nOutput: \\n\\nInput: 08:55; 30\\nOutput: 08:55:30\\n\\nInput: 21:20; 30\\nOutput:', 'Input: 01:55\\nOutput: 01:55\\n\\nInput: 1:34:00 PM CST\\nOutput: 13:34:00\\n\\nInput: 3:40 AM\\nOutput:', 'Input: 01:55\\nOutput: 01:55\\n\\nInput: 1:34:00 PM CST\\nOutput: 13:34:00\\n\\nInput: 07:05:59\\nOutput:', 'Input: 01:55\\nOutput: 01:55\\n\\nInput: 1:34:00 PM CST\\nOutput: 13:34:00\\n\\nInput: 08:40 UTC\\nOutput:', 'Input: 01:55\\nOutput: 01:55\\n\\nInput: 1:34:00 PM CST\\nOutput: 13:34:00\\n\\nInput: 06:15:12\\nOutput:', 'Input: 20:15; PST; GMT\\nOutput: 04:15:00\\n\\nInput: 20:55; HST; WET\\nOutput: 06:55:00\\n\\nInput: 17:55; MST; UTC\\nOutput:', 'Input: 20:15; PST; GMT\\nOutput: 04:15:00\\n\\nInput: 20:55; HST; WET\\nOutput: 06:55:00\\n\\nInput: 10:05; CST; HST\\nOutput:', 'Input: 20:15; PST; GMT\\nOutput: 04:15:00\\n\\nInput: 20:55; HST; WET\\nOutput: 06:55:00\\n\\nInput: 08:40; EST; PST\\nOutput:', 'Input: 20:15; PST; GMT\\nOutput: 04:15:00\\n\\nInput: 20:55; HST; WET\\nOutput: 06:55:00\\n\\nInput: 06:15; CET; MST\\nOutput:', 'Input: 20:15:00\\nOutput: 20:15:00\\n\\nInput: 08:55 PM CET\\nOutput: 20:55\\n\\nInput: 17:55\\nOutput:', 'Input: 20:15:00\\nOutput: 20:15:00\\n\\nInput: 08:55 PM CET\\nOutput: 20:55\\n\\nInput: 10:05:00 AM\\nOutput:', 'Input: 20:15:00\\nOutput: 20:15:00\\n\\nInput: 08:55 PM CET\\nOutput: 20:55\\n\\nInput: 14:10\\nOutput:', 'Input: 20:15:00\\nOutput: 20:15:00\\n\\nInput: 08:55 PM CET\\nOutput: 20:55\\n\\nInput: 21:20\\nOutput:', 'Input: 01:55; 24h\\nOutput: 01:55\\n\\nInput: 1:34:00 PM CST; 24h\\nOutput: 13:34:00\\n\\nInput: 3:40 AM; 24h\\nOutput:', 'Input: 01:55; 24h\\nOutput: 01:55\\n\\nInput: 1:34:00 PM CST; 24h\\nOutput: 13:34:00\\n\\nInput: 07:05:59; 24h\\nOutput:', 'Input: 01:55; 24h\\nOutput: 01:55\\n\\nInput: 1:34:00 PM CST; 24h\\nOutput: 13:34:00\\n\\nInput: 14:10; 12h\\nOutput:', 'Input: 01:55; 24h\\nOutput: 01:55\\n\\nInput: 1:34:00 PM CST; 24h\\nOutput: 13:34:00\\n\\nInput: 21:20; 12h\\nOutput:', 'Input: 20:15:00; 24h\\nOutput: 20:15:00\\n\\nInput: 08:55 PM CET; 24h\\nOutput: 20:55\\n\\nInput: 17:55; 12h\\nOutput:', 'Input: 20:15:00; 24h\\nOutput: 20:15:00\\n\\nInput: 08:55 PM CET; 24h\\nOutput: 20:55\\n\\nInput: 10:05:00 AM; 24h\\nOutput:', 'Input: 20:15:00; 24h\\nOutput: 20:15:00\\n\\nInput: 08:55 PM CET; 24h\\nOutput: 20:55\\n\\nInput: 08:40 UTC; 24h\\nOutput:', 'Input: 20:15:00; 24h\\nOutput: 20:15:00\\n\\nInput: 08:55 PM CET; 24h\\nOutput: 20:55\\n\\nInput: 06:15:12; 24h\\nOutput:', 'Input: 01:55\\nOutput: 01:55 AM\\n\\nInput: 01:34:00 CST\\nOutput: 01:34:00 AM\\n\\nInput: 03:40\\nOutput:', 'Input: 01:55\\nOutput: 01:55 AM\\n\\nInput: 01:34:00 CST\\nOutput: 01:34:00 AM\\n\\nInput: 07:05:59\\nOutput:', 'Input: 01:55\\nOutput: 01:55 AM\\n\\nInput: 01:34:00 CST\\nOutput: 01:34:00 AM\\n\\nInput: 14:10\\nOutput:', 'Input: 01:55\\nOutput: 01:55 AM\\n\\nInput: 01:34:00 CST\\nOutput: 01:34:00 AM\\n\\nInput: 21:20\\nOutput:', 'Input: 20:15:00\\nOutput: 08:15:00 PM\\n\\nInput: 20:55 CET\\nOutput: 08:55 PM\\n\\nInput: 17:55\\nOutput:', 'Input: 20:15:00\\nOutput: 08:15:00 PM\\n\\nInput: 20:55 CET\\nOutput: 08:55 PM\\n\\nInput: 10:05:00\\nOutput:', 'Input: 20:15:00\\nOutput: 08:15:00 PM\\n\\nInput: 20:55 CET\\nOutput: 08:55 PM\\n\\nInput: 08:40 UTC\\nOutput:', 'Input: 20:15:00\\nOutput: 08:15:00 PM\\n\\nInput: 20:55 CET\\nOutput: 08:55 PM\\n\\nInput: 06:15:12\\nOutput:', 'Input: 01:55; UTC; UTC\\nOutput: 01:55\\n\\nInput: 01:34:00; CST; UTC\\nOutput: 07:34:00\\n\\nInput: 03:40; GMT; UTC\\nOutput:', 'Input: 01:55; UTC; UTC\\nOutput: 01:55\\n\\nInput: 01:34:00; CST; UTC\\nOutput: 07:34:00\\n\\nInput: 07:05:59; WET; UTC\\nOutput:', 'Input: 01:55; UTC; UTC\\nOutput: 01:55\\n\\nInput: 01:34:00; CST; UTC\\nOutput: 07:34:00\\n\\nInput: 14:10; CET; UTC\\nOutput:', 'Input: 01:55; UTC; UTC\\nOutput: 01:55\\n\\nInput: 01:34:00; CST; UTC\\nOutput: 07:34:00\\n\\nInput: 21:20; EST; UTC\\nOutput:', 'Input: 20:15:00; PST; GMT\\nOutput: 04:15:00\\n\\nInput: 20:55; HST; WET\\nOutput: 06:55\\n\\nInput: 17:55; MST; UTC\\nOutput:', 'Input: 20:15:00; PST; GMT\\nOutput: 04:15:00\\n\\nInput: 20:55; HST; WET\\nOutput: 06:55\\n\\nInput: 10:05:00; CST; HST\\nOutput:', 'Input: 20:15:00; PST; GMT\\nOutput: 04:15:00\\n\\nInput: 20:55; HST; WET\\nOutput: 06:55\\n\\nInput: 08:40; EST; PST\\nOutput:', 'Input: 20:15:00; PST; GMT\\nOutput: 04:15:00\\n\\nInput: 20:55; HST; WET\\nOutput: 06:55\\n\\nInput: 06:15:12; CET; MST\\nOutput:', 'Input: 01:55; UTC; UTC\\nOutput: 01:55:00\\n\\nInput: 01:34; CST; UTC\\nOutput: 07:34:00\\n\\nInput: 03:40; GMT; UTC\\nOutput:', 'Input: 01:55; UTC; UTC\\nOutput: 01:55:00\\n\\nInput: 01:34; CST; UTC\\nOutput: 07:34:00\\n\\nInput: 07:05; WET; UTC\\nOutput:', 'Input: 01:55; UTC; UTC\\nOutput: 01:55:00\\n\\nInput: 01:34; CST; UTC\\nOutput: 07:34:00\\n\\nInput: 14:10; CET; UTC\\nOutput:', 'Input: 01:55; UTC; UTC\\nOutput: 01:55:00\\n\\nInput: 01:34; CST; UTC\\nOutput: 07:34:00\\n\\nInput: 21:20; EST; UTC\\nOutput:', 'Input: 01:55\\nOutput: 01\\n\\nInput: 01:34:00\\nOutput: 01:34\\n\\nInput: 03\\nOutput:', 'Input: 01:55\\nOutput: 01\\n\\nInput: 01:34:00\\nOutput: 01:34\\n\\nInput: 07:05\\nOutput:', 'Input: 01:55\\nOutput: 01\\n\\nInput: 01:34:00\\nOutput: 01:34\\n\\nInput: 08\\nOutput:', 'Input: 01:55\\nOutput: 01\\n\\nInput: 01:34:00\\nOutput: 01:34\\n\\nInput: 16:15:12\\nOutput:', 'Input: 20:15:00\\nOutput: 20:15\\n\\nInput: 08:55:00\\nOutput: 08:55\\n\\nInput: 17:55\\nOutput:', 'Input: 20:15:00\\nOutput: 20:15\\n\\nInput: 08:55:00\\nOutput: 08:55\\n\\nInput: 10:05\\nOutput:', 'Input: 20:15:00\\nOutput: 20:15\\n\\nInput: 08:55:00\\nOutput: 08:55\\n\\nInput: 14:10\\nOutput:', 'Input: 20:15:00\\nOutput: 20:15\\n\\nInput: 08:55:00\\nOutput: 08:55\\n\\nInput: 21:20\\nOutput:', 'Input: 01:55\\nOutput: 1\\n\\nInput: 1:34:00 PM CST\\nOutput: 1\\n\\nInput: 03:40 AM\\nOutput:', 'Input: 01:55\\nOutput: 1\\n\\nInput: 1:34:00 PM CST\\nOutput: 1\\n\\nInput: 07:05:59\\nOutput:', 'Input: 01:55\\nOutput: 1\\n\\nInput: 1:34:00 PM CST\\nOutput: 1\\n\\nInput: 08:40 UTC\\nOutput:', 'Input: 01:55\\nOutput: 1\\n\\nInput: 1:34:00 PM CST\\nOutput: 1\\n\\nInput: 16:15:12\\nOutput:', 'Input: 20:15:00\\nOutput: 20\\n\\nInput: 08:55 PM CET\\nOutput: 8\\n\\nInput: 17:55\\nOutput:', 'Input: 20:15:00\\nOutput: 20\\n\\nInput: 08:55 PM CET\\nOutput: 8\\n\\nInput: 10:05:00 AM\\nOutput:', 'Input: 20:15:00\\nOutput: 20\\n\\nInput: 08:55 PM CET\\nOutput: 8\\n\\nInput: 14:10\\nOutput:', 'Input: 20:15:00\\nOutput: 20\\n\\nInput: 08:55 PM CET\\nOutput: 8\\n\\nInput: 21:20\\nOutput:', 'Input: 01:55\\nOutput: 55\\n\\nInput: 1:34:00 PM CST\\nOutput: 34\\n\\nInput: 03:40 AM\\nOutput:', 'Input: 01:55\\nOutput: 55\\n\\nInput: 1:34:00 PM CST\\nOutput: 34\\n\\nInput: 07:05:59\\nOutput:', 'Input: 01:55\\nOutput: 55\\n\\nInput: 1:34:00 PM CST\\nOutput: 34\\n\\nInput: 08:40 UTC\\nOutput:', 'Input: 01:55\\nOutput: 55\\n\\nInput: 1:34:00 PM CST\\nOutput: 34\\n\\nInput: 16:15:12\\nOutput:', 'Input: 20:15:00\\nOutput: 15\\n\\nInput: 08:55 PM CET\\nOutput: 55\\n\\nInput: 17:55\\nOutput:', 'Input: 20:15:00\\nOutput: 15\\n\\nInput: 08:55 PM CET\\nOutput: 55\\n\\nInput: 10:05:00 AM\\nOutput:', 'Input: 20:15:00\\nOutput: 15\\n\\nInput: 08:55 PM CET\\nOutput: 55\\n\\nInput: 14:10\\nOutput:', 'Input: 20:15:00\\nOutput: 15\\n\\nInput: 08:55 PM CET\\nOutput: 55\\n\\nInput: 21:20\\nOutput:', 'Input: 01:55\\nOutput: 01:55\\n\\nInput: 1:34:00 PM CST\\nOutput: 1:34:00\\n\\nInput: 03:40 AM\\nOutput:', 'Input: 01:55\\nOutput: 01:55\\n\\nInput: 1:34:00 PM CST\\nOutput: 1:34:00\\n\\nInput: 07:05:59\\nOutput:', 'Input: 01:55\\nOutput: 01:55\\n\\nInput: 1:34:00 PM CST\\nOutput: 1:34:00\\n\\nInput: 08:40 UTC\\nOutput:', 'Input: 01:55\\nOutput: 01:55\\n\\nInput: 1:34:00 PM CST\\nOutput: 1:34:00\\n\\nInput: 16:15:12\\nOutput:', 'Input: 20:15:00\\nOutput: 20:15:00\\n\\nInput: 08:55 PM CET\\nOutput: 08:55\\n\\nInput: 17:55\\nOutput:', 'Input: 20:15:00\\nOutput: 20:15:00\\n\\nInput: 08:55 PM CET\\nOutput: 08:55\\n\\nInput: 10:05:00 AM\\nOutput:', 'Input: 20:15:00\\nOutput: 20:15:00\\n\\nInput: 08:55 PM CET\\nOutput: 08:55\\n\\nInput: 14:10\\nOutput:', 'Input: 20:15:00\\nOutput: 20:15:00\\n\\nInput: 08:55 PM CET\\nOutput: 08:55\\n\\nInput: 21:20\\nOutput:', 'Input: 84kg; g\\nOutput: 84000\\n\\nInput: 1441.8mg; g\\nOutput: 1.4418001\\n\\nInput: 14300ms; s\\nOutput:', 'Input: 84kg; g\\nOutput: 84000\\n\\nInput: 1441.8mg; g\\nOutput: 1.4418001\\n\\nInput: 87 s; ns\\nOutput:', 'Input: 84kg; g\\nOutput: 84000\\n\\nInput: 1441.8mg; g\\nOutput: 1.4418001\\n\\nInput: 12.20dg; mg\\nOutput:', 'Input: 84kg; g\\nOutput: 84000\\n\\nInput: 1441.8mg; g\\nOutput: 1.4418001\\n\\nInput: 1854 dam; dm\\nOutput:', 'Input: 41.8g; mg\\nOutput: 41800\\n\\nInput: 1nm; mm\\nOutput: 1000\\n\\nInput: 980 ms; s\\nOutput:', 'Input: 41.8g; mg\\nOutput: 41800\\n\\nInput: 1nm; mm\\nOutput: 1000\\n\\nInput: 4054kg; A\\nOutput:', 'Input: 41.8g; mg\\nOutput: 41800\\n\\nInput: 1nm; mm\\nOutput: 1000\\n\\nInput: 92.26 K; cK\\nOutput:', 'Input: 41.8g; mg\\nOutput: 41800\\n\\nInput: 1nm; mm\\nOutput: 1000\\n\\nInput: 81 hm; cm\\nOutput:', 'Input: 84; kg; g\\nOutput: 84000\\n\\nInput: 1441.8; mg; g\\nOutput: 1.4418001\\n\\nInput: 14300; ms; s\\nOutput:', 'Input: 84; kg; g\\nOutput: 84000\\n\\nInput: 1441.8; mg; g\\nOutput: 1.4418001\\n\\nInput: 87; s; ns\\nOutput:', 'Input: 84; kg; g\\nOutput: 84000\\n\\nInput: 1441.8; mg; g\\nOutput: 1.4418001\\n\\nInput: 12.2; dg; mg\\nOutput:', 'Input: 84; kg; g\\nOutput: 84000\\n\\nInput: 1441.8; mg; g\\nOutput: 1.4418001\\n\\nInput: 1854; dam; dm\\nOutput:', 'Input: 41.8; g; mg\\nOutput: 41800\\n\\nInput: 1; nm; mm\\nOutput: 1000\\n\\nInput: 980; ms; s\\nOutput:', 'Input: 41.8; g; mg\\nOutput: 41800\\n\\nInput: 1; nm; mm\\nOutput: 1000\\n\\nInput: 4054; kg; A\\nOutput:', 'Input: 41.8; g; mg\\nOutput: 41800\\n\\nInput: 1; nm; mm\\nOutput: 1000\\n\\nInput: 92.26; K; cK\\nOutput:', 'Input: 41.8; g; mg\\nOutput: 41800\\n\\nInput: 1; nm; mm\\nOutput: 1000\\n\\nInput: 81; hm; cm\\nOutput:', 'Input: 84kg\\nOutput: Mass\\n\\nInput: 56.77cl\\nOutput: Volume\\n\\nInput: 39.88 A\\nOutput:', 'Input: 84kg\\nOutput: Mass\\n\\nInput: 56.77cl\\nOutput: Volume\\n\\nInput: 87 s\\nOutput:', 'Input: 84kg\\nOutput: Mass\\n\\nInput: 56.77cl\\nOutput: Volume\\n\\nInput: 12.20dg\\nOutput:', 'Input: 84kg\\nOutput: Mass\\n\\nInput: 56.77cl\\nOutput: Volume\\n\\nInput: 1854 dam\\nOutput:', 'Input: 41.8g\\nOutput: Mass\\n\\nInput: 1nm\\nOutput: Length\\n\\nInput: 98 ms\\nOutput:', 'Input: 41.8g\\nOutput: Mass\\n\\nInput: 1nm\\nOutput: Length\\n\\nInput: 4054kA\\nOutput:', 'Input: 41.8g\\nOutput: Mass\\n\\nInput: 1nm\\nOutput: Length\\n\\nInput: 92.26 K\\nOutput:', 'Input: 41.8g\\nOutput: Mass\\n\\nInput: 1nm\\nOutput: Length\\n\\nInput: 81 hl\\nOutput:', 'Input: 84Kg\\nOutput: Kg\\n\\nInput: 56.77cl\\nOutput: cl\\n\\nInput: 39.88 A\\nOutput:', 'Input: 84Kg\\nOutput: Kg\\n\\nInput: 56.77cl\\nOutput: cl\\n\\nInput: 87 s\\nOutput:', 'Input: 84Kg\\nOutput: Kg\\n\\nInput: 56.77cl\\nOutput: cl\\n\\nInput: 12.20dg\\nOutput:', 'Input: 84Kg\\nOutput: Kg\\n\\nInput: 56.77cl\\nOutput: cl\\n\\nInput: 1854 dam\\nOutput:', 'Input: 41.8g\\nOutput: g\\n\\nInput: 1nm\\nOutput: nm\\n\\nInput: 98 ms\\nOutput:', 'Input: 41.8g\\nOutput: g\\n\\nInput: 1nm\\nOutput: nm\\n\\nInput: 4054kA\\nOutput:', 'Input: 41.8g\\nOutput: g\\n\\nInput: 1nm\\nOutput: nm\\n\\nInput: 92.26 K\\nOutput:', 'Input: 41.8g\\nOutput: g\\n\\nInput: 1nm\\nOutput: nm\\n\\nInput: 81 hl\\nOutput:', 'Input: 84Kg\\nOutput: 84\\n\\nInput: 56.77cl\\nOutput: 56.77\\n\\nInput: 39.88 A\\nOutput:', 'Input: 84Kg\\nOutput: 84\\n\\nInput: 56.77cl\\nOutput: 56.77\\n\\nInput: 87 s\\nOutput:', 'Input: 84Kg\\nOutput: 84\\n\\nInput: 56.77cl\\nOutput: 56.77\\n\\nInput: 12.20dg\\nOutput:', 'Input: 84Kg\\nOutput: 84\\n\\nInput: 56.77cl\\nOutput: 56.77\\n\\nInput: 1854 dam\\nOutput:', 'Input: 41.8g\\nOutput: 41.8\\n\\nInput: 1nm\\nOutput: 1\\n\\nInput: 98 ms\\nOutput:', 'Input: 41.8g\\nOutput: 41.8\\n\\nInput: 1nm\\nOutput: 1\\n\\nInput: 4054kA\\nOutput:', 'Input: 41.8g\\nOutput: 41.8\\n\\nInput: 1nm\\nOutput: 1\\n\\nInput: 92.26 K\\nOutput:', 'Input: 41.8g\\nOutput: 41.8\\n\\nInput: 1nm\\nOutput: 1\\n\\nInput: 81 hl\\nOutput:']\n"
          ],
          "name": "stdout"
        }
      ]
    },
    {
      "cell_type": "code",
      "metadata": {
        "id": "K2rK2Qi4X5no"
      },
      "source": [
        "text_file = open(\"queries2.txt\", \"w\")\n",
        "for i in range(0, len(printed_queries)):\n",
        "  text_file.write(repr(printed_queries[i]))\n",
        "text_file.close()"
      ],
      "execution_count": null,
      "outputs": []
    },
    {
      "cell_type": "code",
      "metadata": {
        "id": "YEOL-wjudYPJ"
      },
      "source": [
        "#Prompt generator - 3 shot\n",
        "\n",
        "queries = [[]]*len(final_problems)\n",
        "common_prompt = [\"\"]*len(final_problems)\n",
        "test_targets3 = [[]]*len(final_problems)\n",
        "\n",
        "trainingNum = 3\n",
        "\n",
        "for i in range(0, len(final_problems)):\n",
        "  #Extract examples from DataFrame \n",
        "  input1 = df.query('dataset == \"' + final_problems[i][0] + '\" and domain == \"' + final_problems[i][1] + '\"')['input_1'].to_list()\n",
        "  input2 = df.query('dataset == \"' + final_problems[i][0] + '\" and domain == \"' + final_problems[i][1] + '\"')['input_2'].to_list()\n",
        "  input3 = df.query('dataset == \"' + final_problems[i][0] + '\" and domain == \"' + final_problems[i][1] + '\"')['input_3'].to_list()\n",
        "  output = df.query('dataset == \"' + final_problems[i][0] + '\" and domain == \"' + final_problems[i][1] + '\"')['expected_output'].to_list()\n",
        "\n",
        "  final_input_1 = []\n",
        "  final_input_2 = []\n",
        "  final_input_3 = []\n",
        "  final_output = []\n",
        "\n",
        "  #Extract\n",
        "\n",
        "  for j in range(trainingNum-1,-1,-1):\n",
        "    final_input_1.append(input1[j])\n",
        "    del input1[j]\n",
        "\n",
        "  for j in range(trainingNum-1,-1,-1):\n",
        "    final_input_2.append(input2[j])\n",
        "    del input2[j]\n",
        "\n",
        "  for j in range(trainingNum-1,-1,-1):\n",
        "    final_input_3.append(input3[j])\n",
        "    del input3[j]\n",
        "\n",
        "  for j in range(trainingNum-1,-1,-1):\n",
        "    final_output.append(output[j])\n",
        "    del output[j]\n",
        "\n",
        "  #Common prompt builder\n",
        "\n",
        "  #If we don't want the task descriptions in the prompt, comment the next line\n",
        "  #common_prompt[i] = task_explanation[i] + \"\\n\\n\"\n",
        "  for j in range(0, trainingNum):\n",
        "      if final_input_2[j] != \"Null\" and final_input_3[j] != \"Null\":\n",
        "        common_prompt[i] = common_prompt[i] + \"Input: \" + str(final_input_1[j]) + \"; \" + str(final_input_2[j]) + \"; \" + str(final_input_3[j]) + \"\\nOutput: \" + str(final_output[j]) + \"\\n\\n\"\n",
        "      elif final_input_2[j] != \"Null\":\n",
        "        common_prompt[i] = common_prompt[i] + \"Input: \" + str(final_input_1[j]) + \"; \" + str(final_input_2[j]) + \"\\nOutput: \" + str(final_output[j]) + \"\\n\\n\"\n",
        "      else:\n",
        "        common_prompt[i] = common_prompt[i] = common_prompt[i] + \"Input: \" + str(final_input_1[j]) + \"\\nOutput: \" + str(final_output[j]) + \"\\n\\n\"\n",
        "\n",
        "\n",
        "  #Queries building\n",
        "\n",
        "  queries[i] = [\"\"]*len(input1)\n",
        "  test_targets3[i] = [\"\"]*len(input1)\n",
        "\n",
        "  for j in range(0, len(input1)):\n",
        "      if input2[j] != \"Null\" and input3[j] != \"Null\":\n",
        "        queries[i][j] = common_prompt[i] + \"Input: \" + str(input1[j]) + \"; \" + str(input2[j]) + \"; \" + str(input3[j]) + \"\\nOutput:\"\n",
        "      elif input2[j] != \"Null\":\n",
        "        queries[i][j] = common_prompt[i] + \"Input: \" + str(input1[j]) + \"; \" + str(input2[j]) + \"\\nOutput:\"\n",
        "      else:\n",
        "        queries[i][j] = common_prompt[i] + \"Input: \" + str(input1[j]) + \"\\nOutput:\"\n",
        "\n",
        "      test_targets3[i][j] = output[j]\n",
        "\n",
        "\n",
        "  \n",
        "  "
      ],
      "execution_count": null,
      "outputs": []
    },
    {
      "cell_type": "code",
      "metadata": {
        "colab": {
          "base_uri": "https://localhost:8080/"
        },
        "id": "Dxuw8YolYUMN",
        "outputId": "907d20a8-a2b3-41a0-9b9f-f62930258b0f"
      },
      "source": [
        "printed_queries = []\n",
        "for i in range(0, len(queries)):\n",
        "  for j in range(0, len(queries[i])):\n",
        "    printed_queries.append(queries[i][j])\n",
        "\n",
        "print(printed_queries)"
      ],
      "execution_count": null,
      "outputs": [
        {
          "output_type": "stream",
          "text": [
            "['Input: 170615\\nOutput: 17-06-15\\n\\nInput: 250374\\nOutput: 25-03-74\\n\\nInput: 290386\\nOutput: 29-03-86\\n\\nInput: 170905\\nOutput:', 'Input: 170615\\nOutput: 17-06-15\\n\\nInput: 250374\\nOutput: 25-03-74\\n\\nInput: 290386\\nOutput: 29-03-86\\n\\nInput: 241206\\nOutput:', 'Input: 170615\\nOutput: 17-06-15\\n\\nInput: 250374\\nOutput: 25-03-74\\n\\nInput: 290386\\nOutput: 29-03-86\\n\\nInput: 290607\\nOutput:', 'Input: 31108\\nOutput: 03-11-08\\n\\nInput: 90508\\nOutput: 09-05-08\\n\\nInput: 121099\\nOutput: 12-10-99\\n\\nInput: 91011\\nOutput:', 'Input: 31108\\nOutput: 03-11-08\\n\\nInput: 90508\\nOutput: 09-05-08\\n\\nInput: 121099\\nOutput: 12-10-99\\n\\nInput: 290895\\nOutput:', 'Input: 31108\\nOutput: 03-11-08\\n\\nInput: 90508\\nOutput: 09-05-08\\n\\nInput: 121099\\nOutput: 12-10-99\\n\\nInput: 180413\\nOutput:', 'Input: 24/09/1984\\nOutput: 09/24/1984\\n\\nInput: 2010-06-27\\nOutput: 27/06/2010\\n\\nInput: 20.08.2010\\nOutput: 08/20/2010\\n\\nInput: 13-03-1986\\nOutput:', 'Input: 24/09/1984\\nOutput: 09/24/1984\\n\\nInput: 2010-06-27\\nOutput: 27/06/2010\\n\\nInput: 20.08.2010\\nOutput: 08/20/2010\\n\\nInput: 17/06/1989\\nOutput:', 'Input: 24/09/1984\\nOutput: 09/24/1984\\n\\nInput: 2010-06-27\\nOutput: 27/06/2010\\n\\nInput: 20.08.2010\\nOutput: 08/20/2010\\n\\nInput: 1990.18.01\\nOutput:', 'Input: 29-05-2001\\nOutput: 05/29/2001\\n\\nInput: 2001-30-01\\nOutput: 01/30/2001\\n\\nInput: 09/05/1991\\nOutput: 09/05/1991\\n\\nInput: 23.08.2010\\nOutput:', 'Input: 29-05-2001\\nOutput: 05/29/2001\\n\\nInput: 2001-30-01\\nOutput: 01/30/2001\\n\\nInput: 09/05/1991\\nOutput: 09/05/1991\\n\\nInput: 28-10-2001\\nOutput:', 'Input: 29-05-2001\\nOutput: 05/29/2001\\n\\nInput: 2001-30-01\\nOutput: 01/30/2001\\n\\nInput: 09/05/1991\\nOutput: 09/05/1991\\n\\nInput: 16/02/2010\\nOutput:', 'Input: 26/93/02\\nOutput: 26/02/93\\n\\nInput: 04/12/1990\\nOutput: 12/04/1990\\n\\nInput: 03/29/86\\nOutput: 29/03/86\\n\\nInput: 02-19-1998\\nOutput:', 'Input: 26/93/02\\nOutput: 26/02/93\\n\\nInput: 04/12/1990\\nOutput: 12/04/1990\\n\\nInput: 03/29/86\\nOutput: 29/03/86\\n\\nInput: 99/09/03\\nOutput:', 'Input: 26/93/02\\nOutput: 26/02/93\\n\\nInput: 04/12/1990\\nOutput: 12/04/1990\\n\\nInput: 03/29/86\\nOutput: 29/03/86\\n\\nInput: 06-04-2001\\nOutput:', 'Input: 09-29-2015\\nOutput: 29-09-2015\\n\\nInput: 10/15/2002\\nOutput: 15-10-2002\\n\\nInput: 74-03-31\\nOutput: 31-03-74\\n\\nInput: 05-01-2017\\nOutput:', 'Input: 09-29-2015\\nOutput: 29-09-2015\\n\\nInput: 10/15/2002\\nOutput: 15-10-2002\\n\\nInput: 74-03-31\\nOutput: 31-03-74\\n\\nInput: 08-07-2017\\nOutput:', 'Input: 09-29-2015\\nOutput: 29-09-2015\\n\\nInput: 10/15/2002\\nOutput: 15-10-2002\\n\\nInput: 74-03-31\\nOutput: 31-03-74\\n\\nInput: 02/26/1993\\nOutput:', 'Input: 11.02.96\\nOutput: 11-02-96\\n\\nInput: 12/10/99\\nOutput: 12-10-99\\n\\nInput: 29/03/86\\nOutput: 29-03-86\\n\\nInput: 17/05/17\\nOutput:', 'Input: 11.02.96\\nOutput: 11-02-96\\n\\nInput: 12/10/99\\nOutput: 12-10-99\\n\\nInput: 29/03/86\\nOutput: 29-03-86\\n\\nInput: 25-08-85\\nOutput:', 'Input: 11.02.96\\nOutput: 11-02-96\\n\\nInput: 12/10/99\\nOutput: 12-10-99\\n\\nInput: 29/03/86\\nOutput: 29-03-86\\n\\nInput: 30 06 75\\nOutput:', 'Input: 22/10/97\\nOutput: 22-10-97\\n\\nInput: 24/02/88\\nOutput: 24-02-88\\n\\nInput: 25/03/74\\nOutput: 25-03-74\\n\\nInput: 17.10.65\\nOutput:', 'Input: 22/10/97\\nOutput: 22-10-97\\n\\nInput: 24/02/88\\nOutput: 24-02-88\\n\\nInput: 25/03/74\\nOutput: 25-03-74\\n\\nInput: 23/11/18\\nOutput:', 'Input: 22/10/97\\nOutput: 22-10-97\\n\\nInput: 24/02/88\\nOutput: 24-02-88\\n\\nInput: 25/03/74\\nOutput: 25-03-74\\n\\nInput: 29-12-95\\nOutput:', 'Input: 99/12/13\\nOutput: 13\\n\\nInput: 74-03-31\\nOutput: 31\\n\\nInput: 03/29/86\\nOutput: 29\\n\\nInput: 11.02.96\\nOutput:', 'Input: 99/12/13\\nOutput: 13\\n\\nInput: 74-03-31\\nOutput: 31\\n\\nInput: 03/29/86\\nOutput: 29\\n\\nInput: 31/05/17\\nOutput:', 'Input: 99/12/13\\nOutput: 13\\n\\nInput: 74-03-31\\nOutput: 31\\n\\nInput: 03/29/86\\nOutput: 29\\n\\nInput: 25-08-85\\nOutput:', 'Input: 28/10/2013\\nOutput: 28\\n\\nInput: 02/05/2012\\nOutput: 2\\n\\nInput: 09/08/2007\\nOutput: 9\\n\\nInput: 16/01/2017\\nOutput:', 'Input: 28/10/2013\\nOutput: 28\\n\\nInput: 02/05/2012\\nOutput: 2\\n\\nInput: 09/08/2007\\nOutput: 9\\n\\nInput: 01/09/2017\\nOutput:', 'Input: 28/10/2013\\nOutput: 28\\n\\nInput: 02/05/2012\\nOutput: 2\\n\\nInput: 09/08/2007\\nOutput: 9\\n\\nInput: 13/11/2017\\nOutput:', 'Input: 22/10/97\\nOutput: 22\\n\\nInput: 24/02/88\\nOutput: 24\\n\\nInput: 25/03/74\\nOutput: 25\\n\\nInput: 17.10.65\\nOutput:', 'Input: 22/10/97\\nOutput: 22\\n\\nInput: 24/02/88\\nOutput: 24\\n\\nInput: 25/03/74\\nOutput: 25\\n\\nInput: 23/11/18\\nOutput:', 'Input: 22/10/97\\nOutput: 22\\n\\nInput: 24/02/88\\nOutput: 24\\n\\nInput: 25/03/74\\nOutput: 25\\n\\nInput: 29-12-95\\nOutput:', 'Input: 10 12 69\\nOutput: 10th\\n\\nInput: 12/99/13\\nOutput: 13th\\n\\nInput: 3/29/86\\nOutput: 29th\\n\\nInput: 04/05/99\\nOutput:', 'Input: 10 12 69\\nOutput: 10th\\n\\nInput: 12/99/13\\nOutput: 13th\\n\\nInput: 3/29/86\\nOutput: 29th\\n\\nInput: 31/03/75\\nOutput:', 'Input: 10 12 69\\nOutput: 10th\\n\\nInput: 12/99/13\\nOutput: 13th\\n\\nInput: 3/29/86\\nOutput: 29th\\n\\nInput: 09/11/53\\nOutput:', 'Input: 03/06/90\\nOutput: 3rd\\n\\nInput: 27/03/84\\nOutput: 27th\\n\\nInput: 01/04/2005\\nOutput: 1st\\n\\nInput: 27/07/2007\\nOutput:', 'Input: 03/06/90\\nOutput: 3rd\\n\\nInput: 27/03/84\\nOutput: 27th\\n\\nInput: 01/04/2005\\nOutput: 1st\\n\\nInput: 05/09/2008\\nOutput:', 'Input: 03/06/90\\nOutput: 3rd\\n\\nInput: 27/03/84\\nOutput: 27th\\n\\nInput: 01/04/2005\\nOutput: 1st\\n\\nInput: 12/05/2011\\nOutput:', 'Input: 6 December 2017\\nOutput: December\\n\\nInput: 13 November 2008\\nOutput: November\\n\\nInput: 2 of September of 2010, Monday\\nOutput: September\\n\\nInput: June 23, 2007\\nOutput:', 'Input: 6 December 2017\\nOutput: December\\n\\nInput: 13 November 2008\\nOutput: November\\n\\nInput: 2 of September of 2010, Monday\\nOutput: September\\n\\nInput: February 4, 2008\\nOutput:', 'Input: 6 December 2017\\nOutput: December\\n\\nInput: 13 November 2008\\nOutput: November\\n\\nInput: 2 of September of 2010, Monday\\nOutput: September\\n\\nInput: Thursday, October 31, 1985\\nOutput:', 'Input: March 21, 2004\\nOutput: March\\n\\nInput: Tuesday, September 16, 1986\\nOutput: September\\n\\nInput: Monday, June 21, 1999\\nOutput: June\\n\\nInput: 3 August 2009\\nOutput:', 'Input: March 21, 2004\\nOutput: March\\n\\nInput: Tuesday, September 16, 1986\\nOutput: September\\n\\nInput: Monday, June 21, 1999\\nOutput: June\\n\\nInput: Sunday, August 25, 1996\\nOutput:', 'Input: March 21, 2004\\nOutput: March\\n\\nInput: Tuesday, September 16, 1986\\nOutput: September\\n\\nInput: Monday, June 21, 1999\\nOutput: June\\n\\nInput: Saturday, August 2, 2008\\nOutput:', 'Input: Wednesday, 15 October 2003\\nOutput: Wednesday\\n\\nInput: 2 of September of 2010, Monday\\nOutput: Monday\\n\\nInput: Sunday, 9 November 2014\\nOutput: Sunday\\n\\nInput: Saturday, 21 April 2007\\nOutput:', 'Input: Wednesday, 15 October 2003\\nOutput: Wednesday\\n\\nInput: 2 of September of 2010, Monday\\nOutput: Monday\\n\\nInput: Sunday, 9 November 2014\\nOutput: Sunday\\n\\nInput: Sunday, 15 March 2009\\nOutput:', 'Input: Wednesday, 15 October 2003\\nOutput: Wednesday\\n\\nInput: 2 of September of 2010, Monday\\nOutput: Monday\\n\\nInput: Sunday, 9 November 2014\\nOutput: Sunday\\n\\nInput: Sunday, 29 November 2009\\nOutput:', 'Input: Saturday, 30 November 2013\\nOutput: Saturday\\n\\nInput: Friday, 25 November 2011\\nOutput: Friday\\n\\nInput: Friday, 4 June 2010\\nOutput: Friday\\n\\nInput: Thursday, 5 June 2014\\nOutput:', 'Input: Saturday, 30 November 2013\\nOutput: Saturday\\n\\nInput: Friday, 25 November 2011\\nOutput: Friday\\n\\nInput: Friday, 4 June 2010\\nOutput: Friday\\n\\nInput: Tuesday, 16 May 2017\\nOutput:', 'Input: Saturday, 30 November 2013\\nOutput: Saturday\\n\\nInput: Friday, 25 November 2011\\nOutput: Friday\\n\\nInput: Friday, 4 June 2010\\nOutput: Friday\\n\\nInput: Monday, 17 December 2018\\nOutput:', 'Input: 11/30/2017\\nOutput: Nov\\n\\nInput: 15/02/84\\nOutput: Feb\\n\\nInput: 3/29/86\\nOutput: Mar\\n\\nInput: 28/12/2004\\nOutput:', 'Input: 11/30/2017\\nOutput: Nov\\n\\nInput: 15/02/84\\nOutput: Feb\\n\\nInput: 3/29/86\\nOutput: Mar\\n\\nInput: 03/06/2007\\nOutput:', 'Input: 11/30/2017\\nOutput: Nov\\n\\nInput: 15/02/84\\nOutput: Feb\\n\\nInput: 3/29/86\\nOutput: Mar\\n\\nInput: 08/22/2010\\nOutput:', 'Input: 03/18/2014\\nOutput: Mar\\n\\nInput: 31/08/2010\\nOutput: Aug\\n\\nInput: 05/08/98\\nOutput: May\\n\\nInput: 07/05/95\\nOutput:', 'Input: 03/18/2014\\nOutput: Mar\\n\\nInput: 31/08/2010\\nOutput: Aug\\n\\nInput: 05/08/98\\nOutput: May\\n\\nInput: 11/06/2016\\nOutput:', 'Input: 03/18/2014\\nOutput: Mar\\n\\nInput: 31/08/2010\\nOutput: Aug\\n\\nInput: 05/08/98\\nOutput: May\\n\\nInput: 14/06/2017\\nOutput:', 'Input: 9292015\\nOutput: 29-09-2015\\n\\nInput: 20021015\\nOutput: 15-10-2002\\n\\nInput: 20040717\\nOutput: 17-07-2004\\n\\nInput: 5012017\\nOutput:', 'Input: 9292015\\nOutput: 29-09-2015\\n\\nInput: 20021015\\nOutput: 15-10-2002\\n\\nInput: 20040717\\nOutput: 17-07-2004\\n\\nInput: 8072017\\nOutput:', 'Input: 9292015\\nOutput: 29-09-2015\\n\\nInput: 20021015\\nOutput: 15-10-2002\\n\\nInput: 20040717\\nOutput: 17-07-2004\\n\\nInput: 2261993\\nOutput:', 'Input: 6171994\\nOutput: 17/06/1994\\n\\nInput: 8311990\\nOutput: 31/08/1990\\n\\nInput: 11251989\\nOutput: 25/11/1989\\n\\nInput: 6281996\\nOutput:', 'Input: 6171994\\nOutput: 17/06/1994\\n\\nInput: 8311990\\nOutput: 31/08/1990\\n\\nInput: 11251989\\nOutput: 25/11/1989\\n\\nInput: 8222000\\nOutput:', 'Input: 6171994\\nOutput: 17/06/1994\\n\\nInput: 8311990\\nOutput: 31/08/1990\\n\\nInput: 11251989\\nOutput: 25/11/1989\\n\\nInput: 11202001\\nOutput:', 'Input: Lucas;  domain\\nOutput: Lucas@domain.com\\n\\nInput: Logan;  domain\\nOutput: Logan@domain.com\\n\\nInput: Sophia;  domain\\nOutput: Sophia@domain.com\\n\\nInput: Audrey;  domain\\nOutput:', 'Input: Lucas;  domain\\nOutput: Lucas@domain.com\\n\\nInput: Logan;  domain\\nOutput: Logan@domain.com\\n\\nInput: Sophia;  domain\\nOutput: Sophia@domain.com\\n\\nInput: Amelia;  domain\\nOutput:', 'Input: Lucas;  domain\\nOutput: Lucas@domain.com\\n\\nInput: Logan;  domain\\nOutput: Logan@domain.com\\n\\nInput: Sophia;  domain\\nOutput: Sophia@domain.com\\n\\nInput: Laila; domain\\nOutput:', 'Input: elizabeth; gmail\\nOutput: elizabeth@gmail.com\\n\\nInput: aamedo; hecsa\\nOutput: aamedo@hecsa.com\\n\\nInput: bad; girl\\nOutput: bad@girl.com\\n\\nInput: carnes; hotmail\\nOutput:', 'Input: elizabeth; gmail\\nOutput: elizabeth@gmail.com\\n\\nInput: aamedo; hecsa\\nOutput: aamedo@hecsa.com\\n\\nInput: bad; girl\\nOutput: bad@girl.com\\n\\nInput: agada; petrok\\nOutput:', 'Input: elizabeth; gmail\\nOutput: elizabeth@gmail.com\\n\\nInput: aamedo; hecsa\\nOutput: aamedo@hecsa.com\\n\\nInput: bad; girl\\nOutput: bad@girl.com\\n\\nInput: joypao; hotmail\\nOutput:', 'Input: masenjo; gmail\\nOutput: masenjo@gmail.com\\n\\nInput: arquitecto; gmail\\nOutput: arquitecto@gmail.com\\n\\nInput: carlos; gmail\\nOutput: carlos@gmail.com\\n\\nInput: Sergio; adretail\\nOutput:', 'Input: masenjo; gmail\\nOutput: masenjo@gmail.com\\n\\nInput: arquitecto; gmail\\nOutput: arquitecto@gmail.com\\n\\nInput: carlos; gmail\\nOutput: carlos@gmail.com\\n\\nInput: casper; canal13\\nOutput:', 'Input: masenjo; gmail\\nOutput: masenjo@gmail.com\\n\\nInput: arquitecto; gmail\\nOutput: arquitecto@gmail.com\\n\\nInput: carlos; gmail\\nOutput: carlos@gmail.com\\n\\nInput: banto; gmail\\nOutput:', 'Input: medrlanes@hotmail.com\\nOutput: hotmail.com\\n\\nInput: iabetrae@yahoo.es\\nOutput: yahoo.es\\n\\nInput: TheStupidGamer@gmail.com\\nOutput: gmail.com\\n\\nInput: osaeswca@hotmail.com\\nOutput:', 'Input: medrlanes@hotmail.com\\nOutput: hotmail.com\\n\\nInput: iabetrae@yahoo.es\\nOutput: yahoo.es\\n\\nInput: TheStupidGamer@gmail.com\\nOutput: gmail.com\\n\\nInput: caedgigo@garmendia.cl\\nOutput:', 'Input: medrlanes@hotmail.com\\nOutput: hotmail.com\\n\\nInput: iabetrae@yahoo.es\\nOutput: yahoo.es\\n\\nInput: TheStupidGamer@gmail.com\\nOutput: gmail.com\\n\\nInput: Sb.edhxo.sk8@hotmail.com\\nOutput:', 'Input: ikxvgrojo@hotmail.com\\nOutput: hotmail.com\\n\\nInput: cawdvguileram@hotmail.com \\nOutput: hotmail.com\\n\\nInput: fedn.arll@live.cl\\nOutput: live.cl\\n\\nInput: dala_aguera_m500@hotmail.com\\nOutput:', 'Input: ikxvgrojo@hotmail.com\\nOutput: hotmail.com\\n\\nInput: cawdvguileram@hotmail.com \\nOutput: hotmail.com\\n\\nInput: fedn.arll@live.cl\\nOutput: live.cl\\n\\nInput: viceala@hotmail.com\\nOutput:', 'Input: ikxvgrojo@hotmail.com\\nOutput: hotmail.com\\n\\nInput: cawdvguileram@hotmail.com \\nOutput: hotmail.com\\n\\nInput: fedn.arll@live.cl\\nOutput: live.cl\\n\\nInput: alter3@hotmail.com\\nOutput:', 'Input: niertox__@hotmail.com\\nOutput: hotmail.com\\n\\nInput: apalyusg@hotmail.com\\nOutput: hotmail.com\\n\\nInput: capseguilera@hotmail.com\\nOutput: hotmail.com\\n\\nInput: luuuddi@hotmail.com\\nOutput:', 'Input: niertox__@hotmail.com\\nOutput: hotmail.com\\n\\nInput: apalyusg@hotmail.com\\nOutput: hotmail.com\\n\\nInput: capseguilera@hotmail.com\\nOutput: hotmail.com\\n\\nInput: krrt_sirre_ss@hotmail.com\\nOutput:', 'Input: niertox__@hotmail.com\\nOutput: hotmail.com\\n\\nInput: apalyusg@hotmail.com\\nOutput: hotmail.com\\n\\nInput: capseguilera@hotmail.com\\nOutput: hotmail.com\\n\\nInput: masin@hotmail.com\\nOutput:', 'Input: Jan.Kotas@litwareinc.com\\nOutput: Kotas\\n\\nInput: Andrew.Cencici@northwindtraders.com\\nOutput: Cencici\\n\\nInput: Nancy.FreeHafer@fourthcoffee.com\\nOutput: FreeHafer\\n\\nInput: Mariya.Sergienko@gradicdesigninstitute.com\\nOutput:', 'Input: Jan.Kotas@litwareinc.com\\nOutput: Kotas\\n\\nInput: Andrew.Cencici@northwindtraders.com\\nOutput: Cencici\\n\\nInput: Nancy.FreeHafer@fourthcoffee.com\\nOutput: FreeHafer\\n\\nInput: Steven.Thorpe@northwindtraders.com\\nOutput:', 'Input: Jan.Kotas@litwareinc.com\\nOutput: Kotas\\n\\nInput: Andrew.Cencici@northwindtraders.com\\nOutput: Cencici\\n\\nInput: Nancy.FreeHafer@fourthcoffee.com\\nOutput: FreeHafer\\n\\nInput: Michael.Neipper@northwindtraders.com\\nOutput:', 'Input: Anne.Hill@northwindtraders.com\\nOutput: Hill\\n\\nInput: Laura.Giussani@adventure-works.com\\nOutput: Giussani\\n\\nInput: Robert.Zare@northwindtraders.com\\nOutput: Zare\\n\\nInput: Alexander.David@contoso.com\\nOutput:', 'Input: Anne.Hill@northwindtraders.com\\nOutput: Hill\\n\\nInput: Laura.Giussani@adventure-works.com\\nOutput: Giussani\\n\\nInput: Robert.Zare@northwindtraders.com\\nOutput: Zare\\n\\nInput: Kim.Shane@northwindtraders.com\\nOutput:', 'Input: Anne.Hill@northwindtraders.com\\nOutput: Hill\\n\\nInput: Laura.Giussani@adventure-works.com\\nOutput: Giussani\\n\\nInput: Robert.Zare@northwindtraders.com\\nOutput: Zare\\n\\nInput: Manish.Chopra@northwindtraders.com\\nOutput:', 'Input: Yvonne.McKay@northwindtraders.com\\nOutput: McKay\\n\\nInput: Amr.Zaki@northwindtraders.com\\nOutput: Zaki\\n\\nInput: Gerwald.Oberleitner@northwindtraders.com\\nOutput: Oberleitner\\n\\nInput: Amanda.Pinto@northwindtraders.com\\nOutput:', 'Input: Yvonne.McKay@northwindtraders.com\\nOutput: McKay\\n\\nInput: Amr.Zaki@northwindtraders.com\\nOutput: Zaki\\n\\nInput: Gerwald.Oberleitner@northwindtraders.com\\nOutput: Oberleitner\\n\\nInput: krrt.sirre@hotmail.com\\nOutput:', 'Input: Yvonne.McKay@northwindtraders.com\\nOutput: McKay\\n\\nInput: Amr.Zaki@northwindtraders.com\\nOutput: Zaki\\n\\nInput: Gerwald.Oberleitner@northwindtraders.com\\nOutput: Oberleitner\\n\\nInput: masin.a@hotmail.com\\nOutput:', 'Input: 09:50-09:55\\nOutput: 09:55\\n\\nInput: 09:50-08:30\\nOutput: 08:30\\n\\nInput: 09:40-09:50\\nOutput: 09:50\\n\\nInput: 05:50-06:30\\nOutput:', 'Input: 09:50-09:55\\nOutput: 09:55\\n\\nInput: 09:50-08:30\\nOutput: 08:30\\n\\nInput: 09:40-09:50\\nOutput: 09:50\\n\\nInput: 06:50-07:30\\nOutput:', 'Input: 09:50-09:55\\nOutput: 09:55\\n\\nInput: 09:50-08:30\\nOutput: 08:30\\n\\nInput: 09:40-09:50\\nOutput: 09:50\\n\\nInput: 08:50-09:30\\nOutput:', 'Input: 09:50-09:55\\nOutput: 09:55\\n\\nInput: 08:30-09:50\\nOutput: 09:50\\n\\nInput: 09:50-09:40\\nOutput: 09:40\\n\\nInput: 05:50-06:30\\nOutput:', 'Input: 09:50-09:55\\nOutput: 09:55\\n\\nInput: 08:30-09:50\\nOutput: 09:50\\n\\nInput: 09:50-09:40\\nOutput: 09:40\\n\\nInput: 06:40-05:30\\nOutput:', 'Input: 09:50-09:55\\nOutput: 09:55\\n\\nInput: 08:30-09:50\\nOutput: 09:50\\n\\nInput: 09:50-09:40\\nOutput: 09:40\\n\\nInput: 06:30-03:30\\nOutput:', 'Input: 11/23/2011; us_23nov11.log\\nOutput: 23nov11\\n\\nInput: 05.03.2010; in_5mar10.log\\nOutput: 5mar10\\n\\nInput: 09/08/2011; us_8sep11.log\\nOutput: 8sep11\\n\\nInput: 09.08.2010; in_9aug10.log\\nOutput:', 'Input: 11/23/2011; us_23nov11.log\\nOutput: 23nov11\\n\\nInput: 05.03.2010; in_5mar10.log\\nOutput: 5mar10\\n\\nInput: 09/08/2011; us_8sep11.log\\nOutput: 8sep11\\n\\nInput: 14.09.2010; in_14sep10.log\\nOutput:', 'Input: 11/23/2011; us_23nov11.log\\nOutput: 23nov11\\n\\nInput: 05.03.2010; in_5mar10.log\\nOutput: 5mar10\\n\\nInput: 09/08/2011; us_8sep11.log\\nOutput: 8sep11\\n\\nInput: 06/15/2011; us_15jun11.log\\nOutput:', 'Input: 09/24/2011; us_24sep11.log\\nOutput: 24sep11\\n\\nInput: 04.02.2010; in_4feb10.log\\nOutput: 4feb10\\n\\nInput: 09/12/2014; us_12sep14.log\\nOutput: 12sep14\\n\\nInput: 07.12.2011; in_7dec11.log\\nOutput:', 'Input: 09/24/2011; us_24sep11.log\\nOutput: 24sep11\\n\\nInput: 04.02.2010; in_4feb10.log\\nOutput: 4feb10\\n\\nInput: 09/12/2014; us_12sep14.log\\nOutput: 12sep14\\n\\nInput: 08.11.2010; in_8nov10.log\\nOutput:', 'Input: 09/24/2011; us_24sep11.log\\nOutput: 24sep11\\n\\nInput: 04.02.2010; in_4feb10.log\\nOutput: 4feb10\\n\\nInput: 09/12/2014; us_12sep14.log\\nOutput: 12sep14\\n\\nInput: 07/12/2011; us_7dec11.log\\nOutput:', 'Input: CPT-00350]\\nOutput: [CPT-00350]\\n\\nInput: [CPT-00340\\nOutput: [CPT-00340]\\n\\nInput: [CPT-00350\\nOutput: [CPT-00350]\\n\\nInput: [CPT-00340]\\nOutput:', 'Input: CPT-00350]\\nOutput: [CPT-00350]\\n\\nInput: [CPT-00340\\nOutput: [CPT-00340]\\n\\nInput: [CPT-00350\\nOutput: [CPT-00350]\\n\\nInput: CPT-00350\\nOutput:', 'Input: CPT-00350]\\nOutput: [CPT-00350]\\n\\nInput: [CPT-00340\\nOutput: [CPT-00340]\\n\\nInput: [CPT-00350\\nOutput: [CPT-00350]\\n\\nInput: CPT-00340]\\nOutput:', 'Input: pharetra-2345]\\nOutput: [pharetra-2345]\\n\\nInput: [ullamcorper-234\\nOutput: [ullamcorper-234]\\n\\nInput: [Phasellus-234\\nOutput: [Phasellus-234]\\n\\nInput: odio-345]\\nOutput:', 'Input: pharetra-2345]\\nOutput: [pharetra-2345]\\n\\nInput: [ullamcorper-234\\nOutput: [ullamcorper-234]\\n\\nInput: [Phasellus-234\\nOutput: [Phasellus-234]\\n\\nInput: [eu-345\\nOutput:', 'Input: pharetra-2345]\\nOutput: [pharetra-2345]\\n\\nInput: [ullamcorper-234\\nOutput: [ullamcorper-234]\\n\\nInput: [Phasellus-234\\nOutput: [Phasellus-234]\\n\\nInput: iaculis-345\\nOutput:', 'Input: 1-408-789-4561\\nOutput: 14087894561\\n\\nInput: 1-503-897-4567\\nOutput: 15038974567\\n\\nInput: 1-452-789-4567\\nOutput: 14527894567\\n\\nInput: 1-406-789-1562\\nOutput:', 'Input: 1-408-789-4561\\nOutput: 14087894561\\n\\nInput: 1-503-897-4567\\nOutput: 15038974567\\n\\nInput: 1-452-789-4567\\nOutput: 14527894567\\n\\nInput: 1-845-456-7891\\nOutput:', 'Input: 1-408-789-4561\\nOutput: 14087894561\\n\\nInput: 1-503-897-4567\\nOutput: 15038974567\\n\\nInput: 1-452-789-4567\\nOutput: 14527894567\\n\\nInput: 1-845-333-7891\\nOutput:', 'Input: 1-4569\\nOutput: 14569\\n\\nInput: 1-4568\\nOutput: 14568\\n\\nInput: 1-4565\\nOutput: 14565\\n\\nInput: 1-1562\\nOutput:', 'Input: 1-4569\\nOutput: 14569\\n\\nInput: 1-4568\\nOutput: 14568\\n\\nInput: 1-4565\\nOutput: 14565\\n\\nInput: 1-7891\\nOutput:', 'Input: 1-4569\\nOutput: 14569\\n\\nInput: 1-4568\\nOutput: 14568\\n\\nInput: 1-4565\\nOutput: 14565\\n\\nInput: 1-7892\\nOutput:', 'Input: Nam vitae orci quis nunc sodales rutrum sit amet dictum mi.\\nOutput: Namvitaeorciquisnuncsodalesrutrumsitametdictummi\\n\\nInput: Morbi fermentum sem sit amet nibh mattis semper.\\nOutput: Morbifermentumsemsitametnibhmattissemper\\n\\nInput: Integer pulvinar felis sit amet venenatis consequat.\\nOutput: Integerpulvinarfelissitametvenenatisconsequat\\n\\nInput: Sed convallis diam imperdiet urna tincidunt consectetur.\\nOutput:', 'Input: Nam vitae orci quis nunc sodales rutrum sit amet dictum mi.\\nOutput: Namvitaeorciquisnuncsodalesrutrumsitametdictummi\\n\\nInput: Morbi fermentum sem sit amet nibh mattis semper.\\nOutput: Morbifermentumsemsitametnibhmattissemper\\n\\nInput: Integer pulvinar felis sit amet venenatis consequat.\\nOutput: Integerpulvinarfelissitametvenenatisconsequat\\n\\nInput: Etiam dapibus tortor sed cursus blandit.\\nOutput:', 'Input: Nam vitae orci quis nunc sodales rutrum sit amet dictum mi.\\nOutput: Namvitaeorciquisnuncsodalesrutrumsitametdictummi\\n\\nInput: Morbi fermentum sem sit amet nibh mattis semper.\\nOutput: Morbifermentumsemsitametnibhmattissemper\\n\\nInput: Integer pulvinar felis sit amet venenatis consequat.\\nOutput: Integerpulvinarfelissitametvenenatisconsequat\\n\\nInput: Quisque mattis dolor ac metus fermentum consectetur.\\nOutput:', 'Input: Vestibulum dignissim orci quis auctor finibus.\\nOutput: Vestibulumdignissimorciquisauctorfinibus\\n\\nInput: Donec blandit orci at purus lobortis ornare.\\nOutput: Donecblanditorciatpuruslobortisornare\\n\\nInput: Lorem ipsum dolor sit amet, consectetur adipiscing elit.\\nOutput: Loremipsumdolorsitametconsecteturadipiscingelit\\n\\nInput: Praesent sed ipsum euismod, tempor dolor at, varius leo.\\nOutput:', 'Input: Vestibulum dignissim orci quis auctor finibus.\\nOutput: Vestibulumdignissimorciquisauctorfinibus\\n\\nInput: Donec blandit orci at purus lobortis ornare.\\nOutput: Donecblanditorciatpuruslobortisornare\\n\\nInput: Lorem ipsum dolor sit amet, consectetur adipiscing elit.\\nOutput: Loremipsumdolorsitametconsecteturadipiscingelit\\n\\nInput: Integer malesuada elit et hendrerit fermentum.\\nOutput:', 'Input: Vestibulum dignissim orci quis auctor finibus.\\nOutput: Vestibulumdignissimorciquisauctorfinibus\\n\\nInput: Donec blandit orci at purus lobortis ornare.\\nOutput: Donecblanditorciatpuruslobortisornare\\n\\nInput: Lorem ipsum dolor sit amet, consectetur adipiscing elit.\\nOutput: Loremipsumdolorsitametconsecteturadipiscingelit\\n\\nInput: Pellentesque tempor justo a dui varius maximus.\\nOutput:', 'Input: Aenean ultrices dolor eu aliquam sollicitudin\\nOutput: Aeneanultricesdoloreualiquamsollicitudin\\n\\nInput: Phasellus tempus lectus sit amet nisl ultricies eget pretium odio semper\\nOutput: Phasellustempuslectussitametnislultriciesegetpretiumodiosemper\\n\\nInput: Sed quis nibh a metus ultricies commodo eu sit amet sem\\nOutput: Sedquisnibhametusultriciescommodoeusitametsem\\n\\nInput: Vivamus elementum tellus et mattis dapibus\\nOutput:', 'Input: Aenean ultrices dolor eu aliquam sollicitudin\\nOutput: Aeneanultricesdoloreualiquamsollicitudin\\n\\nInput: Phasellus tempus lectus sit amet nisl ultricies eget pretium odio semper\\nOutput: Phasellustempuslectussitametnislultriciesegetpretiumodiosemper\\n\\nInput: Sed quis nibh a metus ultricies commodo eu sit amet sem\\nOutput: Sedquisnibhametusultriciescommodoeusitametsem\\n\\nInput: Mauris fringilla neque nec libero consequat quis facilisis nisi tristique\\nOutput:', 'Input: Aenean ultrices dolor eu aliquam sollicitudin\\nOutput: Aeneanultricesdoloreualiquamsollicitudin\\n\\nInput: Phasellus tempus lectus sit amet nisl ultricies eget pretium odio semper\\nOutput: Phasellustempuslectussitametnislultriciesegetpretiumodiosemper\\n\\nInput: Sed quis nibh a metus ultricies commodo eu sit amet sem\\nOutput: Sedquisnibhametusultriciescommodoeusitametsem\\n\\nInput: Nam cursus purus nec mi maximus fermentum\\nOutput:', 'Input: BTR KRNL WK CORN 15Z\\nOutput: 15Z\\n\\nInput: DRY NDL 0.23 KG\\nOutput: 0.23 KG\\n\\nInput: CAMP DRY DBL NDL 3.6 OZ\\nOutput: 3.6 OZ\\n\\nInput: CHORE BOY HD SC SPNG 1 PK\\nOutput:', 'Input: BTR KRNL WK CORN 15Z\\nOutput: 15Z\\n\\nInput: DRY NDL 0.23 KG\\nOutput: 0.23 KG\\n\\nInput: CAMP DRY DBL NDL 3.6 OZ\\nOutput: 3.6 OZ\\n\\nInput: FRENCH WORCESTERSHIRE 5 Z\\nOutput:', 'Input: BTR KRNL WK CORN 15Z\\nOutput: 15Z\\n\\nInput: DRY NDL 0.23 KG\\nOutput: 0.23 KG\\n\\nInput: CAMP DRY DBL NDL 3.6 OZ\\nOutput: 3.6 OZ\\n\\nInput: O F TOMATO PASTE 6 OZ\\nOutput:', 'Input: hombre\\nOutput: h\\n\\nInput: female\\nOutput: f\\n\\nInput: male\\nOutput: m\\n\\nInput: mujer\\nOutput:', 'Input: hombre\\nOutput: h\\n\\nInput: female\\nOutput: f\\n\\nInput: male\\nOutput: m\\n\\nInput: doctor\\nOutput:', 'Input: hombre\\nOutput: h\\n\\nInput: female\\nOutput: f\\n\\nInput: male\\nOutput: m\\n\\nInput: professional\\nOutput:', 'Input: magna\\nOutput: m\\n\\nInput: molestie\\nOutput: m\\n\\nInput: ac\\nOutput: a\\n\\nInput: vulputate\\nOutput:', 'Input: magna\\nOutput: m\\n\\nInput: molestie\\nOutput: m\\n\\nInput: ac\\nOutput: a\\n\\nInput: id\\nOutput:', 'Input: magna\\nOutput: m\\n\\nInput: molestie\\nOutput: m\\n\\nInput: ac\\nOutput: a\\n\\nInput: Aliquam\\nOutput:', 'Input: Newark, United States\\nOutput: United States\\n\\nInput: Los Angeles, United States of America\\nOutput: United States of America\\n\\nInput: Mumbai, India\\nOutput: India\\n\\nInput: New York, United States of America\\nOutput:', 'Input: Newark, United States\\nOutput: United States\\n\\nInput: Los Angeles, United States of America\\nOutput: United States of America\\n\\nInput: Mumbai, India\\nOutput: India\\n\\nInput: Wellington, New Zealand\\nOutput:', 'Input: Newark, United States\\nOutput: United States\\n\\nInput: Los Angeles, United States of America\\nOutput: United States of America\\n\\nInput: Mumbai, India\\nOutput: India\\n\\nInput: New Delhi, India\\nOutput:', 'Input: Washington D.C., United States of America\\nOutput: United States of America\\n\\nInput: Sydney, Australia\\nOutput: Australia\\n\\nInput: Valencia, Spain\\nOutput: Spain\\n\\nInput: Melbourne, Australia\\nOutput:', 'Input: Washington D.C., United States of America\\nOutput: United States of America\\n\\nInput: Sydney, Australia\\nOutput: Australia\\n\\nInput: Valencia, Spain\\nOutput: Spain\\n\\nInput: Riva del Garda, Italy\\nOutput:', 'Input: Washington D.C., United States of America\\nOutput: United States of America\\n\\nInput: Sydney, Australia\\nOutput: Australia\\n\\nInput: Valencia, Spain\\nOutput: Spain\\n\\nInput: Strasbourg, France\\nOutput:', 'Input: 64 128th St,Seattle, WA 98102\\nOutput: Seattle\\n\\nInput: 512 Wir Ave,Los Angeles, CA 78911\\nOutput: Los Angeles\\n\\nInput: 243 Flyer Dr,Cambridge, MA 02145\\nOutput: Cambridge\\n\\nInput: 560 Heal St,San Mateo, CA 94129\\nOutput:', 'Input: 64 128th St,Seattle, WA 98102\\nOutput: Seattle\\n\\nInput: 512 Wir Ave,Los Angeles, CA 78911\\nOutput: Los Angeles\\n\\nInput: 243 Flyer Dr,Cambridge, MA 02145\\nOutput: Cambridge\\n\\nInput: 45 23rd St,New York, NY 98102\\nOutput:', 'Input: 64 128th St,Seattle, WA 98102\\nOutput: Seattle\\n\\nInput: 512 Wir Ave,Los Angeles, CA 78911\\nOutput: Los Angeles\\n\\nInput: 243 Flyer Dr,Cambridge, MA 02145\\nOutput: Cambridge\\n\\nInput: 64 Lol St,DC, DC 94129\\nOutput:', 'Input: International Conference on Software Engineering\\nOutput: ICSE\\n\\nInput: Principles Of Programming Languages\\nOutput: POPL\\n\\nInput: International Business Machines\\nOutput: IBM\\n\\nInput: International Conference on Data Mining series\\nOutput:', 'Input: International Conference on Software Engineering\\nOutput: ICSE\\n\\nInput: Principles Of Programming Languages\\nOutput: POPL\\n\\nInput: International Business Machines\\nOutput: IBM\\n\\nInput: European Data Science Conference\\nOutput:', 'Input: International Conference on Software Engineering\\nOutput: ICSE\\n\\nInput: Principles Of Programming Languages\\nOutput: POPL\\n\\nInput: International Business Machines\\nOutput: IBM\\n\\nInput: International Conference on Computational Science\\nOutput:', 'Input: Architectural Support for Programming Languages and Operating Systems\\nOutput: ASPLOS\\n\\nInput: Association of Computational Linguistics\\nOutput: ACL\\n\\nInput: American Association for Artificial Intelligence\\nOutput: AAAI\\n\\nInput: Computer Aided Verification\\nOutput:', 'Input: Architectural Support for Programming Languages and Operating Systems\\nOutput: ASPLOS\\n\\nInput: Association of Computational Linguistics\\nOutput: ACL\\n\\nInput: American Association for Artificial Intelligence\\nOutput: AAAI\\n\\nInput: Computer and Communications Security\\nOutput:', 'Input: Architectural Support for Programming Languages and Operating Systems\\nOutput: ASPLOS\\n\\nInput: Association of Computational Linguistics\\nOutput: ACL\\n\\nInput: American Association for Artificial Intelligence\\nOutput: AAAI\\n\\nInput: Conference on Computational Learning Theory\\nOutput:', 'Input: High Performance Computer Architecture\\nOutput: HPCA\\n\\nInput: Data Compression Conference\\nOutput: DCC\\n\\nInput: Conference on Computer Vision and Pattern Recognition\\nOutput: CVPR\\n\\nInput: International Conference on Automated Planning and Scheduling\\nOutput:', 'Input: High Performance Computer Architecture\\nOutput: HPCA\\n\\nInput: Data Compression Conference\\nOutput: DCC\\n\\nInput: Conference on Computer Vision and Pattern Recognition\\nOutput: CVPR\\n\\nInput: International Conference on Computer Vision\\nOutput:', 'Input: High Performance Computer Architecture\\nOutput: HPCA\\n\\nInput: Data Compression Conference\\nOutput: DCC\\n\\nInput: Conference on Computer Vision and Pattern Recognition\\nOutput: CVPR\\n\\nInput: International Conference on Data Engineering\\nOutput:', 'Input: Nam vitae orci quis nunc sodales rutrum sit amet dictum mi.\\nOutput: NAM VITAE ORCI QUIS NUNC SODALES RUTRUM SIT AMET DICTUM MI\\n\\nInput: Morbi fermentum sem sit amet nibh mattis semper.\\nOutput: MORBI FERMENTUM SEM SIT AMET NIBH MATTIS SEMPER\\n\\nInput: Integer pulvinar felis sit amet venenatis consequat.\\nOutput: INTEGER PULVINAR FELIS SIT AMET VENENATIS CONSEQUAT\\n\\nInput: Sed convallis diam imperdiet urna tincidunt consectetur.\\nOutput:', 'Input: Nam vitae orci quis nunc sodales rutrum sit amet dictum mi.\\nOutput: NAM VITAE ORCI QUIS NUNC SODALES RUTRUM SIT AMET DICTUM MI\\n\\nInput: Morbi fermentum sem sit amet nibh mattis semper.\\nOutput: MORBI FERMENTUM SEM SIT AMET NIBH MATTIS SEMPER\\n\\nInput: Integer pulvinar felis sit amet venenatis consequat.\\nOutput: INTEGER PULVINAR FELIS SIT AMET VENENATIS CONSEQUAT\\n\\nInput: Etiam dapibus tortor sed cursus blandit.\\nOutput:', 'Input: Nam vitae orci quis nunc sodales rutrum sit amet dictum mi.\\nOutput: NAM VITAE ORCI QUIS NUNC SODALES RUTRUM SIT AMET DICTUM MI\\n\\nInput: Morbi fermentum sem sit amet nibh mattis semper.\\nOutput: MORBI FERMENTUM SEM SIT AMET NIBH MATTIS SEMPER\\n\\nInput: Integer pulvinar felis sit amet venenatis consequat.\\nOutput: INTEGER PULVINAR FELIS SIT AMET VENENATIS CONSEQUAT\\n\\nInput: Quisque mattis dolor ac metus fermentum consectetur.\\nOutput:', 'Input: Vestibulum dignissim orci quis auctor finibus.\\nOutput: VESTIBULUM DIGNISSIM ORCI QUIS AUCTOR FINIBUS\\n\\nInput: Donec blandit orci at purus lobortis ornare.\\nOutput: DONEC BLANDIT ORCI AT PURUS LOBORTIS ORNARE\\n\\nInput: Lorem ipsum dolor sit amet, consectetur adipiscing elit.\\nOutput: LOREM IPSUM DOLOR SIT AMET, CONSECTETUR ADIPISCING ELIT\\n\\nInput: Praesent sed ipsum euismod, tempor dolor at, varius leo.\\nOutput:', 'Input: Vestibulum dignissim orci quis auctor finibus.\\nOutput: VESTIBULUM DIGNISSIM ORCI QUIS AUCTOR FINIBUS\\n\\nInput: Donec blandit orci at purus lobortis ornare.\\nOutput: DONEC BLANDIT ORCI AT PURUS LOBORTIS ORNARE\\n\\nInput: Lorem ipsum dolor sit amet, consectetur adipiscing elit.\\nOutput: LOREM IPSUM DOLOR SIT AMET, CONSECTETUR ADIPISCING ELIT\\n\\nInput: Integer malesuada elit et hendrerit fermentum.\\nOutput:', 'Input: Vestibulum dignissim orci quis auctor finibus.\\nOutput: VESTIBULUM DIGNISSIM ORCI QUIS AUCTOR FINIBUS\\n\\nInput: Donec blandit orci at purus lobortis ornare.\\nOutput: DONEC BLANDIT ORCI AT PURUS LOBORTIS ORNARE\\n\\nInput: Lorem ipsum dolor sit amet, consectetur adipiscing elit.\\nOutput: LOREM IPSUM DOLOR SIT AMET, CONSECTETUR ADIPISCING ELIT\\n\\nInput: Pellentesque tempor justo a dui varius maximus.\\nOutput:', 'Input: Benjamin; 2\\nOutput: Mr. Benjamin\\n\\nInput: Simon; 1\\nOutput: Sr. Simon\\n\\nInput: Roger; 2\\nOutput: Mr. Roger\\n\\nInput: John; 5\\nOutput:', 'Input: Benjamin; 2\\nOutput: Mr. Benjamin\\n\\nInput: Simon; 1\\nOutput: Sr. Simon\\n\\nInput: Roger; 2\\nOutput: Mr. Roger\\n\\nInput: Schur; 2\\nOutput:', 'Input: Benjamin; 2\\nOutput: Mr. Benjamin\\n\\nInput: Simon; 1\\nOutput: Sr. Simon\\n\\nInput: Roger; 2\\nOutput: Mr. Roger\\n\\nInput: Randalf; 1\\nOutput:', 'Input: Agustino; 5\\nOutput: D. Agustino\\n\\nInput: Ragsh; 6\\nOutput: Prof. Ragsh\\n\\nInput: Guigen; 5\\nOutput: D. Guigen\\n\\nInput: Hass; 2\\nOutput:', 'Input: Agustino; 5\\nOutput: D. Agustino\\n\\nInput: Ragsh; 6\\nOutput: Prof. Ragsh\\n\\nInput: Guigen; 5\\nOutput: D. Guigen\\n\\nInput: Jones; 1\\nOutput:', 'Input: Agustino; 5\\nOutput: D. Agustino\\n\\nInput: Ragsh; 6\\nOutput: Prof. Ragsh\\n\\nInput: Guigen; 5\\nOutput: D. Guigen\\n\\nInput: Lopez; 5\\nOutput:', 'Input: Prof. Edward Davis\\nOutput: Prof.\\n\\nInput: Louis Johnson, PhD\\nOutput: PhD\\n\\nInput: Dr. Mark Sipser\\nOutput: Dr.\\n\\nInput: Robert Mills\\nOutput:', 'Input: Prof. Edward Davis\\nOutput: Prof.\\n\\nInput: Louis Johnson, PhD\\nOutput: PhD\\n\\nInput: Dr. Mark Sipser\\nOutput: Dr.\\n\\nInput: David Jones, PhD\\nOutput:', 'Input: Prof. Edward Davis\\nOutput: Prof.\\n\\nInput: Louis Johnson, PhD\\nOutput: PhD\\n\\nInput: Dr. Mark Sipser\\nOutput: Dr.\\n\\nInput: Mr. Lopez\\nOutput:', 'Input: Prof. H. Huifen\\nOutput: Prof.\\n\\nInput: Prof. R.G.H. Laabertink\\nOutput: Prof.\\n\\nInput: Dr. B. Schdur\\nOutput: Dr.\\n\\nInput: Mr. Ragsh Mutgoo\\nOutput:', 'Input: Prof. H. Huifen\\nOutput: Prof.\\n\\nInput: Prof. R.G.H. Laabertink\\nOutput: Prof.\\n\\nInput: Dr. B. Schdur\\nOutput: Dr.\\n\\nInput: Mr. Agustino Zimmann\\nOutput:', 'Input: Prof. H. Huifen\\nOutput: Prof.\\n\\nInput: Prof. R.G.H. Laabertink\\nOutput: Prof.\\n\\nInput: Dr. B. Schdur\\nOutput: Dr.\\n\\nInput: Mr. Hass Hooggen\\nOutput:', 'Input: Carmen Funcsrentano\\nOutput: cafu\\n\\nInput: Federico A. Fithsakampf\\nOutput: fefi\\n\\nInput: Guillermo Filiepatos\\nOutput: gufi\\n\\nInput: Diana Gada Arosia\\nOutput:', 'Input: Carmen Funcsrentano\\nOutput: cafu\\n\\nInput: Federico A. Fithsakampf\\nOutput: fefi\\n\\nInput: Guillermo Filiepatos\\nOutput: gufi\\n\\nInput: Dario Gag-Dorado\\nOutput:', 'Input: Carmen Funcsrentano\\nOutput: cafu\\n\\nInput: Federico A. Fithsakampf\\nOutput: fefi\\n\\nInput: Guillermo Filiepatos\\nOutput: gufi\\n\\nInput: Paco Gabot Narale\\nOutput:', 'Input: Damian Gobbee\\nOutput: dago\\n\\nInput: Berta Gornek\\nOutput: bego\\n\\nInput: Maria Sartori\\nOutput: masa\\n\\nInput: Antonio Lopez Hernandez\\nOutput:', 'Input: Damian Gobbee\\nOutput: dago\\n\\nInput: Berta Gornek\\nOutput: bego\\n\\nInput: Maria Sartori\\nOutput: masa\\n\\nInput: Daman Hivser-Kleiner\\nOutput:', 'Input: Damian Gobbee\\nOutput: dago\\n\\nInput: Berta Gornek\\nOutput: bego\\n\\nInput: Maria Sartori\\nOutput: masa\\n\\nInput: Giussepe Hindravtoks\\nOutput:', 'Input: Bill Gates, Sr.\\nOutput: Gates, B.\\n\\nInput: Prof. Kathleen S. Fisher\\nOutput: Fisher, K.\\n\\nInput: Dr. Eran Yahav\\nOutput: Yahav, E.\\n\\nInput: George Ciprian Necula\\nOutput:', 'Input: Bill Gates, Sr.\\nOutput: Gates, B.\\n\\nInput: Prof. Kathleen S. Fisher\\nOutput: Fisher, K.\\n\\nInput: Dr. Eran Yahav\\nOutput: Yahav, E.\\n\\nInput: Ken McMillan, II\\nOutput:', 'Input: Bill Gates, Sr.\\nOutput: Gates, B.\\n\\nInput: Prof. Kathleen S. Fisher\\nOutput: Fisher, K.\\n\\nInput: Dr. Eran Yahav\\nOutput: Yahav, E.\\n\\nInput: Mr. David Jones\\nOutput:', 'Input: Carmen Funcsrentano\\nOutput: Funcsrentano, C.\\n\\nInput: Federico A. Fthskampf\\nOutput: Fthskampf, F.\\n\\nInput: Guillermo Filiepatos\\nOutput: Filiepatos, G.\\n\\nInput: Diana Gada\\nOutput:', 'Input: Carmen Funcsrentano\\nOutput: Funcsrentano, C.\\n\\nInput: Federico A. Fthskampf\\nOutput: Fthskampf, F.\\n\\nInput: Guillermo Filiepatos\\nOutput: Filiepatos, G.\\n\\nInput: Dario Gag-Dorado\\nOutput:', 'Input: Carmen Funcsrentano\\nOutput: Funcsrentano, C.\\n\\nInput: Federico A. Fthskampf\\nOutput: Fthskampf, F.\\n\\nInput: Guillermo Filiepatos\\nOutput: Filiepatos, G.\\n\\nInput: Mr. Paco Gabt\\nOutput:', 'Input: Damian Gobbee\\nOutput: Gobbee, D.\\n\\nInput: Dr. Bruno Gornek\\nOutput: Gornek, B.\\n\\nInput: Maria Glikgon\\nOutput: Glikgon, M.\\n\\nInput: Antonio Hege\\nOutput:', 'Input: Damian Gobbee\\nOutput: Gobbee, D.\\n\\nInput: Dr. Bruno Gornek\\nOutput: Gornek, B.\\n\\nInput: Maria Glikgon\\nOutput: Glikgon, M.\\n\\nInput: Damancio Hivser-Kleiner\\nOutput:', 'Input: Damian Gobbee\\nOutput: Gobbee, D.\\n\\nInput: Dr. Bruno Gornek\\nOutput: Gornek, B.\\n\\nInput: Maria Glikgon\\nOutput: Glikgon, M.\\n\\nInput: Giussepe Hindravtoks\\nOutput:', 'Input: Guigen;  Albert\\nOutput: Guigen, L.\\n\\nInput: Randalf;  Laabertink\\nOutput: Randalf, L.\\n\\nInput: Schur;  Brandon\\nOutput: Schur, B.\\n\\nInput: Ragsh;  Mutgoo\\nOutput:', 'Input: Guigen;  Albert\\nOutput: Guigen, L.\\n\\nInput: Randalf;  Laabertink\\nOutput: Randalf, L.\\n\\nInput: Schur;  Brandon\\nOutput: Schur, B.\\n\\nInput: Agustino;  Zimmann\\nOutput:', 'Input: Guigen;  Albert\\nOutput: Guigen, L.\\n\\nInput: Randalf;  Laabertink\\nOutput: Randalf, L.\\n\\nInput: Schur;  Brandon\\nOutput: Schur, B.\\n\\nInput: Hass;  Hooggen\\nOutput:', 'Input: Edward Davis\\nOutput: E.Davis\\n\\nInput: Louis Johnson\\nOutput: L.Johnson\\n\\nInput: Mark Sipser\\nOutput: M.Sipser\\n\\nInput: Dr. Mark Sipser\\nOutput:', 'Input: Edward Davis\\nOutput: E.Davis\\n\\nInput: Louis Johnson\\nOutput: L.Johnson\\n\\nInput: Mark Sipser\\nOutput: M.Sipser\\n\\nInput: Louis Johnson, PhD\\nOutput:', 'Input: Edward Davis\\nOutput: E.Davis\\n\\nInput: Louis Johnson\\nOutput: L.Johnson\\n\\nInput: Mark Sipser\\nOutput: M.Sipser\\n\\nInput: Robert Mills\\nOutput:', 'Input: Andrew Hudson\\nOutput: A. Hudson\\n\\nInput: Dr. S. R. Barua PhD\\nOutput: S. Barua\\n\\nInput: Sam H. Cook\\nOutput: S. Cook\\n\\nInput: Mr. Anand Sagar\\nOutput:', 'Input: Andrew Hudson\\nOutput: A. Hudson\\n\\nInput: Dr. S. R. Barua PhD\\nOutput: S. Barua\\n\\nInput: Sam H. Cook\\nOutput: S. Cook\\n\\nInput: Dale McDermott Jr.\\nOutput:', 'Input: Andrew Hudson\\nOutput: A. Hudson\\n\\nInput: Dr. S. R. Barua PhD\\nOutput: S. Barua\\n\\nInput: Sam H. Cook\\nOutput: S. Cook\\n\\nInput: Mrs. Jessie Simpson\\nOutput:', 'Input: Damancio Hivser-Kleiner\\nOutput: D. Hivser-Kleiner\\n\\nInput: Antonio Hege\\nOutput: A. Hege\\n\\nInput: Damian Gobbee\\nOutput: D. Gobbee\\n\\nInput: Giussepe Hindravtoks\\nOutput:', 'Input: Damancio Hivser-Kleiner\\nOutput: D. Hivser-Kleiner\\n\\nInput: Antonio Hege\\nOutput: A. Hege\\n\\nInput: Damian Gobbee\\nOutput: D. Gobbee\\n\\nInput: Prof. Edward Davis\\nOutput:', 'Input: Damancio Hivser-Kleiner\\nOutput: D. Hivser-Kleiner\\n\\nInput: Antonio Hege\\nOutput: A. Hege\\n\\nInput: Damian Gobbee\\nOutput: D. Gobbee\\n\\nInput: Mr. Robert Mills\\nOutput:', 'Input: 25-437-96-20; South Korea\\nOutput: (82) 25-437-96-20\\n\\nInput: 17-455-81-39; Spain\\nOutput: (34) 17-455-81-39\\n\\nInput: 235-7654; Taiwan\\nOutput: (886) 235-7654\\n\\nInput: 457-2130; San Marino\\nOutput:', 'Input: 25-437-96-20; South Korea\\nOutput: (82) 25-437-96-20\\n\\nInput: 17-455-81-39; Spain\\nOutput: (34) 17-455-81-39\\n\\nInput: 235-7654; Taiwan\\nOutput: (886) 235-7654\\n\\nInput: 618-4390; Panama\\nOutput:', 'Input: 25-437-96-20; South Korea\\nOutput: (82) 25-437-96-20\\n\\nInput: 17-455-81-39; Spain\\nOutput: (34) 17-455-81-39\\n\\nInput: 235-7654; Taiwan\\nOutput: (886) 235-7654\\n\\nInput: 44-743-16-50; Netherlands\\nOutput:', 'Input: 14-734-21-90; Hungary\\nOutput: (36) 14-734-21-90\\n\\nInput: 352-7960; Kuwait\\nOutput: (965) 352-7960\\n\\nInput: 785-4210; Madagascar\\nOutput: (261) 785-4210\\n\\nInput: 25-613-24-50; Chile\\nOutput:', 'Input: 14-734-21-90; Hungary\\nOutput: (36) 14-734-21-90\\n\\nInput: 352-7960; Kuwait\\nOutput: (965) 352-7960\\n\\nInput: 785-4210; Madagascar\\nOutput: (261) 785-4210\\n\\nInput: 36-678-59-10; Austria\\nOutput:', 'Input: 14-734-21-90; Hungary\\nOutput: (36) 14-734-21-90\\n\\nInput: 352-7960; Kuwait\\nOutput: (965) 352-7960\\n\\nInput: 785-4210; Madagascar\\nOutput: (261) 785-4210\\n\\nInput: 846-2730; Andorra\\nOutput:', 'Input: 25-437-96-20; KOR\\nOutput: (82) 25-437-96-20\\n\\nInput: 17-455-81-39; ESP\\nOutput: (34) 17-455-81-39\\n\\nInput: 235-7654; TWN\\nOutput: (886) 235-7654\\n\\nInput: 457-2130; SMR\\nOutput:', 'Input: 25-437-96-20; KOR\\nOutput: (82) 25-437-96-20\\n\\nInput: 17-455-81-39; ESP\\nOutput: (34) 17-455-81-39\\n\\nInput: 235-7654; TWN\\nOutput: (886) 235-7654\\n\\nInput: 618-4390; PAN\\nOutput:', 'Input: 25-437-96-20; KOR\\nOutput: (82) 25-437-96-20\\n\\nInput: 17-455-81-39; ESP\\nOutput: (34) 17-455-81-39\\n\\nInput: 235-7654; TWN\\nOutput: (886) 235-7654\\n\\nInput: 44-743-16-50; NLD\\nOutput:', 'Input: 14-734-21-90; HUN\\nOutput: (36) 14-734-21-90\\n\\nInput: 352-7960; KWT\\nOutput: (965) 352-7960\\n\\nInput: 785-4210; MDG\\nOutput: (261) 785-4210\\n\\nInput: 25-613-24-50; CHL\\nOutput:', 'Input: 14-734-21-90; HUN\\nOutput: (36) 14-734-21-90\\n\\nInput: 352-7960; KWT\\nOutput: (965) 352-7960\\n\\nInput: 785-4210; MDG\\nOutput: (261) 785-4210\\n\\nInput: 36-678-59-10; AUT\\nOutput:', 'Input: 14-734-21-90; HUN\\nOutput: (36) 14-734-21-90\\n\\nInput: 352-7960; KWT\\nOutput: (965) 352-7960\\n\\nInput: 785-4210; MDG\\nOutput: (261) 785-4210\\n\\nInput: 846-2730; AND\\nOutput:', 'Input: 25-437-96-20; South Korea\\nOutput: (+82) 25-437-96-20\\n\\nInput: 17-455-81-39; Spain\\nOutput: (+34) 17-455-81-39\\n\\nInput: 235-7654; Taiwan\\nOutput: (+886) 235-7654\\n\\nInput: 457-2130; San Marino\\nOutput:', 'Input: 25-437-96-20; South Korea\\nOutput: (+82) 25-437-96-20\\n\\nInput: 17-455-81-39; Spain\\nOutput: (+34) 17-455-81-39\\n\\nInput: 235-7654; Taiwan\\nOutput: (+886) 235-7654\\n\\nInput: 618-4390; Panama\\nOutput:', 'Input: 25-437-96-20; South Korea\\nOutput: (+82) 25-437-96-20\\n\\nInput: 17-455-81-39; Spain\\nOutput: (+34) 17-455-81-39\\n\\nInput: 235-7654; Taiwan\\nOutput: (+886) 235-7654\\n\\nInput: 44-743-16-50; Netherlands\\nOutput:', 'Input: 14-734-21-90; Hungary\\nOutput: (+36) 14-734-21-90\\n\\nInput: 352-7960; Kuwait\\nOutput: (+965) 352-7960\\n\\nInput: 785-4210; Madagascar\\nOutput: (+261) 785-4210\\n\\nInput: 25-613-24-50; Chile\\nOutput:', 'Input: 14-734-21-90; Hungary\\nOutput: (+36) 14-734-21-90\\n\\nInput: 352-7960; Kuwait\\nOutput: (+965) 352-7960\\n\\nInput: 785-4210; Madagascar\\nOutput: (+261) 785-4210\\n\\nInput: 36-678-59-10; Austria\\nOutput:', 'Input: 14-734-21-90; Hungary\\nOutput: (+36) 14-734-21-90\\n\\nInput: 352-7960; Kuwait\\nOutput: (+965) 352-7960\\n\\nInput: 785-4210; Madagascar\\nOutput: (+261) 785-4210\\n\\nInput: 846-2730; Andorra\\nOutput:', 'Input: (185)-437-9620\\nOutput: 185-437-9620\\n\\nInput: (163)-587-9240\\nOutput: 163-587-9240\\n\\nInput: (323)-708-7700\\nOutput: 323-708-7700\\n\\nInput: (986)-457-2130\\nOutput:', 'Input: (185)-437-9620\\nOutput: 185-437-9620\\n\\nInput: (163)-587-9240\\nOutput: 163-587-9240\\n\\nInput: (323)-708-7700\\nOutput: 323-708-7700\\n\\nInput: (725)-618-4390\\nOutput:', 'Input: (185)-437-9620\\nOutput: 185-437-9620\\n\\nInput: (163)-587-9240\\nOutput: 163-587-9240\\n\\nInput: (323)-708-7700\\nOutput: 323-708-7700\\n\\nInput: (892)-743-1650\\nOutput:', 'Input: (568)-734-2190\\nOutput: 568-734-2190\\n\\nInput: (481)-352-7960\\nOutput: 481-352-7960\\n\\nInput: (693)-785-4210\\nOutput: 693-785-4210\\n\\nInput: (978)-613-2450\\nOutput:', 'Input: (568)-734-2190\\nOutput: 568-734-2190\\n\\nInput: (481)-352-7960\\nOutput: 481-352-7960\\n\\nInput: (693)-785-4210\\nOutput: 693-785-4210\\n\\nInput: (324)-678-5910\\nOutput:', 'Input: (568)-734-2190\\nOutput: 568-734-2190\\n\\nInput: (481)-352-7960\\nOutput: 481-352-7960\\n\\nInput: (693)-785-4210\\nOutput: 693-785-4210\\n\\nInput: (195)-846-2730\\nOutput:', 'Input: The quick, brown fox jumps over a lazy dog 425-437-9620 69 11 60 20 13\\nOutput: 425-437-9620\\n\\nInput: A GEDA-MARY 100MG 865-001-0020 - - 5941-00 06-23-2009\\nOutput: 865-001-0020\\n\\nInput: John DOE 3 Data [TS]865-000-0000 - - 453442-00 06-23-2009\\nOutput: 865-000-0000\\n\\nInput: 425-457-2130, DJs flock by when MTV ax quiz prog:  18:95\\nOutput:', 'Input: The quick, brown fox jumps over a lazy dog 425-437-9620 69 11 60 20 13\\nOutput: 425-437-9620\\n\\nInput: A GEDA-MARY 100MG 865-001-0020 - - 5941-00 06-23-2009\\nOutput: 865-001-0020\\n\\nInput: John DOE 3 Data [TS]865-000-0000 - - 453442-00 06-23-2009\\nOutput: 865-000-0000\\n\\nInput: 425-618-4390 - 78 2642\\nOutput:', 'Input: The quick, brown fox jumps over a lazy dog 425-437-9620 69 11 60 20 13\\nOutput: 425-437-9620\\n\\nInput: A GEDA-MARY 100MG 865-001-0020 - - 5941-00 06-23-2009\\nOutput: 865-001-0020\\n\\nInput: John DOE 3 Data [TS]865-000-0000 - - 453442-00 06-23-2009\\nOutput: 865-000-0000\\n\\nInput: 17:58-19:29, 425-743-1650\\nOutput:', 'Input: 9 72 87 6 2 500-734-2190\\nOutput: 500-734-2190\\n\\nInput: International Conference on Automated Planning and Scheduling: 425-352-7960\\nOutput: 425-352-7960\\n\\nInput: 23/11/18 425-785-4210\\nOutput: 425-785-4210\\n\\nInput: 425-613-2450 000-000\\nOutput:', 'Input: 9 72 87 6 2 500-734-2190\\nOutput: 500-734-2190\\n\\nInput: International Conference on Automated Planning and Scheduling: 425-352-7960\\nOutput: 425-352-7960\\n\\nInput: 23/11/18 425-785-4210\\nOutput: 425-785-4210\\n\\nInput: 425-678-5910 425-678-591\\nOutput:', 'Input: 9 72 87 6 2 500-734-2190\\nOutput: 500-734-2190\\n\\nInput: International Conference on Automated Planning and Scheduling: 425-352-7960\\nOutput: 425-352-7960\\n\\nInput: 23/11/18 425-785-4210\\nOutput: 425-785-4210\\n\\nInput: 425-846-2730 425-425 425\\nOutput:', 'Input: 437-9620; 425\\nOutput: 185-437-9620\\n\\nInput: 745-8139; 425\\nOutput: 425-745-8139\\n\\nInput: 235 7654; 425\\nOutput: 425-235-7654\\n\\nInput: 457-2130; 425\\nOutput:', 'Input: 437-9620; 425\\nOutput: 185-437-9620\\n\\nInput: 745-8139; 425\\nOutput: 425-745-8139\\n\\nInput: 235 7654; 425\\nOutput: 425-235-7654\\n\\nInput: 618 4390; 425\\nOutput:', 'Input: 437-9620; 425\\nOutput: 185-437-9620\\n\\nInput: 745-8139; 425\\nOutput: 425-745-8139\\n\\nInput: 235 7654; 425\\nOutput: 425-235-7654\\n\\nInput: 743-1650; 425\\nOutput:', 'Input: 734 2190; 36\\nOutput: 36-734-2190\\n\\nInput: 352-7960; 25\\nOutput: 25-352-7960\\n\\nInput: 785 4210; 254\\nOutput: 254-785-4210\\n\\nInput: 613-2450; 65\\nOutput:', 'Input: 734 2190; 36\\nOutput: 36-734-2190\\n\\nInput: 352-7960; 25\\nOutput: 25-352-7960\\n\\nInput: 785 4210; 254\\nOutput: 254-785-4210\\n\\nInput: 678 5910; 25\\nOutput:', 'Input: 734 2190; 36\\nOutput: 36-734-2190\\n\\nInput: 352-7960; 25\\nOutput: 25-352-7960\\n\\nInput: 785 4210; 254\\nOutput: 254-785-4210\\n\\nInput: 846-2730; 65\\nOutput:', 'Input: 437-9620; 425\\nOutput: (425) 437-9620\\n\\nInput: 745-8139; 425\\nOutput: (425) 745-8139\\n\\nInput: 235-7654; 425\\nOutput: (425) 235-7654\\n\\nInput: 457-2130; 425\\nOutput:', 'Input: 437-9620; 425\\nOutput: (425) 437-9620\\n\\nInput: 745-8139; 425\\nOutput: (425) 745-8139\\n\\nInput: 235-7654; 425\\nOutput: (425) 235-7654\\n\\nInput: 618-4390; 425\\nOutput:', 'Input: 437-9620; 425\\nOutput: (425) 437-9620\\n\\nInput: 745-8139; 425\\nOutput: (425) 745-8139\\n\\nInput: 235-7654; 425\\nOutput: (425) 235-7654\\n\\nInput: 743-1650; 425\\nOutput:', 'Input: 734-2190; 36\\nOutput: (36) 734-2190\\n\\nInput: 352-7960; 25\\nOutput: (25) 352-7960\\n\\nInput: 785-4210; 254\\nOutput: (254) 785-4210\\n\\nInput: 613-2450; 65\\nOutput:', 'Input: 734-2190; 36\\nOutput: (36) 734-2190\\n\\nInput: 352-7960; 25\\nOutput: (25) 352-7960\\n\\nInput: 785-4210; 254\\nOutput: (254) 785-4210\\n\\nInput: 678-5910; 25\\nOutput:', 'Input: 734-2190; 36\\nOutput: (36) 734-2190\\n\\nInput: 352-7960; 25\\nOutput: (25) 352-7960\\n\\nInput: 785-4210; 254\\nOutput: (254) 785-4210\\n\\nInput: 846-2730; 65\\nOutput:', 'Input: 437-9620; 425\\nOutput: (+185) 437-9620\\n\\nInput: 745-8139; 425\\nOutput: (+425) 745-8139\\n\\nInput: 235-7654; 425\\nOutput: (+425) 235-7654\\n\\nInput: 457-2130; 425\\nOutput:', 'Input: 437-9620; 425\\nOutput: (+185) 437-9620\\n\\nInput: 745-8139; 425\\nOutput: (+425) 745-8139\\n\\nInput: 235-7654; 425\\nOutput: (+425) 235-7654\\n\\nInput: 618-4390; 425\\nOutput:', 'Input: 437-9620; 425\\nOutput: (+185) 437-9620\\n\\nInput: 745-8139; 425\\nOutput: (+425) 745-8139\\n\\nInput: 235-7654; 425\\nOutput: (+425) 235-7654\\n\\nInput: 743-1650; 425\\nOutput:', 'Input: 734-2190; 36\\nOutput: (+36) 734-2190\\n\\nInput: 352-7960; 25\\nOutput: (+25) 352-7960\\n\\nInput: 785-4210; 254\\nOutput: (+254) 785-4210\\n\\nInput: 613-2450; 65\\nOutput:', 'Input: 734-2190; 36\\nOutput: (+36) 734-2190\\n\\nInput: 352-7960; 25\\nOutput: (+25) 352-7960\\n\\nInput: 785-4210; 254\\nOutput: (+254) 785-4210\\n\\nInput: 678-5910; 25\\nOutput:', 'Input: 734-2190; 36\\nOutput: (+36) 734-2190\\n\\nInput: 352-7960; 25\\nOutput: (+25) 352-7960\\n\\nInput: 785-4210; 254\\nOutput: (+254) 785-4210\\n\\nInput: 846-2730; 65\\nOutput:', 'Input: 1854379620\\nOutput: 185-437-9620\\n\\nInput: 1635879240\\nOutput: 163-587-9240\\n\\nInput: 3237087700\\nOutput: 323-708-7700\\n\\nInput: 9864572130\\nOutput:', 'Input: 1854379620\\nOutput: 185-437-9620\\n\\nInput: 1635879240\\nOutput: 163-587-9240\\n\\nInput: 3237087700\\nOutput: 323-708-7700\\n\\nInput: 7256184390\\nOutput:', 'Input: 1854379620\\nOutput: 185-437-9620\\n\\nInput: 1635879240\\nOutput: 163-587-9240\\n\\nInput: 3237087700\\nOutput: 323-708-7700\\n\\nInput: 8927431650\\nOutput:', 'Input: 5687342190\\nOutput: 568-734-2190\\n\\nInput: 4813527960\\nOutput: 481-352-7960\\n\\nInput: 6937854210\\nOutput: 693-785-4210\\n\\nInput: 9786132450\\nOutput:', 'Input: 5687342190\\nOutput: 568-734-2190\\n\\nInput: 4813527960\\nOutput: 481-352-7960\\n\\nInput: 6937854210\\nOutput: 693-785-4210\\n\\nInput: 3246785910\\nOutput:', 'Input: 5687342190\\nOutput: 568-734-2190\\n\\nInput: 4813527960\\nOutput: 481-352-7960\\n\\nInput: 6937854210\\nOutput: 693-785-4210\\n\\nInput: 1958462730\\nOutput:', 'Input: 03; 5\\nOutput: 08\\n\\nInput: 01:55; 5\\nOutput: 06:55\\n\\nInput: 01:34:00; 5\\nOutput: 06:34:00\\n\\nInput: 07:05; 5\\nOutput:', 'Input: 03; 5\\nOutput: 08\\n\\nInput: 01:55; 5\\nOutput: 06:55\\n\\nInput: 01:34:00; 5\\nOutput: 06:34:00\\n\\nInput: 08; 5\\nOutput:', 'Input: 03; 5\\nOutput: 08\\n\\nInput: 01:55; 5\\nOutput: 06:55\\n\\nInput: 01:34:00; 5\\nOutput: 06:34:00\\n\\nInput: 16:15:12; 5\\nOutput:', 'Input: 17:55; 5\\nOutput: 22:55\\n\\nInput: 20:15:00; 5\\nOutput: 01:15:00\\n\\nInput: 08:55:00; 5\\nOutput: 13:55:00\\n\\nInput: 10:05; 5\\nOutput:', 'Input: 17:55; 5\\nOutput: 22:55\\n\\nInput: 20:15:00; 5\\nOutput: 01:15:00\\n\\nInput: 08:55:00; 5\\nOutput: 13:55:00\\n\\nInput: 14:10; 5\\nOutput:', 'Input: 17:55; 5\\nOutput: 22:55\\n\\nInput: 20:15:00; 5\\nOutput: 01:15:00\\n\\nInput: 08:55:00; 5\\nOutput: 13:55:00\\n\\nInput: 21:20; 5\\nOutput:', 'Input: 03\\nOutput: 03:00\\n\\nInput: 01:55\\nOutput: 01:55:00\\n\\nInput: 01:34\\nOutput: 01:34:00\\n\\nInput: 07:05\\nOutput:', 'Input: 03\\nOutput: 03:00\\n\\nInput: 01:55\\nOutput: 01:55:00\\n\\nInput: 01:34\\nOutput: 01:34:00\\n\\nInput: 08\\nOutput:', 'Input: 03\\nOutput: 03:00\\n\\nInput: 01:55\\nOutput: 01:55:00\\n\\nInput: 01:34\\nOutput: 01:34:00\\n\\nInput: 16:15:12\\nOutput:', 'Input: 17:55\\nOutput: 17:55:00\\n\\nInput: 20:15:30\\nOutput: \\n\\nInput: 08:55\\nOutput: 08:55:00\\n\\nInput: 10:05\\nOutput:', 'Input: 17:55\\nOutput: 17:55:00\\n\\nInput: 20:15:30\\nOutput: \\n\\nInput: 08:55\\nOutput: 08:55:00\\n\\nInput: 14:10\\nOutput:', 'Input: 17:55\\nOutput: 17:55:00\\n\\nInput: 20:15:30\\nOutput: \\n\\nInput: 08:55\\nOutput: 08:55:00\\n\\nInput: 21:20\\nOutput:', 'Input: 03; 30\\nOutput: 03:30\\n\\nInput: 01:55; 30\\nOutput: 01:55:30\\n\\nInput: 01:34; 30\\nOutput: 01:34:30\\n\\nInput: 07:05; 30\\nOutput:', 'Input: 03; 30\\nOutput: 03:30\\n\\nInput: 01:55; 30\\nOutput: 01:55:30\\n\\nInput: 01:34; 30\\nOutput: 01:34:30\\n\\nInput: 08; 30\\nOutput:', 'Input: 03; 30\\nOutput: 03:30\\n\\nInput: 01:55; 30\\nOutput: 01:55:30\\n\\nInput: 01:34; 30\\nOutput: 01:34:30\\n\\nInput: 16:15:12; 30\\nOutput:', 'Input: 17:55; 30\\nOutput: 17:55:30\\n\\nInput: 20:15:00; 30\\nOutput: \\n\\nInput: 08:55; 30\\nOutput: 08:55:30\\n\\nInput: 10:05; 30\\nOutput:', 'Input: 17:55; 30\\nOutput: 17:55:30\\n\\nInput: 20:15:00; 30\\nOutput: \\n\\nInput: 08:55; 30\\nOutput: 08:55:30\\n\\nInput: 14:10; 30\\nOutput:', 'Input: 17:55; 30\\nOutput: 17:55:30\\n\\nInput: 20:15:00; 30\\nOutput: \\n\\nInput: 08:55; 30\\nOutput: 08:55:30\\n\\nInput: 21:20; 30\\nOutput:', 'Input: 3:40 AM\\nOutput: 03:40\\n\\nInput: 01:55\\nOutput: 01:55\\n\\nInput: 1:34:00 PM CST\\nOutput: 13:34:00\\n\\nInput: 07:05:59\\nOutput:', 'Input: 3:40 AM\\nOutput: 03:40\\n\\nInput: 01:55\\nOutput: 01:55\\n\\nInput: 1:34:00 PM CST\\nOutput: 13:34:00\\n\\nInput: 08:40 UTC\\nOutput:', 'Input: 3:40 AM\\nOutput: 03:40\\n\\nInput: 01:55\\nOutput: 01:55\\n\\nInput: 1:34:00 PM CST\\nOutput: 13:34:00\\n\\nInput: 06:15:12\\nOutput:', 'Input: 17:55; MST; UTC\\nOutput: 00:55:00\\n\\nInput: 20:15; PST; GMT\\nOutput: 04:15:00\\n\\nInput: 20:55; HST; WET\\nOutput: 06:55:00\\n\\nInput: 10:05; CST; HST\\nOutput:', 'Input: 17:55; MST; UTC\\nOutput: 00:55:00\\n\\nInput: 20:15; PST; GMT\\nOutput: 04:15:00\\n\\nInput: 20:55; HST; WET\\nOutput: 06:55:00\\n\\nInput: 08:40; EST; PST\\nOutput:', 'Input: 17:55; MST; UTC\\nOutput: 00:55:00\\n\\nInput: 20:15; PST; GMT\\nOutput: 04:15:00\\n\\nInput: 20:55; HST; WET\\nOutput: 06:55:00\\n\\nInput: 06:15; CET; MST\\nOutput:', 'Input: 17:55\\nOutput: 17:55\\n\\nInput: 20:15:00\\nOutput: 20:15:00\\n\\nInput: 08:55 PM CET\\nOutput: 20:55\\n\\nInput: 10:05:00 AM\\nOutput:', 'Input: 17:55\\nOutput: 17:55\\n\\nInput: 20:15:00\\nOutput: 20:15:00\\n\\nInput: 08:55 PM CET\\nOutput: 20:55\\n\\nInput: 14:10\\nOutput:', 'Input: 17:55\\nOutput: 17:55\\n\\nInput: 20:15:00\\nOutput: 20:15:00\\n\\nInput: 08:55 PM CET\\nOutput: 20:55\\n\\nInput: 21:20\\nOutput:', 'Input: 3:40 AM; 24h\\nOutput: 03:40\\n\\nInput: 01:55; 24h\\nOutput: 01:55\\n\\nInput: 1:34:00 PM CST; 24h\\nOutput: 13:34:00\\n\\nInput: 07:05:59; 24h\\nOutput:', 'Input: 3:40 AM; 24h\\nOutput: 03:40\\n\\nInput: 01:55; 24h\\nOutput: 01:55\\n\\nInput: 1:34:00 PM CST; 24h\\nOutput: 13:34:00\\n\\nInput: 14:10; 12h\\nOutput:', 'Input: 3:40 AM; 24h\\nOutput: 03:40\\n\\nInput: 01:55; 24h\\nOutput: 01:55\\n\\nInput: 1:34:00 PM CST; 24h\\nOutput: 13:34:00\\n\\nInput: 21:20; 12h\\nOutput:', 'Input: 17:55; 12h\\nOutput: 05:55 PM\\n\\nInput: 20:15:00; 24h\\nOutput: 20:15:00\\n\\nInput: 08:55 PM CET; 24h\\nOutput: 20:55\\n\\nInput: 10:05:00 AM; 24h\\nOutput:', 'Input: 17:55; 12h\\nOutput: 05:55 PM\\n\\nInput: 20:15:00; 24h\\nOutput: 20:15:00\\n\\nInput: 08:55 PM CET; 24h\\nOutput: 20:55\\n\\nInput: 08:40 UTC; 24h\\nOutput:', 'Input: 17:55; 12h\\nOutput: 05:55 PM\\n\\nInput: 20:15:00; 24h\\nOutput: 20:15:00\\n\\nInput: 08:55 PM CET; 24h\\nOutput: 20:55\\n\\nInput: 06:15:12; 24h\\nOutput:', 'Input: 03:40\\nOutput: 03:40 AM\\n\\nInput: 01:55\\nOutput: 01:55 AM\\n\\nInput: 01:34:00 CST\\nOutput: 01:34:00 AM\\n\\nInput: 07:05:59\\nOutput:', 'Input: 03:40\\nOutput: 03:40 AM\\n\\nInput: 01:55\\nOutput: 01:55 AM\\n\\nInput: 01:34:00 CST\\nOutput: 01:34:00 AM\\n\\nInput: 14:10\\nOutput:', 'Input: 03:40\\nOutput: 03:40 AM\\n\\nInput: 01:55\\nOutput: 01:55 AM\\n\\nInput: 01:34:00 CST\\nOutput: 01:34:00 AM\\n\\nInput: 21:20\\nOutput:', 'Input: 17:55\\nOutput: 05:55 PM\\n\\nInput: 20:15:00\\nOutput: 08:15:00 PM\\n\\nInput: 20:55 CET\\nOutput: 08:55 PM\\n\\nInput: 10:05:00\\nOutput:', 'Input: 17:55\\nOutput: 05:55 PM\\n\\nInput: 20:15:00\\nOutput: 08:15:00 PM\\n\\nInput: 20:55 CET\\nOutput: 08:55 PM\\n\\nInput: 08:40 UTC\\nOutput:', 'Input: 17:55\\nOutput: 05:55 PM\\n\\nInput: 20:15:00\\nOutput: 08:15:00 PM\\n\\nInput: 20:55 CET\\nOutput: 08:55 PM\\n\\nInput: 06:15:12\\nOutput:', 'Input: 03:40; GMT; UTC\\nOutput: 03:40\\n\\nInput: 01:55; UTC; UTC\\nOutput: 01:55\\n\\nInput: 01:34:00; CST; UTC\\nOutput: 07:34:00\\n\\nInput: 07:05:59; WET; UTC\\nOutput:', 'Input: 03:40; GMT; UTC\\nOutput: 03:40\\n\\nInput: 01:55; UTC; UTC\\nOutput: 01:55\\n\\nInput: 01:34:00; CST; UTC\\nOutput: 07:34:00\\n\\nInput: 14:10; CET; UTC\\nOutput:', 'Input: 03:40; GMT; UTC\\nOutput: 03:40\\n\\nInput: 01:55; UTC; UTC\\nOutput: 01:55\\n\\nInput: 01:34:00; CST; UTC\\nOutput: 07:34:00\\n\\nInput: 21:20; EST; UTC\\nOutput:', 'Input: 17:55; MST; UTC\\nOutput: 00:55\\n\\nInput: 20:15:00; PST; GMT\\nOutput: 04:15:00\\n\\nInput: 20:55; HST; WET\\nOutput: 06:55\\n\\nInput: 10:05:00; CST; HST\\nOutput:', 'Input: 17:55; MST; UTC\\nOutput: 00:55\\n\\nInput: 20:15:00; PST; GMT\\nOutput: 04:15:00\\n\\nInput: 20:55; HST; WET\\nOutput: 06:55\\n\\nInput: 08:40; EST; PST\\nOutput:', 'Input: 17:55; MST; UTC\\nOutput: 00:55\\n\\nInput: 20:15:00; PST; GMT\\nOutput: 04:15:00\\n\\nInput: 20:55; HST; WET\\nOutput: 06:55\\n\\nInput: 06:15:12; CET; MST\\nOutput:', 'Input: 03:40; GMT; UTC\\nOutput: 03:40:00\\n\\nInput: 01:55; UTC; UTC\\nOutput: 01:55:00\\n\\nInput: 01:34; CST; UTC\\nOutput: 07:34:00\\n\\nInput: 07:05; WET; UTC\\nOutput:', 'Input: 03:40; GMT; UTC\\nOutput: 03:40:00\\n\\nInput: 01:55; UTC; UTC\\nOutput: 01:55:00\\n\\nInput: 01:34; CST; UTC\\nOutput: 07:34:00\\n\\nInput: 14:10; CET; UTC\\nOutput:', 'Input: 03:40; GMT; UTC\\nOutput: 03:40:00\\n\\nInput: 01:55; UTC; UTC\\nOutput: 01:55:00\\n\\nInput: 01:34; CST; UTC\\nOutput: 07:34:00\\n\\nInput: 21:20; EST; UTC\\nOutput:', 'Input: 03\\nOutput: \\n\\nInput: 01:55\\nOutput: 01\\n\\nInput: 01:34:00\\nOutput: 01:34\\n\\nInput: 07:05\\nOutput:', 'Input: 03\\nOutput: \\n\\nInput: 01:55\\nOutput: 01\\n\\nInput: 01:34:00\\nOutput: 01:34\\n\\nInput: 08\\nOutput:', 'Input: 03\\nOutput: \\n\\nInput: 01:55\\nOutput: 01\\n\\nInput: 01:34:00\\nOutput: 01:34\\n\\nInput: 16:15:12\\nOutput:', 'Input: 17:55\\nOutput: 17\\n\\nInput: 20:15:00\\nOutput: 20:15\\n\\nInput: 08:55:00\\nOutput: 08:55\\n\\nInput: 10:05\\nOutput:', 'Input: 17:55\\nOutput: 17\\n\\nInput: 20:15:00\\nOutput: 20:15\\n\\nInput: 08:55:00\\nOutput: 08:55\\n\\nInput: 14:10\\nOutput:', 'Input: 17:55\\nOutput: 17\\n\\nInput: 20:15:00\\nOutput: 20:15\\n\\nInput: 08:55:00\\nOutput: 08:55\\n\\nInput: 21:20\\nOutput:', 'Input: 03:40 AM\\nOutput: 3\\n\\nInput: 01:55\\nOutput: 1\\n\\nInput: 1:34:00 PM CST\\nOutput: 1\\n\\nInput: 07:05:59\\nOutput:', 'Input: 03:40 AM\\nOutput: 3\\n\\nInput: 01:55\\nOutput: 1\\n\\nInput: 1:34:00 PM CST\\nOutput: 1\\n\\nInput: 08:40 UTC\\nOutput:', 'Input: 03:40 AM\\nOutput: 3\\n\\nInput: 01:55\\nOutput: 1\\n\\nInput: 1:34:00 PM CST\\nOutput: 1\\n\\nInput: 16:15:12\\nOutput:', 'Input: 17:55\\nOutput: 17\\n\\nInput: 20:15:00\\nOutput: 20\\n\\nInput: 08:55 PM CET\\nOutput: 8\\n\\nInput: 10:05:00 AM\\nOutput:', 'Input: 17:55\\nOutput: 17\\n\\nInput: 20:15:00\\nOutput: 20\\n\\nInput: 08:55 PM CET\\nOutput: 8\\n\\nInput: 14:10\\nOutput:', 'Input: 17:55\\nOutput: 17\\n\\nInput: 20:15:00\\nOutput: 20\\n\\nInput: 08:55 PM CET\\nOutput: 8\\n\\nInput: 21:20\\nOutput:', 'Input: 03:40 AM\\nOutput: 40\\n\\nInput: 01:55\\nOutput: 55\\n\\nInput: 1:34:00 PM CST\\nOutput: 34\\n\\nInput: 07:05:59\\nOutput:', 'Input: 03:40 AM\\nOutput: 40\\n\\nInput: 01:55\\nOutput: 55\\n\\nInput: 1:34:00 PM CST\\nOutput: 34\\n\\nInput: 08:40 UTC\\nOutput:', 'Input: 03:40 AM\\nOutput: 40\\n\\nInput: 01:55\\nOutput: 55\\n\\nInput: 1:34:00 PM CST\\nOutput: 34\\n\\nInput: 16:15:12\\nOutput:', 'Input: 17:55\\nOutput: 55\\n\\nInput: 20:15:00\\nOutput: 15\\n\\nInput: 08:55 PM CET\\nOutput: 55\\n\\nInput: 10:05:00 AM\\nOutput:', 'Input: 17:55\\nOutput: 55\\n\\nInput: 20:15:00\\nOutput: 15\\n\\nInput: 08:55 PM CET\\nOutput: 55\\n\\nInput: 14:10\\nOutput:', 'Input: 17:55\\nOutput: 55\\n\\nInput: 20:15:00\\nOutput: 15\\n\\nInput: 08:55 PM CET\\nOutput: 55\\n\\nInput: 21:20\\nOutput:', 'Input: 03:40 AM\\nOutput: 03:40\\n\\nInput: 01:55\\nOutput: 01:55\\n\\nInput: 1:34:00 PM CST\\nOutput: 1:34:00\\n\\nInput: 07:05:59\\nOutput:', 'Input: 03:40 AM\\nOutput: 03:40\\n\\nInput: 01:55\\nOutput: 01:55\\n\\nInput: 1:34:00 PM CST\\nOutput: 1:34:00\\n\\nInput: 08:40 UTC\\nOutput:', 'Input: 03:40 AM\\nOutput: 03:40\\n\\nInput: 01:55\\nOutput: 01:55\\n\\nInput: 1:34:00 PM CST\\nOutput: 1:34:00\\n\\nInput: 16:15:12\\nOutput:', 'Input: 17:55\\nOutput: 17:55\\n\\nInput: 20:15:00\\nOutput: 20:15:00\\n\\nInput: 08:55 PM CET\\nOutput: 08:55\\n\\nInput: 10:05:00 AM\\nOutput:', 'Input: 17:55\\nOutput: 17:55\\n\\nInput: 20:15:00\\nOutput: 20:15:00\\n\\nInput: 08:55 PM CET\\nOutput: 08:55\\n\\nInput: 14:10\\nOutput:', 'Input: 17:55\\nOutput: 17:55\\n\\nInput: 20:15:00\\nOutput: 20:15:00\\n\\nInput: 08:55 PM CET\\nOutput: 08:55\\n\\nInput: 21:20\\nOutput:', 'Input: 14300ms; s\\nOutput: 14.300001\\n\\nInput: 84kg; g\\nOutput: 84000\\n\\nInput: 1441.8mg; g\\nOutput: 1.4418001\\n\\nInput: 87 s; ns\\nOutput:', 'Input: 14300ms; s\\nOutput: 14.300001\\n\\nInput: 84kg; g\\nOutput: 84000\\n\\nInput: 1441.8mg; g\\nOutput: 1.4418001\\n\\nInput: 12.20dg; mg\\nOutput:', 'Input: 14300ms; s\\nOutput: 14.300001\\n\\nInput: 84kg; g\\nOutput: 84000\\n\\nInput: 1441.8mg; g\\nOutput: 1.4418001\\n\\nInput: 1854 dam; dm\\nOutput:', 'Input: 980 ms; s\\nOutput: 0.98\\n\\nInput: 41.8g; mg\\nOutput: 41800\\n\\nInput: 1nm; mm\\nOutput: 1000\\n\\nInput: 4054kg; A\\nOutput:', 'Input: 980 ms; s\\nOutput: 0.98\\n\\nInput: 41.8g; mg\\nOutput: 41800\\n\\nInput: 1nm; mm\\nOutput: 1000\\n\\nInput: 92.26 K; cK\\nOutput:', 'Input: 980 ms; s\\nOutput: 0.98\\n\\nInput: 41.8g; mg\\nOutput: 41800\\n\\nInput: 1nm; mm\\nOutput: 1000\\n\\nInput: 81 hm; cm\\nOutput:', 'Input: 14300; ms; s\\nOutput: 14.300001\\n\\nInput: 84; kg; g\\nOutput: 84000\\n\\nInput: 1441.8; mg; g\\nOutput: 1.4418001\\n\\nInput: 87; s; ns\\nOutput:', 'Input: 14300; ms; s\\nOutput: 14.300001\\n\\nInput: 84; kg; g\\nOutput: 84000\\n\\nInput: 1441.8; mg; g\\nOutput: 1.4418001\\n\\nInput: 12.2; dg; mg\\nOutput:', 'Input: 14300; ms; s\\nOutput: 14.300001\\n\\nInput: 84; kg; g\\nOutput: 84000\\n\\nInput: 1441.8; mg; g\\nOutput: 1.4418001\\n\\nInput: 1854; dam; dm\\nOutput:', 'Input: 980; ms; s\\nOutput: 0.98\\n\\nInput: 41.8; g; mg\\nOutput: 41800\\n\\nInput: 1; nm; mm\\nOutput: 1000\\n\\nInput: 4054; kg; A\\nOutput:', 'Input: 980; ms; s\\nOutput: 0.98\\n\\nInput: 41.8; g; mg\\nOutput: 41800\\n\\nInput: 1; nm; mm\\nOutput: 1000\\n\\nInput: 92.26; K; cK\\nOutput:', 'Input: 980; ms; s\\nOutput: 0.98\\n\\nInput: 41.8; g; mg\\nOutput: 41800\\n\\nInput: 1; nm; mm\\nOutput: 1000\\n\\nInput: 81; hm; cm\\nOutput:', 'Input: 39.88 A\\nOutput: Electricity\\n\\nInput: 84kg\\nOutput: Mass\\n\\nInput: 56.77cl\\nOutput: Volume\\n\\nInput: 87 s\\nOutput:', 'Input: 39.88 A\\nOutput: Electricity\\n\\nInput: 84kg\\nOutput: Mass\\n\\nInput: 56.77cl\\nOutput: Volume\\n\\nInput: 12.20dg\\nOutput:', 'Input: 39.88 A\\nOutput: Electricity\\n\\nInput: 84kg\\nOutput: Mass\\n\\nInput: 56.77cl\\nOutput: Volume\\n\\nInput: 1854 dam\\nOutput:', 'Input: 98 ms\\nOutput: Time\\n\\nInput: 41.8g\\nOutput: Mass\\n\\nInput: 1nm\\nOutput: Length\\n\\nInput: 4054kA\\nOutput:', 'Input: 98 ms\\nOutput: Time\\n\\nInput: 41.8g\\nOutput: Mass\\n\\nInput: 1nm\\nOutput: Length\\n\\nInput: 92.26 K\\nOutput:', 'Input: 98 ms\\nOutput: Time\\n\\nInput: 41.8g\\nOutput: Mass\\n\\nInput: 1nm\\nOutput: Length\\n\\nInput: 81 hl\\nOutput:', 'Input: 39.88 A\\nOutput: A\\n\\nInput: 84Kg\\nOutput: Kg\\n\\nInput: 56.77cl\\nOutput: cl\\n\\nInput: 87 s\\nOutput:', 'Input: 39.88 A\\nOutput: A\\n\\nInput: 84Kg\\nOutput: Kg\\n\\nInput: 56.77cl\\nOutput: cl\\n\\nInput: 12.20dg\\nOutput:', 'Input: 39.88 A\\nOutput: A\\n\\nInput: 84Kg\\nOutput: Kg\\n\\nInput: 56.77cl\\nOutput: cl\\n\\nInput: 1854 dam\\nOutput:', 'Input: 98 ms\\nOutput: ms\\n\\nInput: 41.8g\\nOutput: g\\n\\nInput: 1nm\\nOutput: nm\\n\\nInput: 4054kA\\nOutput:', 'Input: 98 ms\\nOutput: ms\\n\\nInput: 41.8g\\nOutput: g\\n\\nInput: 1nm\\nOutput: nm\\n\\nInput: 92.26 K\\nOutput:', 'Input: 98 ms\\nOutput: ms\\n\\nInput: 41.8g\\nOutput: g\\n\\nInput: 1nm\\nOutput: nm\\n\\nInput: 81 hl\\nOutput:', 'Input: 39.88 A\\nOutput: 39.88\\n\\nInput: 84Kg\\nOutput: 84\\n\\nInput: 56.77cl\\nOutput: 56.77\\n\\nInput: 87 s\\nOutput:', 'Input: 39.88 A\\nOutput: 39.88\\n\\nInput: 84Kg\\nOutput: 84\\n\\nInput: 56.77cl\\nOutput: 56.77\\n\\nInput: 12.20dg\\nOutput:', 'Input: 39.88 A\\nOutput: 39.88\\n\\nInput: 84Kg\\nOutput: 84\\n\\nInput: 56.77cl\\nOutput: 56.77\\n\\nInput: 1854 dam\\nOutput:', 'Input: 98 ms\\nOutput: 98\\n\\nInput: 41.8g\\nOutput: 41.8\\n\\nInput: 1nm\\nOutput: 1\\n\\nInput: 4054kA\\nOutput:', 'Input: 98 ms\\nOutput: 98\\n\\nInput: 41.8g\\nOutput: 41.8\\n\\nInput: 1nm\\nOutput: 1\\n\\nInput: 92.26 K\\nOutput:', 'Input: 98 ms\\nOutput: 98\\n\\nInput: 41.8g\\nOutput: 41.8\\n\\nInput: 1nm\\nOutput: 1\\n\\nInput: 81 hl\\nOutput:']\n"
          ],
          "name": "stdout"
        }
      ]
    },
    {
      "cell_type": "code",
      "metadata": {
        "id": "YLr7weX-YUMO"
      },
      "source": [
        "text_file = open(\"queries3.txt\", \"w\")\n",
        "for i in range(0, len(printed_queries)):\n",
        "  text_file.write(repr(printed_queries[i]))\n",
        "text_file.close()"
      ],
      "execution_count": null,
      "outputs": []
    },
    {
      "cell_type": "code",
      "metadata": {
        "id": "7KTTpBGgdaaE"
      },
      "source": [
        "#Prompt generator - 4 shot\n",
        "\n",
        "queries = [[]]*len(final_problems)\n",
        "common_prompt = [\"\"]*len(final_problems)\n",
        "test_targets4 = [[]]*len(final_problems)\n",
        "\n",
        "trainingNum = 4\n",
        "\n",
        "for i in range(0, len(final_problems)):\n",
        "  #Extract examples from DataFrame \n",
        "  input1 = df.query('dataset == \"' + final_problems[i][0] + '\" and domain == \"' + final_problems[i][1] + '\"')['input_1'].to_list()\n",
        "  input2 = df.query('dataset == \"' + final_problems[i][0] + '\" and domain == \"' + final_problems[i][1] + '\"')['input_2'].to_list()\n",
        "  input3 = df.query('dataset == \"' + final_problems[i][0] + '\" and domain == \"' + final_problems[i][1] + '\"')['input_3'].to_list()\n",
        "  output = df.query('dataset == \"' + final_problems[i][0] + '\" and domain == \"' + final_problems[i][1] + '\"')['expected_output'].to_list()\n",
        "\n",
        "  final_input_1 = []\n",
        "  final_input_2 = []\n",
        "  final_input_3 = []\n",
        "  final_output = []\n",
        "\n",
        "  #Extract\n",
        "\n",
        "  for j in range(trainingNum-1,-1,-1):\n",
        "    final_input_1.append(input1[j])\n",
        "    del input1[j]\n",
        "\n",
        "  for j in range(trainingNum-1,-1,-1):\n",
        "    final_input_2.append(input2[j])\n",
        "    del input2[j]\n",
        "\n",
        "  for j in range(trainingNum-1,-1,-1):\n",
        "    final_input_3.append(input3[j])\n",
        "    del input3[j]\n",
        "\n",
        "  for j in range(trainingNum-1,-1,-1):\n",
        "    final_output.append(output[j])\n",
        "    del output[j]\n",
        "\n",
        "  #Common prompt builder\n",
        "\n",
        "  #If we don't want the task descriptions in the prompt, comment the next line\n",
        "  #common_prompt[i] = task_explanation[i] + \"\\n\\n\"\n",
        "  for j in range(0, trainingNum):\n",
        "      if final_input_2[j] != \"Null\" and final_input_3[j] != \"Null\":\n",
        "        common_prompt[i] = common_prompt[i] + \"Input: \" + str(final_input_1[j]) + \"; \" + str(final_input_2[j]) + \"; \" + str(final_input_3[j]) + \"\\nOutput: \" + str(final_output[j]) + \"\\n\\n\"\n",
        "      elif final_input_2[j] != \"Null\":\n",
        "        common_prompt[i] = common_prompt[i] + \"Input: \" + str(final_input_1[j]) + \"; \" + str(final_input_2[j]) + \"\\nOutput: \" + str(final_output[j]) + \"\\n\\n\"\n",
        "      else:\n",
        "        common_prompt[i] = common_prompt[i] = common_prompt[i] + \"Input: \" + str(final_input_1[j]) + \"\\nOutput: \" + str(final_output[j]) + \"\\n\\n\"\n",
        "\n",
        "\n",
        "  #Queries building\n",
        "\n",
        "  queries[i] = [\"\"]*len(input1)\n",
        "  test_targets4[i] = [\"\"]*len(input1)\n",
        "\n",
        "  for j in range(0, len(input1)):\n",
        "      if input2[j] != \"Null\" and input3[j] != \"Null\":\n",
        "        queries[i][j] = common_prompt[i] + \"Input: \" + str(input1[j]) + \"; \" + str(input2[j]) + \"; \" + str(input3[j]) + \"\\nOutput:\"\n",
        "      elif input2[j] != \"Null\":\n",
        "        queries[i][j] = common_prompt[i] + \"Input: \" + str(input1[j]) + \"; \" + str(input2[j]) + \"\\nOutput:\"\n",
        "      else:\n",
        "        queries[i][j] = common_prompt[i] + \"Input: \" + str(input1[j]) + \"\\nOutput:\"\n",
        "\n",
        "      test_targets4[i][j] = output[j]\n",
        "\n",
        "\n",
        "  \n",
        "  "
      ],
      "execution_count": null,
      "outputs": []
    },
    {
      "cell_type": "code",
      "metadata": {
        "colab": {
          "base_uri": "https://localhost:8080/"
        },
        "id": "Z_2VLJG3YVxZ",
        "outputId": "a1c06a5a-0e16-4f45-a435-e0306cb8ffde"
      },
      "source": [
        "printed_queries = []\n",
        "for i in range(0, len(queries)):\n",
        "  for j in range(0, len(queries[i])):\n",
        "    printed_queries.append(queries[i][j])\n",
        "\n",
        "print(printed_queries)"
      ],
      "execution_count": null,
      "outputs": [
        {
          "output_type": "stream",
          "text": [
            "['Input: 170905\\nOutput: 17-09-05\\n\\nInput: 170615\\nOutput: 17-06-15\\n\\nInput: 250374\\nOutput: 25-03-74\\n\\nInput: 290386\\nOutput: 29-03-86\\n\\nInput: 241206\\nOutput:', 'Input: 170905\\nOutput: 17-09-05\\n\\nInput: 170615\\nOutput: 17-06-15\\n\\nInput: 250374\\nOutput: 25-03-74\\n\\nInput: 290386\\nOutput: 29-03-86\\n\\nInput: 290607\\nOutput:', 'Input: 91011\\nOutput: 09-10-11\\n\\nInput: 31108\\nOutput: 03-11-08\\n\\nInput: 90508\\nOutput: 09-05-08\\n\\nInput: 121099\\nOutput: 12-10-99\\n\\nInput: 290895\\nOutput:', 'Input: 91011\\nOutput: 09-10-11\\n\\nInput: 31108\\nOutput: 03-11-08\\n\\nInput: 90508\\nOutput: 09-05-08\\n\\nInput: 121099\\nOutput: 12-10-99\\n\\nInput: 180413\\nOutput:', 'Input: 13-03-1986\\nOutput: 03/13/1986\\n\\nInput: 24/09/1984\\nOutput: 09/24/1984\\n\\nInput: 2010-06-27\\nOutput: 27/06/2010\\n\\nInput: 20.08.2010\\nOutput: 08/20/2010\\n\\nInput: 17/06/1989\\nOutput:', 'Input: 13-03-1986\\nOutput: 03/13/1986\\n\\nInput: 24/09/1984\\nOutput: 09/24/1984\\n\\nInput: 2010-06-27\\nOutput: 27/06/2010\\n\\nInput: 20.08.2010\\nOutput: 08/20/2010\\n\\nInput: 1990.18.01\\nOutput:', 'Input: 23.08.2010\\nOutput: 08/23/2010\\n\\nInput: 29-05-2001\\nOutput: 05/29/2001\\n\\nInput: 2001-30-01\\nOutput: 01/30/2001\\n\\nInput: 09/05/1991\\nOutput: 09/05/1991\\n\\nInput: 28-10-2001\\nOutput:', 'Input: 23.08.2010\\nOutput: 08/23/2010\\n\\nInput: 29-05-2001\\nOutput: 05/29/2001\\n\\nInput: 2001-30-01\\nOutput: 01/30/2001\\n\\nInput: 09/05/1991\\nOutput: 09/05/1991\\n\\nInput: 16/02/2010\\nOutput:', 'Input: 02-19-1998\\nOutput: 19/02/1998\\n\\nInput: 26/93/02\\nOutput: 26/02/93\\n\\nInput: 04/12/1990\\nOutput: 12/04/1990\\n\\nInput: 03/29/86\\nOutput: 29/03/86\\n\\nInput: 99/09/03\\nOutput:', 'Input: 02-19-1998\\nOutput: 19/02/1998\\n\\nInput: 26/93/02\\nOutput: 26/02/93\\n\\nInput: 04/12/1990\\nOutput: 12/04/1990\\n\\nInput: 03/29/86\\nOutput: 29/03/86\\n\\nInput: 06-04-2001\\nOutput:', 'Input: 05-01-2017\\nOutput: 05-01-2017\\n\\nInput: 09-29-2015\\nOutput: 29-09-2015\\n\\nInput: 10/15/2002\\nOutput: 15-10-2002\\n\\nInput: 74-03-31\\nOutput: 31-03-74\\n\\nInput: 08-07-2017\\nOutput:', 'Input: 05-01-2017\\nOutput: 05-01-2017\\n\\nInput: 09-29-2015\\nOutput: 29-09-2015\\n\\nInput: 10/15/2002\\nOutput: 15-10-2002\\n\\nInput: 74-03-31\\nOutput: 31-03-74\\n\\nInput: 02/26/1993\\nOutput:', 'Input: 17/05/17\\nOutput: 17-05-17\\n\\nInput: 11.02.96\\nOutput: 11-02-96\\n\\nInput: 12/10/99\\nOutput: 12-10-99\\n\\nInput: 29/03/86\\nOutput: 29-03-86\\n\\nInput: 25-08-85\\nOutput:', 'Input: 17/05/17\\nOutput: 17-05-17\\n\\nInput: 11.02.96\\nOutput: 11-02-96\\n\\nInput: 12/10/99\\nOutput: 12-10-99\\n\\nInput: 29/03/86\\nOutput: 29-03-86\\n\\nInput: 30 06 75\\nOutput:', 'Input: 17.10.65\\nOutput: 17-10-65\\n\\nInput: 22/10/97\\nOutput: 22-10-97\\n\\nInput: 24/02/88\\nOutput: 24-02-88\\n\\nInput: 25/03/74\\nOutput: 25-03-74\\n\\nInput: 23/11/18\\nOutput:', 'Input: 17.10.65\\nOutput: 17-10-65\\n\\nInput: 22/10/97\\nOutput: 22-10-97\\n\\nInput: 24/02/88\\nOutput: 24-02-88\\n\\nInput: 25/03/74\\nOutput: 25-03-74\\n\\nInput: 29-12-95\\nOutput:', 'Input: 11.02.96\\nOutput: 11\\n\\nInput: 99/12/13\\nOutput: 13\\n\\nInput: 74-03-31\\nOutput: 31\\n\\nInput: 03/29/86\\nOutput: 29\\n\\nInput: 31/05/17\\nOutput:', 'Input: 11.02.96\\nOutput: 11\\n\\nInput: 99/12/13\\nOutput: 13\\n\\nInput: 74-03-31\\nOutput: 31\\n\\nInput: 03/29/86\\nOutput: 29\\n\\nInput: 25-08-85\\nOutput:', 'Input: 16/01/2017\\nOutput: 16\\n\\nInput: 28/10/2013\\nOutput: 28\\n\\nInput: 02/05/2012\\nOutput: 2\\n\\nInput: 09/08/2007\\nOutput: 9\\n\\nInput: 01/09/2017\\nOutput:', 'Input: 16/01/2017\\nOutput: 16\\n\\nInput: 28/10/2013\\nOutput: 28\\n\\nInput: 02/05/2012\\nOutput: 2\\n\\nInput: 09/08/2007\\nOutput: 9\\n\\nInput: 13/11/2017\\nOutput:', 'Input: 17.10.65\\nOutput: 17\\n\\nInput: 22/10/97\\nOutput: 22\\n\\nInput: 24/02/88\\nOutput: 24\\n\\nInput: 25/03/74\\nOutput: 25\\n\\nInput: 23/11/18\\nOutput:', 'Input: 17.10.65\\nOutput: 17\\n\\nInput: 22/10/97\\nOutput: 22\\n\\nInput: 24/02/88\\nOutput: 24\\n\\nInput: 25/03/74\\nOutput: 25\\n\\nInput: 29-12-95\\nOutput:', 'Input: 04/05/99\\nOutput: 04th\\n\\nInput: 10 12 69\\nOutput: 10th\\n\\nInput: 12/99/13\\nOutput: 13th\\n\\nInput: 3/29/86\\nOutput: 29th\\n\\nInput: 31/03/75\\nOutput:', 'Input: 04/05/99\\nOutput: 04th\\n\\nInput: 10 12 69\\nOutput: 10th\\n\\nInput: 12/99/13\\nOutput: 13th\\n\\nInput: 3/29/86\\nOutput: 29th\\n\\nInput: 09/11/53\\nOutput:', 'Input: 27/07/2007\\nOutput: 27th\\n\\nInput: 03/06/90\\nOutput: 3rd\\n\\nInput: 27/03/84\\nOutput: 27th\\n\\nInput: 01/04/2005\\nOutput: 1st\\n\\nInput: 05/09/2008\\nOutput:', 'Input: 27/07/2007\\nOutput: 27th\\n\\nInput: 03/06/90\\nOutput: 3rd\\n\\nInput: 27/03/84\\nOutput: 27th\\n\\nInput: 01/04/2005\\nOutput: 1st\\n\\nInput: 12/05/2011\\nOutput:', 'Input: June 23, 2007\\nOutput: June\\n\\nInput: 6 December 2017\\nOutput: December\\n\\nInput: 13 November 2008\\nOutput: November\\n\\nInput: 2 of September of 2010, Monday\\nOutput: September\\n\\nInput: February 4, 2008\\nOutput:', 'Input: June 23, 2007\\nOutput: June\\n\\nInput: 6 December 2017\\nOutput: December\\n\\nInput: 13 November 2008\\nOutput: November\\n\\nInput: 2 of September of 2010, Monday\\nOutput: September\\n\\nInput: Thursday, October 31, 1985\\nOutput:', 'Input: 3 August 2009\\nOutput: August\\n\\nInput: March 21, 2004\\nOutput: March\\n\\nInput: Tuesday, September 16, 1986\\nOutput: September\\n\\nInput: Monday, June 21, 1999\\nOutput: June\\n\\nInput: Sunday, August 25, 1996\\nOutput:', 'Input: 3 August 2009\\nOutput: August\\n\\nInput: March 21, 2004\\nOutput: March\\n\\nInput: Tuesday, September 16, 1986\\nOutput: September\\n\\nInput: Monday, June 21, 1999\\nOutput: June\\n\\nInput: Saturday, August 2, 2008\\nOutput:', 'Input: Saturday, 21 April 2007\\nOutput: Saturday\\n\\nInput: Wednesday, 15 October 2003\\nOutput: Wednesday\\n\\nInput: 2 of September of 2010, Monday\\nOutput: Monday\\n\\nInput: Sunday, 9 November 2014\\nOutput: Sunday\\n\\nInput: Sunday, 15 March 2009\\nOutput:', 'Input: Saturday, 21 April 2007\\nOutput: Saturday\\n\\nInput: Wednesday, 15 October 2003\\nOutput: Wednesday\\n\\nInput: 2 of September of 2010, Monday\\nOutput: Monday\\n\\nInput: Sunday, 9 November 2014\\nOutput: Sunday\\n\\nInput: Sunday, 29 November 2009\\nOutput:', 'Input: Thursday, 5 June 2014\\nOutput: Thursday\\n\\nInput: Saturday, 30 November 2013\\nOutput: Saturday\\n\\nInput: Friday, 25 November 2011\\nOutput: Friday\\n\\nInput: Friday, 4 June 2010\\nOutput: Friday\\n\\nInput: Tuesday, 16 May 2017\\nOutput:', 'Input: Thursday, 5 June 2014\\nOutput: Thursday\\n\\nInput: Saturday, 30 November 2013\\nOutput: Saturday\\n\\nInput: Friday, 25 November 2011\\nOutput: Friday\\n\\nInput: Friday, 4 June 2010\\nOutput: Friday\\n\\nInput: Monday, 17 December 2018\\nOutput:', 'Input: 28/12/2004\\nOutput: Dec\\n\\nInput: 11/30/2017\\nOutput: Nov\\n\\nInput: 15/02/84\\nOutput: Feb\\n\\nInput: 3/29/86\\nOutput: Mar\\n\\nInput: 03/06/2007\\nOutput:', 'Input: 28/12/2004\\nOutput: Dec\\n\\nInput: 11/30/2017\\nOutput: Nov\\n\\nInput: 15/02/84\\nOutput: Feb\\n\\nInput: 3/29/86\\nOutput: Mar\\n\\nInput: 08/22/2010\\nOutput:', 'Input: 07/05/95\\nOutput: Jul\\n\\nInput: 03/18/2014\\nOutput: Mar\\n\\nInput: 31/08/2010\\nOutput: Aug\\n\\nInput: 05/08/98\\nOutput: May\\n\\nInput: 11/06/2016\\nOutput:', 'Input: 07/05/95\\nOutput: Jul\\n\\nInput: 03/18/2014\\nOutput: Mar\\n\\nInput: 31/08/2010\\nOutput: Aug\\n\\nInput: 05/08/98\\nOutput: May\\n\\nInput: 14/06/2017\\nOutput:', 'Input: 5012017\\nOutput: 05-01-2017\\n\\nInput: 9292015\\nOutput: 29-09-2015\\n\\nInput: 20021015\\nOutput: 15-10-2002\\n\\nInput: 20040717\\nOutput: 17-07-2004\\n\\nInput: 8072017\\nOutput:', 'Input: 5012017\\nOutput: 05-01-2017\\n\\nInput: 9292015\\nOutput: 29-09-2015\\n\\nInput: 20021015\\nOutput: 15-10-2002\\n\\nInput: 20040717\\nOutput: 17-07-2004\\n\\nInput: 2261993\\nOutput:', 'Input: 6281996\\nOutput: 28/06/1996\\n\\nInput: 6171994\\nOutput: 17/06/1994\\n\\nInput: 8311990\\nOutput: 31/08/1990\\n\\nInput: 11251989\\nOutput: 25/11/1989\\n\\nInput: 8222000\\nOutput:', 'Input: 6281996\\nOutput: 28/06/1996\\n\\nInput: 6171994\\nOutput: 17/06/1994\\n\\nInput: 8311990\\nOutput: 31/08/1990\\n\\nInput: 11251989\\nOutput: 25/11/1989\\n\\nInput: 11202001\\nOutput:', 'Input: Audrey;  domain\\nOutput: Audrey@domain.com\\n\\nInput: Lucas;  domain\\nOutput: Lucas@domain.com\\n\\nInput: Logan;  domain\\nOutput: Logan@domain.com\\n\\nInput: Sophia;  domain\\nOutput: Sophia@domain.com\\n\\nInput: Amelia;  domain\\nOutput:', 'Input: Audrey;  domain\\nOutput: Audrey@domain.com\\n\\nInput: Lucas;  domain\\nOutput: Lucas@domain.com\\n\\nInput: Logan;  domain\\nOutput: Logan@domain.com\\n\\nInput: Sophia;  domain\\nOutput: Sophia@domain.com\\n\\nInput: Laila; domain\\nOutput:', 'Input: carnes; hotmail\\nOutput: carnes@hotmail.com\\n\\nInput: elizabeth; gmail\\nOutput: elizabeth@gmail.com\\n\\nInput: aamedo; hecsa\\nOutput: aamedo@hecsa.com\\n\\nInput: bad; girl\\nOutput: bad@girl.com\\n\\nInput: agada; petrok\\nOutput:', 'Input: carnes; hotmail\\nOutput: carnes@hotmail.com\\n\\nInput: elizabeth; gmail\\nOutput: elizabeth@gmail.com\\n\\nInput: aamedo; hecsa\\nOutput: aamedo@hecsa.com\\n\\nInput: bad; girl\\nOutput: bad@girl.com\\n\\nInput: joypao; hotmail\\nOutput:', 'Input: Sergio; adretail\\nOutput: Sergio@adretail.com\\n\\nInput: masenjo; gmail\\nOutput: masenjo@gmail.com\\n\\nInput: arquitecto; gmail\\nOutput: arquitecto@gmail.com\\n\\nInput: carlos; gmail\\nOutput: carlos@gmail.com\\n\\nInput: casper; canal13\\nOutput:', 'Input: Sergio; adretail\\nOutput: Sergio@adretail.com\\n\\nInput: masenjo; gmail\\nOutput: masenjo@gmail.com\\n\\nInput: arquitecto; gmail\\nOutput: arquitecto@gmail.com\\n\\nInput: carlos; gmail\\nOutput: carlos@gmail.com\\n\\nInput: banto; gmail\\nOutput:', 'Input: osaeswca@hotmail.com\\nOutput: hotmail.com\\n\\nInput: medrlanes@hotmail.com\\nOutput: hotmail.com\\n\\nInput: iabetrae@yahoo.es\\nOutput: yahoo.es\\n\\nInput: TheStupidGamer@gmail.com\\nOutput: gmail.com\\n\\nInput: caedgigo@garmendia.cl\\nOutput:', 'Input: osaeswca@hotmail.com\\nOutput: hotmail.com\\n\\nInput: medrlanes@hotmail.com\\nOutput: hotmail.com\\n\\nInput: iabetrae@yahoo.es\\nOutput: yahoo.es\\n\\nInput: TheStupidGamer@gmail.com\\nOutput: gmail.com\\n\\nInput: Sb.edhxo.sk8@hotmail.com\\nOutput:', 'Input: dala_aguera_m500@hotmail.com\\nOutput: hotmail.com\\n\\nInput: ikxvgrojo@hotmail.com\\nOutput: hotmail.com\\n\\nInput: cawdvguileram@hotmail.com \\nOutput: hotmail.com\\n\\nInput: fedn.arll@live.cl\\nOutput: live.cl\\n\\nInput: viceala@hotmail.com\\nOutput:', 'Input: dala_aguera_m500@hotmail.com\\nOutput: hotmail.com\\n\\nInput: ikxvgrojo@hotmail.com\\nOutput: hotmail.com\\n\\nInput: cawdvguileram@hotmail.com \\nOutput: hotmail.com\\n\\nInput: fedn.arll@live.cl\\nOutput: live.cl\\n\\nInput: alter3@hotmail.com\\nOutput:', 'Input: luuuddi@hotmail.com\\nOutput: hotmail.com\\n\\nInput: niertox__@hotmail.com\\nOutput: hotmail.com\\n\\nInput: apalyusg@hotmail.com\\nOutput: hotmail.com\\n\\nInput: capseguilera@hotmail.com\\nOutput: hotmail.com\\n\\nInput: krrt_sirre_ss@hotmail.com\\nOutput:', 'Input: luuuddi@hotmail.com\\nOutput: hotmail.com\\n\\nInput: niertox__@hotmail.com\\nOutput: hotmail.com\\n\\nInput: apalyusg@hotmail.com\\nOutput: hotmail.com\\n\\nInput: capseguilera@hotmail.com\\nOutput: hotmail.com\\n\\nInput: masin@hotmail.com\\nOutput:', 'Input: Mariya.Sergienko@gradicdesigninstitute.com\\nOutput: Sergienko\\n\\nInput: Jan.Kotas@litwareinc.com\\nOutput: Kotas\\n\\nInput: Andrew.Cencici@northwindtraders.com\\nOutput: Cencici\\n\\nInput: Nancy.FreeHafer@fourthcoffee.com\\nOutput: FreeHafer\\n\\nInput: Steven.Thorpe@northwindtraders.com\\nOutput:', 'Input: Mariya.Sergienko@gradicdesigninstitute.com\\nOutput: Sergienko\\n\\nInput: Jan.Kotas@litwareinc.com\\nOutput: Kotas\\n\\nInput: Andrew.Cencici@northwindtraders.com\\nOutput: Cencici\\n\\nInput: Nancy.FreeHafer@fourthcoffee.com\\nOutput: FreeHafer\\n\\nInput: Michael.Neipper@northwindtraders.com\\nOutput:', 'Input: Alexander.David@contoso.com\\nOutput: David\\n\\nInput: Anne.Hill@northwindtraders.com\\nOutput: Hill\\n\\nInput: Laura.Giussani@adventure-works.com\\nOutput: Giussani\\n\\nInput: Robert.Zare@northwindtraders.com\\nOutput: Zare\\n\\nInput: Kim.Shane@northwindtraders.com\\nOutput:', 'Input: Alexander.David@contoso.com\\nOutput: David\\n\\nInput: Anne.Hill@northwindtraders.com\\nOutput: Hill\\n\\nInput: Laura.Giussani@adventure-works.com\\nOutput: Giussani\\n\\nInput: Robert.Zare@northwindtraders.com\\nOutput: Zare\\n\\nInput: Manish.Chopra@northwindtraders.com\\nOutput:', 'Input: Amanda.Pinto@northwindtraders.com\\nOutput: Pinto\\n\\nInput: Yvonne.McKay@northwindtraders.com\\nOutput: McKay\\n\\nInput: Amr.Zaki@northwindtraders.com\\nOutput: Zaki\\n\\nInput: Gerwald.Oberleitner@northwindtraders.com\\nOutput: Oberleitner\\n\\nInput: krrt.sirre@hotmail.com\\nOutput:', 'Input: Amanda.Pinto@northwindtraders.com\\nOutput: Pinto\\n\\nInput: Yvonne.McKay@northwindtraders.com\\nOutput: McKay\\n\\nInput: Amr.Zaki@northwindtraders.com\\nOutput: Zaki\\n\\nInput: Gerwald.Oberleitner@northwindtraders.com\\nOutput: Oberleitner\\n\\nInput: masin.a@hotmail.com\\nOutput:', 'Input: 05:50-06:30\\nOutput: 06:30\\n\\nInput: 09:50-09:55\\nOutput: 09:55\\n\\nInput: 09:50-08:30\\nOutput: 08:30\\n\\nInput: 09:40-09:50\\nOutput: 09:50\\n\\nInput: 06:50-07:30\\nOutput:', 'Input: 05:50-06:30\\nOutput: 06:30\\n\\nInput: 09:50-09:55\\nOutput: 09:55\\n\\nInput: 09:50-08:30\\nOutput: 08:30\\n\\nInput: 09:40-09:50\\nOutput: 09:50\\n\\nInput: 08:50-09:30\\nOutput:', 'Input: 05:50-06:30\\nOutput: 06:30\\n\\nInput: 09:50-09:55\\nOutput: 09:55\\n\\nInput: 08:30-09:50\\nOutput: 09:50\\n\\nInput: 09:50-09:40\\nOutput: 09:40\\n\\nInput: 06:40-05:30\\nOutput:', 'Input: 05:50-06:30\\nOutput: 06:30\\n\\nInput: 09:50-09:55\\nOutput: 09:55\\n\\nInput: 08:30-09:50\\nOutput: 09:50\\n\\nInput: 09:50-09:40\\nOutput: 09:40\\n\\nInput: 06:30-03:30\\nOutput:', 'Input: 09.08.2010; in_9aug10.log\\nOutput: 9aug10\\n\\nInput: 11/23/2011; us_23nov11.log\\nOutput: 23nov11\\n\\nInput: 05.03.2010; in_5mar10.log\\nOutput: 5mar10\\n\\nInput: 09/08/2011; us_8sep11.log\\nOutput: 8sep11\\n\\nInput: 14.09.2010; in_14sep10.log\\nOutput:', 'Input: 09.08.2010; in_9aug10.log\\nOutput: 9aug10\\n\\nInput: 11/23/2011; us_23nov11.log\\nOutput: 23nov11\\n\\nInput: 05.03.2010; in_5mar10.log\\nOutput: 5mar10\\n\\nInput: 09/08/2011; us_8sep11.log\\nOutput: 8sep11\\n\\nInput: 06/15/2011; us_15jun11.log\\nOutput:', 'Input: 07.12.2011; in_7dec11.log\\nOutput: 7dec11\\n\\nInput: 09/24/2011; us_24sep11.log\\nOutput: 24sep11\\n\\nInput: 04.02.2010; in_4feb10.log\\nOutput: 4feb10\\n\\nInput: 09/12/2014; us_12sep14.log\\nOutput: 12sep14\\n\\nInput: 08.11.2010; in_8nov10.log\\nOutput:', 'Input: 07.12.2011; in_7dec11.log\\nOutput: 7dec11\\n\\nInput: 09/24/2011; us_24sep11.log\\nOutput: 24sep11\\n\\nInput: 04.02.2010; in_4feb10.log\\nOutput: 4feb10\\n\\nInput: 09/12/2014; us_12sep14.log\\nOutput: 12sep14\\n\\nInput: 07/12/2011; us_7dec11.log\\nOutput:', 'Input: [CPT-00340]\\nOutput: [CPT-00340]\\n\\nInput: CPT-00350]\\nOutput: [CPT-00350]\\n\\nInput: [CPT-00340\\nOutput: [CPT-00340]\\n\\nInput: [CPT-00350\\nOutput: [CPT-00350]\\n\\nInput: CPT-00350\\nOutput:', 'Input: [CPT-00340]\\nOutput: [CPT-00340]\\n\\nInput: CPT-00350]\\nOutput: [CPT-00350]\\n\\nInput: [CPT-00340\\nOutput: [CPT-00340]\\n\\nInput: [CPT-00350\\nOutput: [CPT-00350]\\n\\nInput: CPT-00340]\\nOutput:', 'Input: odio-345]\\nOutput: [odio-345]\\n\\nInput: pharetra-2345]\\nOutput: [pharetra-2345]\\n\\nInput: [ullamcorper-234\\nOutput: [ullamcorper-234]\\n\\nInput: [Phasellus-234\\nOutput: [Phasellus-234]\\n\\nInput: [eu-345\\nOutput:', 'Input: odio-345]\\nOutput: [odio-345]\\n\\nInput: pharetra-2345]\\nOutput: [pharetra-2345]\\n\\nInput: [ullamcorper-234\\nOutput: [ullamcorper-234]\\n\\nInput: [Phasellus-234\\nOutput: [Phasellus-234]\\n\\nInput: iaculis-345\\nOutput:', 'Input: 1-406-789-1562\\nOutput: 14067891562\\n\\nInput: 1-408-789-4561\\nOutput: 14087894561\\n\\nInput: 1-503-897-4567\\nOutput: 15038974567\\n\\nInput: 1-452-789-4567\\nOutput: 14527894567\\n\\nInput: 1-845-456-7891\\nOutput:', 'Input: 1-406-789-1562\\nOutput: 14067891562\\n\\nInput: 1-408-789-4561\\nOutput: 14087894561\\n\\nInput: 1-503-897-4567\\nOutput: 15038974567\\n\\nInput: 1-452-789-4567\\nOutput: 14527894567\\n\\nInput: 1-845-333-7891\\nOutput:', 'Input: 1-1562\\nOutput: 11562\\n\\nInput: 1-4569\\nOutput: 14569\\n\\nInput: 1-4568\\nOutput: 14568\\n\\nInput: 1-4565\\nOutput: 14565\\n\\nInput: 1-7891\\nOutput:', 'Input: 1-1562\\nOutput: 11562\\n\\nInput: 1-4569\\nOutput: 14569\\n\\nInput: 1-4568\\nOutput: 14568\\n\\nInput: 1-4565\\nOutput: 14565\\n\\nInput: 1-7892\\nOutput:', 'Input: Sed convallis diam imperdiet urna tincidunt consectetur.\\nOutput: Sedconvallisdiamimperdieturnatinciduntconsectetur\\n\\nInput: Nam vitae orci quis nunc sodales rutrum sit amet dictum mi.\\nOutput: Namvitaeorciquisnuncsodalesrutrumsitametdictummi\\n\\nInput: Morbi fermentum sem sit amet nibh mattis semper.\\nOutput: Morbifermentumsemsitametnibhmattissemper\\n\\nInput: Integer pulvinar felis sit amet venenatis consequat.\\nOutput: Integerpulvinarfelissitametvenenatisconsequat\\n\\nInput: Etiam dapibus tortor sed cursus blandit.\\nOutput:', 'Input: Sed convallis diam imperdiet urna tincidunt consectetur.\\nOutput: Sedconvallisdiamimperdieturnatinciduntconsectetur\\n\\nInput: Nam vitae orci quis nunc sodales rutrum sit amet dictum mi.\\nOutput: Namvitaeorciquisnuncsodalesrutrumsitametdictummi\\n\\nInput: Morbi fermentum sem sit amet nibh mattis semper.\\nOutput: Morbifermentumsemsitametnibhmattissemper\\n\\nInput: Integer pulvinar felis sit amet venenatis consequat.\\nOutput: Integerpulvinarfelissitametvenenatisconsequat\\n\\nInput: Quisque mattis dolor ac metus fermentum consectetur.\\nOutput:', 'Input: Praesent sed ipsum euismod, tempor dolor at, varius leo.\\nOutput: Praesentsedipsumeuismodtempordoloratvariusleo\\n\\nInput: Vestibulum dignissim orci quis auctor finibus.\\nOutput: Vestibulumdignissimorciquisauctorfinibus\\n\\nInput: Donec blandit orci at purus lobortis ornare.\\nOutput: Donecblanditorciatpuruslobortisornare\\n\\nInput: Lorem ipsum dolor sit amet, consectetur adipiscing elit.\\nOutput: Loremipsumdolorsitametconsecteturadipiscingelit\\n\\nInput: Integer malesuada elit et hendrerit fermentum.\\nOutput:', 'Input: Praesent sed ipsum euismod, tempor dolor at, varius leo.\\nOutput: Praesentsedipsumeuismodtempordoloratvariusleo\\n\\nInput: Vestibulum dignissim orci quis auctor finibus.\\nOutput: Vestibulumdignissimorciquisauctorfinibus\\n\\nInput: Donec blandit orci at purus lobortis ornare.\\nOutput: Donecblanditorciatpuruslobortisornare\\n\\nInput: Lorem ipsum dolor sit amet, consectetur adipiscing elit.\\nOutput: Loremipsumdolorsitametconsecteturadipiscingelit\\n\\nInput: Pellentesque tempor justo a dui varius maximus.\\nOutput:', 'Input: Vivamus elementum tellus et mattis dapibus\\nOutput: Vivamuselementumtellusetmattisdapibus\\n\\nInput: Aenean ultrices dolor eu aliquam sollicitudin\\nOutput: Aeneanultricesdoloreualiquamsollicitudin\\n\\nInput: Phasellus tempus lectus sit amet nisl ultricies eget pretium odio semper\\nOutput: Phasellustempuslectussitametnislultriciesegetpretiumodiosemper\\n\\nInput: Sed quis nibh a metus ultricies commodo eu sit amet sem\\nOutput: Sedquisnibhametusultriciescommodoeusitametsem\\n\\nInput: Mauris fringilla neque nec libero consequat quis facilisis nisi tristique\\nOutput:', 'Input: Vivamus elementum tellus et mattis dapibus\\nOutput: Vivamuselementumtellusetmattisdapibus\\n\\nInput: Aenean ultrices dolor eu aliquam sollicitudin\\nOutput: Aeneanultricesdoloreualiquamsollicitudin\\n\\nInput: Phasellus tempus lectus sit amet nisl ultricies eget pretium odio semper\\nOutput: Phasellustempuslectussitametnislultriciesegetpretiumodiosemper\\n\\nInput: Sed quis nibh a metus ultricies commodo eu sit amet sem\\nOutput: Sedquisnibhametusultriciescommodoeusitametsem\\n\\nInput: Nam cursus purus nec mi maximus fermentum\\nOutput:', 'Input: CHORE BOY HD SC SPNG 1 PK\\nOutput: 1 PK\\n\\nInput: BTR KRNL WK CORN 15Z\\nOutput: 15Z\\n\\nInput: DRY NDL 0.23 KG\\nOutput: 0.23 KG\\n\\nInput: CAMP DRY DBL NDL 3.6 OZ\\nOutput: 3.6 OZ\\n\\nInput: FRENCH WORCESTERSHIRE 5 Z\\nOutput:', 'Input: CHORE BOY HD SC SPNG 1 PK\\nOutput: 1 PK\\n\\nInput: BTR KRNL WK CORN 15Z\\nOutput: 15Z\\n\\nInput: DRY NDL 0.23 KG\\nOutput: 0.23 KG\\n\\nInput: CAMP DRY DBL NDL 3.6 OZ\\nOutput: 3.6 OZ\\n\\nInput: O F TOMATO PASTE 6 OZ\\nOutput:', 'Input: mujer\\nOutput: m\\n\\nInput: hombre\\nOutput: h\\n\\nInput: female\\nOutput: f\\n\\nInput: male\\nOutput: m\\n\\nInput: doctor\\nOutput:', 'Input: mujer\\nOutput: m\\n\\nInput: hombre\\nOutput: h\\n\\nInput: female\\nOutput: f\\n\\nInput: male\\nOutput: m\\n\\nInput: professional\\nOutput:', 'Input: vulputate\\nOutput: v\\n\\nInput: magna\\nOutput: m\\n\\nInput: molestie\\nOutput: m\\n\\nInput: ac\\nOutput: a\\n\\nInput: id\\nOutput:', 'Input: vulputate\\nOutput: v\\n\\nInput: magna\\nOutput: m\\n\\nInput: molestie\\nOutput: m\\n\\nInput: ac\\nOutput: a\\n\\nInput: Aliquam\\nOutput:', 'Input: New York, United States of America\\nOutput: United States of America\\n\\nInput: Newark, United States\\nOutput: United States\\n\\nInput: Los Angeles, United States of America\\nOutput: United States of America\\n\\nInput: Mumbai, India\\nOutput: India\\n\\nInput: Wellington, New Zealand\\nOutput:', 'Input: New York, United States of America\\nOutput: United States of America\\n\\nInput: Newark, United States\\nOutput: United States\\n\\nInput: Los Angeles, United States of America\\nOutput: United States of America\\n\\nInput: Mumbai, India\\nOutput: India\\n\\nInput: New Delhi, India\\nOutput:', 'Input: Melbourne, Australia\\nOutput: Australia\\n\\nInput: Washington D.C., United States of America\\nOutput: United States of America\\n\\nInput: Sydney, Australia\\nOutput: Australia\\n\\nInput: Valencia, Spain\\nOutput: Spain\\n\\nInput: Riva del Garda, Italy\\nOutput:', 'Input: Melbourne, Australia\\nOutput: Australia\\n\\nInput: Washington D.C., United States of America\\nOutput: United States of America\\n\\nInput: Sydney, Australia\\nOutput: Australia\\n\\nInput: Valencia, Spain\\nOutput: Spain\\n\\nInput: Strasbourg, France\\nOutput:', 'Input: 560 Heal St,San Mateo, CA 94129\\nOutput: San Mateo\\n\\nInput: 64 128th St,Seattle, WA 98102\\nOutput: Seattle\\n\\nInput: 512 Wir Ave,Los Angeles, CA 78911\\nOutput: Los Angeles\\n\\nInput: 243 Flyer Dr,Cambridge, MA 02145\\nOutput: Cambridge\\n\\nInput: 45 23rd St,New York, NY 98102\\nOutput:', 'Input: 560 Heal St,San Mateo, CA 94129\\nOutput: San Mateo\\n\\nInput: 64 128th St,Seattle, WA 98102\\nOutput: Seattle\\n\\nInput: 512 Wir Ave,Los Angeles, CA 78911\\nOutput: Los Angeles\\n\\nInput: 243 Flyer Dr,Cambridge, MA 02145\\nOutput: Cambridge\\n\\nInput: 64 Lol St,DC, DC 94129\\nOutput:', 'Input: International Conference on Data Mining series\\nOutput: ICDM\\n\\nInput: International Conference on Software Engineering\\nOutput: ICSE\\n\\nInput: Principles Of Programming Languages\\nOutput: POPL\\n\\nInput: International Business Machines\\nOutput: IBM\\n\\nInput: European Data Science Conference\\nOutput:', 'Input: International Conference on Data Mining series\\nOutput: ICDM\\n\\nInput: International Conference on Software Engineering\\nOutput: ICSE\\n\\nInput: Principles Of Programming Languages\\nOutput: POPL\\n\\nInput: International Business Machines\\nOutput: IBM\\n\\nInput: International Conference on Computational Science\\nOutput:', 'Input: Computer Aided Verification\\nOutput: CAV\\n\\nInput: Architectural Support for Programming Languages and Operating Systems\\nOutput: ASPLOS\\n\\nInput: Association of Computational Linguistics\\nOutput: ACL\\n\\nInput: American Association for Artificial Intelligence\\nOutput: AAAI\\n\\nInput: Computer and Communications Security\\nOutput:', 'Input: Computer Aided Verification\\nOutput: CAV\\n\\nInput: Architectural Support for Programming Languages and Operating Systems\\nOutput: ASPLOS\\n\\nInput: Association of Computational Linguistics\\nOutput: ACL\\n\\nInput: American Association for Artificial Intelligence\\nOutput: AAAI\\n\\nInput: Conference on Computational Learning Theory\\nOutput:', 'Input: International Conference on Automated Planning and Scheduling\\nOutput: ICAPS\\n\\nInput: High Performance Computer Architecture\\nOutput: HPCA\\n\\nInput: Data Compression Conference\\nOutput: DCC\\n\\nInput: Conference on Computer Vision and Pattern Recognition\\nOutput: CVPR\\n\\nInput: International Conference on Computer Vision\\nOutput:', 'Input: International Conference on Automated Planning and Scheduling\\nOutput: ICAPS\\n\\nInput: High Performance Computer Architecture\\nOutput: HPCA\\n\\nInput: Data Compression Conference\\nOutput: DCC\\n\\nInput: Conference on Computer Vision and Pattern Recognition\\nOutput: CVPR\\n\\nInput: International Conference on Data Engineering\\nOutput:', 'Input: Sed convallis diam imperdiet urna tincidunt consectetur.\\nOutput: SED CONVALLIS DIAM IMPERDIET URNA TINCIDUNT CONSECTETUR\\n\\nInput: Nam vitae orci quis nunc sodales rutrum sit amet dictum mi.\\nOutput: NAM VITAE ORCI QUIS NUNC SODALES RUTRUM SIT AMET DICTUM MI\\n\\nInput: Morbi fermentum sem sit amet nibh mattis semper.\\nOutput: MORBI FERMENTUM SEM SIT AMET NIBH MATTIS SEMPER\\n\\nInput: Integer pulvinar felis sit amet venenatis consequat.\\nOutput: INTEGER PULVINAR FELIS SIT AMET VENENATIS CONSEQUAT\\n\\nInput: Etiam dapibus tortor sed cursus blandit.\\nOutput:', 'Input: Sed convallis diam imperdiet urna tincidunt consectetur.\\nOutput: SED CONVALLIS DIAM IMPERDIET URNA TINCIDUNT CONSECTETUR\\n\\nInput: Nam vitae orci quis nunc sodales rutrum sit amet dictum mi.\\nOutput: NAM VITAE ORCI QUIS NUNC SODALES RUTRUM SIT AMET DICTUM MI\\n\\nInput: Morbi fermentum sem sit amet nibh mattis semper.\\nOutput: MORBI FERMENTUM SEM SIT AMET NIBH MATTIS SEMPER\\n\\nInput: Integer pulvinar felis sit amet venenatis consequat.\\nOutput: INTEGER PULVINAR FELIS SIT AMET VENENATIS CONSEQUAT\\n\\nInput: Quisque mattis dolor ac metus fermentum consectetur.\\nOutput:', 'Input: Praesent sed ipsum euismod, tempor dolor at, varius leo.\\nOutput: PRAESENT SED IPSUM EUISMOD, TEMPOR DOLOR AT, VARIUS LEO\\n\\nInput: Vestibulum dignissim orci quis auctor finibus.\\nOutput: VESTIBULUM DIGNISSIM ORCI QUIS AUCTOR FINIBUS\\n\\nInput: Donec blandit orci at purus lobortis ornare.\\nOutput: DONEC BLANDIT ORCI AT PURUS LOBORTIS ORNARE\\n\\nInput: Lorem ipsum dolor sit amet, consectetur adipiscing elit.\\nOutput: LOREM IPSUM DOLOR SIT AMET, CONSECTETUR ADIPISCING ELIT\\n\\nInput: Integer malesuada elit et hendrerit fermentum.\\nOutput:', 'Input: Praesent sed ipsum euismod, tempor dolor at, varius leo.\\nOutput: PRAESENT SED IPSUM EUISMOD, TEMPOR DOLOR AT, VARIUS LEO\\n\\nInput: Vestibulum dignissim orci quis auctor finibus.\\nOutput: VESTIBULUM DIGNISSIM ORCI QUIS AUCTOR FINIBUS\\n\\nInput: Donec blandit orci at purus lobortis ornare.\\nOutput: DONEC BLANDIT ORCI AT PURUS LOBORTIS ORNARE\\n\\nInput: Lorem ipsum dolor sit amet, consectetur adipiscing elit.\\nOutput: LOREM IPSUM DOLOR SIT AMET, CONSECTETUR ADIPISCING ELIT\\n\\nInput: Pellentesque tempor justo a dui varius maximus.\\nOutput:', 'Input: John; 5\\nOutput: D. John\\n\\nInput: Benjamin; 2\\nOutput: Mr. Benjamin\\n\\nInput: Simon; 1\\nOutput: Sr. Simon\\n\\nInput: Roger; 2\\nOutput: Mr. Roger\\n\\nInput: Schur; 2\\nOutput:', 'Input: John; 5\\nOutput: D. John\\n\\nInput: Benjamin; 2\\nOutput: Mr. Benjamin\\n\\nInput: Simon; 1\\nOutput: Sr. Simon\\n\\nInput: Roger; 2\\nOutput: Mr. Roger\\n\\nInput: Randalf; 1\\nOutput:', 'Input: Hass; 2\\nOutput: Mr. Hass\\n\\nInput: Agustino; 5\\nOutput: D. Agustino\\n\\nInput: Ragsh; 6\\nOutput: Prof. Ragsh\\n\\nInput: Guigen; 5\\nOutput: D. Guigen\\n\\nInput: Jones; 1\\nOutput:', 'Input: Hass; 2\\nOutput: Mr. Hass\\n\\nInput: Agustino; 5\\nOutput: D. Agustino\\n\\nInput: Ragsh; 6\\nOutput: Prof. Ragsh\\n\\nInput: Guigen; 5\\nOutput: D. Guigen\\n\\nInput: Lopez; 5\\nOutput:', 'Input: Robert Mills\\nOutput: \\n\\nInput: Prof. Edward Davis\\nOutput: Prof.\\n\\nInput: Louis Johnson, PhD\\nOutput: PhD\\n\\nInput: Dr. Mark Sipser\\nOutput: Dr.\\n\\nInput: David Jones, PhD\\nOutput:', 'Input: Robert Mills\\nOutput: \\n\\nInput: Prof. Edward Davis\\nOutput: Prof.\\n\\nInput: Louis Johnson, PhD\\nOutput: PhD\\n\\nInput: Dr. Mark Sipser\\nOutput: Dr.\\n\\nInput: Mr. Lopez\\nOutput:', 'Input: Mr. Ragsh Mutgoo\\nOutput: Mr.\\n\\nInput: Prof. H. Huifen\\nOutput: Prof.\\n\\nInput: Prof. R.G.H. Laabertink\\nOutput: Prof.\\n\\nInput: Dr. B. Schdur\\nOutput: Dr.\\n\\nInput: Mr. Agustino Zimmann\\nOutput:', 'Input: Mr. Ragsh Mutgoo\\nOutput: Mr.\\n\\nInput: Prof. H. Huifen\\nOutput: Prof.\\n\\nInput: Prof. R.G.H. Laabertink\\nOutput: Prof.\\n\\nInput: Dr. B. Schdur\\nOutput: Dr.\\n\\nInput: Mr. Hass Hooggen\\nOutput:', 'Input: Diana Gada Arosia\\nOutput: digaa\\n\\nInput: Carmen Funcsrentano\\nOutput: cafu\\n\\nInput: Federico A. Fithsakampf\\nOutput: fefi\\n\\nInput: Guillermo Filiepatos\\nOutput: gufi\\n\\nInput: Dario Gag-Dorado\\nOutput:', 'Input: Diana Gada Arosia\\nOutput: digaa\\n\\nInput: Carmen Funcsrentano\\nOutput: cafu\\n\\nInput: Federico A. Fithsakampf\\nOutput: fefi\\n\\nInput: Guillermo Filiepatos\\nOutput: gufi\\n\\nInput: Paco Gabot Narale\\nOutput:', 'Input: Antonio Lopez Hernandez\\nOutput: anlohe\\n\\nInput: Damian Gobbee\\nOutput: dago\\n\\nInput: Berta Gornek\\nOutput: bego\\n\\nInput: Maria Sartori\\nOutput: masa\\n\\nInput: Daman Hivser-Kleiner\\nOutput:', 'Input: Antonio Lopez Hernandez\\nOutput: anlohe\\n\\nInput: Damian Gobbee\\nOutput: dago\\n\\nInput: Berta Gornek\\nOutput: bego\\n\\nInput: Maria Sartori\\nOutput: masa\\n\\nInput: Giussepe Hindravtoks\\nOutput:', 'Input: George Ciprian Necula\\nOutput: Necula, G.\\n\\nInput: Bill Gates, Sr.\\nOutput: Gates, B.\\n\\nInput: Prof. Kathleen S. Fisher\\nOutput: Fisher, K.\\n\\nInput: Dr. Eran Yahav\\nOutput: Yahav, E.\\n\\nInput: Ken McMillan, II\\nOutput:', 'Input: George Ciprian Necula\\nOutput: Necula, G.\\n\\nInput: Bill Gates, Sr.\\nOutput: Gates, B.\\n\\nInput: Prof. Kathleen S. Fisher\\nOutput: Fisher, K.\\n\\nInput: Dr. Eran Yahav\\nOutput: Yahav, E.\\n\\nInput: Mr. David Jones\\nOutput:', 'Input: Diana Gada\\nOutput: Gada, D.\\n\\nInput: Carmen Funcsrentano\\nOutput: Funcsrentano, C.\\n\\nInput: Federico A. Fthskampf\\nOutput: Fthskampf, F.\\n\\nInput: Guillermo Filiepatos\\nOutput: Filiepatos, G.\\n\\nInput: Dario Gag-Dorado\\nOutput:', 'Input: Diana Gada\\nOutput: Gada, D.\\n\\nInput: Carmen Funcsrentano\\nOutput: Funcsrentano, C.\\n\\nInput: Federico A. Fthskampf\\nOutput: Fthskampf, F.\\n\\nInput: Guillermo Filiepatos\\nOutput: Filiepatos, G.\\n\\nInput: Mr. Paco Gabt\\nOutput:', 'Input: Antonio Hege\\nOutput: Hege, A.\\n\\nInput: Damian Gobbee\\nOutput: Gobbee, D.\\n\\nInput: Dr. Bruno Gornek\\nOutput: Gornek, B.\\n\\nInput: Maria Glikgon\\nOutput: Glikgon, M.\\n\\nInput: Damancio Hivser-Kleiner\\nOutput:', 'Input: Antonio Hege\\nOutput: Hege, A.\\n\\nInput: Damian Gobbee\\nOutput: Gobbee, D.\\n\\nInput: Dr. Bruno Gornek\\nOutput: Gornek, B.\\n\\nInput: Maria Glikgon\\nOutput: Glikgon, M.\\n\\nInput: Giussepe Hindravtoks\\nOutput:', 'Input: Ragsh;  Mutgoo\\nOutput: Ragsh, M.\\n\\nInput: Guigen;  Albert\\nOutput: Guigen, L.\\n\\nInput: Randalf;  Laabertink\\nOutput: Randalf, L.\\n\\nInput: Schur;  Brandon\\nOutput: Schur, B.\\n\\nInput: Agustino;  Zimmann\\nOutput:', 'Input: Ragsh;  Mutgoo\\nOutput: Ragsh, M.\\n\\nInput: Guigen;  Albert\\nOutput: Guigen, L.\\n\\nInput: Randalf;  Laabertink\\nOutput: Randalf, L.\\n\\nInput: Schur;  Brandon\\nOutput: Schur, B.\\n\\nInput: Hass;  Hooggen\\nOutput:', 'Input: Dr. Mark Sipser\\nOutput: M.Sipser\\n\\nInput: Edward Davis\\nOutput: E.Davis\\n\\nInput: Louis Johnson\\nOutput: L.Johnson\\n\\nInput: Mark Sipser\\nOutput: M.Sipser\\n\\nInput: Louis Johnson, PhD\\nOutput:', 'Input: Dr. Mark Sipser\\nOutput: M.Sipser\\n\\nInput: Edward Davis\\nOutput: E.Davis\\n\\nInput: Louis Johnson\\nOutput: L.Johnson\\n\\nInput: Mark Sipser\\nOutput: M.Sipser\\n\\nInput: Robert Mills\\nOutput:', 'Input: Mr. Anand Sagar\\nOutput: A. Sagar\\n\\nInput: Andrew Hudson\\nOutput: A. Hudson\\n\\nInput: Dr. S. R. Barua PhD\\nOutput: S. Barua\\n\\nInput: Sam H. Cook\\nOutput: S. Cook\\n\\nInput: Dale McDermott Jr.\\nOutput:', 'Input: Mr. Anand Sagar\\nOutput: A. Sagar\\n\\nInput: Andrew Hudson\\nOutput: A. Hudson\\n\\nInput: Dr. S. R. Barua PhD\\nOutput: S. Barua\\n\\nInput: Sam H. Cook\\nOutput: S. Cook\\n\\nInput: Mrs. Jessie Simpson\\nOutput:', 'Input: Giussepe Hindravtoks\\nOutput: G. Hindravtoks\\n\\nInput: Damancio Hivser-Kleiner\\nOutput: D. Hivser-Kleiner\\n\\nInput: Antonio Hege\\nOutput: A. Hege\\n\\nInput: Damian Gobbee\\nOutput: D. Gobbee\\n\\nInput: Prof. Edward Davis\\nOutput:', 'Input: Giussepe Hindravtoks\\nOutput: G. Hindravtoks\\n\\nInput: Damancio Hivser-Kleiner\\nOutput: D. Hivser-Kleiner\\n\\nInput: Antonio Hege\\nOutput: A. Hege\\n\\nInput: Damian Gobbee\\nOutput: D. Gobbee\\n\\nInput: Mr. Robert Mills\\nOutput:', 'Input: 457-2130; San Marino\\nOutput: (378) 457-2130\\n\\nInput: 25-437-96-20; South Korea\\nOutput: (82) 25-437-96-20\\n\\nInput: 17-455-81-39; Spain\\nOutput: (34) 17-455-81-39\\n\\nInput: 235-7654; Taiwan\\nOutput: (886) 235-7654\\n\\nInput: 618-4390; Panama\\nOutput:', 'Input: 457-2130; San Marino\\nOutput: (378) 457-2130\\n\\nInput: 25-437-96-20; South Korea\\nOutput: (82) 25-437-96-20\\n\\nInput: 17-455-81-39; Spain\\nOutput: (34) 17-455-81-39\\n\\nInput: 235-7654; Taiwan\\nOutput: (886) 235-7654\\n\\nInput: 44-743-16-50; Netherlands\\nOutput:', 'Input: 25-613-24-50; Chile\\nOutput: (56) 25-613-24-50\\n\\nInput: 14-734-21-90; Hungary\\nOutput: (36) 14-734-21-90\\n\\nInput: 352-7960; Kuwait\\nOutput: (965) 352-7960\\n\\nInput: 785-4210; Madagascar\\nOutput: (261) 785-4210\\n\\nInput: 36-678-59-10; Austria\\nOutput:', 'Input: 25-613-24-50; Chile\\nOutput: (56) 25-613-24-50\\n\\nInput: 14-734-21-90; Hungary\\nOutput: (36) 14-734-21-90\\n\\nInput: 352-7960; Kuwait\\nOutput: (965) 352-7960\\n\\nInput: 785-4210; Madagascar\\nOutput: (261) 785-4210\\n\\nInput: 846-2730; Andorra\\nOutput:', 'Input: 457-2130; SMR\\nOutput: (378) 457-2130\\n\\nInput: 25-437-96-20; KOR\\nOutput: (82) 25-437-96-20\\n\\nInput: 17-455-81-39; ESP\\nOutput: (34) 17-455-81-39\\n\\nInput: 235-7654; TWN\\nOutput: (886) 235-7654\\n\\nInput: 618-4390; PAN\\nOutput:', 'Input: 457-2130; SMR\\nOutput: (378) 457-2130\\n\\nInput: 25-437-96-20; KOR\\nOutput: (82) 25-437-96-20\\n\\nInput: 17-455-81-39; ESP\\nOutput: (34) 17-455-81-39\\n\\nInput: 235-7654; TWN\\nOutput: (886) 235-7654\\n\\nInput: 44-743-16-50; NLD\\nOutput:', 'Input: 25-613-24-50; CHL\\nOutput: (56) 25-613-24-50\\n\\nInput: 14-734-21-90; HUN\\nOutput: (36) 14-734-21-90\\n\\nInput: 352-7960; KWT\\nOutput: (965) 352-7960\\n\\nInput: 785-4210; MDG\\nOutput: (261) 785-4210\\n\\nInput: 36-678-59-10; AUT\\nOutput:', 'Input: 25-613-24-50; CHL\\nOutput: (56) 25-613-24-50\\n\\nInput: 14-734-21-90; HUN\\nOutput: (36) 14-734-21-90\\n\\nInput: 352-7960; KWT\\nOutput: (965) 352-7960\\n\\nInput: 785-4210; MDG\\nOutput: (261) 785-4210\\n\\nInput: 846-2730; AND\\nOutput:', 'Input: 457-2130; San Marino\\nOutput: (+378) 457-2130\\n\\nInput: 25-437-96-20; South Korea\\nOutput: (+82) 25-437-96-20\\n\\nInput: 17-455-81-39; Spain\\nOutput: (+34) 17-455-81-39\\n\\nInput: 235-7654; Taiwan\\nOutput: (+886) 235-7654\\n\\nInput: 618-4390; Panama\\nOutput:', 'Input: 457-2130; San Marino\\nOutput: (+378) 457-2130\\n\\nInput: 25-437-96-20; South Korea\\nOutput: (+82) 25-437-96-20\\n\\nInput: 17-455-81-39; Spain\\nOutput: (+34) 17-455-81-39\\n\\nInput: 235-7654; Taiwan\\nOutput: (+886) 235-7654\\n\\nInput: 44-743-16-50; Netherlands\\nOutput:', 'Input: 25-613-24-50; Chile\\nOutput: (+56) 25-613-24-50\\n\\nInput: 14-734-21-90; Hungary\\nOutput: (+36) 14-734-21-90\\n\\nInput: 352-7960; Kuwait\\nOutput: (+965) 352-7960\\n\\nInput: 785-4210; Madagascar\\nOutput: (+261) 785-4210\\n\\nInput: 36-678-59-10; Austria\\nOutput:', 'Input: 25-613-24-50; Chile\\nOutput: (+56) 25-613-24-50\\n\\nInput: 14-734-21-90; Hungary\\nOutput: (+36) 14-734-21-90\\n\\nInput: 352-7960; Kuwait\\nOutput: (+965) 352-7960\\n\\nInput: 785-4210; Madagascar\\nOutput: (+261) 785-4210\\n\\nInput: 846-2730; Andorra\\nOutput:', 'Input: (986)-457-2130\\nOutput: 986-457-2130\\n\\nInput: (185)-437-9620\\nOutput: 185-437-9620\\n\\nInput: (163)-587-9240\\nOutput: 163-587-9240\\n\\nInput: (323)-708-7700\\nOutput: 323-708-7700\\n\\nInput: (725)-618-4390\\nOutput:', 'Input: (986)-457-2130\\nOutput: 986-457-2130\\n\\nInput: (185)-437-9620\\nOutput: 185-437-9620\\n\\nInput: (163)-587-9240\\nOutput: 163-587-9240\\n\\nInput: (323)-708-7700\\nOutput: 323-708-7700\\n\\nInput: (892)-743-1650\\nOutput:', 'Input: (978)-613-2450\\nOutput: 978-613-2450\\n\\nInput: (568)-734-2190\\nOutput: 568-734-2190\\n\\nInput: (481)-352-7960\\nOutput: 481-352-7960\\n\\nInput: (693)-785-4210\\nOutput: 693-785-4210\\n\\nInput: (324)-678-5910\\nOutput:', 'Input: (978)-613-2450\\nOutput: 978-613-2450\\n\\nInput: (568)-734-2190\\nOutput: 568-734-2190\\n\\nInput: (481)-352-7960\\nOutput: 481-352-7960\\n\\nInput: (693)-785-4210\\nOutput: 693-785-4210\\n\\nInput: (195)-846-2730\\nOutput:', 'Input: 425-457-2130, DJs flock by when MTV ax quiz prog:  18:95\\nOutput: 425-457-2130\\n\\nInput: The quick, brown fox jumps over a lazy dog 425-437-9620 69 11 60 20 13\\nOutput: 425-437-9620\\n\\nInput: A GEDA-MARY 100MG 865-001-0020 - - 5941-00 06-23-2009\\nOutput: 865-001-0020\\n\\nInput: John DOE 3 Data [TS]865-000-0000 - - 453442-00 06-23-2009\\nOutput: 865-000-0000\\n\\nInput: 425-618-4390 - 78 2642\\nOutput:', 'Input: 425-457-2130, DJs flock by when MTV ax quiz prog:  18:95\\nOutput: 425-457-2130\\n\\nInput: The quick, brown fox jumps over a lazy dog 425-437-9620 69 11 60 20 13\\nOutput: 425-437-9620\\n\\nInput: A GEDA-MARY 100MG 865-001-0020 - - 5941-00 06-23-2009\\nOutput: 865-001-0020\\n\\nInput: John DOE 3 Data [TS]865-000-0000 - - 453442-00 06-23-2009\\nOutput: 865-000-0000\\n\\nInput: 17:58-19:29, 425-743-1650\\nOutput:', 'Input: 425-613-2450 000-000\\nOutput: 425-613-2450\\n\\nInput: 9 72 87 6 2 500-734-2190\\nOutput: 500-734-2190\\n\\nInput: International Conference on Automated Planning and Scheduling: 425-352-7960\\nOutput: 425-352-7960\\n\\nInput: 23/11/18 425-785-4210\\nOutput: 425-785-4210\\n\\nInput: 425-678-5910 425-678-591\\nOutput:', 'Input: 425-613-2450 000-000\\nOutput: 425-613-2450\\n\\nInput: 9 72 87 6 2 500-734-2190\\nOutput: 500-734-2190\\n\\nInput: International Conference on Automated Planning and Scheduling: 425-352-7960\\nOutput: 425-352-7960\\n\\nInput: 23/11/18 425-785-4210\\nOutput: 425-785-4210\\n\\nInput: 425-846-2730 425-425 425\\nOutput:', 'Input: 457-2130; 425\\nOutput: 986-457-2130\\n\\nInput: 437-9620; 425\\nOutput: 185-437-9620\\n\\nInput: 745-8139; 425\\nOutput: 425-745-8139\\n\\nInput: 235 7654; 425\\nOutput: 425-235-7654\\n\\nInput: 618 4390; 425\\nOutput:', 'Input: 457-2130; 425\\nOutput: 986-457-2130\\n\\nInput: 437-9620; 425\\nOutput: 185-437-9620\\n\\nInput: 745-8139; 425\\nOutput: 425-745-8139\\n\\nInput: 235 7654; 425\\nOutput: 425-235-7654\\n\\nInput: 743-1650; 425\\nOutput:', 'Input: 613-2450; 65\\nOutput: 65-613-2450\\n\\nInput: 734 2190; 36\\nOutput: 36-734-2190\\n\\nInput: 352-7960; 25\\nOutput: 25-352-7960\\n\\nInput: 785 4210; 254\\nOutput: 254-785-4210\\n\\nInput: 678 5910; 25\\nOutput:', 'Input: 613-2450; 65\\nOutput: 65-613-2450\\n\\nInput: 734 2190; 36\\nOutput: 36-734-2190\\n\\nInput: 352-7960; 25\\nOutput: 25-352-7960\\n\\nInput: 785 4210; 254\\nOutput: 254-785-4210\\n\\nInput: 846-2730; 65\\nOutput:', 'Input: 457-2130; 425\\nOutput: (425) 457-2130\\n\\nInput: 437-9620; 425\\nOutput: (425) 437-9620\\n\\nInput: 745-8139; 425\\nOutput: (425) 745-8139\\n\\nInput: 235-7654; 425\\nOutput: (425) 235-7654\\n\\nInput: 618-4390; 425\\nOutput:', 'Input: 457-2130; 425\\nOutput: (425) 457-2130\\n\\nInput: 437-9620; 425\\nOutput: (425) 437-9620\\n\\nInput: 745-8139; 425\\nOutput: (425) 745-8139\\n\\nInput: 235-7654; 425\\nOutput: (425) 235-7654\\n\\nInput: 743-1650; 425\\nOutput:', 'Input: 613-2450; 65\\nOutput: (65) 613-2450\\n\\nInput: 734-2190; 36\\nOutput: (36) 734-2190\\n\\nInput: 352-7960; 25\\nOutput: (25) 352-7960\\n\\nInput: 785-4210; 254\\nOutput: (254) 785-4210\\n\\nInput: 678-5910; 25\\nOutput:', 'Input: 613-2450; 65\\nOutput: (65) 613-2450\\n\\nInput: 734-2190; 36\\nOutput: (36) 734-2190\\n\\nInput: 352-7960; 25\\nOutput: (25) 352-7960\\n\\nInput: 785-4210; 254\\nOutput: (254) 785-4210\\n\\nInput: 846-2730; 65\\nOutput:', 'Input: 457-2130; 425\\nOutput: (+986) 457-2130\\n\\nInput: 437-9620; 425\\nOutput: (+185) 437-9620\\n\\nInput: 745-8139; 425\\nOutput: (+425) 745-8139\\n\\nInput: 235-7654; 425\\nOutput: (+425) 235-7654\\n\\nInput: 618-4390; 425\\nOutput:', 'Input: 457-2130; 425\\nOutput: (+986) 457-2130\\n\\nInput: 437-9620; 425\\nOutput: (+185) 437-9620\\n\\nInput: 745-8139; 425\\nOutput: (+425) 745-8139\\n\\nInput: 235-7654; 425\\nOutput: (+425) 235-7654\\n\\nInput: 743-1650; 425\\nOutput:', 'Input: 613-2450; 65\\nOutput: (+65) 613-2450\\n\\nInput: 734-2190; 36\\nOutput: (+36) 734-2190\\n\\nInput: 352-7960; 25\\nOutput: (+25) 352-7960\\n\\nInput: 785-4210; 254\\nOutput: (+254) 785-4210\\n\\nInput: 678-5910; 25\\nOutput:', 'Input: 613-2450; 65\\nOutput: (+65) 613-2450\\n\\nInput: 734-2190; 36\\nOutput: (+36) 734-2190\\n\\nInput: 352-7960; 25\\nOutput: (+25) 352-7960\\n\\nInput: 785-4210; 254\\nOutput: (+254) 785-4210\\n\\nInput: 846-2730; 65\\nOutput:', 'Input: 9864572130\\nOutput: 986-457-2130\\n\\nInput: 1854379620\\nOutput: 185-437-9620\\n\\nInput: 1635879240\\nOutput: 163-587-9240\\n\\nInput: 3237087700\\nOutput: 323-708-7700\\n\\nInput: 7256184390\\nOutput:', 'Input: 9864572130\\nOutput: 986-457-2130\\n\\nInput: 1854379620\\nOutput: 185-437-9620\\n\\nInput: 1635879240\\nOutput: 163-587-9240\\n\\nInput: 3237087700\\nOutput: 323-708-7700\\n\\nInput: 8927431650\\nOutput:', 'Input: 9786132450\\nOutput: 978-613-2450\\n\\nInput: 5687342190\\nOutput: 568-734-2190\\n\\nInput: 4813527960\\nOutput: 481-352-7960\\n\\nInput: 6937854210\\nOutput: 693-785-4210\\n\\nInput: 3246785910\\nOutput:', 'Input: 9786132450\\nOutput: 978-613-2450\\n\\nInput: 5687342190\\nOutput: 568-734-2190\\n\\nInput: 4813527960\\nOutput: 481-352-7960\\n\\nInput: 6937854210\\nOutput: 693-785-4210\\n\\nInput: 1958462730\\nOutput:', 'Input: 07:05; 5\\nOutput: 12:05\\n\\nInput: 03; 5\\nOutput: 08\\n\\nInput: 01:55; 5\\nOutput: 06:55\\n\\nInput: 01:34:00; 5\\nOutput: 06:34:00\\n\\nInput: 08; 5\\nOutput:', 'Input: 07:05; 5\\nOutput: 12:05\\n\\nInput: 03; 5\\nOutput: 08\\n\\nInput: 01:55; 5\\nOutput: 06:55\\n\\nInput: 01:34:00; 5\\nOutput: 06:34:00\\n\\nInput: 16:15:12; 5\\nOutput:', 'Input: 10:05; 5\\nOutput: 15:05\\n\\nInput: 17:55; 5\\nOutput: 22:55\\n\\nInput: 20:15:00; 5\\nOutput: 01:15:00\\n\\nInput: 08:55:00; 5\\nOutput: 13:55:00\\n\\nInput: 14:10; 5\\nOutput:', 'Input: 10:05; 5\\nOutput: 15:05\\n\\nInput: 17:55; 5\\nOutput: 22:55\\n\\nInput: 20:15:00; 5\\nOutput: 01:15:00\\n\\nInput: 08:55:00; 5\\nOutput: 13:55:00\\n\\nInput: 21:20; 5\\nOutput:', 'Input: 07:05\\nOutput: 07:05:00\\n\\nInput: 03\\nOutput: 03:00\\n\\nInput: 01:55\\nOutput: 01:55:00\\n\\nInput: 01:34\\nOutput: 01:34:00\\n\\nInput: 08\\nOutput:', 'Input: 07:05\\nOutput: 07:05:00\\n\\nInput: 03\\nOutput: 03:00\\n\\nInput: 01:55\\nOutput: 01:55:00\\n\\nInput: 01:34\\nOutput: 01:34:00\\n\\nInput: 16:15:12\\nOutput:', 'Input: 10:05\\nOutput: 10:05:00\\n\\nInput: 17:55\\nOutput: 17:55:00\\n\\nInput: 20:15:30\\nOutput: \\n\\nInput: 08:55\\nOutput: 08:55:00\\n\\nInput: 14:10\\nOutput:', 'Input: 10:05\\nOutput: 10:05:00\\n\\nInput: 17:55\\nOutput: 17:55:00\\n\\nInput: 20:15:30\\nOutput: \\n\\nInput: 08:55\\nOutput: 08:55:00\\n\\nInput: 21:20\\nOutput:', 'Input: 07:05; 30\\nOutput: 07:05:30\\n\\nInput: 03; 30\\nOutput: 03:30\\n\\nInput: 01:55; 30\\nOutput: 01:55:30\\n\\nInput: 01:34; 30\\nOutput: 01:34:30\\n\\nInput: 08; 30\\nOutput:', 'Input: 07:05; 30\\nOutput: 07:05:30\\n\\nInput: 03; 30\\nOutput: 03:30\\n\\nInput: 01:55; 30\\nOutput: 01:55:30\\n\\nInput: 01:34; 30\\nOutput: 01:34:30\\n\\nInput: 16:15:12; 30\\nOutput:', 'Input: 10:05; 30\\nOutput: 10:05:30\\n\\nInput: 17:55; 30\\nOutput: 17:55:30\\n\\nInput: 20:15:00; 30\\nOutput: \\n\\nInput: 08:55; 30\\nOutput: 08:55:30\\n\\nInput: 14:10; 30\\nOutput:', 'Input: 10:05; 30\\nOutput: 10:05:30\\n\\nInput: 17:55; 30\\nOutput: 17:55:30\\n\\nInput: 20:15:00; 30\\nOutput: \\n\\nInput: 08:55; 30\\nOutput: 08:55:30\\n\\nInput: 21:20; 30\\nOutput:', 'Input: 07:05:59\\nOutput: 07:05:59\\n\\nInput: 3:40 AM\\nOutput: 03:40\\n\\nInput: 01:55\\nOutput: 01:55\\n\\nInput: 1:34:00 PM CST\\nOutput: 13:34:00\\n\\nInput: 08:40 UTC\\nOutput:', 'Input: 07:05:59\\nOutput: 07:05:59\\n\\nInput: 3:40 AM\\nOutput: 03:40\\n\\nInput: 01:55\\nOutput: 01:55\\n\\nInput: 1:34:00 PM CST\\nOutput: 13:34:00\\n\\nInput: 06:15:12\\nOutput:', 'Input: 10:05; CST; HST\\nOutput: 06:05:00\\n\\nInput: 17:55; MST; UTC\\nOutput: 00:55:00\\n\\nInput: 20:15; PST; GMT\\nOutput: 04:15:00\\n\\nInput: 20:55; HST; WET\\nOutput: 06:55:00\\n\\nInput: 08:40; EST; PST\\nOutput:', 'Input: 10:05; CST; HST\\nOutput: 06:05:00\\n\\nInput: 17:55; MST; UTC\\nOutput: 00:55:00\\n\\nInput: 20:15; PST; GMT\\nOutput: 04:15:00\\n\\nInput: 20:55; HST; WET\\nOutput: 06:55:00\\n\\nInput: 06:15; CET; MST\\nOutput:', 'Input: 10:05:00 AM\\nOutput: 10:05:00\\n\\nInput: 17:55\\nOutput: 17:55\\n\\nInput: 20:15:00\\nOutput: 20:15:00\\n\\nInput: 08:55 PM CET\\nOutput: 20:55\\n\\nInput: 14:10\\nOutput:', 'Input: 10:05:00 AM\\nOutput: 10:05:00\\n\\nInput: 17:55\\nOutput: 17:55\\n\\nInput: 20:15:00\\nOutput: 20:15:00\\n\\nInput: 08:55 PM CET\\nOutput: 20:55\\n\\nInput: 21:20\\nOutput:', 'Input: 07:05:59; 24h\\nOutput: 07:05:59\\n\\nInput: 3:40 AM; 24h\\nOutput: 03:40\\n\\nInput: 01:55; 24h\\nOutput: 01:55\\n\\nInput: 1:34:00 PM CST; 24h\\nOutput: 13:34:00\\n\\nInput: 14:10; 12h\\nOutput:', 'Input: 07:05:59; 24h\\nOutput: 07:05:59\\n\\nInput: 3:40 AM; 24h\\nOutput: 03:40\\n\\nInput: 01:55; 24h\\nOutput: 01:55\\n\\nInput: 1:34:00 PM CST; 24h\\nOutput: 13:34:00\\n\\nInput: 21:20; 12h\\nOutput:', 'Input: 10:05:00 AM; 24h\\nOutput: 10:05:00\\n\\nInput: 17:55; 12h\\nOutput: 05:55 PM\\n\\nInput: 20:15:00; 24h\\nOutput: 20:15:00\\n\\nInput: 08:55 PM CET; 24h\\nOutput: 20:55\\n\\nInput: 08:40 UTC; 24h\\nOutput:', 'Input: 10:05:00 AM; 24h\\nOutput: 10:05:00\\n\\nInput: 17:55; 12h\\nOutput: 05:55 PM\\n\\nInput: 20:15:00; 24h\\nOutput: 20:15:00\\n\\nInput: 08:55 PM CET; 24h\\nOutput: 20:55\\n\\nInput: 06:15:12; 24h\\nOutput:', 'Input: 07:05:59\\nOutput: 07:05:59 AM\\n\\nInput: 03:40\\nOutput: 03:40 AM\\n\\nInput: 01:55\\nOutput: 01:55 AM\\n\\nInput: 01:34:00 CST\\nOutput: 01:34:00 AM\\n\\nInput: 14:10\\nOutput:', 'Input: 07:05:59\\nOutput: 07:05:59 AM\\n\\nInput: 03:40\\nOutput: 03:40 AM\\n\\nInput: 01:55\\nOutput: 01:55 AM\\n\\nInput: 01:34:00 CST\\nOutput: 01:34:00 AM\\n\\nInput: 21:20\\nOutput:', 'Input: 10:05:00\\nOutput: 10:05:00 AM\\n\\nInput: 17:55\\nOutput: 05:55 PM\\n\\nInput: 20:15:00\\nOutput: 08:15:00 PM\\n\\nInput: 20:55 CET\\nOutput: 08:55 PM\\n\\nInput: 08:40 UTC\\nOutput:', 'Input: 10:05:00\\nOutput: 10:05:00 AM\\n\\nInput: 17:55\\nOutput: 05:55 PM\\n\\nInput: 20:15:00\\nOutput: 08:15:00 PM\\n\\nInput: 20:55 CET\\nOutput: 08:55 PM\\n\\nInput: 06:15:12\\nOutput:', 'Input: 07:05:59; WET; UTC\\nOutput: 07:05:59\\n\\nInput: 03:40; GMT; UTC\\nOutput: 03:40\\n\\nInput: 01:55; UTC; UTC\\nOutput: 01:55\\n\\nInput: 01:34:00; CST; UTC\\nOutput: 07:34:00\\n\\nInput: 14:10; CET; UTC\\nOutput:', 'Input: 07:05:59; WET; UTC\\nOutput: 07:05:59\\n\\nInput: 03:40; GMT; UTC\\nOutput: 03:40\\n\\nInput: 01:55; UTC; UTC\\nOutput: 01:55\\n\\nInput: 01:34:00; CST; UTC\\nOutput: 07:34:00\\n\\nInput: 21:20; EST; UTC\\nOutput:', 'Input: 10:05:00; CST; HST\\nOutput: 06:05:00\\n\\nInput: 17:55; MST; UTC\\nOutput: 00:55\\n\\nInput: 20:15:00; PST; GMT\\nOutput: 04:15:00\\n\\nInput: 20:55; HST; WET\\nOutput: 06:55\\n\\nInput: 08:40; EST; PST\\nOutput:', 'Input: 10:05:00; CST; HST\\nOutput: 06:05:00\\n\\nInput: 17:55; MST; UTC\\nOutput: 00:55\\n\\nInput: 20:15:00; PST; GMT\\nOutput: 04:15:00\\n\\nInput: 20:55; HST; WET\\nOutput: 06:55\\n\\nInput: 06:15:12; CET; MST\\nOutput:', 'Input: 07:05; WET; UTC\\nOutput: 07:05:00\\n\\nInput: 03:40; GMT; UTC\\nOutput: 03:40:00\\n\\nInput: 01:55; UTC; UTC\\nOutput: 01:55:00\\n\\nInput: 01:34; CST; UTC\\nOutput: 07:34:00\\n\\nInput: 14:10; CET; UTC\\nOutput:', 'Input: 07:05; WET; UTC\\nOutput: 07:05:00\\n\\nInput: 03:40; GMT; UTC\\nOutput: 03:40:00\\n\\nInput: 01:55; UTC; UTC\\nOutput: 01:55:00\\n\\nInput: 01:34; CST; UTC\\nOutput: 07:34:00\\n\\nInput: 21:20; EST; UTC\\nOutput:', 'Input: 07:05\\nOutput: 07\\n\\nInput: 03\\nOutput: \\n\\nInput: 01:55\\nOutput: 01\\n\\nInput: 01:34:00\\nOutput: 01:34\\n\\nInput: 08\\nOutput:', 'Input: 07:05\\nOutput: 07\\n\\nInput: 03\\nOutput: \\n\\nInput: 01:55\\nOutput: 01\\n\\nInput: 01:34:00\\nOutput: 01:34\\n\\nInput: 16:15:12\\nOutput:', 'Input: 10:05\\nOutput: 10\\n\\nInput: 17:55\\nOutput: 17\\n\\nInput: 20:15:00\\nOutput: 20:15\\n\\nInput: 08:55:00\\nOutput: 08:55\\n\\nInput: 14:10\\nOutput:', 'Input: 10:05\\nOutput: 10\\n\\nInput: 17:55\\nOutput: 17\\n\\nInput: 20:15:00\\nOutput: 20:15\\n\\nInput: 08:55:00\\nOutput: 08:55\\n\\nInput: 21:20\\nOutput:', 'Input: 07:05:59\\nOutput: 7\\n\\nInput: 03:40 AM\\nOutput: 3\\n\\nInput: 01:55\\nOutput: 1\\n\\nInput: 1:34:00 PM CST\\nOutput: 1\\n\\nInput: 08:40 UTC\\nOutput:', 'Input: 07:05:59\\nOutput: 7\\n\\nInput: 03:40 AM\\nOutput: 3\\n\\nInput: 01:55\\nOutput: 1\\n\\nInput: 1:34:00 PM CST\\nOutput: 1\\n\\nInput: 16:15:12\\nOutput:', 'Input: 10:05:00 AM\\nOutput: 10\\n\\nInput: 17:55\\nOutput: 17\\n\\nInput: 20:15:00\\nOutput: 20\\n\\nInput: 08:55 PM CET\\nOutput: 8\\n\\nInput: 14:10\\nOutput:', 'Input: 10:05:00 AM\\nOutput: 10\\n\\nInput: 17:55\\nOutput: 17\\n\\nInput: 20:15:00\\nOutput: 20\\n\\nInput: 08:55 PM CET\\nOutput: 8\\n\\nInput: 21:20\\nOutput:', 'Input: 07:05:59\\nOutput: 5\\n\\nInput: 03:40 AM\\nOutput: 40\\n\\nInput: 01:55\\nOutput: 55\\n\\nInput: 1:34:00 PM CST\\nOutput: 34\\n\\nInput: 08:40 UTC\\nOutput:', 'Input: 07:05:59\\nOutput: 5\\n\\nInput: 03:40 AM\\nOutput: 40\\n\\nInput: 01:55\\nOutput: 55\\n\\nInput: 1:34:00 PM CST\\nOutput: 34\\n\\nInput: 16:15:12\\nOutput:', 'Input: 10:05:00 AM\\nOutput: 5\\n\\nInput: 17:55\\nOutput: 55\\n\\nInput: 20:15:00\\nOutput: 15\\n\\nInput: 08:55 PM CET\\nOutput: 55\\n\\nInput: 14:10\\nOutput:', 'Input: 10:05:00 AM\\nOutput: 5\\n\\nInput: 17:55\\nOutput: 55\\n\\nInput: 20:15:00\\nOutput: 15\\n\\nInput: 08:55 PM CET\\nOutput: 55\\n\\nInput: 21:20\\nOutput:', 'Input: 07:05:59\\nOutput: 07:05:59\\n\\nInput: 03:40 AM\\nOutput: 03:40\\n\\nInput: 01:55\\nOutput: 01:55\\n\\nInput: 1:34:00 PM CST\\nOutput: 1:34:00\\n\\nInput: 08:40 UTC\\nOutput:', 'Input: 07:05:59\\nOutput: 07:05:59\\n\\nInput: 03:40 AM\\nOutput: 03:40\\n\\nInput: 01:55\\nOutput: 01:55\\n\\nInput: 1:34:00 PM CST\\nOutput: 1:34:00\\n\\nInput: 16:15:12\\nOutput:', 'Input: 10:05:00 AM\\nOutput: 10:05:00\\n\\nInput: 17:55\\nOutput: 17:55\\n\\nInput: 20:15:00\\nOutput: 20:15:00\\n\\nInput: 08:55 PM CET\\nOutput: 08:55\\n\\nInput: 14:10\\nOutput:', 'Input: 10:05:00 AM\\nOutput: 10:05:00\\n\\nInput: 17:55\\nOutput: 17:55\\n\\nInput: 20:15:00\\nOutput: 20:15:00\\n\\nInput: 08:55 PM CET\\nOutput: 08:55\\n\\nInput: 21:20\\nOutput:', 'Input: 87 s; ns\\nOutput: 8700000\\n\\nInput: 14300ms; s\\nOutput: 14.300001\\n\\nInput: 84kg; g\\nOutput: 84000\\n\\nInput: 1441.8mg; g\\nOutput: 1.4418001\\n\\nInput: 12.20dg; mg\\nOutput:', 'Input: 87 s; ns\\nOutput: 8700000\\n\\nInput: 14300ms; s\\nOutput: 14.300001\\n\\nInput: 84kg; g\\nOutput: 84000\\n\\nInput: 1441.8mg; g\\nOutput: 1.4418001\\n\\nInput: 1854 dam; dm\\nOutput:', 'Input: 4054kg; A\\nOutput: 4054000\\n\\nInput: 980 ms; s\\nOutput: 0.98\\n\\nInput: 41.8g; mg\\nOutput: 41800\\n\\nInput: 1nm; mm\\nOutput: 1000\\n\\nInput: 92.26 K; cK\\nOutput:', 'Input: 4054kg; A\\nOutput: 4054000\\n\\nInput: 980 ms; s\\nOutput: 0.98\\n\\nInput: 41.8g; mg\\nOutput: 41800\\n\\nInput: 1nm; mm\\nOutput: 1000\\n\\nInput: 81 hm; cm\\nOutput:', 'Input: 87; s; ns\\nOutput: 8700000\\n\\nInput: 14300; ms; s\\nOutput: 14.300001\\n\\nInput: 84; kg; g\\nOutput: 84000\\n\\nInput: 1441.8; mg; g\\nOutput: 1.4418001\\n\\nInput: 12.2; dg; mg\\nOutput:', 'Input: 87; s; ns\\nOutput: 8700000\\n\\nInput: 14300; ms; s\\nOutput: 14.300001\\n\\nInput: 84; kg; g\\nOutput: 84000\\n\\nInput: 1441.8; mg; g\\nOutput: 1.4418001\\n\\nInput: 1854; dam; dm\\nOutput:', 'Input: 4054; kg; A\\nOutput: 4054000\\n\\nInput: 980; ms; s\\nOutput: 0.98\\n\\nInput: 41.8; g; mg\\nOutput: 41800\\n\\nInput: 1; nm; mm\\nOutput: 1000\\n\\nInput: 92.26; K; cK\\nOutput:', 'Input: 4054; kg; A\\nOutput: 4054000\\n\\nInput: 980; ms; s\\nOutput: 0.98\\n\\nInput: 41.8; g; mg\\nOutput: 41800\\n\\nInput: 1; nm; mm\\nOutput: 1000\\n\\nInput: 81; hm; cm\\nOutput:', 'Input: 87 s\\nOutput: Time\\n\\nInput: 39.88 A\\nOutput: Electricity\\n\\nInput: 84kg\\nOutput: Mass\\n\\nInput: 56.77cl\\nOutput: Volume\\n\\nInput: 12.20dg\\nOutput:', 'Input: 87 s\\nOutput: Time\\n\\nInput: 39.88 A\\nOutput: Electricity\\n\\nInput: 84kg\\nOutput: Mass\\n\\nInput: 56.77cl\\nOutput: Volume\\n\\nInput: 1854 dam\\nOutput:', 'Input: 4054kA\\nOutput: Electricity\\n\\nInput: 98 ms\\nOutput: Time\\n\\nInput: 41.8g\\nOutput: Mass\\n\\nInput: 1nm\\nOutput: Length\\n\\nInput: 92.26 K\\nOutput:', 'Input: 4054kA\\nOutput: Electricity\\n\\nInput: 98 ms\\nOutput: Time\\n\\nInput: 41.8g\\nOutput: Mass\\n\\nInput: 1nm\\nOutput: Length\\n\\nInput: 81 hl\\nOutput:', 'Input: 87 s\\nOutput: s\\n\\nInput: 39.88 A\\nOutput: A\\n\\nInput: 84Kg\\nOutput: Kg\\n\\nInput: 56.77cl\\nOutput: cl\\n\\nInput: 12.20dg\\nOutput:', 'Input: 87 s\\nOutput: s\\n\\nInput: 39.88 A\\nOutput: A\\n\\nInput: 84Kg\\nOutput: Kg\\n\\nInput: 56.77cl\\nOutput: cl\\n\\nInput: 1854 dam\\nOutput:', 'Input: 4054kA\\nOutput: kA\\n\\nInput: 98 ms\\nOutput: ms\\n\\nInput: 41.8g\\nOutput: g\\n\\nInput: 1nm\\nOutput: nm\\n\\nInput: 92.26 K\\nOutput:', 'Input: 4054kA\\nOutput: kA\\n\\nInput: 98 ms\\nOutput: ms\\n\\nInput: 41.8g\\nOutput: g\\n\\nInput: 1nm\\nOutput: nm\\n\\nInput: 81 hl\\nOutput:', 'Input: 87 s\\nOutput: 87\\n\\nInput: 39.88 A\\nOutput: 39.88\\n\\nInput: 84Kg\\nOutput: 84\\n\\nInput: 56.77cl\\nOutput: 56.77\\n\\nInput: 12.20dg\\nOutput:', 'Input: 87 s\\nOutput: 87\\n\\nInput: 39.88 A\\nOutput: 39.88\\n\\nInput: 84Kg\\nOutput: 84\\n\\nInput: 56.77cl\\nOutput: 56.77\\n\\nInput: 1854 dam\\nOutput:', 'Input: 4054kA\\nOutput: 4054\\n\\nInput: 98 ms\\nOutput: 98\\n\\nInput: 41.8g\\nOutput: 41.8\\n\\nInput: 1nm\\nOutput: 1\\n\\nInput: 92.26 K\\nOutput:', 'Input: 4054kA\\nOutput: 4054\\n\\nInput: 98 ms\\nOutput: 98\\n\\nInput: 41.8g\\nOutput: 41.8\\n\\nInput: 1nm\\nOutput: 1\\n\\nInput: 81 hl\\nOutput:']\n"
          ],
          "name": "stdout"
        }
      ]
    },
    {
      "cell_type": "code",
      "metadata": {
        "id": "ENxwQ9tcYVxZ"
      },
      "source": [
        "text_file = open(\"queries4.txt\", \"w\")\n",
        "for i in range(0, len(printed_queries)):\n",
        "  text_file.write(repr(printed_queries[i]))\n",
        "text_file.close()"
      ],
      "execution_count": null,
      "outputs": []
    },
    {
      "cell_type": "markdown",
      "metadata": {
        "id": "vgNQtH98z9CN"
      },
      "source": [
        "## 3. Evaluate results"
      ]
    },
    {
      "cell_type": "markdown",
      "metadata": {
        "id": "CV_s2RaI0Dqe"
      },
      "source": [
        "### GPT-3 DaVinci 1-shot with Temp = 0// Prompt WITHOUT the task description"
      ]
    },
    {
      "cell_type": "code",
      "metadata": {
        "colab": {
          "resources": {
            "http://localhost:8080/nbextensions/google.colab/files.js": {
              "data": "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",
              "ok": true,
              "headers": [
                [
                  "content-type",
                  "application/javascript"
                ]
              ],
              "status": 200,
              "status_text": ""
            }
          },
          "base_uri": "https://localhost:8080/",
          "height": 72
        },
        "id": "CtKr-BR9tPMB",
        "outputId": "aaa45299-885d-48e9-9f17-baaa550af6da"
      },
      "source": [
        "from google.colab import files\n",
        "uploaded = files.upload()"
      ],
      "execution_count": null,
      "outputs": [
        {
          "output_type": "display_data",
          "data": {
            "text/html": [
              "\n",
              "     <input type=\"file\" id=\"files-960fd740-e60d-46ee-9643-6746a4cc9efb\" name=\"files[]\" multiple disabled\n",
              "        style=\"border:none\" />\n",
              "     <output id=\"result-960fd740-e60d-46ee-9643-6746a4cc9efb\">\n",
              "      Upload widget is only available when the cell has been executed in the\n",
              "      current browser session. Please rerun this cell to enable.\n",
              "      </output>\n",
              "      <script src=\"/nbextensions/google.colab/files.js\"></script> "
            ],
            "text/plain": [
              "<IPython.core.display.HTML object>"
            ]
          },
          "metadata": {
            "tags": []
          }
        },
        {
          "output_type": "stream",
          "text": [
            "Saving results_dw_t0_1s_d.txt to results_dw_t0_1s_d.txt\n"
          ],
          "name": "stdout"
        }
      ]
    },
    {
      "cell_type": "code",
      "metadata": {
        "id": "xYIttDbRtUBm"
      },
      "source": [
        "resdata = uploaded[\"results_dw_t0_1s_d.txt\"].decode(\"utf-8\").split(\"\\n\")"
      ],
      "execution_count": null,
      "outputs": []
    },
    {
      "cell_type": "code",
      "metadata": {
        "id": "M4r4gGPKtaCJ"
      },
      "source": [
        "resdata = resdata[:-1]"
      ],
      "execution_count": null,
      "outputs": []
    },
    {
      "cell_type": "code",
      "metadata": {
        "id": "ibQvvqsjlNI1"
      },
      "source": [
        "results = [[]]*len(final_problems)\n",
        "for i in range(0, len(final_problems)):\n",
        "  results[i] = ['']*len(test_targets[i])\n",
        "  for j in range(0, len(test_targets[i])):\n",
        "    results[i][j] = resdata[i*len(test_targets[i]) + j]"
      ],
      "execution_count": null,
      "outputs": []
    },
    {
      "cell_type": "code",
      "metadata": {
        "colab": {
          "base_uri": "https://localhost:8080/"
        },
        "id": "FJmyn0H4jrcy",
        "outputId": "f86380f3-7080-4c6f-a4b6-4c3766e7ae9f"
      },
      "source": [
        "#Evaluation (T-0)\n",
        " \n",
        "correctAnswers = test_targets\n",
        "\n",
        "corr_num = 0\n",
        " \n",
        "#Calculate the accuracies\n",
        "for i in range(0, len(final_problems)):\n",
        "  for j in range(0, len(test_targets[i])):\n",
        "    if results[i][j] == correctAnswers[i][j]:\n",
        "        corr_num = corr_num + 1\n",
        "\n",
        "print(corr_num / len(resdata))"
      ],
      "execution_count": null,
      "outputs": [
        {
          "output_type": "stream",
          "text": [
            "0.5008547008547009\n"
          ],
          "name": "stdout"
        }
      ]
    },
    {
      "cell_type": "code",
      "metadata": {
        "colab": {
          "base_uri": "https://localhost:8080/"
        },
        "id": "-z7MVCCkpO4q",
        "outputId": "8614e2c2-da7f-457f-c2a2-c6ea712743db"
      },
      "source": [
        "corr_num"
      ],
      "execution_count": null,
      "outputs": [
        {
          "output_type": "execute_result",
          "data": {
            "text/plain": [
              "293"
            ]
          },
          "metadata": {
            "tags": []
          },
          "execution_count": 39
        }
      ]
    },
    {
      "cell_type": "code",
      "metadata": {
        "colab": {
          "base_uri": "https://localhost:8080/"
        },
        "id": "GZvcTh2YpQW2",
        "outputId": "2059247b-145d-4cc2-de30-f464e4d70a3b"
      },
      "source": [
        "len(resdata)"
      ],
      "execution_count": null,
      "outputs": [
        {
          "output_type": "execute_result",
          "data": {
            "text/plain": [
              "585"
            ]
          },
          "metadata": {
            "tags": []
          },
          "execution_count": 40
        }
      ]
    },
    {
      "cell_type": "code",
      "metadata": {
        "id": "Jz8xn0jKs6Jv",
        "colab": {
          "base_uri": "https://localhost:8080/"
        },
        "outputId": "f95f3a6b-b9ad-447c-eec9-b55361e2099f"
      },
      "source": [
        "#Evaluation (T-0)\n",
        " \n",
        "correctAnswers = test_targets\n",
        "\n",
        "sumAccuracy = 0\n",
        "#Calculate the accuracies\n",
        "for i in range(0, len(final_problems)):\n",
        "  accuracy = 0\n",
        "  for j in range(0, len(test_targets[i])):\n",
        "    if results[i][j] == correctAnswers[i][j]:\n",
        "        accuracy = accuracy + (1/len(test_targets[i]))\n",
        "        sumAccuracy = sumAccuracy + (1/len(test_targets[i]))\n",
        "  print(\"GPT3 Accuracy for Problem \" + final_problems[i][0] + \" in Domain \" + final_problems[i][1] + \": \" + str(accuracy*100))"
      ],
      "execution_count": null,
      "outputs": [
        {
          "output_type": "stream",
          "text": [
            "GPT3 Accuracy for Problem addPunctuation-1 in Domain dates: 60.00000000000001\n",
            "GPT3 Accuracy for Problem addPunctuation-2 in Domain dates: 40.0\n",
            "GPT3 Accuracy for Problem changeFormat-1 in Domain dates: 40.0\n",
            "GPT3 Accuracy for Problem changeFormat-2 in Domain dates: 0\n",
            "GPT3 Accuracy for Problem changeFormat-3 in Domain dates: 20.0\n",
            "GPT3 Accuracy for Problem changeFormat-4 in Domain dates: 20.0\n",
            "GPT3 Accuracy for Problem changePunctuation-1 in Domain dates: 100.0\n",
            "GPT3 Accuracy for Problem changePunctuation-2 in Domain dates: 100.0\n",
            "GPT3 Accuracy for Problem getDay-1 in Domain dates: 20.0\n",
            "GPT3 Accuracy for Problem getDay-2 in Domain dates: 0\n",
            "GPT3 Accuracy for Problem getDay-3 in Domain dates: 100.0\n",
            "GPT3 Accuracy for Problem getDayOrdinal-1 in Domain dates: 0\n",
            "GPT3 Accuracy for Problem getDayOrdinal-2 in Domain dates: 0\n",
            "GPT3 Accuracy for Problem getMonthName-1 in Domain dates: 80.0\n",
            "GPT3 Accuracy for Problem getMonthName-2 in Domain dates: 60.00000000000001\n",
            "GPT3 Accuracy for Problem getWeekDay-1 in Domain dates: 100.0\n",
            "GPT3 Accuracy for Problem getWeekDay-2 in Domain dates: 100.0\n",
            "GPT3 Accuracy for Problem reduceMonthName-1 in Domain dates: 20.0\n",
            "GPT3 Accuracy for Problem reduceMonthName-2 in Domain dates: 0\n",
            "GPT3 Accuracy for Problem setFormat-1 in Domain dates: 0\n",
            "GPT3 Accuracy for Problem setFormat-2 in Domain dates: 0\n",
            "GPT3 Accuracy for Problem generate-1 in Domain emails: 100.0\n",
            "GPT3 Accuracy for Problem generate-2 in Domain emails: 80.0\n",
            "GPT3 Accuracy for Problem generate-3 in Domain emails: 60.00000000000001\n",
            "GPT3 Accuracy for Problem getAfterAt-2 in Domain emails: 80.0\n",
            "GPT3 Accuracy for Problem getAfterAt-3 in Domain emails: 100.0\n",
            "GPT3 Accuracy for Problem getAfterAt-4 in Domain emails: 100.0\n",
            "GPT3 Accuracy for Problem getDomain-1 in Domain emails: 100.0\n",
            "GPT3 Accuracy for Problem getDomain-2 in Domain emails: 100.0\n",
            "GPT3 Accuracy for Problem someBeforeAt-NA in Domain emails: 80.0\n",
            "GPT3 Accuracy for Problem afterSymbol-1 in Domain freetext: 80.0\n",
            "GPT3 Accuracy for Problem afterSymbol-2 in Domain freetext: 40.0\n",
            "GPT3 Accuracy for Problem betweenSymbols-1 in Domain freetext: 100.0\n",
            "GPT3 Accuracy for Problem betweenSymbols-2 in Domain freetext: 100.0\n",
            "GPT3 Accuracy for Problem brackets-1 in Domain freetext: 80.0\n",
            "GPT3 Accuracy for Problem brackets-2 in Domain freetext: 60.00000000000001\n",
            "GPT3 Accuracy for Problem deletePunctuation-1 in Domain freetext: 60.00000000000001\n",
            "GPT3 Accuracy for Problem deletePunctuation-2 in Domain freetext: 40.0\n",
            "GPT3 Accuracy for Problem deletePunctuation-3 in Domain freetext: 0\n",
            "GPT3 Accuracy for Problem deletePunctuation-4 in Domain freetext: 60.00000000000001\n",
            "GPT3 Accuracy for Problem deleteSpaces-2 in Domain freetext: 40.0\n",
            "GPT3 Accuracy for Problem digitToEnd-1 in Domain freetext: 100.0\n",
            "GPT3 Accuracy for Problem firstCharacter-1 in Domain freetext: 60.00000000000001\n",
            "GPT3 Accuracy for Problem firstCharacter-2 in Domain freetext: 20.0\n",
            "GPT3 Accuracy for Problem getAfterComma-1 in Domain freetext: 100.0\n",
            "GPT3 Accuracy for Problem getAfterComma-2 in Domain freetext: 100.0\n",
            "GPT3 Accuracy for Problem getBetweenCommas-1 in Domain freetext: 80.0\n",
            "GPT3 Accuracy for Problem getCaps-1 in Domain freetext: 80.0\n",
            "GPT3 Accuracy for Problem getCaps-2 in Domain freetext: 80.0\n",
            "GPT3 Accuracy for Problem getCaps-3 in Domain freetext: 80.0\n",
            "GPT3 Accuracy for Problem toUpper-1 in Domain freetext: 20.0\n",
            "GPT3 Accuracy for Problem toUpper-2 in Domain freetext: 0\n",
            "GPT3 Accuracy for Problem addTitle-1 in Domain names: 60.00000000000001\n",
            "GPT3 Accuracy for Problem addTitle-2 in Domain names: 40.0\n",
            "GPT3 Accuracy for Problem getTitle-1 in Domain names: 20.0\n",
            "GPT3 Accuracy for Problem getTitle-2 in Domain names: 100.0\n",
            "GPT3 Accuracy for Problem login-1 in Domain names: 0\n",
            "GPT3 Accuracy for Problem login-2 in Domain names: 0\n",
            "GPT3 Accuracy for Problem reduceName-1 in Domain names: 80.0\n",
            "GPT3 Accuracy for Problem reduceName-2 in Domain names: 100.0\n",
            "GPT3 Accuracy for Problem reduceName-3 in Domain names: 100.0\n",
            "GPT3 Accuracy for Problem reduceName-5 in Domain names: 80.0\n",
            "GPT3 Accuracy for Problem reduceName-6 in Domain names: 60.00000000000001\n",
            "GPT3 Accuracy for Problem reduceName-8 in Domain names: 20.0\n",
            "GPT3 Accuracy for Problem reduceName-9 in Domain names: 60.00000000000001\n",
            "GPT3 Accuracy for Problem countryPrefix-1 in Domain phones: 100.0\n",
            "GPT3 Accuracy for Problem countryPrefix-2 in Domain phones: 60.00000000000001\n",
            "GPT3 Accuracy for Problem countryPrefix-3 in Domain phones: 40.0\n",
            "GPT3 Accuracy for Problem countryPrefix-7 in Domain phones: 0\n",
            "GPT3 Accuracy for Problem countryPrefix-8 in Domain phones: 100.0\n",
            "GPT3 Accuracy for Problem countryPrefix-9 in Domain phones: 100.0\n",
            "GPT3 Accuracy for Problem deleteParentheses-1 in Domain phones: 100.0\n",
            "GPT3 Accuracy for Problem deleteParentheses-2 in Domain phones: 100.0\n",
            "GPT3 Accuracy for Problem getNumber-1 in Domain phones: 80.0\n",
            "GPT3 Accuracy for Problem getNumber-2 in Domain phones: 20.0\n",
            "GPT3 Accuracy for Problem setPrefix-1 in Domain phones: 20.0\n",
            "GPT3 Accuracy for Problem setPrefix-2 in Domain phones: 80.0\n",
            "GPT3 Accuracy for Problem setPrefix-3 in Domain phones: 100.0\n",
            "GPT3 Accuracy for Problem setPrefix-4 in Domain phones: 80.0\n",
            "GPT3 Accuracy for Problem setPrefix-5 in Domain phones: 20.0\n",
            "GPT3 Accuracy for Problem setPrefix-6 in Domain phones: 0\n",
            "GPT3 Accuracy for Problem setPunctuation-1 in Domain phones: 60.00000000000001\n",
            "GPT3 Accuracy for Problem setPunctuation-2 in Domain phones: 80.0\n",
            "GPT3 Accuracy for Problem addTime-1 in Domain times: 20.0\n",
            "GPT3 Accuracy for Problem addTime-2 in Domain times: 80.0\n",
            "GPT3 Accuracy for Problem appendTime-1 in Domain times: 20.0\n",
            "GPT3 Accuracy for Problem appendTime-2 in Domain times: 80.0\n",
            "GPT3 Accuracy for Problem appendTime-3 in Domain times: 80.0\n",
            "GPT3 Accuracy for Problem appendTime-4 in Domain times: 80.0\n",
            "GPT3 Accuracy for Problem convert-1 in Domain times: 20.0\n",
            "GPT3 Accuracy for Problem convert-10 in Domain times: 0\n",
            "GPT3 Accuracy for Problem convert-2 in Domain times: 0\n",
            "GPT3 Accuracy for Problem convert-3 in Domain times: 20.0\n",
            "GPT3 Accuracy for Problem convert-4 in Domain times: 0\n",
            "GPT3 Accuracy for Problem convert-5 in Domain times: 20.0\n",
            "GPT3 Accuracy for Problem convert-6 in Domain times: 0\n",
            "GPT3 Accuracy for Problem convert-7 in Domain times: 0\n",
            "GPT3 Accuracy for Problem convert-8 in Domain times: 0\n",
            "GPT3 Accuracy for Problem convert-9 in Domain times: 0\n",
            "GPT3 Accuracy for Problem deleteTime-1 in Domain times: 0\n",
            "GPT3 Accuracy for Problem deleteTime-2 in Domain times: 20.0\n",
            "GPT3 Accuracy for Problem getHour-1 in Domain times: 20.0\n",
            "GPT3 Accuracy for Problem getHour-2 in Domain times: 20.0\n",
            "GPT3 Accuracy for Problem getMinutes-1 in Domain times: 60.00000000000001\n",
            "GPT3 Accuracy for Problem getMinutes-2 in Domain times: 20.0\n",
            "GPT3 Accuracy for Problem getTime-1 in Domain times: 100.0\n",
            "GPT3 Accuracy for Problem getTime-2 in Domain times: 100.0\n",
            "GPT3 Accuracy for Problem convert-1 in Domain units: 0\n",
            "GPT3 Accuracy for Problem convert-2 in Domain units: 0\n",
            "GPT3 Accuracy for Problem convert-3 in Domain units: 0\n",
            "GPT3 Accuracy for Problem convert-4 in Domain units: 0\n",
            "GPT3 Accuracy for Problem getSystem-1 in Domain units: 0\n",
            "GPT3 Accuracy for Problem getSystem-2 in Domain units: 0\n",
            "GPT3 Accuracy for Problem getUnits-1 in Domain units: 60.00000000000001\n",
            "GPT3 Accuracy for Problem getUnits-2 in Domain units: 80.0\n",
            "GPT3 Accuracy for Problem getValue-1 in Domain units: 60.00000000000001\n",
            "GPT3 Accuracy for Problem getValue-2 in Domain units: 0\n"
          ],
          "name": "stdout"
        }
      ]
    },
    {
      "cell_type": "code",
      "metadata": {
        "colab": {
          "base_uri": "https://localhost:8080/"
        },
        "id": "4o0Z56wIeqKD",
        "outputId": "99eb26b0-4966-489c-c5c1-9a83e269a612"
      },
      "source": [
        "sumAccuracy"
      ],
      "execution_count": null,
      "outputs": [
        {
          "output_type": "execute_result",
          "data": {
            "text/plain": [
              "58.60000000000029"
            ]
          },
          "metadata": {
            "tags": []
          },
          "execution_count": 42
        }
      ]
    },
    {
      "cell_type": "code",
      "metadata": {
        "colab": {
          "base_uri": "https://localhost:8080/"
        },
        "id": "Yj3YsrE53a5w",
        "outputId": "6fe92c75-f82c-4499-f35a-db36d8c3e223"
      },
      "source": [
        "#Evaluation (T-0) by domain\n",
        " \n",
        "correctAnswers = test_targets\n",
        "\n",
        "sum = 0\n",
        "sumAccuracy = 0\n",
        "#Calculate the accuracies\n",
        "for d in range(0, len(domains)):\n",
        "  for i in range(0, len(final_problems)):\n",
        "    if final_problems[i][1] == domains[d]:\n",
        "      sum = sum + 1\n",
        "      accuracy = 0\n",
        "      for j in range(0, len(test_targets[i])):\n",
        "        if results[i][j] == correctAnswers[i][j]:\n",
        "            accuracy = accuracy + (1/len(test_targets[i]))\n",
        "      sumAccuracy = sumAccuracy + accuracy\n",
        "  print(\"GPT3 Accuracy for Domain \" + domains[d] + \": \" + str((sumAccuracy/sum)*100))\n",
        "  sum = 0\n",
        "  sumAccuracy = 0"
      ],
      "execution_count": null,
      "outputs": [
        {
          "output_type": "stream",
          "text": [
            "GPT3 Accuracy for Domain dates: 40.95238095238095\n",
            "GPT3 Accuracy for Domain emails: 88.88888888888889\n",
            "GPT3 Accuracy for Domain freetext: 62.727272727272734\n",
            "GPT3 Accuracy for Domain names: 55.38461538461539\n",
            "GPT3 Accuracy for Domain phones: 63.33333333333333\n",
            "GPT3 Accuracy for Domain times: 31.66666666666667\n",
            "GPT3 Accuracy for Domain units: 20.0\n"
          ],
          "name": "stdout"
        }
      ]
    },
    {
      "cell_type": "markdown",
      "metadata": {
        "id": "WiClxmOZujcP"
      },
      "source": [
        "### GPT-3 DaVinci 2-shot with Temp = 0// Prompt WITHOUT the task description"
      ]
    },
    {
      "cell_type": "code",
      "metadata": {
        "colab": {
          "resources": {
            "http://localhost:8080/nbextensions/google.colab/files.js": {
              "data": "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",
              "ok": true,
              "headers": [
                [
                  "content-type",
                  "application/javascript"
                ]
              ],
              "status": 200,
              "status_text": ""
            }
          },
          "base_uri": "https://localhost:8080/",
          "height": 72
        },
        "id": "vaSk_3GPujcT",
        "outputId": "4304da25-8968-4648-a276-5ae60661d2b9"
      },
      "source": [
        "from google.colab import files\n",
        "uploaded = files.upload()"
      ],
      "execution_count": null,
      "outputs": [
        {
          "output_type": "display_data",
          "data": {
            "text/html": [
              "\n",
              "     <input type=\"file\" id=\"files-7b5c1619-82ab-451d-be22-ac7cd322d0d6\" name=\"files[]\" multiple disabled\n",
              "        style=\"border:none\" />\n",
              "     <output id=\"result-7b5c1619-82ab-451d-be22-ac7cd322d0d6\">\n",
              "      Upload widget is only available when the cell has been executed in the\n",
              "      current browser session. Please rerun this cell to enable.\n",
              "      </output>\n",
              "      <script src=\"/nbextensions/google.colab/files.js\"></script> "
            ],
            "text/plain": [
              "<IPython.core.display.HTML object>"
            ]
          },
          "metadata": {
            "tags": []
          }
        },
        {
          "output_type": "stream",
          "text": [
            "Saving results_dw_t0_2s_d.txt to results_dw_t0_2s_d.txt\n"
          ],
          "name": "stdout"
        }
      ]
    },
    {
      "cell_type": "code",
      "metadata": {
        "id": "n_Ym4KQhujcV"
      },
      "source": [
        "resdata = uploaded[\"results_dw_t0_2s_d.txt\"].decode(\"utf-8\").split(\"\\n\")"
      ],
      "execution_count": null,
      "outputs": []
    },
    {
      "cell_type": "code",
      "metadata": {
        "id": "VDQK0YC3ujcW"
      },
      "source": [
        "resdata = resdata[:-1]"
      ],
      "execution_count": null,
      "outputs": []
    },
    {
      "cell_type": "code",
      "metadata": {
        "id": "DTXddMnnujcX"
      },
      "source": [
        "results = [[]]*len(final_problems)\n",
        "for i in range(0, len(final_problems)):\n",
        "  results[i] = ['']*len(test_targets2[i])\n",
        "  for j in range(0, len(test_targets2[i])):\n",
        "    results[i][j] = resdata[i*len(test_targets2[i]) + j]"
      ],
      "execution_count": null,
      "outputs": []
    },
    {
      "cell_type": "code",
      "metadata": {
        "colab": {
          "base_uri": "https://localhost:8080/"
        },
        "id": "-Cmve9EfujcX",
        "outputId": "7c1fb44d-c664-4d65-dc76-07b0b494c290"
      },
      "source": [
        "#Evaluation (T-0)\n",
        " \n",
        "correctAnswers = test_targets2\n",
        "\n",
        "corr_num = 0\n",
        " \n",
        "#Calculate the accuracies\n",
        "for i in range(0, len(final_problems)):\n",
        "  for j in range(0, len(test_targets2[i])):\n",
        "    if results[i][j] == correctAnswers[i][j]:\n",
        "        corr_num = corr_num + 1\n",
        "\n",
        "print(corr_num / len(resdata))"
      ],
      "execution_count": null,
      "outputs": [
        {
          "output_type": "stream",
          "text": [
            "0.6282051282051282\n"
          ],
          "name": "stdout"
        }
      ]
    },
    {
      "cell_type": "code",
      "metadata": {
        "colab": {
          "base_uri": "https://localhost:8080/"
        },
        "id": "k6ypAWClujcX",
        "outputId": "f7788b14-c8ff-4fdd-b16d-3c5351417f01"
      },
      "source": [
        "corr_num"
      ],
      "execution_count": null,
      "outputs": [
        {
          "output_type": "execute_result",
          "data": {
            "text/plain": [
              "294"
            ]
          },
          "metadata": {
            "tags": []
          },
          "execution_count": 49
        }
      ]
    },
    {
      "cell_type": "code",
      "metadata": {
        "colab": {
          "base_uri": "https://localhost:8080/"
        },
        "id": "EbY7_BpBujcY",
        "outputId": "3aa268ec-8065-4862-886f-00ff0a98549d"
      },
      "source": [
        "len(resdata)"
      ],
      "execution_count": null,
      "outputs": [
        {
          "output_type": "execute_result",
          "data": {
            "text/plain": [
              "468"
            ]
          },
          "metadata": {
            "tags": []
          },
          "execution_count": 50
        }
      ]
    },
    {
      "cell_type": "code",
      "metadata": {
        "colab": {
          "base_uri": "https://localhost:8080/"
        },
        "id": "imrYgBFNujcY",
        "outputId": "f35231a4-0e57-48a8-9802-bac1888e5311"
      },
      "source": [
        "#Evaluation (T-0)\n",
        " \n",
        "correctAnswers = test_targets2\n",
        "\n",
        "sumAccuracy = 0\n",
        "#Calculate the accuracies\n",
        "for i in range(0, len(final_problems)):\n",
        "  accuracy = 0\n",
        "  for j in range(0, len(test_targets2[i])):\n",
        "    if results[i][j] == correctAnswers[i][j]:\n",
        "        accuracy = accuracy + (1/len(test_targets2[i]))\n",
        "        sumAccuracy = sumAccuracy + (1/len(test_targets2[i]))\n",
        "  print(\"GPT3 Accuracy for Problem \" + final_problems[i][0] + \" in Domain \" + final_problems[i][1] + \": \" + str(accuracy*100))"
      ],
      "execution_count": null,
      "outputs": [
        {
          "output_type": "stream",
          "text": [
            "GPT3 Accuracy for Problem addPunctuation-1 in Domain dates: 100.0\n",
            "GPT3 Accuracy for Problem addPunctuation-2 in Domain dates: 50.0\n",
            "GPT3 Accuracy for Problem changeFormat-1 in Domain dates: 75.0\n",
            "GPT3 Accuracy for Problem changeFormat-2 in Domain dates: 0\n",
            "GPT3 Accuracy for Problem changeFormat-3 in Domain dates: 0\n",
            "GPT3 Accuracy for Problem changeFormat-4 in Domain dates: 25.0\n",
            "GPT3 Accuracy for Problem changePunctuation-1 in Domain dates: 75.0\n",
            "GPT3 Accuracy for Problem changePunctuation-2 in Domain dates: 100.0\n",
            "GPT3 Accuracy for Problem getDay-1 in Domain dates: 25.0\n",
            "GPT3 Accuracy for Problem getDay-2 in Domain dates: 100.0\n",
            "GPT3 Accuracy for Problem getDay-3 in Domain dates: 100.0\n",
            "GPT3 Accuracy for Problem getDayOrdinal-1 in Domain dates: 0\n",
            "GPT3 Accuracy for Problem getDayOrdinal-2 in Domain dates: 75.0\n",
            "GPT3 Accuracy for Problem getMonthName-1 in Domain dates: 75.0\n",
            "GPT3 Accuracy for Problem getMonthName-2 in Domain dates: 100.0\n",
            "GPT3 Accuracy for Problem getWeekDay-1 in Domain dates: 100.0\n",
            "GPT3 Accuracy for Problem getWeekDay-2 in Domain dates: 100.0\n",
            "GPT3 Accuracy for Problem reduceMonthName-1 in Domain dates: 75.0\n",
            "GPT3 Accuracy for Problem reduceMonthName-2 in Domain dates: 25.0\n",
            "GPT3 Accuracy for Problem setFormat-1 in Domain dates: 0\n",
            "GPT3 Accuracy for Problem setFormat-2 in Domain dates: 0\n",
            "GPT3 Accuracy for Problem generate-1 in Domain emails: 100.0\n",
            "GPT3 Accuracy for Problem generate-2 in Domain emails: 100.0\n",
            "GPT3 Accuracy for Problem generate-3 in Domain emails: 100.0\n",
            "GPT3 Accuracy for Problem getAfterAt-2 in Domain emails: 100.0\n",
            "GPT3 Accuracy for Problem getAfterAt-3 in Domain emails: 100.0\n",
            "GPT3 Accuracy for Problem getAfterAt-4 in Domain emails: 100.0\n",
            "GPT3 Accuracy for Problem getDomain-1 in Domain emails: 100.0\n",
            "GPT3 Accuracy for Problem getDomain-2 in Domain emails: 100.0\n",
            "GPT3 Accuracy for Problem someBeforeAt-NA in Domain emails: 50.0\n",
            "GPT3 Accuracy for Problem afterSymbol-1 in Domain freetext: 100.0\n",
            "GPT3 Accuracy for Problem afterSymbol-2 in Domain freetext: 100.0\n",
            "GPT3 Accuracy for Problem betweenSymbols-1 in Domain freetext: 100.0\n",
            "GPT3 Accuracy for Problem betweenSymbols-2 in Domain freetext: 100.0\n",
            "GPT3 Accuracy for Problem brackets-1 in Domain freetext: 75.0\n",
            "GPT3 Accuracy for Problem brackets-2 in Domain freetext: 25.0\n",
            "GPT3 Accuracy for Problem deletePunctuation-1 in Domain freetext: 50.0\n",
            "GPT3 Accuracy for Problem deletePunctuation-2 in Domain freetext: 25.0\n",
            "GPT3 Accuracy for Problem deletePunctuation-3 in Domain freetext: 50.0\n",
            "GPT3 Accuracy for Problem deletePunctuation-4 in Domain freetext: 50.0\n",
            "GPT3 Accuracy for Problem deleteSpaces-2 in Domain freetext: 50.0\n",
            "GPT3 Accuracy for Problem digitToEnd-1 in Domain freetext: 100.0\n",
            "GPT3 Accuracy for Problem firstCharacter-1 in Domain freetext: 75.0\n",
            "GPT3 Accuracy for Problem firstCharacter-2 in Domain freetext: 75.0\n",
            "GPT3 Accuracy for Problem getAfterComma-1 in Domain freetext: 100.0\n",
            "GPT3 Accuracy for Problem getAfterComma-2 in Domain freetext: 100.0\n",
            "GPT3 Accuracy for Problem getBetweenCommas-1 in Domain freetext: 75.0\n",
            "GPT3 Accuracy for Problem getCaps-1 in Domain freetext: 75.0\n",
            "GPT3 Accuracy for Problem getCaps-2 in Domain freetext: 100.0\n",
            "GPT3 Accuracy for Problem getCaps-3 in Domain freetext: 100.0\n",
            "GPT3 Accuracy for Problem toUpper-1 in Domain freetext: 50.0\n",
            "GPT3 Accuracy for Problem toUpper-2 in Domain freetext: 25.0\n",
            "GPT3 Accuracy for Problem addTitle-1 in Domain names: 75.0\n",
            "GPT3 Accuracy for Problem addTitle-2 in Domain names: 0\n",
            "GPT3 Accuracy for Problem getTitle-1 in Domain names: 75.0\n",
            "GPT3 Accuracy for Problem getTitle-2 in Domain names: 100.0\n",
            "GPT3 Accuracy for Problem login-1 in Domain names: 0\n",
            "GPT3 Accuracy for Problem login-2 in Domain names: 0\n",
            "GPT3 Accuracy for Problem reduceName-1 in Domain names: 75.0\n",
            "GPT3 Accuracy for Problem reduceName-2 in Domain names: 100.0\n",
            "GPT3 Accuracy for Problem reduceName-3 in Domain names: 100.0\n",
            "GPT3 Accuracy for Problem reduceName-5 in Domain names: 50.0\n",
            "GPT3 Accuracy for Problem reduceName-6 in Domain names: 50.0\n",
            "GPT3 Accuracy for Problem reduceName-8 in Domain names: 100.0\n",
            "GPT3 Accuracy for Problem reduceName-9 in Domain names: 100.0\n",
            "GPT3 Accuracy for Problem countryPrefix-1 in Domain phones: 100.0\n",
            "GPT3 Accuracy for Problem countryPrefix-2 in Domain phones: 100.0\n",
            "GPT3 Accuracy for Problem countryPrefix-3 in Domain phones: 50.0\n",
            "GPT3 Accuracy for Problem countryPrefix-7 in Domain phones: 0\n",
            "GPT3 Accuracy for Problem countryPrefix-8 in Domain phones: 100.0\n",
            "GPT3 Accuracy for Problem countryPrefix-9 in Domain phones: 100.0\n",
            "GPT3 Accuracy for Problem deleteParentheses-1 in Domain phones: 100.0\n",
            "GPT3 Accuracy for Problem deleteParentheses-2 in Domain phones: 100.0\n",
            "GPT3 Accuracy for Problem getNumber-1 in Domain phones: 75.0\n",
            "GPT3 Accuracy for Problem getNumber-2 in Domain phones: 25.0\n",
            "GPT3 Accuracy for Problem setPrefix-1 in Domain phones: 0\n",
            "GPT3 Accuracy for Problem setPrefix-2 in Domain phones: 100.0\n",
            "GPT3 Accuracy for Problem setPrefix-3 in Domain phones: 100.0\n",
            "GPT3 Accuracy for Problem setPrefix-4 in Domain phones: 100.0\n",
            "GPT3 Accuracy for Problem setPrefix-5 in Domain phones: 0\n",
            "GPT3 Accuracy for Problem setPrefix-6 in Domain phones: 100.0\n",
            "GPT3 Accuracy for Problem setPunctuation-1 in Domain phones: 75.0\n",
            "GPT3 Accuracy for Problem setPunctuation-2 in Domain phones: 100.0\n",
            "GPT3 Accuracy for Problem addTime-1 in Domain times: 0\n",
            "GPT3 Accuracy for Problem addTime-2 in Domain times: 50.0\n",
            "GPT3 Accuracy for Problem appendTime-1 in Domain times: 25.0\n",
            "GPT3 Accuracy for Problem appendTime-2 in Domain times: 100.0\n",
            "GPT3 Accuracy for Problem appendTime-3 in Domain times: 75.0\n",
            "GPT3 Accuracy for Problem appendTime-4 in Domain times: 100.0\n",
            "GPT3 Accuracy for Problem convert-1 in Domain times: 50.0\n",
            "GPT3 Accuracy for Problem convert-10 in Domain times: 0\n",
            "GPT3 Accuracy for Problem convert-2 in Domain times: 50.0\n",
            "GPT3 Accuracy for Problem convert-3 in Domain times: 50.0\n",
            "GPT3 Accuracy for Problem convert-4 in Domain times: 0\n",
            "GPT3 Accuracy for Problem convert-5 in Domain times: 50.0\n",
            "GPT3 Accuracy for Problem convert-6 in Domain times: 25.0\n",
            "GPT3 Accuracy for Problem convert-7 in Domain times: 0\n",
            "GPT3 Accuracy for Problem convert-8 in Domain times: 0\n",
            "GPT3 Accuracy for Problem convert-9 in Domain times: 0\n",
            "GPT3 Accuracy for Problem deleteTime-1 in Domain times: 50.0\n",
            "GPT3 Accuracy for Problem deleteTime-2 in Domain times: 0\n",
            "GPT3 Accuracy for Problem getHour-1 in Domain times: 0\n",
            "GPT3 Accuracy for Problem getHour-2 in Domain times: 100.0\n",
            "GPT3 Accuracy for Problem getMinutes-1 in Domain times: 75.0\n",
            "GPT3 Accuracy for Problem getMinutes-2 in Domain times: 75.0\n",
            "GPT3 Accuracy for Problem getTime-1 in Domain times: 100.0\n",
            "GPT3 Accuracy for Problem getTime-2 in Domain times: 75.0\n",
            "GPT3 Accuracy for Problem convert-1 in Domain units: 0\n",
            "GPT3 Accuracy for Problem convert-2 in Domain units: 25.0\n",
            "GPT3 Accuracy for Problem convert-3 in Domain units: 0\n",
            "GPT3 Accuracy for Problem convert-4 in Domain units: 25.0\n",
            "GPT3 Accuracy for Problem getSystem-1 in Domain units: 50.0\n",
            "GPT3 Accuracy for Problem getSystem-2 in Domain units: 50.0\n",
            "GPT3 Accuracy for Problem getUnits-1 in Domain units: 75.0\n",
            "GPT3 Accuracy for Problem getUnits-2 in Domain units: 100.0\n",
            "GPT3 Accuracy for Problem getValue-1 in Domain units: 75.0\n",
            "GPT3 Accuracy for Problem getValue-2 in Domain units: 100.0\n"
          ],
          "name": "stdout"
        }
      ]
    },
    {
      "cell_type": "code",
      "metadata": {
        "colab": {
          "base_uri": "https://localhost:8080/"
        },
        "id": "wpAVFXy0wE-_",
        "outputId": "26f20962-d4da-4a5c-b73b-786d5ca5bb18"
      },
      "source": [
        "sumAccuracy"
      ],
      "execution_count": null,
      "outputs": [
        {
          "output_type": "execute_result",
          "data": {
            "text/plain": [
              "73.5"
            ]
          },
          "metadata": {
            "tags": []
          },
          "execution_count": 52
        }
      ]
    },
    {
      "cell_type": "code",
      "metadata": {
        "colab": {
          "base_uri": "https://localhost:8080/"
        },
        "id": "aDbRfecY5VVW",
        "outputId": "8b355715-0663-419c-897e-72151b1142a7"
      },
      "source": [
        "#Evaluation (T-0) by domain\n",
        " \n",
        "correctAnswers = test_targets2\n",
        "\n",
        "sum = 0\n",
        "sumAccuracy = 0\n",
        "#Calculate the accuracies\n",
        "for d in range(0, len(domains)):\n",
        "  for i in range(0, len(final_problems)):\n",
        "    if final_problems[i][1] == domains[d]:\n",
        "      sum = sum + 1\n",
        "      accuracy = 0\n",
        "      for j in range(0, len(test_targets2[i])):\n",
        "        if results[i][j] == correctAnswers[i][j]:\n",
        "            accuracy = accuracy + (1/len(test_targets2[i]))\n",
        "      sumAccuracy = sumAccuracy + accuracy\n",
        "  print(\"GPT3 Accuracy for Domain \" + domains[d] + \": \" + str((sumAccuracy/sum)*100))\n",
        "  sum = 0\n",
        "  sumAccuracy = 0"
      ],
      "execution_count": null,
      "outputs": [
        {
          "output_type": "stream",
          "text": [
            "GPT3 Accuracy for Domain dates: 57.14285714285714\n",
            "GPT3 Accuracy for Domain emails: 94.44444444444444\n",
            "GPT3 Accuracy for Domain freetext: 72.72727272727273\n",
            "GPT3 Accuracy for Domain names: 63.46153846153846\n",
            "GPT3 Accuracy for Domain phones: 73.61111111111111\n",
            "GPT3 Accuracy for Domain times: 43.75\n",
            "GPT3 Accuracy for Domain units: 50.0\n"
          ],
          "name": "stdout"
        }
      ]
    },
    {
      "cell_type": "markdown",
      "metadata": {
        "id": "PpI__wx7wM7C"
      },
      "source": [
        "### GPT-3 DaVinci 3-shot with Temp = 0// Prompt WITHOUT the task description"
      ]
    },
    {
      "cell_type": "code",
      "metadata": {
        "colab": {
          "resources": {
            "http://localhost:8080/nbextensions/google.colab/files.js": {
              "data": "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",
              "ok": true,
              "headers": [
                [
                  "content-type",
                  "application/javascript"
                ]
              ],
              "status": 200,
              "status_text": ""
            }
          },
          "base_uri": "https://localhost:8080/",
          "height": 72
        },
        "id": "Qx10wL0DwM7D",
        "outputId": "54246df4-7023-4c6b-ec88-dc6e99c15444"
      },
      "source": [
        "from google.colab import files\n",
        "uploaded = files.upload()"
      ],
      "execution_count": null,
      "outputs": [
        {
          "output_type": "display_data",
          "data": {
            "text/html": [
              "\n",
              "     <input type=\"file\" id=\"files-438bdc48-32c3-47cc-bf73-3afb54b94e6a\" name=\"files[]\" multiple disabled\n",
              "        style=\"border:none\" />\n",
              "     <output id=\"result-438bdc48-32c3-47cc-bf73-3afb54b94e6a\">\n",
              "      Upload widget is only available when the cell has been executed in the\n",
              "      current browser session. Please rerun this cell to enable.\n",
              "      </output>\n",
              "      <script src=\"/nbextensions/google.colab/files.js\"></script> "
            ],
            "text/plain": [
              "<IPython.core.display.HTML object>"
            ]
          },
          "metadata": {
            "tags": []
          }
        },
        {
          "output_type": "stream",
          "text": [
            "Saving results_dw_t0_3s_d.txt to results_dw_t0_3s_d.txt\n"
          ],
          "name": "stdout"
        }
      ]
    },
    {
      "cell_type": "code",
      "metadata": {
        "id": "62CyP0owwM7D"
      },
      "source": [
        "resdata = uploaded[\"results_dw_t0_3s_d.txt\"].decode(\"utf-8\").split(\"\\n\")"
      ],
      "execution_count": null,
      "outputs": []
    },
    {
      "cell_type": "code",
      "metadata": {
        "id": "tUHpAT1FwM7E"
      },
      "source": [
        "resdata = resdata[:-1]"
      ],
      "execution_count": null,
      "outputs": []
    },
    {
      "cell_type": "code",
      "metadata": {
        "id": "_Iwj9qC1wM7E"
      },
      "source": [
        "results = [[]]*len(final_problems)\n",
        "for i in range(0, len(final_problems)):\n",
        "  results[i] = ['']*len(test_targets3[i])\n",
        "  for j in range(0, len(test_targets3[i])):\n",
        "    results[i][j] = resdata[i*len(test_targets3[i]) + j]"
      ],
      "execution_count": null,
      "outputs": []
    },
    {
      "cell_type": "code",
      "metadata": {
        "colab": {
          "base_uri": "https://localhost:8080/"
        },
        "id": "48_k-6DjwM7E",
        "outputId": "e563c982-d2d8-48cf-cea3-e08be6c11b3a"
      },
      "source": [
        "#Evaluation (T-0)\n",
        " \n",
        "correctAnswers = test_targets3\n",
        "\n",
        "corr_num = 0\n",
        " \n",
        "#Calculate the accuracies\n",
        "for i in range(0, len(final_problems)):\n",
        "  for j in range(0, len(test_targets3[i])):\n",
        "    if results[i][j] == correctAnswers[i][j]:\n",
        "        corr_num = corr_num + 1\n",
        "\n",
        "print(corr_num / len(resdata))"
      ],
      "execution_count": null,
      "outputs": [
        {
          "output_type": "stream",
          "text": [
            "0.6324786324786325\n"
          ],
          "name": "stdout"
        }
      ]
    },
    {
      "cell_type": "code",
      "metadata": {
        "colab": {
          "base_uri": "https://localhost:8080/"
        },
        "id": "2BsAjOfywM7E",
        "outputId": "ebb1506e-cb52-4faa-c682-7a42f4b1d00e"
      },
      "source": [
        "corr_num"
      ],
      "execution_count": null,
      "outputs": [
        {
          "output_type": "execute_result",
          "data": {
            "text/plain": [
              "222"
            ]
          },
          "metadata": {
            "tags": []
          },
          "execution_count": 59
        }
      ]
    },
    {
      "cell_type": "code",
      "metadata": {
        "colab": {
          "base_uri": "https://localhost:8080/"
        },
        "id": "9hXtSwKRwM7F",
        "outputId": "598d7d2c-cade-4105-a20c-332e7c1a82af"
      },
      "source": [
        "len(resdata)"
      ],
      "execution_count": null,
      "outputs": [
        {
          "output_type": "execute_result",
          "data": {
            "text/plain": [
              "351"
            ]
          },
          "metadata": {
            "tags": []
          },
          "execution_count": 60
        }
      ]
    },
    {
      "cell_type": "code",
      "metadata": {
        "colab": {
          "base_uri": "https://localhost:8080/"
        },
        "id": "TA2aCsavwM7F",
        "outputId": "c47698b5-0020-47df-9a75-e2ce709c3c32"
      },
      "source": [
        "#Evaluation (T-0)\n",
        " \n",
        "correctAnswers = test_targets3\n",
        "\n",
        "sumAccuracy = 0\n",
        "#Calculate the accuracies\n",
        "for i in range(0, len(final_problems)):\n",
        "  accuracy = 0\n",
        "  for j in range(0, len(test_targets3[i])):\n",
        "    if results[i][j] == correctAnswers[i][j]:\n",
        "        accuracy = accuracy + (1/len(test_targets3[i]))\n",
        "        sumAccuracy = sumAccuracy + (1/len(test_targets3[i]))\n",
        "  print(\"GPT3 Accuracy for Problem \" + final_problems[i][0] + \" in Domain \" + final_problems[i][1] + \": \" + str(accuracy*100))"
      ],
      "execution_count": null,
      "outputs": [
        {
          "output_type": "stream",
          "text": [
            "GPT3 Accuracy for Problem addPunctuation-1 in Domain dates: 100.0\n",
            "GPT3 Accuracy for Problem addPunctuation-2 in Domain dates: 66.66666666666666\n",
            "GPT3 Accuracy for Problem changeFormat-1 in Domain dates: 66.66666666666666\n",
            "GPT3 Accuracy for Problem changeFormat-2 in Domain dates: 0\n",
            "GPT3 Accuracy for Problem changeFormat-3 in Domain dates: 0\n",
            "GPT3 Accuracy for Problem changeFormat-4 in Domain dates: 33.33333333333333\n",
            "GPT3 Accuracy for Problem changePunctuation-1 in Domain dates: 100.0\n",
            "GPT3 Accuracy for Problem changePunctuation-2 in Domain dates: 100.0\n",
            "GPT3 Accuracy for Problem getDay-1 in Domain dates: 0\n",
            "GPT3 Accuracy for Problem getDay-2 in Domain dates: 100.0\n",
            "GPT3 Accuracy for Problem getDay-3 in Domain dates: 100.0\n",
            "GPT3 Accuracy for Problem getDayOrdinal-1 in Domain dates: 0\n",
            "GPT3 Accuracy for Problem getDayOrdinal-2 in Domain dates: 0\n",
            "GPT3 Accuracy for Problem getMonthName-1 in Domain dates: 66.66666666666666\n",
            "GPT3 Accuracy for Problem getMonthName-2 in Domain dates: 100.0\n",
            "GPT3 Accuracy for Problem getWeekDay-1 in Domain dates: 100.0\n",
            "GPT3 Accuracy for Problem getWeekDay-2 in Domain dates: 100.0\n",
            "GPT3 Accuracy for Problem reduceMonthName-1 in Domain dates: 100.0\n",
            "GPT3 Accuracy for Problem reduceMonthName-2 in Domain dates: 33.33333333333333\n",
            "GPT3 Accuracy for Problem setFormat-1 in Domain dates: 0\n",
            "GPT3 Accuracy for Problem setFormat-2 in Domain dates: 0\n",
            "GPT3 Accuracy for Problem generate-1 in Domain emails: 100.0\n",
            "GPT3 Accuracy for Problem generate-2 in Domain emails: 100.0\n",
            "GPT3 Accuracy for Problem generate-3 in Domain emails: 66.66666666666666\n",
            "GPT3 Accuracy for Problem getAfterAt-2 in Domain emails: 66.66666666666666\n",
            "GPT3 Accuracy for Problem getAfterAt-3 in Domain emails: 100.0\n",
            "GPT3 Accuracy for Problem getAfterAt-4 in Domain emails: 100.0\n",
            "GPT3 Accuracy for Problem getDomain-1 in Domain emails: 100.0\n",
            "GPT3 Accuracy for Problem getDomain-2 in Domain emails: 100.0\n",
            "GPT3 Accuracy for Problem someBeforeAt-NA in Domain emails: 100.0\n",
            "GPT3 Accuracy for Problem afterSymbol-1 in Domain freetext: 100.0\n",
            "GPT3 Accuracy for Problem afterSymbol-2 in Domain freetext: 100.0\n",
            "GPT3 Accuracy for Problem betweenSymbols-1 in Domain freetext: 100.0\n",
            "GPT3 Accuracy for Problem betweenSymbols-2 in Domain freetext: 100.0\n",
            "GPT3 Accuracy for Problem brackets-1 in Domain freetext: 66.66666666666666\n",
            "GPT3 Accuracy for Problem brackets-2 in Domain freetext: 66.66666666666666\n",
            "GPT3 Accuracy for Problem deletePunctuation-1 in Domain freetext: 33.33333333333333\n",
            "GPT3 Accuracy for Problem deletePunctuation-2 in Domain freetext: 0\n",
            "GPT3 Accuracy for Problem deletePunctuation-3 in Domain freetext: 33.33333333333333\n",
            "GPT3 Accuracy for Problem deletePunctuation-4 in Domain freetext: 33.33333333333333\n",
            "GPT3 Accuracy for Problem deleteSpaces-2 in Domain freetext: 66.66666666666666\n",
            "GPT3 Accuracy for Problem digitToEnd-1 in Domain freetext: 100.0\n",
            "GPT3 Accuracy for Problem firstCharacter-1 in Domain freetext: 66.66666666666666\n",
            "GPT3 Accuracy for Problem firstCharacter-2 in Domain freetext: 66.66666666666666\n",
            "GPT3 Accuracy for Problem getAfterComma-1 in Domain freetext: 100.0\n",
            "GPT3 Accuracy for Problem getAfterComma-2 in Domain freetext: 100.0\n",
            "GPT3 Accuracy for Problem getBetweenCommas-1 in Domain freetext: 100.0\n",
            "GPT3 Accuracy for Problem getCaps-1 in Domain freetext: 66.66666666666666\n",
            "GPT3 Accuracy for Problem getCaps-2 in Domain freetext: 100.0\n",
            "GPT3 Accuracy for Problem getCaps-3 in Domain freetext: 100.0\n",
            "GPT3 Accuracy for Problem toUpper-1 in Domain freetext: 33.33333333333333\n",
            "GPT3 Accuracy for Problem toUpper-2 in Domain freetext: 100.0\n",
            "GPT3 Accuracy for Problem addTitle-1 in Domain names: 33.33333333333333\n",
            "GPT3 Accuracy for Problem addTitle-2 in Domain names: 33.33333333333333\n",
            "GPT3 Accuracy for Problem getTitle-1 in Domain names: 66.66666666666666\n",
            "GPT3 Accuracy for Problem getTitle-2 in Domain names: 100.0\n",
            "GPT3 Accuracy for Problem login-1 in Domain names: 0\n",
            "GPT3 Accuracy for Problem login-2 in Domain names: 0\n",
            "GPT3 Accuracy for Problem reduceName-1 in Domain names: 100.0\n",
            "GPT3 Accuracy for Problem reduceName-2 in Domain names: 100.0\n",
            "GPT3 Accuracy for Problem reduceName-3 in Domain names: 100.0\n",
            "GPT3 Accuracy for Problem reduceName-5 in Domain names: 66.66666666666666\n",
            "GPT3 Accuracy for Problem reduceName-6 in Domain names: 33.33333333333333\n",
            "GPT3 Accuracy for Problem reduceName-8 in Domain names: 33.33333333333333\n",
            "GPT3 Accuracy for Problem reduceName-9 in Domain names: 100.0\n",
            "GPT3 Accuracy for Problem countryPrefix-1 in Domain phones: 100.0\n",
            "GPT3 Accuracy for Problem countryPrefix-2 in Domain phones: 100.0\n",
            "GPT3 Accuracy for Problem countryPrefix-3 in Domain phones: 33.33333333333333\n",
            "GPT3 Accuracy for Problem countryPrefix-7 in Domain phones: 0\n",
            "GPT3 Accuracy for Problem countryPrefix-8 in Domain phones: 100.0\n",
            "GPT3 Accuracy for Problem countryPrefix-9 in Domain phones: 100.0\n",
            "GPT3 Accuracy for Problem deleteParentheses-1 in Domain phones: 100.0\n",
            "GPT3 Accuracy for Problem deleteParentheses-2 in Domain phones: 100.0\n",
            "GPT3 Accuracy for Problem getNumber-1 in Domain phones: 100.0\n",
            "GPT3 Accuracy for Problem getNumber-2 in Domain phones: 0\n",
            "GPT3 Accuracy for Problem setPrefix-1 in Domain phones: 0\n",
            "GPT3 Accuracy for Problem setPrefix-2 in Domain phones: 100.0\n",
            "GPT3 Accuracy for Problem setPrefix-3 in Domain phones: 100.0\n",
            "GPT3 Accuracy for Problem setPrefix-4 in Domain phones: 100.0\n",
            "GPT3 Accuracy for Problem setPrefix-5 in Domain phones: 0\n",
            "GPT3 Accuracy for Problem setPrefix-6 in Domain phones: 100.0\n",
            "GPT3 Accuracy for Problem setPunctuation-1 in Domain phones: 100.0\n",
            "GPT3 Accuracy for Problem setPunctuation-2 in Domain phones: 100.0\n",
            "GPT3 Accuracy for Problem addTime-1 in Domain times: 0\n",
            "GPT3 Accuracy for Problem addTime-2 in Domain times: 66.66666666666666\n",
            "GPT3 Accuracy for Problem appendTime-1 in Domain times: 66.66666666666666\n",
            "GPT3 Accuracy for Problem appendTime-2 in Domain times: 100.0\n",
            "GPT3 Accuracy for Problem appendTime-3 in Domain times: 66.66666666666666\n",
            "GPT3 Accuracy for Problem appendTime-4 in Domain times: 100.0\n",
            "GPT3 Accuracy for Problem convert-1 in Domain times: 33.33333333333333\n",
            "GPT3 Accuracy for Problem convert-10 in Domain times: 0\n",
            "GPT3 Accuracy for Problem convert-2 in Domain times: 66.66666666666666\n",
            "GPT3 Accuracy for Problem convert-3 in Domain times: 33.33333333333333\n",
            "GPT3 Accuracy for Problem convert-4 in Domain times: 0\n",
            "GPT3 Accuracy for Problem convert-5 in Domain times: 33.33333333333333\n",
            "GPT3 Accuracy for Problem convert-6 in Domain times: 0\n",
            "GPT3 Accuracy for Problem convert-7 in Domain times: 33.33333333333333\n",
            "GPT3 Accuracy for Problem convert-8 in Domain times: 0\n",
            "GPT3 Accuracy for Problem convert-9 in Domain times: 33.33333333333333\n",
            "GPT3 Accuracy for Problem deleteTime-1 in Domain times: 66.66666666666666\n",
            "GPT3 Accuracy for Problem deleteTime-2 in Domain times: 0\n",
            "GPT3 Accuracy for Problem getHour-1 in Domain times: 0\n",
            "GPT3 Accuracy for Problem getHour-2 in Domain times: 100.0\n",
            "GPT3 Accuracy for Problem getMinutes-1 in Domain times: 66.66666666666666\n",
            "GPT3 Accuracy for Problem getMinutes-2 in Domain times: 0\n",
            "GPT3 Accuracy for Problem getTime-1 in Domain times: 100.0\n",
            "GPT3 Accuracy for Problem getTime-2 in Domain times: 100.0\n",
            "GPT3 Accuracy for Problem convert-1 in Domain units: 0\n",
            "GPT3 Accuracy for Problem convert-2 in Domain units: 66.66666666666666\n",
            "GPT3 Accuracy for Problem convert-3 in Domain units: 0\n",
            "GPT3 Accuracy for Problem convert-4 in Domain units: 33.33333333333333\n",
            "GPT3 Accuracy for Problem getSystem-1 in Domain units: 66.66666666666666\n",
            "GPT3 Accuracy for Problem getSystem-2 in Domain units: 66.66666666666666\n",
            "GPT3 Accuracy for Problem getUnits-1 in Domain units: 100.0\n",
            "GPT3 Accuracy for Problem getUnits-2 in Domain units: 100.0\n",
            "GPT3 Accuracy for Problem getValue-1 in Domain units: 66.66666666666666\n",
            "GPT3 Accuracy for Problem getValue-2 in Domain units: 100.0\n"
          ],
          "name": "stdout"
        }
      ]
    },
    {
      "cell_type": "code",
      "metadata": {
        "colab": {
          "base_uri": "https://localhost:8080/"
        },
        "id": "wSbE2NGbwM7F",
        "outputId": "4c6b6d44-eb63-4fc1-8c8b-721f18b200c0"
      },
      "source": [
        "sumAccuracy"
      ],
      "execution_count": null,
      "outputs": [
        {
          "output_type": "execute_result",
          "data": {
            "text/plain": [
              "74.00000000000003"
            ]
          },
          "metadata": {
            "tags": []
          },
          "execution_count": 62
        }
      ]
    },
    {
      "cell_type": "code",
      "metadata": {
        "colab": {
          "base_uri": "https://localhost:8080/"
        },
        "id": "R5akyahA5uRs",
        "outputId": "824b66ce-0b32-4ffa-8cbf-ce2c07a07cf2"
      },
      "source": [
        "#Evaluation (T-0) by domain\n",
        " \n",
        "correctAnswers = test_targets3\n",
        "\n",
        "sum = 0\n",
        "sumAccuracy = 0\n",
        "#Calculate the accuracies\n",
        "for d in range(0, len(domains)):\n",
        "  for i in range(0, len(final_problems)):\n",
        "    if final_problems[i][1] == domains[d]:\n",
        "      sum = sum + 1\n",
        "      accuracy = 0\n",
        "      for j in range(0, len(test_targets3[i])):\n",
        "        if results[i][j] == correctAnswers[i][j]:\n",
        "            accuracy = accuracy + (1/len(test_targets3[i]))\n",
        "      sumAccuracy = sumAccuracy + accuracy\n",
        "  print(\"GPT3 Accuracy for Domain \" + domains[d] + \": \" + str((sumAccuracy/sum)*100))\n",
        "  sum = 0\n",
        "  sumAccuracy = 0"
      ],
      "execution_count": null,
      "outputs": [
        {
          "output_type": "stream",
          "text": [
            "GPT3 Accuracy for Domain dates: 55.55555555555556\n",
            "GPT3 Accuracy for Domain emails: 92.59259259259258\n",
            "GPT3 Accuracy for Domain freetext: 74.24242424242424\n",
            "GPT3 Accuracy for Domain names: 58.974358974358964\n",
            "GPT3 Accuracy for Domain phones: 74.07407407407408\n",
            "GPT3 Accuracy for Domain times: 44.44444444444444\n",
            "GPT3 Accuracy for Domain units: 60.0\n"
          ],
          "name": "stdout"
        }
      ]
    },
    {
      "cell_type": "markdown",
      "metadata": {
        "id": "NV0twaGF1ZeF"
      },
      "source": [
        "### GPT-3 DaVinci 4-shot with Temp = 0// Prompt WITHOUT the task description"
      ]
    },
    {
      "cell_type": "code",
      "metadata": {
        "colab": {
          "resources": {
            "http://localhost:8080/nbextensions/google.colab/files.js": {
              "data": "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",
              "ok": true,
              "headers": [
                [
                  "content-type",
                  "application/javascript"
                ]
              ],
              "status": 200,
              "status_text": ""
            }
          },
          "base_uri": "https://localhost:8080/",
          "height": 72
        },
        "id": "TgJE8o-v1ZeG",
        "outputId": "287d556d-a2a6-4b37-feb6-f7f9c1e483ed"
      },
      "source": [
        "from google.colab import files\n",
        "uploaded = files.upload()"
      ],
      "execution_count": null,
      "outputs": [
        {
          "output_type": "display_data",
          "data": {
            "text/html": [
              "\n",
              "     <input type=\"file\" id=\"files-01c9ac61-67de-4f28-8765-337292913a02\" name=\"files[]\" multiple disabled\n",
              "        style=\"border:none\" />\n",
              "     <output id=\"result-01c9ac61-67de-4f28-8765-337292913a02\">\n",
              "      Upload widget is only available when the cell has been executed in the\n",
              "      current browser session. Please rerun this cell to enable.\n",
              "      </output>\n",
              "      <script src=\"/nbextensions/google.colab/files.js\"></script> "
            ],
            "text/plain": [
              "<IPython.core.display.HTML object>"
            ]
          },
          "metadata": {
            "tags": []
          }
        },
        {
          "output_type": "stream",
          "text": [
            "Saving results_dw_t0_4s_d.txt to results_dw_t0_4s_d.txt\n"
          ],
          "name": "stdout"
        }
      ]
    },
    {
      "cell_type": "code",
      "metadata": {
        "id": "KBN_DtJJ1ZeG"
      },
      "source": [
        "resdata = uploaded[\"results_dw_t0_4s_d.txt\"].decode(\"utf-8\").split(\"\\n\")"
      ],
      "execution_count": null,
      "outputs": []
    },
    {
      "cell_type": "code",
      "metadata": {
        "id": "P1udWYZd1ZeG"
      },
      "source": [
        "resdata = resdata[:-1]"
      ],
      "execution_count": null,
      "outputs": []
    },
    {
      "cell_type": "code",
      "metadata": {
        "id": "fJY4Vz4B1ZeH"
      },
      "source": [
        "results = [[]]*len(final_problems)\n",
        "for i in range(0, len(final_problems)):\n",
        "  results[i] = ['']*len(test_targets4[i])\n",
        "  for j in range(0, len(test_targets4[i])):\n",
        "    results[i][j] = resdata[i*len(test_targets4[i]) + j]"
      ],
      "execution_count": null,
      "outputs": []
    },
    {
      "cell_type": "code",
      "metadata": {
        "colab": {
          "base_uri": "https://localhost:8080/"
        },
        "id": "dWewkE7o1ZeH",
        "outputId": "04cfca7a-ead1-4f63-eb96-5629bbd98ed3"
      },
      "source": [
        "#Evaluation (T-0)\n",
        " \n",
        "correctAnswers = test_targets4\n",
        "\n",
        "corr_num = 0\n",
        " \n",
        "#Calculate the accuracies\n",
        "for i in range(0, len(final_problems)):\n",
        "  for j in range(0, len(test_targets4[i])):\n",
        "    if results[i][j] == correctAnswers[i][j]:\n",
        "        corr_num = corr_num + 1\n",
        "\n",
        "print(corr_num / len(resdata))"
      ],
      "execution_count": null,
      "outputs": [
        {
          "output_type": "stream",
          "text": [
            "0.6752136752136753\n"
          ],
          "name": "stdout"
        }
      ]
    },
    {
      "cell_type": "code",
      "metadata": {
        "colab": {
          "base_uri": "https://localhost:8080/"
        },
        "id": "ojYT2RjW1ZeH",
        "outputId": "4a7f2dea-4b9c-4b0f-a813-929e258a6d64"
      },
      "source": [
        "corr_num"
      ],
      "execution_count": null,
      "outputs": [
        {
          "output_type": "execute_result",
          "data": {
            "text/plain": [
              "158"
            ]
          },
          "metadata": {
            "tags": []
          },
          "execution_count": 69
        }
      ]
    },
    {
      "cell_type": "code",
      "metadata": {
        "colab": {
          "base_uri": "https://localhost:8080/"
        },
        "id": "RnvRD9V_1ZeH",
        "outputId": "4d7ad583-0adb-4e32-a09d-1a1f51574fd1"
      },
      "source": [
        "len(resdata)"
      ],
      "execution_count": null,
      "outputs": [
        {
          "output_type": "execute_result",
          "data": {
            "text/plain": [
              "234"
            ]
          },
          "metadata": {
            "tags": []
          },
          "execution_count": 70
        }
      ]
    },
    {
      "cell_type": "code",
      "metadata": {
        "colab": {
          "base_uri": "https://localhost:8080/"
        },
        "id": "aNz6ymfN1ZeI",
        "outputId": "75b64cad-c7ab-4ac8-e959-af6cbe87cdd9"
      },
      "source": [
        "#Evaluation (T-0)\n",
        " \n",
        "correctAnswers = test_targets4\n",
        "\n",
        "sumAccuracy = 0\n",
        "#Calculate the accuracies\n",
        "for i in range(0, len(final_problems)):\n",
        "  accuracy = 0\n",
        "  for j in range(0, len(test_targets4[i])):\n",
        "    if results[i][j] == correctAnswers[i][j]:\n",
        "        accuracy = accuracy + (1/len(test_targets4[i]))\n",
        "        sumAccuracy = sumAccuracy + (1/len(test_targets4[i]))\n",
        "  print(\"GPT3 Accuracy for Problem \" + final_problems[i][0] + \" in Domain \" + final_problems[i][1] + \": \" + str(accuracy*100))"
      ],
      "execution_count": null,
      "outputs": [
        {
          "output_type": "stream",
          "text": [
            "GPT3 Accuracy for Problem addPunctuation-1 in Domain dates: 100.0\n",
            "GPT3 Accuracy for Problem addPunctuation-2 in Domain dates: 100.0\n",
            "GPT3 Accuracy for Problem changeFormat-1 in Domain dates: 50.0\n",
            "GPT3 Accuracy for Problem changeFormat-2 in Domain dates: 50.0\n",
            "GPT3 Accuracy for Problem changeFormat-3 in Domain dates: 0\n",
            "GPT3 Accuracy for Problem changeFormat-4 in Domain dates: 50.0\n",
            "GPT3 Accuracy for Problem changePunctuation-1 in Domain dates: 100.0\n",
            "GPT3 Accuracy for Problem changePunctuation-2 in Domain dates: 100.0\n",
            "GPT3 Accuracy for Problem getDay-1 in Domain dates: 0\n",
            "GPT3 Accuracy for Problem getDay-2 in Domain dates: 100.0\n",
            "GPT3 Accuracy for Problem getDay-3 in Domain dates: 100.0\n",
            "GPT3 Accuracy for Problem getDayOrdinal-1 in Domain dates: 0\n",
            "GPT3 Accuracy for Problem getDayOrdinal-2 in Domain dates: 50.0\n",
            "GPT3 Accuracy for Problem getMonthName-1 in Domain dates: 50.0\n",
            "GPT3 Accuracy for Problem getMonthName-2 in Domain dates: 100.0\n",
            "GPT3 Accuracy for Problem getWeekDay-1 in Domain dates: 100.0\n",
            "GPT3 Accuracy for Problem getWeekDay-2 in Domain dates: 100.0\n",
            "GPT3 Accuracy for Problem reduceMonthName-1 in Domain dates: 100.0\n",
            "GPT3 Accuracy for Problem reduceMonthName-2 in Domain dates: 50.0\n",
            "GPT3 Accuracy for Problem setFormat-1 in Domain dates: 0\n",
            "GPT3 Accuracy for Problem setFormat-2 in Domain dates: 0\n",
            "GPT3 Accuracy for Problem generate-1 in Domain emails: 100.0\n",
            "GPT3 Accuracy for Problem generate-2 in Domain emails: 100.0\n",
            "GPT3 Accuracy for Problem generate-3 in Domain emails: 50.0\n",
            "GPT3 Accuracy for Problem getAfterAt-2 in Domain emails: 50.0\n",
            "GPT3 Accuracy for Problem getAfterAt-3 in Domain emails: 100.0\n",
            "GPT3 Accuracy for Problem getAfterAt-4 in Domain emails: 100.0\n",
            "GPT3 Accuracy for Problem getDomain-1 in Domain emails: 100.0\n",
            "GPT3 Accuracy for Problem getDomain-2 in Domain emails: 100.0\n",
            "GPT3 Accuracy for Problem someBeforeAt-NA in Domain emails: 100.0\n",
            "GPT3 Accuracy for Problem afterSymbol-1 in Domain freetext: 100.0\n",
            "GPT3 Accuracy for Problem afterSymbol-2 in Domain freetext: 100.0\n",
            "GPT3 Accuracy for Problem betweenSymbols-1 in Domain freetext: 100.0\n",
            "GPT3 Accuracy for Problem betweenSymbols-2 in Domain freetext: 100.0\n",
            "GPT3 Accuracy for Problem brackets-1 in Domain freetext: 100.0\n",
            "GPT3 Accuracy for Problem brackets-2 in Domain freetext: 100.0\n",
            "GPT3 Accuracy for Problem deletePunctuation-1 in Domain freetext: 0\n",
            "GPT3 Accuracy for Problem deletePunctuation-2 in Domain freetext: 0\n",
            "GPT3 Accuracy for Problem deletePunctuation-3 in Domain freetext: 0\n",
            "GPT3 Accuracy for Problem deletePunctuation-4 in Domain freetext: 0\n",
            "GPT3 Accuracy for Problem deleteSpaces-2 in Domain freetext: 0\n",
            "GPT3 Accuracy for Problem digitToEnd-1 in Domain freetext: 100.0\n",
            "GPT3 Accuracy for Problem firstCharacter-1 in Domain freetext: 100.0\n",
            "GPT3 Accuracy for Problem firstCharacter-2 in Domain freetext: 50.0\n",
            "GPT3 Accuracy for Problem getAfterComma-1 in Domain freetext: 100.0\n",
            "GPT3 Accuracy for Problem getAfterComma-2 in Domain freetext: 100.0\n",
            "GPT3 Accuracy for Problem getBetweenCommas-1 in Domain freetext: 100.0\n",
            "GPT3 Accuracy for Problem getCaps-1 in Domain freetext: 100.0\n",
            "GPT3 Accuracy for Problem getCaps-2 in Domain freetext: 50.0\n",
            "GPT3 Accuracy for Problem getCaps-3 in Domain freetext: 100.0\n",
            "GPT3 Accuracy for Problem toUpper-1 in Domain freetext: 50.0\n",
            "GPT3 Accuracy for Problem toUpper-2 in Domain freetext: 100.0\n",
            "GPT3 Accuracy for Problem addTitle-1 in Domain names: 100.0\n",
            "GPT3 Accuracy for Problem addTitle-2 in Domain names: 50.0\n",
            "GPT3 Accuracy for Problem getTitle-1 in Domain names: 100.0\n",
            "GPT3 Accuracy for Problem getTitle-2 in Domain names: 100.0\n",
            "GPT3 Accuracy for Problem login-1 in Domain names: 0\n",
            "GPT3 Accuracy for Problem login-2 in Domain names: 0\n",
            "GPT3 Accuracy for Problem reduceName-1 in Domain names: 100.0\n",
            "GPT3 Accuracy for Problem reduceName-2 in Domain names: 100.0\n",
            "GPT3 Accuracy for Problem reduceName-3 in Domain names: 100.0\n",
            "GPT3 Accuracy for Problem reduceName-5 in Domain names: 50.0\n",
            "GPT3 Accuracy for Problem reduceName-6 in Domain names: 100.0\n",
            "GPT3 Accuracy for Problem reduceName-8 in Domain names: 100.0\n",
            "GPT3 Accuracy for Problem reduceName-9 in Domain names: 100.0\n",
            "GPT3 Accuracy for Problem countryPrefix-1 in Domain phones: 100.0\n",
            "GPT3 Accuracy for Problem countryPrefix-2 in Domain phones: 100.0\n",
            "GPT3 Accuracy for Problem countryPrefix-3 in Domain phones: 50.0\n",
            "GPT3 Accuracy for Problem countryPrefix-7 in Domain phones: 0\n",
            "GPT3 Accuracy for Problem countryPrefix-8 in Domain phones: 100.0\n",
            "GPT3 Accuracy for Problem countryPrefix-9 in Domain phones: 100.0\n",
            "GPT3 Accuracy for Problem deleteParentheses-1 in Domain phones: 100.0\n",
            "GPT3 Accuracy for Problem deleteParentheses-2 in Domain phones: 100.0\n",
            "GPT3 Accuracy for Problem getNumber-1 in Domain phones: 100.0\n",
            "GPT3 Accuracy for Problem getNumber-2 in Domain phones: 50.0\n",
            "GPT3 Accuracy for Problem setPrefix-1 in Domain phones: 0\n",
            "GPT3 Accuracy for Problem setPrefix-2 in Domain phones: 100.0\n",
            "GPT3 Accuracy for Problem setPrefix-3 in Domain phones: 100.0\n",
            "GPT3 Accuracy for Problem setPrefix-4 in Domain phones: 100.0\n",
            "GPT3 Accuracy for Problem setPrefix-5 in Domain phones: 0\n",
            "GPT3 Accuracy for Problem setPrefix-6 in Domain phones: 100.0\n",
            "GPT3 Accuracy for Problem setPunctuation-1 in Domain phones: 100.0\n",
            "GPT3 Accuracy for Problem setPunctuation-2 in Domain phones: 100.0\n",
            "GPT3 Accuracy for Problem addTime-1 in Domain times: 0\n",
            "GPT3 Accuracy for Problem addTime-2 in Domain times: 50.0\n",
            "GPT3 Accuracy for Problem appendTime-1 in Domain times: 50.0\n",
            "GPT3 Accuracy for Problem appendTime-2 in Domain times: 100.0\n",
            "GPT3 Accuracy for Problem appendTime-3 in Domain times: 50.0\n",
            "GPT3 Accuracy for Problem appendTime-4 in Domain times: 100.0\n",
            "GPT3 Accuracy for Problem convert-1 in Domain times: 50.0\n",
            "GPT3 Accuracy for Problem convert-10 in Domain times: 0\n",
            "GPT3 Accuracy for Problem convert-2 in Domain times: 100.0\n",
            "GPT3 Accuracy for Problem convert-3 in Domain times: 0\n",
            "GPT3 Accuracy for Problem convert-4 in Domain times: 0\n",
            "GPT3 Accuracy for Problem convert-5 in Domain times: 0\n",
            "GPT3 Accuracy for Problem convert-6 in Domain times: 50.0\n",
            "GPT3 Accuracy for Problem convert-7 in Domain times: 0\n",
            "GPT3 Accuracy for Problem convert-8 in Domain times: 0\n",
            "GPT3 Accuracy for Problem convert-9 in Domain times: 0\n",
            "GPT3 Accuracy for Problem deleteTime-1 in Domain times: 50.0\n",
            "GPT3 Accuracy for Problem deleteTime-2 in Domain times: 100.0\n",
            "GPT3 Accuracy for Problem getHour-1 in Domain times: 100.0\n",
            "GPT3 Accuracy for Problem getHour-2 in Domain times: 100.0\n",
            "GPT3 Accuracy for Problem getMinutes-1 in Domain times: 100.0\n",
            "GPT3 Accuracy for Problem getMinutes-2 in Domain times: 100.0\n",
            "GPT3 Accuracy for Problem getTime-1 in Domain times: 100.0\n",
            "GPT3 Accuracy for Problem getTime-2 in Domain times: 100.0\n",
            "GPT3 Accuracy for Problem convert-1 in Domain units: 0\n",
            "GPT3 Accuracy for Problem convert-2 in Domain units: 50.0\n",
            "GPT3 Accuracy for Problem convert-3 in Domain units: 0\n",
            "GPT3 Accuracy for Problem convert-4 in Domain units: 0\n",
            "GPT3 Accuracy for Problem getSystem-1 in Domain units: 50.0\n",
            "GPT3 Accuracy for Problem getSystem-2 in Domain units: 100.0\n",
            "GPT3 Accuracy for Problem getUnits-1 in Domain units: 100.0\n",
            "GPT3 Accuracy for Problem getUnits-2 in Domain units: 100.0\n",
            "GPT3 Accuracy for Problem getValue-1 in Domain units: 50.0\n",
            "GPT3 Accuracy for Problem getValue-2 in Domain units: 100.0\n"
          ],
          "name": "stdout"
        }
      ]
    },
    {
      "cell_type": "code",
      "metadata": {
        "colab": {
          "base_uri": "https://localhost:8080/"
        },
        "id": "47qtVf7r1ZeI",
        "outputId": "a8ba065b-d63f-47d7-b166-9ff23ba0ee6b"
      },
      "source": [
        "sumAccuracy"
      ],
      "execution_count": null,
      "outputs": [
        {
          "output_type": "execute_result",
          "data": {
            "text/plain": [
              "79.0"
            ]
          },
          "metadata": {
            "tags": []
          },
          "execution_count": 72
        }
      ]
    },
    {
      "cell_type": "code",
      "metadata": {
        "colab": {
          "base_uri": "https://localhost:8080/"
        },
        "id": "qnz9RV4P6AFU",
        "outputId": "d5cd358f-96fd-4d47-c07b-a929179b3594"
      },
      "source": [
        "#Evaluation (T-0) by domain\n",
        " \n",
        "correctAnswers = test_targets4\n",
        "\n",
        "sum = 0\n",
        "sumAccuracy = 0\n",
        "#Calculate the accuracies\n",
        "for d in range(0, len(domains)):\n",
        "  for i in range(0, len(final_problems)):\n",
        "    if final_problems[i][1] == domains[d]:\n",
        "      sum = sum + 1\n",
        "      accuracy = 0\n",
        "      for j in range(0, len(test_targets4[i])):\n",
        "        if results[i][j] == correctAnswers[i][j]:\n",
        "            accuracy = accuracy + (1/len(test_targets4[i]))\n",
        "      sumAccuracy = sumAccuracy + accuracy\n",
        "  print(\"GPT3 Accuracy for Domain \" + domains[d] + \": \" + str((sumAccuracy/sum)*100))\n",
        "  sum = 0\n",
        "  sumAccuracy = 0"
      ],
      "execution_count": null,
      "outputs": [
        {
          "output_type": "stream",
          "text": [
            "GPT3 Accuracy for Domain dates: 61.904761904761905\n",
            "GPT3 Accuracy for Domain emails: 88.88888888888889\n",
            "GPT3 Accuracy for Domain freetext: 70.45454545454545\n",
            "GPT3 Accuracy for Domain names: 76.92307692307693\n",
            "GPT3 Accuracy for Domain phones: 77.77777777777779\n",
            "GPT3 Accuracy for Domain times: 54.166666666666664\n",
            "GPT3 Accuracy for Domain units: 55.00000000000001\n"
          ],
          "name": "stdout"
        }
      ]
    },
    {
      "cell_type": "markdown",
      "metadata": {
        "id": "bqe-y8zL66cz"
      },
      "source": [
        "### GPT-3 Curie 1-shot with Temp = 0// Prompt WITHOUT the task description"
      ]
    },
    {
      "cell_type": "code",
      "metadata": {
        "colab": {
          "resources": {
            "http://localhost:8080/nbextensions/google.colab/files.js": {
              "data": "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",
              "ok": true,
              "headers": [
                [
                  "content-type",
                  "application/javascript"
                ]
              ],
              "status": 200,
              "status_text": ""
            }
          },
          "base_uri": "https://localhost:8080/",
          "height": 72
        },
        "id": "u9G5uMiH66c3",
        "outputId": "0a31807e-7c01-4f19-d9b8-31ce8970fe78"
      },
      "source": [
        "from google.colab import files\n",
        "uploaded = files.upload()"
      ],
      "execution_count": null,
      "outputs": [
        {
          "output_type": "display_data",
          "data": {
            "text/html": [
              "\n",
              "     <input type=\"file\" id=\"files-03c05ed0-7bf2-4fa5-95ce-a9fba2bc03da\" name=\"files[]\" multiple disabled\n",
              "        style=\"border:none\" />\n",
              "     <output id=\"result-03c05ed0-7bf2-4fa5-95ce-a9fba2bc03da\">\n",
              "      Upload widget is only available when the cell has been executed in the\n",
              "      current browser session. Please rerun this cell to enable.\n",
              "      </output>\n",
              "      <script src=\"/nbextensions/google.colab/files.js\"></script> "
            ],
            "text/plain": [
              "<IPython.core.display.HTML object>"
            ]
          },
          "metadata": {
            "tags": []
          }
        },
        {
          "output_type": "stream",
          "text": [
            "Saving results_dw_t0_1s_c.txt to results_dw_t0_1s_c.txt\n"
          ],
          "name": "stdout"
        }
      ]
    },
    {
      "cell_type": "code",
      "metadata": {
        "id": "4KfRul_D66c4"
      },
      "source": [
        "resdata = uploaded[\"results_dw_t0_1s_c.txt\"].decode(\"utf-8\").split(\"\\n\")"
      ],
      "execution_count": null,
      "outputs": []
    },
    {
      "cell_type": "code",
      "metadata": {
        "id": "vWBsrMpa66c5"
      },
      "source": [
        "resdata = resdata[:-1]"
      ],
      "execution_count": null,
      "outputs": []
    },
    {
      "cell_type": "code",
      "metadata": {
        "id": "gDpvQWkw66c5"
      },
      "source": [
        "results = [[]]*len(final_problems)\n",
        "for i in range(0, len(final_problems)):\n",
        "  results[i] = ['']*len(test_targets[i])\n",
        "  for j in range(0, len(test_targets[i])):\n",
        "    results[i][j] = resdata[i*len(test_targets[i]) + j]"
      ],
      "execution_count": null,
      "outputs": []
    },
    {
      "cell_type": "code",
      "metadata": {
        "colab": {
          "base_uri": "https://localhost:8080/"
        },
        "id": "0DwccXGK66c5",
        "outputId": "98547754-5e7f-48dc-d8be-7aa32c1fc485"
      },
      "source": [
        "#Evaluation (T-0)\n",
        " \n",
        "correctAnswers = test_targets\n",
        "\n",
        "corr_num = 0\n",
        " \n",
        "#Calculate the accuracies\n",
        "for i in range(0, len(final_problems)):\n",
        "  for j in range(0, len(test_targets[i])):\n",
        "    if results[i][j] == correctAnswers[i][j]:\n",
        "        corr_num = corr_num + 1\n",
        "\n",
        "print(corr_num / len(resdata))"
      ],
      "execution_count": null,
      "outputs": [
        {
          "output_type": "stream",
          "text": [
            "0.3811965811965812\n"
          ],
          "name": "stdout"
        }
      ]
    },
    {
      "cell_type": "code",
      "metadata": {
        "colab": {
          "base_uri": "https://localhost:8080/"
        },
        "id": "yVbHaUo466c6",
        "outputId": "3b24f51b-48b1-4b94-d1c1-82a3ff1a29da"
      },
      "source": [
        "corr_num"
      ],
      "execution_count": null,
      "outputs": [
        {
          "output_type": "execute_result",
          "data": {
            "text/plain": [
              "223"
            ]
          },
          "metadata": {
            "tags": []
          },
          "execution_count": 81
        }
      ]
    },
    {
      "cell_type": "code",
      "metadata": {
        "colab": {
          "base_uri": "https://localhost:8080/"
        },
        "id": "X3QY6zjR66c6",
        "outputId": "b2c80f86-6ed7-4bc7-c035-6870f6a89206"
      },
      "source": [
        "len(resdata)"
      ],
      "execution_count": null,
      "outputs": [
        {
          "output_type": "execute_result",
          "data": {
            "text/plain": [
              "585"
            ]
          },
          "metadata": {
            "tags": []
          },
          "execution_count": 82
        }
      ]
    },
    {
      "cell_type": "code",
      "metadata": {
        "colab": {
          "base_uri": "https://localhost:8080/"
        },
        "id": "eRP1RbGz66c6",
        "outputId": "754d3796-6621-4dca-af2e-584658db129d"
      },
      "source": [
        "#Evaluation (T-0)\n",
        " \n",
        "correctAnswers = test_targets\n",
        "\n",
        "sumAccuracy = 0\n",
        "#Calculate the accuracies\n",
        "for i in range(0, len(final_problems)):\n",
        "  accuracy = 0\n",
        "  for j in range(0, len(test_targets[i])):\n",
        "    if results[i][j] == correctAnswers[i][j]:\n",
        "        accuracy = accuracy + (1/len(test_targets[i]))\n",
        "        sumAccuracy = sumAccuracy + (1/len(test_targets[i]))\n",
        "  print(\"GPT3 Accuracy for Problem \" + final_problems[i][0] + \" in Domain \" + final_problems[i][1] + \": \" + str(accuracy*100))"
      ],
      "execution_count": null,
      "outputs": [
        {
          "output_type": "stream",
          "text": [
            "GPT3 Accuracy for Problem addPunctuation-1 in Domain dates: 60.00000000000001\n",
            "GPT3 Accuracy for Problem addPunctuation-2 in Domain dates: 40.0\n",
            "GPT3 Accuracy for Problem changeFormat-1 in Domain dates: 0\n",
            "GPT3 Accuracy for Problem changeFormat-2 in Domain dates: 0\n",
            "GPT3 Accuracy for Problem changeFormat-3 in Domain dates: 40.0\n",
            "GPT3 Accuracy for Problem changeFormat-4 in Domain dates: 20.0\n",
            "GPT3 Accuracy for Problem changePunctuation-1 in Domain dates: 100.0\n",
            "GPT3 Accuracy for Problem changePunctuation-2 in Domain dates: 100.0\n",
            "GPT3 Accuracy for Problem getDay-1 in Domain dates: 40.0\n",
            "GPT3 Accuracy for Problem getDay-2 in Domain dates: 0\n",
            "GPT3 Accuracy for Problem getDay-3 in Domain dates: 60.00000000000001\n",
            "GPT3 Accuracy for Problem getDayOrdinal-1 in Domain dates: 0\n",
            "GPT3 Accuracy for Problem getDayOrdinal-2 in Domain dates: 0\n",
            "GPT3 Accuracy for Problem getMonthName-1 in Domain dates: 40.0\n",
            "GPT3 Accuracy for Problem getMonthName-2 in Domain dates: 100.0\n",
            "GPT3 Accuracy for Problem getWeekDay-1 in Domain dates: 40.0\n",
            "GPT3 Accuracy for Problem getWeekDay-2 in Domain dates: 40.0\n",
            "GPT3 Accuracy for Problem reduceMonthName-1 in Domain dates: 40.0\n",
            "GPT3 Accuracy for Problem reduceMonthName-2 in Domain dates: 0\n",
            "GPT3 Accuracy for Problem setFormat-1 in Domain dates: 0\n",
            "GPT3 Accuracy for Problem setFormat-2 in Domain dates: 0\n",
            "GPT3 Accuracy for Problem generate-1 in Domain emails: 100.0\n",
            "GPT3 Accuracy for Problem generate-2 in Domain emails: 100.0\n",
            "GPT3 Accuracy for Problem generate-3 in Domain emails: 100.0\n",
            "GPT3 Accuracy for Problem getAfterAt-2 in Domain emails: 80.0\n",
            "GPT3 Accuracy for Problem getAfterAt-3 in Domain emails: 80.0\n",
            "GPT3 Accuracy for Problem getAfterAt-4 in Domain emails: 100.0\n",
            "GPT3 Accuracy for Problem getDomain-1 in Domain emails: 100.0\n",
            "GPT3 Accuracy for Problem getDomain-2 in Domain emails: 80.0\n",
            "GPT3 Accuracy for Problem someBeforeAt-NA in Domain emails: 40.0\n",
            "GPT3 Accuracy for Problem afterSymbol-1 in Domain freetext: 80.0\n",
            "GPT3 Accuracy for Problem afterSymbol-2 in Domain freetext: 80.0\n",
            "GPT3 Accuracy for Problem betweenSymbols-1 in Domain freetext: 100.0\n",
            "GPT3 Accuracy for Problem betweenSymbols-2 in Domain freetext: 40.0\n",
            "GPT3 Accuracy for Problem brackets-1 in Domain freetext: 100.0\n",
            "GPT3 Accuracy for Problem brackets-2 in Domain freetext: 80.0\n",
            "GPT3 Accuracy for Problem deletePunctuation-1 in Domain freetext: 0\n",
            "GPT3 Accuracy for Problem deletePunctuation-2 in Domain freetext: 40.0\n",
            "GPT3 Accuracy for Problem deletePunctuation-3 in Domain freetext: 0\n",
            "GPT3 Accuracy for Problem deletePunctuation-4 in Domain freetext: 40.0\n",
            "GPT3 Accuracy for Problem deleteSpaces-2 in Domain freetext: 40.0\n",
            "GPT3 Accuracy for Problem digitToEnd-1 in Domain freetext: 80.0\n",
            "GPT3 Accuracy for Problem firstCharacter-1 in Domain freetext: 40.0\n",
            "GPT3 Accuracy for Problem firstCharacter-2 in Domain freetext: 0\n",
            "GPT3 Accuracy for Problem getAfterComma-1 in Domain freetext: 20.0\n",
            "GPT3 Accuracy for Problem getAfterComma-2 in Domain freetext: 60.00000000000001\n",
            "GPT3 Accuracy for Problem getBetweenCommas-1 in Domain freetext: 100.0\n",
            "GPT3 Accuracy for Problem getCaps-1 in Domain freetext: 0\n",
            "GPT3 Accuracy for Problem getCaps-2 in Domain freetext: 40.0\n",
            "GPT3 Accuracy for Problem getCaps-3 in Domain freetext: 100.0\n",
            "GPT3 Accuracy for Problem toUpper-1 in Domain freetext: 40.0\n",
            "GPT3 Accuracy for Problem toUpper-2 in Domain freetext: 40.0\n",
            "GPT3 Accuracy for Problem addTitle-1 in Domain names: 40.0\n",
            "GPT3 Accuracy for Problem addTitle-2 in Domain names: 40.0\n",
            "GPT3 Accuracy for Problem getTitle-1 in Domain names: 20.0\n",
            "GPT3 Accuracy for Problem getTitle-2 in Domain names: 40.0\n",
            "GPT3 Accuracy for Problem login-1 in Domain names: 0\n",
            "GPT3 Accuracy for Problem login-2 in Domain names: 0\n",
            "GPT3 Accuracy for Problem reduceName-1 in Domain names: 60.00000000000001\n",
            "GPT3 Accuracy for Problem reduceName-2 in Domain names: 100.0\n",
            "GPT3 Accuracy for Problem reduceName-3 in Domain names: 100.0\n",
            "GPT3 Accuracy for Problem reduceName-5 in Domain names: 60.00000000000001\n",
            "GPT3 Accuracy for Problem reduceName-6 in Domain names: 20.0\n",
            "GPT3 Accuracy for Problem reduceName-8 in Domain names: 40.0\n",
            "GPT3 Accuracy for Problem reduceName-9 in Domain names: 60.00000000000001\n",
            "GPT3 Accuracy for Problem countryPrefix-1 in Domain phones: 0\n",
            "GPT3 Accuracy for Problem countryPrefix-2 in Domain phones: 0\n",
            "GPT3 Accuracy for Problem countryPrefix-3 in Domain phones: 0\n",
            "GPT3 Accuracy for Problem countryPrefix-7 in Domain phones: 0\n",
            "GPT3 Accuracy for Problem countryPrefix-8 in Domain phones: 40.0\n",
            "GPT3 Accuracy for Problem countryPrefix-9 in Domain phones: 60.00000000000001\n",
            "GPT3 Accuracy for Problem deleteParentheses-1 in Domain phones: 40.0\n",
            "GPT3 Accuracy for Problem deleteParentheses-2 in Domain phones: 20.0\n",
            "GPT3 Accuracy for Problem getNumber-1 in Domain phones: 60.00000000000001\n",
            "GPT3 Accuracy for Problem getNumber-2 in Domain phones: 20.0\n",
            "GPT3 Accuracy for Problem setPrefix-1 in Domain phones: 20.0\n",
            "GPT3 Accuracy for Problem setPrefix-2 in Domain phones: 100.0\n",
            "GPT3 Accuracy for Problem setPrefix-3 in Domain phones: 80.0\n",
            "GPT3 Accuracy for Problem setPrefix-4 in Domain phones: 100.0\n",
            "GPT3 Accuracy for Problem setPrefix-5 in Domain phones: 20.0\n",
            "GPT3 Accuracy for Problem setPrefix-6 in Domain phones: 20.0\n",
            "GPT3 Accuracy for Problem setPunctuation-1 in Domain phones: 20.0\n",
            "GPT3 Accuracy for Problem setPunctuation-2 in Domain phones: 40.0\n",
            "GPT3 Accuracy for Problem addTime-1 in Domain times: 0\n",
            "GPT3 Accuracy for Problem addTime-2 in Domain times: 0\n",
            "GPT3 Accuracy for Problem appendTime-1 in Domain times: 40.0\n",
            "GPT3 Accuracy for Problem appendTime-2 in Domain times: 80.0\n",
            "GPT3 Accuracy for Problem appendTime-3 in Domain times: 80.0\n",
            "GPT3 Accuracy for Problem appendTime-4 in Domain times: 80.0\n",
            "GPT3 Accuracy for Problem convert-1 in Domain times: 20.0\n",
            "GPT3 Accuracy for Problem convert-10 in Domain times: 0\n",
            "GPT3 Accuracy for Problem convert-2 in Domain times: 0\n",
            "GPT3 Accuracy for Problem convert-3 in Domain times: 20.0\n",
            "GPT3 Accuracy for Problem convert-4 in Domain times: 0\n",
            "GPT3 Accuracy for Problem convert-5 in Domain times: 20.0\n",
            "GPT3 Accuracy for Problem convert-6 in Domain times: 0\n",
            "GPT3 Accuracy for Problem convert-7 in Domain times: 0\n",
            "GPT3 Accuracy for Problem convert-8 in Domain times: 0\n",
            "GPT3 Accuracy for Problem convert-9 in Domain times: 0\n",
            "GPT3 Accuracy for Problem deleteTime-1 in Domain times: 20.0\n",
            "GPT3 Accuracy for Problem deleteTime-2 in Domain times: 20.0\n",
            "GPT3 Accuracy for Problem getHour-1 in Domain times: 20.0\n",
            "GPT3 Accuracy for Problem getHour-2 in Domain times: 20.0\n",
            "GPT3 Accuracy for Problem getMinutes-1 in Domain times: 20.0\n",
            "GPT3 Accuracy for Problem getMinutes-2 in Domain times: 20.0\n",
            "GPT3 Accuracy for Problem getTime-1 in Domain times: 60.00000000000001\n",
            "GPT3 Accuracy for Problem getTime-2 in Domain times: 80.0\n",
            "GPT3 Accuracy for Problem convert-1 in Domain units: 0\n",
            "GPT3 Accuracy for Problem convert-2 in Domain units: 0\n",
            "GPT3 Accuracy for Problem convert-3 in Domain units: 0\n",
            "GPT3 Accuracy for Problem convert-4 in Domain units: 0\n",
            "GPT3 Accuracy for Problem getSystem-1 in Domain units: 0\n",
            "GPT3 Accuracy for Problem getSystem-2 in Domain units: 0\n",
            "GPT3 Accuracy for Problem getUnits-1 in Domain units: 0\n",
            "GPT3 Accuracy for Problem getUnits-2 in Domain units: 0\n",
            "GPT3 Accuracy for Problem getValue-1 in Domain units: 20.0\n",
            "GPT3 Accuracy for Problem getValue-2 in Domain units: 0\n"
          ],
          "name": "stdout"
        }
      ]
    },
    {
      "cell_type": "code",
      "metadata": {
        "colab": {
          "base_uri": "https://localhost:8080/"
        },
        "id": "QhDzqkgL66c6",
        "outputId": "f45426be-2c65-4bd5-d5cc-5d988c8288be"
      },
      "source": [
        "sumAccuracy"
      ],
      "execution_count": null,
      "outputs": [
        {
          "output_type": "execute_result",
          "data": {
            "text/plain": [
              "44.600000000000094"
            ]
          },
          "metadata": {
            "tags": []
          },
          "execution_count": 84
        }
      ]
    },
    {
      "cell_type": "code",
      "metadata": {
        "colab": {
          "base_uri": "https://localhost:8080/"
        },
        "id": "hJMxAGy966c7",
        "outputId": "d8a2ded2-c880-4b74-c733-22e089f005b3"
      },
      "source": [
        "#Evaluation (T-0) by domain\n",
        " \n",
        "correctAnswers = test_targets\n",
        "\n",
        "sum = 0\n",
        "sumAccuracy = 0\n",
        "#Calculate the accuracies\n",
        "for d in range(0, len(domains)):\n",
        "  for i in range(0, len(final_problems)):\n",
        "    if final_problems[i][1] == domains[d]:\n",
        "      sum = sum + 1\n",
        "      accuracy = 0\n",
        "      for j in range(0, len(test_targets[i])):\n",
        "        if results[i][j] == correctAnswers[i][j]:\n",
        "            accuracy = accuracy + (1/len(test_targets[i]))\n",
        "      sumAccuracy = sumAccuracy + accuracy\n",
        "  print(\"GPT3 Accuracy for Domain \" + domains[d] + \": \" + str((sumAccuracy/sum)*100))\n",
        "  sum = 0\n",
        "  sumAccuracy = 0"
      ],
      "execution_count": null,
      "outputs": [
        {
          "output_type": "stream",
          "text": [
            "GPT3 Accuracy for Domain dates: 34.28571428571429\n",
            "GPT3 Accuracy for Domain emails: 86.66666666666667\n",
            "GPT3 Accuracy for Domain freetext: 50.90909090909093\n",
            "GPT3 Accuracy for Domain names: 44.61538461538462\n",
            "GPT3 Accuracy for Domain phones: 35.555555555555564\n",
            "GPT3 Accuracy for Domain times: 25.000000000000007\n",
            "GPT3 Accuracy for Domain units: 2.0\n"
          ],
          "name": "stdout"
        }
      ]
    },
    {
      "cell_type": "markdown",
      "metadata": {
        "id": "NnvXpLZd66c7"
      },
      "source": [
        "### GPT-3 Curie 2-shot with Temp = 0// Prompt WITHOUT the task description"
      ]
    },
    {
      "cell_type": "code",
      "metadata": {
        "colab": {
          "resources": {
            "http://localhost:8080/nbextensions/google.colab/files.js": {
              "data": "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",
              "ok": true,
              "headers": [
                [
                  "content-type",
                  "application/javascript"
                ]
              ],
              "status": 200,
              "status_text": ""
            }
          },
          "base_uri": "https://localhost:8080/",
          "height": 72
        },
        "id": "nI6NdyN966c7",
        "outputId": "c95b6329-19b2-441c-abe2-d5969ca40e38"
      },
      "source": [
        "from google.colab import files\n",
        "uploaded = files.upload()"
      ],
      "execution_count": null,
      "outputs": [
        {
          "output_type": "display_data",
          "data": {
            "text/html": [
              "\n",
              "     <input type=\"file\" id=\"files-7e62d551-6acc-4b96-9e32-d063c9f8df7d\" name=\"files[]\" multiple disabled\n",
              "        style=\"border:none\" />\n",
              "     <output id=\"result-7e62d551-6acc-4b96-9e32-d063c9f8df7d\">\n",
              "      Upload widget is only available when the cell has been executed in the\n",
              "      current browser session. Please rerun this cell to enable.\n",
              "      </output>\n",
              "      <script src=\"/nbextensions/google.colab/files.js\"></script> "
            ],
            "text/plain": [
              "<IPython.core.display.HTML object>"
            ]
          },
          "metadata": {
            "tags": []
          }
        },
        {
          "output_type": "stream",
          "text": [
            "Saving results_dw_t0_2s_c.txt to results_dw_t0_2s_c.txt\n"
          ],
          "name": "stdout"
        }
      ]
    },
    {
      "cell_type": "code",
      "metadata": {
        "id": "6xurZcgd66c8"
      },
      "source": [
        "resdata = uploaded[\"results_dw_t0_2s_c.txt\"].decode(\"utf-8\").split(\"\\n\")"
      ],
      "execution_count": null,
      "outputs": []
    },
    {
      "cell_type": "code",
      "metadata": {
        "id": "Nn9yhsWl66c8"
      },
      "source": [
        "resdata = resdata[:-1]"
      ],
      "execution_count": null,
      "outputs": []
    },
    {
      "cell_type": "code",
      "metadata": {
        "id": "R7E-bpXg66c8"
      },
      "source": [
        "results = [[]]*len(final_problems)\n",
        "for i in range(0, len(final_problems)):\n",
        "  results[i] = ['']*len(test_targets2[i])\n",
        "  for j in range(0, len(test_targets2[i])):\n",
        "    results[i][j] = resdata[i*len(test_targets2[i]) + j]"
      ],
      "execution_count": null,
      "outputs": []
    },
    {
      "cell_type": "code",
      "metadata": {
        "colab": {
          "base_uri": "https://localhost:8080/"
        },
        "id": "g99EMw6u66c8",
        "outputId": "9e856e7c-5a32-4106-925f-0b467c803e37"
      },
      "source": [
        "#Evaluation (T-0)\n",
        " \n",
        "correctAnswers = test_targets2\n",
        "\n",
        "corr_num = 0\n",
        " \n",
        "#Calculate the accuracies\n",
        "for i in range(0, len(final_problems)):\n",
        "  for j in range(0, len(test_targets2[i])):\n",
        "    if results[i][j] == correctAnswers[i][j]:\n",
        "        corr_num = corr_num + 1\n",
        "\n",
        "print(corr_num / len(resdata))"
      ],
      "execution_count": null,
      "outputs": [
        {
          "output_type": "stream",
          "text": [
            "0.561965811965812\n"
          ],
          "name": "stdout"
        }
      ]
    },
    {
      "cell_type": "code",
      "metadata": {
        "colab": {
          "base_uri": "https://localhost:8080/"
        },
        "id": "rXVlZGvb66c8",
        "outputId": "4b5191f7-b555-4ac8-ca7b-d2382bf273f2"
      },
      "source": [
        "corr_num"
      ],
      "execution_count": null,
      "outputs": [
        {
          "output_type": "execute_result",
          "data": {
            "text/plain": [
              "263"
            ]
          },
          "metadata": {
            "tags": []
          },
          "execution_count": 91
        }
      ]
    },
    {
      "cell_type": "code",
      "metadata": {
        "colab": {
          "base_uri": "https://localhost:8080/"
        },
        "id": "aWj-wOnQ66c8",
        "outputId": "4fa2766c-8b3e-4cad-dd24-9bdcebd46d0e"
      },
      "source": [
        "len(resdata)"
      ],
      "execution_count": null,
      "outputs": [
        {
          "output_type": "execute_result",
          "data": {
            "text/plain": [
              "468"
            ]
          },
          "metadata": {
            "tags": []
          },
          "execution_count": 92
        }
      ]
    },
    {
      "cell_type": "code",
      "metadata": {
        "colab": {
          "base_uri": "https://localhost:8080/"
        },
        "id": "D2af1kG566c9",
        "outputId": "1b302faf-e986-43e0-b4ce-ba4e085496f1"
      },
      "source": [
        "#Evaluation (T-0)\n",
        " \n",
        "correctAnswers = test_targets2\n",
        "\n",
        "sumAccuracy = 0\n",
        "#Calculate the accuracies\n",
        "for i in range(0, len(final_problems)):\n",
        "  accuracy = 0\n",
        "  for j in range(0, len(test_targets2[i])):\n",
        "    if results[i][j] == correctAnswers[i][j]:\n",
        "        accuracy = accuracy + (1/len(test_targets2[i]))\n",
        "        sumAccuracy = sumAccuracy + (1/len(test_targets2[i]))\n",
        "  print(\"GPT3 Accuracy for Problem \" + final_problems[i][0] + \" in Domain \" + final_problems[i][1] + \": \" + str(accuracy*100))"
      ],
      "execution_count": null,
      "outputs": [
        {
          "output_type": "stream",
          "text": [
            "GPT3 Accuracy for Problem addPunctuation-1 in Domain dates: 100.0\n",
            "GPT3 Accuracy for Problem addPunctuation-2 in Domain dates: 50.0\n",
            "GPT3 Accuracy for Problem changeFormat-1 in Domain dates: 0\n",
            "GPT3 Accuracy for Problem changeFormat-2 in Domain dates: 0\n",
            "GPT3 Accuracy for Problem changeFormat-3 in Domain dates: 0\n",
            "GPT3 Accuracy for Problem changeFormat-4 in Domain dates: 50.0\n",
            "GPT3 Accuracy for Problem changePunctuation-1 in Domain dates: 100.0\n",
            "GPT3 Accuracy for Problem changePunctuation-2 in Domain dates: 100.0\n",
            "GPT3 Accuracy for Problem getDay-1 in Domain dates: 25.0\n",
            "GPT3 Accuracy for Problem getDay-2 in Domain dates: 25.0\n",
            "GPT3 Accuracy for Problem getDay-3 in Domain dates: 75.0\n",
            "GPT3 Accuracy for Problem getDayOrdinal-1 in Domain dates: 0\n",
            "GPT3 Accuracy for Problem getDayOrdinal-2 in Domain dates: 75.0\n",
            "GPT3 Accuracy for Problem getMonthName-1 in Domain dates: 50.0\n",
            "GPT3 Accuracy for Problem getMonthName-2 in Domain dates: 100.0\n",
            "GPT3 Accuracy for Problem getWeekDay-1 in Domain dates: 100.0\n",
            "GPT3 Accuracy for Problem getWeekDay-2 in Domain dates: 100.0\n",
            "GPT3 Accuracy for Problem reduceMonthName-1 in Domain dates: 75.0\n",
            "GPT3 Accuracy for Problem reduceMonthName-2 in Domain dates: 25.0\n",
            "GPT3 Accuracy for Problem setFormat-1 in Domain dates: 0\n",
            "GPT3 Accuracy for Problem setFormat-2 in Domain dates: 25.0\n",
            "GPT3 Accuracy for Problem generate-1 in Domain emails: 100.0\n",
            "GPT3 Accuracy for Problem generate-2 in Domain emails: 100.0\n",
            "GPT3 Accuracy for Problem generate-3 in Domain emails: 50.0\n",
            "GPT3 Accuracy for Problem getAfterAt-2 in Domain emails: 100.0\n",
            "GPT3 Accuracy for Problem getAfterAt-3 in Domain emails: 100.0\n",
            "GPT3 Accuracy for Problem getAfterAt-4 in Domain emails: 100.0\n",
            "GPT3 Accuracy for Problem getDomain-1 in Domain emails: 100.0\n",
            "GPT3 Accuracy for Problem getDomain-2 in Domain emails: 100.0\n",
            "GPT3 Accuracy for Problem someBeforeAt-NA in Domain emails: 0\n",
            "GPT3 Accuracy for Problem afterSymbol-1 in Domain freetext: 100.0\n",
            "GPT3 Accuracy for Problem afterSymbol-2 in Domain freetext: 100.0\n",
            "GPT3 Accuracy for Problem betweenSymbols-1 in Domain freetext: 100.0\n",
            "GPT3 Accuracy for Problem betweenSymbols-2 in Domain freetext: 100.0\n",
            "GPT3 Accuracy for Problem brackets-1 in Domain freetext: 100.0\n",
            "GPT3 Accuracy for Problem brackets-2 in Domain freetext: 75.0\n",
            "GPT3 Accuracy for Problem deletePunctuation-1 in Domain freetext: 25.0\n",
            "GPT3 Accuracy for Problem deletePunctuation-2 in Domain freetext: 25.0\n",
            "GPT3 Accuracy for Problem deletePunctuation-3 in Domain freetext: 100.0\n",
            "GPT3 Accuracy for Problem deletePunctuation-4 in Domain freetext: 50.0\n",
            "GPT3 Accuracy for Problem deleteSpaces-2 in Domain freetext: 25.0\n",
            "GPT3 Accuracy for Problem digitToEnd-1 in Domain freetext: 100.0\n",
            "GPT3 Accuracy for Problem firstCharacter-1 in Domain freetext: 75.0\n",
            "GPT3 Accuracy for Problem firstCharacter-2 in Domain freetext: 75.0\n",
            "GPT3 Accuracy for Problem getAfterComma-1 in Domain freetext: 100.0\n",
            "GPT3 Accuracy for Problem getAfterComma-2 in Domain freetext: 100.0\n",
            "GPT3 Accuracy for Problem getBetweenCommas-1 in Domain freetext: 75.0\n",
            "GPT3 Accuracy for Problem getCaps-1 in Domain freetext: 100.0\n",
            "GPT3 Accuracy for Problem getCaps-2 in Domain freetext: 50.0\n",
            "GPT3 Accuracy for Problem getCaps-3 in Domain freetext: 100.0\n",
            "GPT3 Accuracy for Problem toUpper-1 in Domain freetext: 50.0\n",
            "GPT3 Accuracy for Problem toUpper-2 in Domain freetext: 75.0\n",
            "GPT3 Accuracy for Problem addTitle-1 in Domain names: 75.0\n",
            "GPT3 Accuracy for Problem addTitle-2 in Domain names: 50.0\n",
            "GPT3 Accuracy for Problem getTitle-1 in Domain names: 50.0\n",
            "GPT3 Accuracy for Problem getTitle-2 in Domain names: 100.0\n",
            "GPT3 Accuracy for Problem login-1 in Domain names: 0\n",
            "GPT3 Accuracy for Problem login-2 in Domain names: 0\n",
            "GPT3 Accuracy for Problem reduceName-1 in Domain names: 100.0\n",
            "GPT3 Accuracy for Problem reduceName-2 in Domain names: 100.0\n",
            "GPT3 Accuracy for Problem reduceName-3 in Domain names: 100.0\n",
            "GPT3 Accuracy for Problem reduceName-5 in Domain names: 75.0\n",
            "GPT3 Accuracy for Problem reduceName-6 in Domain names: 50.0\n",
            "GPT3 Accuracy for Problem reduceName-8 in Domain names: 75.0\n",
            "GPT3 Accuracy for Problem reduceName-9 in Domain names: 100.0\n",
            "GPT3 Accuracy for Problem countryPrefix-1 in Domain phones: 25.0\n",
            "GPT3 Accuracy for Problem countryPrefix-2 in Domain phones: 25.0\n",
            "GPT3 Accuracy for Problem countryPrefix-3 in Domain phones: 0\n",
            "GPT3 Accuracy for Problem countryPrefix-7 in Domain phones: 0\n",
            "GPT3 Accuracy for Problem countryPrefix-8 in Domain phones: 75.0\n",
            "GPT3 Accuracy for Problem countryPrefix-9 in Domain phones: 50.0\n",
            "GPT3 Accuracy for Problem deleteParentheses-1 in Domain phones: 75.0\n",
            "GPT3 Accuracy for Problem deleteParentheses-2 in Domain phones: 100.0\n",
            "GPT3 Accuracy for Problem getNumber-1 in Domain phones: 25.0\n",
            "GPT3 Accuracy for Problem getNumber-2 in Domain phones: 0\n",
            "GPT3 Accuracy for Problem setPrefix-1 in Domain phones: 0\n",
            "GPT3 Accuracy for Problem setPrefix-2 in Domain phones: 100.0\n",
            "GPT3 Accuracy for Problem setPrefix-3 in Domain phones: 100.0\n",
            "GPT3 Accuracy for Problem setPrefix-4 in Domain phones: 100.0\n",
            "GPT3 Accuracy for Problem setPrefix-5 in Domain phones: 0\n",
            "GPT3 Accuracy for Problem setPrefix-6 in Domain phones: 100.0\n",
            "GPT3 Accuracy for Problem setPunctuation-1 in Domain phones: 25.0\n",
            "GPT3 Accuracy for Problem setPunctuation-2 in Domain phones: 75.0\n",
            "GPT3 Accuracy for Problem addTime-1 in Domain times: 0\n",
            "GPT3 Accuracy for Problem addTime-2 in Domain times: 25.0\n",
            "GPT3 Accuracy for Problem appendTime-1 in Domain times: 25.0\n",
            "GPT3 Accuracy for Problem appendTime-2 in Domain times: 100.0\n",
            "GPT3 Accuracy for Problem appendTime-3 in Domain times: 75.0\n",
            "GPT3 Accuracy for Problem appendTime-4 in Domain times: 100.0\n",
            "GPT3 Accuracy for Problem convert-1 in Domain times: 50.0\n",
            "GPT3 Accuracy for Problem convert-10 in Domain times: 0\n",
            "GPT3 Accuracy for Problem convert-2 in Domain times: 25.0\n",
            "GPT3 Accuracy for Problem convert-3 in Domain times: 25.0\n",
            "GPT3 Accuracy for Problem convert-4 in Domain times: 0\n",
            "GPT3 Accuracy for Problem convert-5 in Domain times: 50.0\n",
            "GPT3 Accuracy for Problem convert-6 in Domain times: 0\n",
            "GPT3 Accuracy for Problem convert-7 in Domain times: 0\n",
            "GPT3 Accuracy for Problem convert-8 in Domain times: 0\n",
            "GPT3 Accuracy for Problem convert-9 in Domain times: 25.0\n",
            "GPT3 Accuracy for Problem deleteTime-1 in Domain times: 50.0\n",
            "GPT3 Accuracy for Problem deleteTime-2 in Domain times: 0\n",
            "GPT3 Accuracy for Problem getHour-1 in Domain times: 0\n",
            "GPT3 Accuracy for Problem getHour-2 in Domain times: 100.0\n",
            "GPT3 Accuracy for Problem getMinutes-1 in Domain times: 75.0\n",
            "GPT3 Accuracy for Problem getMinutes-2 in Domain times: 50.0\n",
            "GPT3 Accuracy for Problem getTime-1 in Domain times: 100.0\n",
            "GPT3 Accuracy for Problem getTime-2 in Domain times: 100.0\n",
            "GPT3 Accuracy for Problem convert-1 in Domain units: 0\n",
            "GPT3 Accuracy for Problem convert-2 in Domain units: 0\n",
            "GPT3 Accuracy for Problem convert-3 in Domain units: 0\n",
            "GPT3 Accuracy for Problem convert-4 in Domain units: 0\n",
            "GPT3 Accuracy for Problem getSystem-1 in Domain units: 25.0\n",
            "GPT3 Accuracy for Problem getSystem-2 in Domain units: 0\n",
            "GPT3 Accuracy for Problem getUnits-1 in Domain units: 100.0\n",
            "GPT3 Accuracy for Problem getUnits-2 in Domain units: 100.0\n",
            "GPT3 Accuracy for Problem getValue-1 in Domain units: 50.0\n",
            "GPT3 Accuracy for Problem getValue-2 in Domain units: 50.0\n"
          ],
          "name": "stdout"
        }
      ]
    },
    {
      "cell_type": "code",
      "metadata": {
        "colab": {
          "base_uri": "https://localhost:8080/"
        },
        "id": "Nj05sQiW66c9",
        "outputId": "d3758bcc-e36f-4a5f-d202-eeca84e63178"
      },
      "source": [
        "sumAccuracy"
      ],
      "execution_count": null,
      "outputs": [
        {
          "output_type": "execute_result",
          "data": {
            "text/plain": [
              "65.75"
            ]
          },
          "metadata": {
            "tags": []
          },
          "execution_count": 94
        }
      ]
    },
    {
      "cell_type": "code",
      "metadata": {
        "colab": {
          "base_uri": "https://localhost:8080/"
        },
        "id": "RIU3tezV66c9",
        "outputId": "51e72188-778e-4502-8783-3a9da5d83986"
      },
      "source": [
        "#Evaluation (T-0) by domain\n",
        " \n",
        "correctAnswers = test_targets2\n",
        "\n",
        "sum = 0\n",
        "sumAccuracy = 0\n",
        "#Calculate the accuracies\n",
        "for d in range(0, len(domains)):\n",
        "  for i in range(0, len(final_problems)):\n",
        "    if final_problems[i][1] == domains[d]:\n",
        "      sum = sum + 1\n",
        "      accuracy = 0\n",
        "      for j in range(0, len(test_targets2[i])):\n",
        "        if results[i][j] == correctAnswers[i][j]:\n",
        "            accuracy = accuracy + (1/len(test_targets2[i]))\n",
        "      sumAccuracy = sumAccuracy + accuracy\n",
        "  print(\"GPT3 Accuracy for Domain \" + domains[d] + \": \" + str((sumAccuracy/sum)*100))\n",
        "  sum = 0\n",
        "  sumAccuracy = 0"
      ],
      "execution_count": null,
      "outputs": [
        {
          "output_type": "stream",
          "text": [
            "GPT3 Accuracy for Domain dates: 51.19047619047619\n",
            "GPT3 Accuracy for Domain emails: 83.33333333333334\n",
            "GPT3 Accuracy for Domain freetext: 77.27272727272727\n",
            "GPT3 Accuracy for Domain names: 67.3076923076923\n",
            "GPT3 Accuracy for Domain phones: 48.61111111111111\n",
            "GPT3 Accuracy for Domain times: 40.625\n",
            "GPT3 Accuracy for Domain units: 32.5\n"
          ],
          "name": "stdout"
        }
      ]
    },
    {
      "cell_type": "markdown",
      "metadata": {
        "id": "OC1xgjux66c9"
      },
      "source": [
        "### GPT-3 Curie 3-shot with Temp = 0// Prompt WITHOUT the task description"
      ]
    },
    {
      "cell_type": "code",
      "metadata": {
        "colab": {
          "resources": {
            "http://localhost:8080/nbextensions/google.colab/files.js": {
              "data": "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",
              "ok": true,
              "headers": [
                [
                  "content-type",
                  "application/javascript"
                ]
              ],
              "status": 200,
              "status_text": ""
            }
          },
          "base_uri": "https://localhost:8080/",
          "height": 72
        },
        "id": "Q3M7W2Cz66c9",
        "outputId": "86d9732e-3474-44bd-9c34-2e90682bd376"
      },
      "source": [
        "from google.colab import files\n",
        "uploaded = files.upload()"
      ],
      "execution_count": null,
      "outputs": [
        {
          "output_type": "display_data",
          "data": {
            "text/html": [
              "\n",
              "     <input type=\"file\" id=\"files-7deee7e1-a863-4893-8462-b7a1c95ba6cc\" name=\"files[]\" multiple disabled\n",
              "        style=\"border:none\" />\n",
              "     <output id=\"result-7deee7e1-a863-4893-8462-b7a1c95ba6cc\">\n",
              "      Upload widget is only available when the cell has been executed in the\n",
              "      current browser session. Please rerun this cell to enable.\n",
              "      </output>\n",
              "      <script src=\"/nbextensions/google.colab/files.js\"></script> "
            ],
            "text/plain": [
              "<IPython.core.display.HTML object>"
            ]
          },
          "metadata": {
            "tags": []
          }
        },
        {
          "output_type": "stream",
          "text": [
            "Saving results_dw_t0_3s_c.txt to results_dw_t0_3s_c (1).txt\n"
          ],
          "name": "stdout"
        }
      ]
    },
    {
      "cell_type": "code",
      "metadata": {
        "id": "ZC2s-pw666c9"
      },
      "source": [
        "resdata = uploaded[\"results_dw_t0_3s_c.txt\"].decode(\"utf-8\").split(\"\\n\")"
      ],
      "execution_count": null,
      "outputs": []
    },
    {
      "cell_type": "code",
      "metadata": {
        "id": "YHOiCEMC66c-"
      },
      "source": [
        "resdata = resdata[:-1]"
      ],
      "execution_count": null,
      "outputs": []
    },
    {
      "cell_type": "code",
      "metadata": {
        "id": "TA-d6goo66c-"
      },
      "source": [
        "results = [[]]*len(final_problems)\n",
        "for i in range(0, len(final_problems)):\n",
        "  results[i] = ['']*len(test_targets3[i])\n",
        "  for j in range(0, len(test_targets3[i])):\n",
        "    results[i][j] = resdata[i*len(test_targets3[i]) + j]"
      ],
      "execution_count": null,
      "outputs": []
    },
    {
      "cell_type": "code",
      "metadata": {
        "colab": {
          "base_uri": "https://localhost:8080/"
        },
        "id": "O3pH6lXG66c-",
        "outputId": "42e0bd24-45ad-4367-cab5-c3a909271a9f"
      },
      "source": [
        "#Evaluation (T-0)\n",
        " \n",
        "correctAnswers = test_targets3\n",
        "\n",
        "corr_num = 0\n",
        " \n",
        "#Calculate the accuracies\n",
        "for i in range(0, len(final_problems)):\n",
        "  for j in range(0, len(test_targets3[i])):\n",
        "    if results[i][j] == correctAnswers[i][j]:\n",
        "        corr_num = corr_num + 1\n",
        "\n",
        "print(corr_num / len(resdata))"
      ],
      "execution_count": null,
      "outputs": [
        {
          "output_type": "stream",
          "text": [
            "0.5925925925925926\n"
          ],
          "name": "stdout"
        }
      ]
    },
    {
      "cell_type": "code",
      "metadata": {
        "colab": {
          "base_uri": "https://localhost:8080/"
        },
        "id": "wbNBoGgW66c-",
        "outputId": "b7ac92fb-745e-4416-e263-55bfc7dbc857"
      },
      "source": [
        "corr_num"
      ],
      "execution_count": null,
      "outputs": [
        {
          "output_type": "execute_result",
          "data": {
            "text/plain": [
              "208"
            ]
          },
          "metadata": {
            "tags": []
          },
          "execution_count": 101
        }
      ]
    },
    {
      "cell_type": "code",
      "metadata": {
        "colab": {
          "base_uri": "https://localhost:8080/"
        },
        "id": "r_QU8aAU66c-",
        "outputId": "678a034b-23dd-4c6d-e696-184c86dbeca4"
      },
      "source": [
        "len(resdata)"
      ],
      "execution_count": null,
      "outputs": [
        {
          "output_type": "execute_result",
          "data": {
            "text/plain": [
              "351"
            ]
          },
          "metadata": {
            "tags": []
          },
          "execution_count": 102
        }
      ]
    },
    {
      "cell_type": "code",
      "metadata": {
        "colab": {
          "base_uri": "https://localhost:8080/"
        },
        "id": "KWXCGoOT66c-",
        "outputId": "fb7c3573-2cc0-4e26-eaf1-58bcb0095985"
      },
      "source": [
        "#Evaluation (T-0)\n",
        " \n",
        "correctAnswers = test_targets3\n",
        "\n",
        "sumAccuracy = 0\n",
        "#Calculate the accuracies\n",
        "for i in range(0, len(final_problems)):\n",
        "  accuracy = 0\n",
        "  for j in range(0, len(test_targets3[i])):\n",
        "    if results[i][j] == correctAnswers[i][j]:\n",
        "        accuracy = accuracy + (1/len(test_targets3[i]))\n",
        "        sumAccuracy = sumAccuracy + (1/len(test_targets3[i]))\n",
        "  print(\"GPT3 Accuracy for Problem \" + final_problems[i][0] + \" in Domain \" + final_problems[i][1] + \": \" + str(accuracy*100))"
      ],
      "execution_count": null,
      "outputs": [
        {
          "output_type": "stream",
          "text": [
            "GPT3 Accuracy for Problem addPunctuation-1 in Domain dates: 100.0\n",
            "GPT3 Accuracy for Problem addPunctuation-2 in Domain dates: 66.66666666666666\n",
            "GPT3 Accuracy for Problem changeFormat-1 in Domain dates: 66.66666666666666\n",
            "GPT3 Accuracy for Problem changeFormat-2 in Domain dates: 0\n",
            "GPT3 Accuracy for Problem changeFormat-3 in Domain dates: 0\n",
            "GPT3 Accuracy for Problem changeFormat-4 in Domain dates: 33.33333333333333\n",
            "GPT3 Accuracy for Problem changePunctuation-1 in Domain dates: 100.0\n",
            "GPT3 Accuracy for Problem changePunctuation-2 in Domain dates: 100.0\n",
            "GPT3 Accuracy for Problem getDay-1 in Domain dates: 33.33333333333333\n",
            "GPT3 Accuracy for Problem getDay-2 in Domain dates: 100.0\n",
            "GPT3 Accuracy for Problem getDay-3 in Domain dates: 100.0\n",
            "GPT3 Accuracy for Problem getDayOrdinal-1 in Domain dates: 0\n",
            "GPT3 Accuracy for Problem getDayOrdinal-2 in Domain dates: 33.33333333333333\n",
            "GPT3 Accuracy for Problem getMonthName-1 in Domain dates: 66.66666666666666\n",
            "GPT3 Accuracy for Problem getMonthName-2 in Domain dates: 100.0\n",
            "GPT3 Accuracy for Problem getWeekDay-1 in Domain dates: 100.0\n",
            "GPT3 Accuracy for Problem getWeekDay-2 in Domain dates: 100.0\n",
            "GPT3 Accuracy for Problem reduceMonthName-1 in Domain dates: 66.66666666666666\n",
            "GPT3 Accuracy for Problem reduceMonthName-2 in Domain dates: 33.33333333333333\n",
            "GPT3 Accuracy for Problem setFormat-1 in Domain dates: 0\n",
            "GPT3 Accuracy for Problem setFormat-2 in Domain dates: 0\n",
            "GPT3 Accuracy for Problem generate-1 in Domain emails: 100.0\n",
            "GPT3 Accuracy for Problem generate-2 in Domain emails: 100.0\n",
            "GPT3 Accuracy for Problem generate-3 in Domain emails: 66.66666666666666\n",
            "GPT3 Accuracy for Problem getAfterAt-2 in Domain emails: 100.0\n",
            "GPT3 Accuracy for Problem getAfterAt-3 in Domain emails: 100.0\n",
            "GPT3 Accuracy for Problem getAfterAt-4 in Domain emails: 100.0\n",
            "GPT3 Accuracy for Problem getDomain-1 in Domain emails: 100.0\n",
            "GPT3 Accuracy for Problem getDomain-2 in Domain emails: 100.0\n",
            "GPT3 Accuracy for Problem someBeforeAt-NA in Domain emails: 33.33333333333333\n",
            "GPT3 Accuracy for Problem afterSymbol-1 in Domain freetext: 100.0\n",
            "GPT3 Accuracy for Problem afterSymbol-2 in Domain freetext: 100.0\n",
            "GPT3 Accuracy for Problem betweenSymbols-1 in Domain freetext: 100.0\n",
            "GPT3 Accuracy for Problem betweenSymbols-2 in Domain freetext: 100.0\n",
            "GPT3 Accuracy for Problem brackets-1 in Domain freetext: 100.0\n",
            "GPT3 Accuracy for Problem brackets-2 in Domain freetext: 100.0\n",
            "GPT3 Accuracy for Problem deletePunctuation-1 in Domain freetext: 33.33333333333333\n",
            "GPT3 Accuracy for Problem deletePunctuation-2 in Domain freetext: 0\n",
            "GPT3 Accuracy for Problem deletePunctuation-3 in Domain freetext: 66.66666666666666\n",
            "GPT3 Accuracy for Problem deletePunctuation-4 in Domain freetext: 33.33333333333333\n",
            "GPT3 Accuracy for Problem deleteSpaces-2 in Domain freetext: 33.33333333333333\n",
            "GPT3 Accuracy for Problem digitToEnd-1 in Domain freetext: 100.0\n",
            "GPT3 Accuracy for Problem firstCharacter-1 in Domain freetext: 0\n",
            "GPT3 Accuracy for Problem firstCharacter-2 in Domain freetext: 66.66666666666666\n",
            "GPT3 Accuracy for Problem getAfterComma-1 in Domain freetext: 100.0\n",
            "GPT3 Accuracy for Problem getAfterComma-2 in Domain freetext: 100.0\n",
            "GPT3 Accuracy for Problem getBetweenCommas-1 in Domain freetext: 66.66666666666666\n",
            "GPT3 Accuracy for Problem getCaps-1 in Domain freetext: 100.0\n",
            "GPT3 Accuracy for Problem getCaps-2 in Domain freetext: 33.33333333333333\n",
            "GPT3 Accuracy for Problem getCaps-3 in Domain freetext: 100.0\n",
            "GPT3 Accuracy for Problem toUpper-1 in Domain freetext: 33.33333333333333\n",
            "GPT3 Accuracy for Problem toUpper-2 in Domain freetext: 66.66666666666666\n",
            "GPT3 Accuracy for Problem addTitle-1 in Domain names: 66.66666666666666\n",
            "GPT3 Accuracy for Problem addTitle-2 in Domain names: 33.33333333333333\n",
            "GPT3 Accuracy for Problem getTitle-1 in Domain names: 66.66666666666666\n",
            "GPT3 Accuracy for Problem getTitle-2 in Domain names: 100.0\n",
            "GPT3 Accuracy for Problem login-1 in Domain names: 0\n",
            "GPT3 Accuracy for Problem login-2 in Domain names: 0\n",
            "GPT3 Accuracy for Problem reduceName-1 in Domain names: 100.0\n",
            "GPT3 Accuracy for Problem reduceName-2 in Domain names: 100.0\n",
            "GPT3 Accuracy for Problem reduceName-3 in Domain names: 100.0\n",
            "GPT3 Accuracy for Problem reduceName-5 in Domain names: 66.66666666666666\n",
            "GPT3 Accuracy for Problem reduceName-6 in Domain names: 33.33333333333333\n",
            "GPT3 Accuracy for Problem reduceName-8 in Domain names: 100.0\n",
            "GPT3 Accuracy for Problem reduceName-9 in Domain names: 100.0\n",
            "GPT3 Accuracy for Problem countryPrefix-1 in Domain phones: 33.33333333333333\n",
            "GPT3 Accuracy for Problem countryPrefix-2 in Domain phones: 0\n",
            "GPT3 Accuracy for Problem countryPrefix-3 in Domain phones: 0\n",
            "GPT3 Accuracy for Problem countryPrefix-7 in Domain phones: 0\n",
            "GPT3 Accuracy for Problem countryPrefix-8 in Domain phones: 66.66666666666666\n",
            "GPT3 Accuracy for Problem countryPrefix-9 in Domain phones: 66.66666666666666\n",
            "GPT3 Accuracy for Problem deleteParentheses-1 in Domain phones: 100.0\n",
            "GPT3 Accuracy for Problem deleteParentheses-2 in Domain phones: 100.0\n",
            "GPT3 Accuracy for Problem getNumber-1 in Domain phones: 100.0\n",
            "GPT3 Accuracy for Problem getNumber-2 in Domain phones: 0\n",
            "GPT3 Accuracy for Problem setPrefix-1 in Domain phones: 0\n",
            "GPT3 Accuracy for Problem setPrefix-2 in Domain phones: 100.0\n",
            "GPT3 Accuracy for Problem setPrefix-3 in Domain phones: 100.0\n",
            "GPT3 Accuracy for Problem setPrefix-4 in Domain phones: 100.0\n",
            "GPT3 Accuracy for Problem setPrefix-5 in Domain phones: 0\n",
            "GPT3 Accuracy for Problem setPrefix-6 in Domain phones: 100.0\n",
            "GPT3 Accuracy for Problem setPunctuation-1 in Domain phones: 33.33333333333333\n",
            "GPT3 Accuracy for Problem setPunctuation-2 in Domain phones: 33.33333333333333\n",
            "GPT3 Accuracy for Problem addTime-1 in Domain times: 0\n",
            "GPT3 Accuracy for Problem addTime-2 in Domain times: 33.33333333333333\n",
            "GPT3 Accuracy for Problem appendTime-1 in Domain times: 66.66666666666666\n",
            "GPT3 Accuracy for Problem appendTime-2 in Domain times: 100.0\n",
            "GPT3 Accuracy for Problem appendTime-3 in Domain times: 66.66666666666666\n",
            "GPT3 Accuracy for Problem appendTime-4 in Domain times: 100.0\n",
            "GPT3 Accuracy for Problem convert-1 in Domain times: 33.33333333333333\n",
            "GPT3 Accuracy for Problem convert-10 in Domain times: 0\n",
            "GPT3 Accuracy for Problem convert-2 in Domain times: 100.0\n",
            "GPT3 Accuracy for Problem convert-3 in Domain times: 33.33333333333333\n",
            "GPT3 Accuracy for Problem convert-4 in Domain times: 33.33333333333333\n",
            "GPT3 Accuracy for Problem convert-5 in Domain times: 33.33333333333333\n",
            "GPT3 Accuracy for Problem convert-6 in Domain times: 0\n",
            "GPT3 Accuracy for Problem convert-7 in Domain times: 33.33333333333333\n",
            "GPT3 Accuracy for Problem convert-8 in Domain times: 0\n",
            "GPT3 Accuracy for Problem convert-9 in Domain times: 33.33333333333333\n",
            "GPT3 Accuracy for Problem deleteTime-1 in Domain times: 33.33333333333333\n",
            "GPT3 Accuracy for Problem deleteTime-2 in Domain times: 100.0\n",
            "GPT3 Accuracy for Problem getHour-1 in Domain times: 0\n",
            "GPT3 Accuracy for Problem getHour-2 in Domain times: 100.0\n",
            "GPT3 Accuracy for Problem getMinutes-1 in Domain times: 66.66666666666666\n",
            "GPT3 Accuracy for Problem getMinutes-2 in Domain times: 0\n",
            "GPT3 Accuracy for Problem getTime-1 in Domain times: 100.0\n",
            "GPT3 Accuracy for Problem getTime-2 in Domain times: 100.0\n",
            "GPT3 Accuracy for Problem convert-1 in Domain units: 0\n",
            "GPT3 Accuracy for Problem convert-2 in Domain units: 0\n",
            "GPT3 Accuracy for Problem convert-3 in Domain units: 0\n",
            "GPT3 Accuracy for Problem convert-4 in Domain units: 0\n",
            "GPT3 Accuracy for Problem getSystem-1 in Domain units: 66.66666666666666\n",
            "GPT3 Accuracy for Problem getSystem-2 in Domain units: 33.33333333333333\n",
            "GPT3 Accuracy for Problem getUnits-1 in Domain units: 100.0\n",
            "GPT3 Accuracy for Problem getUnits-2 in Domain units: 100.0\n",
            "GPT3 Accuracy for Problem getValue-1 in Domain units: 66.66666666666666\n",
            "GPT3 Accuracy for Problem getValue-2 in Domain units: 66.66666666666666\n"
          ],
          "name": "stdout"
        }
      ]
    },
    {
      "cell_type": "code",
      "metadata": {
        "colab": {
          "base_uri": "https://localhost:8080/"
        },
        "id": "gGH4M6ml66c_",
        "outputId": "2726e63c-ce33-4edb-c44d-a6fc260813b1"
      },
      "source": [
        "sumAccuracy"
      ],
      "execution_count": null,
      "outputs": [
        {
          "output_type": "execute_result",
          "data": {
            "text/plain": [
              "69.33333333333343"
            ]
          },
          "metadata": {
            "tags": []
          },
          "execution_count": 104
        }
      ]
    },
    {
      "cell_type": "code",
      "metadata": {
        "colab": {
          "base_uri": "https://localhost:8080/"
        },
        "id": "mvIl0Kt566c_",
        "outputId": "c2d7cfd0-9ba7-4d49-de83-6d18e414ba03"
      },
      "source": [
        "#Evaluation (T-0) by domain\n",
        " \n",
        "correctAnswers = test_targets3\n",
        "\n",
        "sum = 0\n",
        "sumAccuracy = 0\n",
        "#Calculate the accuracies\n",
        "for d in range(0, len(domains)):\n",
        "  for i in range(0, len(final_problems)):\n",
        "    if final_problems[i][1] == domains[d]:\n",
        "      sum = sum + 1\n",
        "      accuracy = 0\n",
        "      for j in range(0, len(test_targets3[i])):\n",
        "        if results[i][j] == correctAnswers[i][j]:\n",
        "            accuracy = accuracy + (1/len(test_targets3[i]))\n",
        "      sumAccuracy = sumAccuracy + accuracy\n",
        "  print(\"GPT3 Accuracy for Domain \" + domains[d] + \": \" + str((sumAccuracy/sum)*100))\n",
        "  sum = 0\n",
        "  sumAccuracy = 0"
      ],
      "execution_count": null,
      "outputs": [
        {
          "output_type": "stream",
          "text": [
            "GPT3 Accuracy for Domain dates: 57.14285714285714\n",
            "GPT3 Accuracy for Domain emails: 88.88888888888889\n",
            "GPT3 Accuracy for Domain freetext: 69.69696969696969\n",
            "GPT3 Accuracy for Domain names: 66.66666666666666\n",
            "GPT3 Accuracy for Domain phones: 51.85185185185186\n",
            "GPT3 Accuracy for Domain times: 48.6111111111111\n",
            "GPT3 Accuracy for Domain units: 43.33333333333333\n"
          ],
          "name": "stdout"
        }
      ]
    },
    {
      "cell_type": "markdown",
      "metadata": {
        "id": "IpSpCD2q66c_"
      },
      "source": [
        "### GPT-3 Curie 4-shot with Temp = 0// Prompt WITHOUT the task description"
      ]
    },
    {
      "cell_type": "code",
      "metadata": {
        "colab": {
          "resources": {
            "http://localhost:8080/nbextensions/google.colab/files.js": {
              "data": "Ly8gQ29weXJpZ2h0IDIwMTcgR29vZ2xlIExMQwovLwovLyBMaWNlbnNlZCB1bmRlciB0aGUgQXBhY2hlIExpY2Vuc2UsIFZlcnNpb24gMi4wICh0aGUgIkxpY2Vuc2UiKTsKLy8geW91IG1heSBub3QgdXNlIHRoaXMgZmlsZSBleGNlcHQgaW4gY29tcGxpYW5jZSB3aXRoIHRoZSBMaWNlbnNlLgovLyBZb3UgbWF5IG9idGFpbiBhIGNvcHkgb2YgdGhlIExpY2Vuc2UgYXQKLy8KLy8gICAgICBodHRwOi8vd3d3LmFwYWNoZS5vcmcvbGljZW5zZXMvTElDRU5TRS0yLjAKLy8KLy8gVW5sZXNzIHJlcXVpcmVkIGJ5IGFwcGxpY2FibGUgbGF3IG9yIGFncmVlZCB0byBpbiB3cml0aW5nLCBzb2Z0d2FyZQovLyBkaXN0cmlidXRlZCB1bmRlciB0aGUgTGljZW5zZSBpcyBkaXN0cmlidXRlZCBvbiBhbiAiQVMgSVMiIEJBU0lTLAovLyBXSVRIT1VUIFdBUlJBTlRJRVMgT1IgQ09ORElUSU9OUyBPRiBBTlkgS0lORCwgZWl0aGVyIGV4cHJlc3Mgb3IgaW1wbGllZC4KLy8gU2VlIHRoZSBMaWNlbnNlIGZvciB0aGUgc3BlY2lmaWMgbGFuZ3VhZ2UgZ292ZXJuaW5nIHBlcm1pc3Npb25zIGFuZAovLyBsaW1pdGF0aW9ucyB1bmRlciB0aGUgTGljZW5zZS4KCi8qKgogKiBAZmlsZW92ZXJ2aWV3IEhlbHBlcnMgZm9yIGdvb2dsZS5jb2xhYiBQeXRob24gbW9kdWxlLgogKi8KKGZ1bmN0aW9uKHNjb3BlKSB7CmZ1bmN0aW9uIHNwYW4odGV4dCwgc3R5bGVBdHRyaWJ1dGVzID0ge30pIHsKICBjb25zdCBlbGVtZW50ID0gZG9jdW1lbnQuY3JlYXRlRWxlbWVudCgnc3BhbicpOwogIGVsZW1lbnQudGV4dENvbnRlbnQgPSB0ZXh0OwogIGZvciAoY29uc3Qga2V5IG9mIE9iamVjdC5rZXlzKHN0eWxlQXR0cmlidXRlcykpIHsKICAgIGVsZW1lbnQuc3R5bGVba2V5XSA9IHN0eWxlQXR0cmlidXRlc1trZXldOwogIH0KICByZXR1cm4gZWxlbWVudDsKfQoKLy8gTWF4IG51bWJlciBvZiBieXRlcyB3aGljaCB3aWxsIGJlIHVwbG9hZGVkIGF0IGEgdGltZS4KY29uc3QgTUFYX1BBWUxPQURfU0laRSA9IDEwMCAqIDEwMjQ7CgpmdW5jdGlvbiBfdXBsb2FkRmlsZXMoaW5wdXRJZCwgb3V0cHV0SWQpIHsKICBjb25zdCBzdGVwcyA9IHVwbG9hZEZpbGVzU3RlcChpbnB1dElkLCBvdXRwdXRJZCk7CiAgY29uc3Qgb3V0cHV0RWxlbWVudCA9IGRvY3VtZW50LmdldEVsZW1lbnRCeUlkKG91dHB1dElkKTsKICAvLyBDYWNoZSBzdGVwcyBvbiB0aGUgb3V0cHV0RWxlbWVudCB0byBtYWtlIGl0IGF2YWlsYWJsZSBmb3IgdGhlIG5leHQgY2FsbAogIC8vIHRvIHVwbG9hZEZpbGVzQ29udGludWUgZnJvbSBQeXRob24uCiAgb3V0cHV0RWxlbWVudC5zdGVwcyA9IHN0ZXBzOwoKICByZXR1cm4gX3VwbG9hZEZpbGVzQ29udGludWUob3V0cHV0SWQpOwp9CgovLyBUaGlzIGlzIHJvdWdobHkgYW4gYXN5bmMgZ2VuZXJhdG9yIChub3Qgc3VwcG9ydGVkIGluIHRoZSBicm93c2VyIHlldCksCi8vIHdoZXJlIHRoZXJlIGFyZSBtdWx0aXBsZSBhc3luY2hyb25vdXMgc3RlcHMgYW5kIHRoZSBQeXRob24gc2lkZSBpcyBnb2luZwovLyB0byBwb2xsIGZvciBjb21wbGV0aW9uIG9mIGVhY2ggc3RlcC4KLy8gVGhpcyB1c2VzIGEgUHJvbWlzZSB0byBibG9jayB0aGUgcHl0aG9uIHNpZGUgb24gY29tcGxldGlvbiBvZiBlYWNoIHN0ZXAsCi8vIHRoZW4gcGFzc2VzIHRoZSByZXN1bHQgb2YgdGhlIHByZXZpb3VzIHN0ZXAgYXMgdGhlIGlucHV0IHRvIHRoZSBuZXh0IHN0ZXAuCmZ1bmN0aW9uIF91cGxvYWRGaWxlc0NvbnRpbnVlKG91dHB1dElkKSB7CiAgY29uc3Qgb3V0cHV0RWxlbWVudCA9IGRvY3VtZW50LmdldEVsZW1lbnRCeUlkKG91dHB1dElkKTsKICBjb25zdCBzdGVwcyA9IG91dHB1dEVsZW1lbnQuc3RlcHM7CgogIGNvbnN0IG5leHQgPSBzdGVwcy5uZXh0KG91dHB1dEVsZW1lbnQubGFzdFByb21pc2VWYWx1ZSk7CiAgcmV0dXJuIFByb21pc2UucmVzb2x2ZShuZXh0LnZhbHVlLnByb21pc2UpLnRoZW4oKHZhbHVlKSA9PiB7CiAgICAvLyBDYWNoZSB0aGUgbGFzdCBwcm9taXNlIHZhbHVlIHRvIG1ha2UgaXQgYXZhaWxhYmxlIHRvIHRoZSBuZXh0CiAgICAvLyBzdGVwIG9mIHRoZSBnZW5lcmF0b3IuCiAgICBvdXRwdXRFbGVtZW50Lmxhc3RQcm9taXNlVmFsdWUgPSB2YWx1ZTsKICAgIHJldHVybiBuZXh0LnZhbHVlLnJlc3BvbnNlOwogIH0pOwp9CgovKioKICogR2VuZXJhdG9yIGZ1bmN0aW9uIHdoaWNoIGlzIGNhbGxlZCBiZXR3ZWVuIGVhY2ggYXN5bmMgc3RlcCBvZiB0aGUgdXBsb2FkCiAqIHByb2Nlc3MuCiAqIEBwYXJhbSB7c3RyaW5nfSBpbnB1dElkIEVsZW1lbnQgSUQgb2YgdGhlIGlucHV0IGZpbGUgcGlja2VyIGVsZW1lbnQuCiAqIEBwYXJhbSB7c3RyaW5nfSBvdXRwdXRJZCBFbGVtZW50IElEIG9mIHRoZSBvdXRwdXQgZGlzcGxheS4KICogQHJldHVybiB7IUl0ZXJhYmxlPCFPYmplY3Q+fSBJdGVyYWJsZSBvZiBuZXh0IHN0ZXBzLgogKi8KZnVuY3Rpb24qIHVwbG9hZEZpbGVzU3RlcChpbnB1dElkLCBvdXRwdXRJZCkgewogIGNvbnN0IGlucHV0RWxlbWVudCA9IGRvY3VtZW50LmdldEVsZW1lbnRCeUlkKGlucHV0SWQpOwogIGlucHV0RWxlbWVudC5kaXNhYmxlZCA9IGZhbHNlOwoKICBjb25zdCBvdXRwdXRFbGVtZW50ID0gZG9jdW1lbnQuZ2V0RWxlbWVudEJ5SWQob3V0cHV0SWQpOwogIG91dHB1dEVsZW1lbnQuaW5uZXJIVE1MID0gJyc7CgogIGNvbnN0IHBpY2tlZFByb21pc2UgPSBuZXcgUHJvbWlzZSgocmVzb2x2ZSkgPT4gewogICAgaW5wdXRFbGVtZW50LmFkZEV2ZW50TGlzdGVuZXIoJ2NoYW5nZScsIChlKSA9PiB7CiAgICAgIHJlc29sdmUoZS50YXJnZXQuZmlsZXMpOwogICAgfSk7CiAgfSk7CgogIGNvbnN0IGNhbmNlbCA9IGRvY3VtZW50LmNyZWF0ZUVsZW1lbnQoJ2J1dHRvbicpOwogIGlucHV0RWxlbWVudC5wYXJlbnRFbGVtZW50LmFwcGVuZENoaWxkKGNhbmNlbCk7CiAgY2FuY2VsLnRleHRDb250ZW50ID0gJ0NhbmNlbCB1cGxvYWQnOwogIGNvbnN0IGNhbmNlbFByb21pc2UgPSBuZXcgUHJvbWlzZSgocmVzb2x2ZSkgPT4gewogICAgY2FuY2VsLm9uY2xpY2sgPSAoKSA9PiB7CiAgICAgIHJlc29sdmUobnVsbCk7CiAgICB9OwogIH0pOwoKICAvLyBXYWl0IGZvciB0aGUgdXNlciB0byBwaWNrIHRoZSBmaWxlcy4KICBjb25zdCBmaWxlcyA9IHlpZWxkIHsKICAgIHByb21pc2U6IFByb21pc2UucmFjZShbcGlja2VkUHJvbWlzZSwgY2FuY2VsUHJvbWlzZV0pLAogICAgcmVzcG9uc2U6IHsKICAgICAgYWN0aW9uOiAnc3RhcnRpbmcnLAogICAgfQogIH07CgogIGNhbmNlbC5yZW1vdmUoKTsKCiAgLy8gRGlzYWJsZSB0aGUgaW5wdXQgZWxlbWVudCBzaW5jZSBmdXJ0aGVyIHBpY2tzIGFyZSBub3QgYWxsb3dlZC4KICBpbnB1dEVsZW1lbnQuZGlzYWJsZWQgPSB0cnVlOwoKICBpZiAoIWZpbGVzKSB7CiAgICByZXR1cm4gewogICAgICByZXNwb25zZTogewogICAgICAgIGFjdGlvbjogJ2NvbXBsZXRlJywKICAgICAgfQogICAgfTsKICB9CgogIGZvciAoY29uc3QgZmlsZSBvZiBmaWxlcykgewogICAgY29uc3QgbGkgPSBkb2N1bWVudC5jcmVhdGVFbGVtZW50KCdsaScpOwogICAgbGkuYXBwZW5kKHNwYW4oZmlsZS5uYW1lLCB7Zm9udFdlaWdodDogJ2JvbGQnfSkpOwogICAgbGkuYXBwZW5kKHNwYW4oCiAgICAgICAgYCgke2ZpbGUudHlwZSB8fCAnbi9hJ30pIC0gJHtmaWxlLnNpemV9IGJ5dGVzLCBgICsKICAgICAgICBgbGFzdCBtb2RpZmllZDogJHsKICAgICAgICAgICAgZmlsZS5sYXN0TW9kaWZpZWREYXRlID8gZmlsZS5sYXN0TW9kaWZpZWREYXRlLnRvTG9jYWxlRGF0ZVN0cmluZygpIDoKICAgICAgICAgICAgICAgICAgICAgICAgICAgICAgICAgICAgJ24vYSd9IC0gYCkpOwogICAgY29uc3QgcGVyY2VudCA9IHNwYW4oJzAlIGRvbmUnKTsKICAgIGxpLmFwcGVuZENoaWxkKHBlcmNlbnQpOwoKICAgIG91dHB1dEVsZW1lbnQuYXBwZW5kQ2hpbGQobGkpOwoKICAgIGNvbnN0IGZpbGVEYXRhUHJvbWlzZSA9IG5ldyBQcm9taXNlKChyZXNvbHZlKSA9PiB7CiAgICAgIGNvbnN0IHJlYWRlciA9IG5ldyBGaWxlUmVhZGVyKCk7CiAgICAgIHJlYWRlci5vbmxvYWQgPSAoZSkgPT4gewogICAgICAgIHJlc29sdmUoZS50YXJnZXQucmVzdWx0KTsKICAgICAgfTsKICAgICAgcmVhZGVyLnJlYWRBc0FycmF5QnVmZmVyKGZpbGUpOwogICAgfSk7CiAgICAvLyBXYWl0IGZvciB0aGUgZGF0YSB0byBiZSByZWFkeS4KICAgIGxldCBmaWxlRGF0YSA9IHlpZWxkIHsKICAgICAgcHJvbWlzZTogZmlsZURhdGFQcm9taXNlLAogICAgICByZXNwb25zZTogewogICAgICAgIGFjdGlvbjogJ2NvbnRpbnVlJywKICAgICAgfQogICAgfTsKCiAgICAvLyBVc2UgYSBjaHVua2VkIHNlbmRpbmcgdG8gYXZvaWQgbWVzc2FnZSBzaXplIGxpbWl0cy4gU2VlIGIvNjIxMTU2NjAuCiAgICBsZXQgcG9zaXRpb24gPSAwOwogICAgZG8gewogICAgICBjb25zdCBsZW5ndGggPSBNYXRoLm1pbihmaWxlRGF0YS5ieXRlTGVuZ3RoIC0gcG9zaXRpb24sIE1BWF9QQVlMT0FEX1NJWkUpOwogICAgICBjb25zdCBjaHVuayA9IG5ldyBVaW50OEFycmF5KGZpbGVEYXRhLCBwb3NpdGlvbiwgbGVuZ3RoKTsKICAgICAgcG9zaXRpb24gKz0gbGVuZ3RoOwoKICAgICAgY29uc3QgYmFzZTY0ID0gYnRvYShTdHJpbmcuZnJvbUNoYXJDb2RlLmFwcGx5KG51bGwsIGNodW5rKSk7CiAgICAgIHlpZWxkIHsKICAgICAgICByZXNwb25zZTogewogICAgICAgICAgYWN0aW9uOiAnYXBwZW5kJywKICAgICAgICAgIGZpbGU6IGZpbGUubmFtZSwKICAgICAgICAgIGRhdGE6IGJhc2U2NCwKICAgICAgICB9LAogICAgICB9OwoKICAgICAgbGV0IHBlcmNlbnREb25lID0gZmlsZURhdGEuYnl0ZUxlbmd0aCA9PT0gMCA/CiAgICAgICAgICAxMDAgOgogICAgICAgICAgTWF0aC5yb3VuZCgocG9zaXRpb24gLyBmaWxlRGF0YS5ieXRlTGVuZ3RoKSAqIDEwMCk7CiAgICAgIHBlcmNlbnQudGV4dENvbnRlbnQgPSBgJHtwZXJjZW50RG9uZX0lIGRvbmVgOwoKICAgIH0gd2hpbGUgKHBvc2l0aW9uIDwgZmlsZURhdGEuYnl0ZUxlbmd0aCk7CiAgfQoKICAvLyBBbGwgZG9uZS4KICB5aWVsZCB7CiAgICByZXNwb25zZTogewogICAgICBhY3Rpb246ICdjb21wbGV0ZScsCiAgICB9CiAgfTsKfQoKc2NvcGUuZ29vZ2xlID0gc2NvcGUuZ29vZ2xlIHx8IHt9OwpzY29wZS5nb29nbGUuY29sYWIgPSBzY29wZS5nb29nbGUuY29sYWIgfHwge307CnNjb3BlLmdvb2dsZS5jb2xhYi5fZmlsZXMgPSB7CiAgX3VwbG9hZEZpbGVzLAogIF91cGxvYWRGaWxlc0NvbnRpbnVlLAp9Owp9KShzZWxmKTsK",
              "ok": true,
              "headers": [
                [
                  "content-type",
                  "application/javascript"
                ]
              ],
              "status": 200,
              "status_text": ""
            }
          },
          "base_uri": "https://localhost:8080/",
          "height": 72
        },
        "id": "TLu4uqoG66c_",
        "outputId": "9ddb58fd-72dc-4ef8-febb-187d4b096371"
      },
      "source": [
        "from google.colab import files\n",
        "uploaded = files.upload()"
      ],
      "execution_count": null,
      "outputs": [
        {
          "output_type": "display_data",
          "data": {
            "text/html": [
              "\n",
              "     <input type=\"file\" id=\"files-8aa1a82d-167c-45e6-aa23-4508ef1a9ffe\" name=\"files[]\" multiple disabled\n",
              "        style=\"border:none\" />\n",
              "     <output id=\"result-8aa1a82d-167c-45e6-aa23-4508ef1a9ffe\">\n",
              "      Upload widget is only available when the cell has been executed in the\n",
              "      current browser session. Please rerun this cell to enable.\n",
              "      </output>\n",
              "      <script src=\"/nbextensions/google.colab/files.js\"></script> "
            ],
            "text/plain": [
              "<IPython.core.display.HTML object>"
            ]
          },
          "metadata": {
            "tags": []
          }
        },
        {
          "output_type": "stream",
          "text": [
            "Saving results_dw_t0_4s_c.txt to results_dw_t0_4s_c.txt\n"
          ],
          "name": "stdout"
        }
      ]
    },
    {
      "cell_type": "code",
      "metadata": {
        "id": "ng0HQ8Nm66c_"
      },
      "source": [
        "resdata = uploaded[\"results_dw_t0_4s_c.txt\"].decode(\"utf-8\").split(\"\\n\")"
      ],
      "execution_count": null,
      "outputs": []
    },
    {
      "cell_type": "code",
      "metadata": {
        "id": "2KzQv0Zw66c_"
      },
      "source": [
        "resdata = resdata[:-1]"
      ],
      "execution_count": null,
      "outputs": []
    },
    {
      "cell_type": "code",
      "metadata": {
        "id": "tw0_2UoD66c_"
      },
      "source": [
        "results = [[]]*len(final_problems)\n",
        "for i in range(0, len(final_problems)):\n",
        "  results[i] = ['']*len(test_targets4[i])\n",
        "  for j in range(0, len(test_targets4[i])):\n",
        "    results[i][j] = resdata[i*len(test_targets4[i]) + j]"
      ],
      "execution_count": null,
      "outputs": []
    },
    {
      "cell_type": "code",
      "metadata": {
        "colab": {
          "base_uri": "https://localhost:8080/"
        },
        "id": "Pxmg4fp566c_",
        "outputId": "dbe47c7b-0c0c-492d-b3cf-7814ab8e17ba"
      },
      "source": [
        "#Evaluation (T-0)\n",
        " \n",
        "correctAnswers = test_targets4\n",
        "\n",
        "corr_num = 0\n",
        " \n",
        "#Calculate the accuracies\n",
        "for i in range(0, len(final_problems)):\n",
        "  for j in range(0, len(test_targets4[i])):\n",
        "    if results[i][j] == correctAnswers[i][j]:\n",
        "        corr_num = corr_num + 1\n",
        "\n",
        "print(corr_num / len(resdata))"
      ],
      "execution_count": null,
      "outputs": [
        {
          "output_type": "stream",
          "text": [
            "0.6324786324786325\n"
          ],
          "name": "stdout"
        }
      ]
    },
    {
      "cell_type": "code",
      "metadata": {
        "colab": {
          "base_uri": "https://localhost:8080/"
        },
        "id": "5VreRdbA66dA",
        "outputId": "84850352-3c99-401d-a9e4-dab32ffd1ce4"
      },
      "source": [
        "corr_num"
      ],
      "execution_count": null,
      "outputs": [
        {
          "output_type": "execute_result",
          "data": {
            "text/plain": [
              "148"
            ]
          },
          "metadata": {
            "tags": []
          },
          "execution_count": 111
        }
      ]
    },
    {
      "cell_type": "code",
      "metadata": {
        "colab": {
          "base_uri": "https://localhost:8080/"
        },
        "id": "fOnFl3s966dA",
        "outputId": "611f1ad0-80bc-4671-96ba-1e08f852e8d7"
      },
      "source": [
        "len(resdata)"
      ],
      "execution_count": null,
      "outputs": [
        {
          "output_type": "execute_result",
          "data": {
            "text/plain": [
              "234"
            ]
          },
          "metadata": {
            "tags": []
          },
          "execution_count": 112
        }
      ]
    },
    {
      "cell_type": "code",
      "metadata": {
        "colab": {
          "base_uri": "https://localhost:8080/"
        },
        "id": "FR4yWNxm66dA",
        "outputId": "4f1f774f-a10d-4c6c-a878-329f5be58a5e"
      },
      "source": [
        "#Evaluation (T-0)\n",
        " \n",
        "correctAnswers = test_targets4\n",
        "\n",
        "sumAccuracy = 0\n",
        "#Calculate the accuracies\n",
        "for i in range(0, len(final_problems)):\n",
        "  accuracy = 0\n",
        "  for j in range(0, len(test_targets4[i])):\n",
        "    if results[i][j] == correctAnswers[i][j]:\n",
        "        accuracy = accuracy + (1/len(test_targets4[i]))\n",
        "        sumAccuracy = sumAccuracy + (1/len(test_targets4[i]))\n",
        "  print(\"GPT3 Accuracy for Problem \" + final_problems[i][0] + \" in Domain \" + final_problems[i][1] + \": \" + str(accuracy*100))"
      ],
      "execution_count": null,
      "outputs": [
        {
          "output_type": "stream",
          "text": [
            "GPT3 Accuracy for Problem addPunctuation-1 in Domain dates: 100.0\n",
            "GPT3 Accuracy for Problem addPunctuation-2 in Domain dates: 50.0\n",
            "GPT3 Accuracy for Problem changeFormat-1 in Domain dates: 50.0\n",
            "GPT3 Accuracy for Problem changeFormat-2 in Domain dates: 0\n",
            "GPT3 Accuracy for Problem changeFormat-3 in Domain dates: 0\n",
            "GPT3 Accuracy for Problem changeFormat-4 in Domain dates: 100.0\n",
            "GPT3 Accuracy for Problem changePunctuation-1 in Domain dates: 100.0\n",
            "GPT3 Accuracy for Problem changePunctuation-2 in Domain dates: 100.0\n",
            "GPT3 Accuracy for Problem getDay-1 in Domain dates: 50.0\n",
            "GPT3 Accuracy for Problem getDay-2 in Domain dates: 100.0\n",
            "GPT3 Accuracy for Problem getDay-3 in Domain dates: 100.0\n",
            "GPT3 Accuracy for Problem getDayOrdinal-1 in Domain dates: 0\n",
            "GPT3 Accuracy for Problem getDayOrdinal-2 in Domain dates: 50.0\n",
            "GPT3 Accuracy for Problem getMonthName-1 in Domain dates: 50.0\n",
            "GPT3 Accuracy for Problem getMonthName-2 in Domain dates: 100.0\n",
            "GPT3 Accuracy for Problem getWeekDay-1 in Domain dates: 100.0\n",
            "GPT3 Accuracy for Problem getWeekDay-2 in Domain dates: 100.0\n",
            "GPT3 Accuracy for Problem reduceMonthName-1 in Domain dates: 50.0\n",
            "GPT3 Accuracy for Problem reduceMonthName-2 in Domain dates: 50.0\n",
            "GPT3 Accuracy for Problem setFormat-1 in Domain dates: 0\n",
            "GPT3 Accuracy for Problem setFormat-2 in Domain dates: 0\n",
            "GPT3 Accuracy for Problem generate-1 in Domain emails: 100.0\n",
            "GPT3 Accuracy for Problem generate-2 in Domain emails: 100.0\n",
            "GPT3 Accuracy for Problem generate-3 in Domain emails: 100.0\n",
            "GPT3 Accuracy for Problem getAfterAt-2 in Domain emails: 100.0\n",
            "GPT3 Accuracy for Problem getAfterAt-3 in Domain emails: 100.0\n",
            "GPT3 Accuracy for Problem getAfterAt-4 in Domain emails: 100.0\n",
            "GPT3 Accuracy for Problem getDomain-1 in Domain emails: 100.0\n",
            "GPT3 Accuracy for Problem getDomain-2 in Domain emails: 100.0\n",
            "GPT3 Accuracy for Problem someBeforeAt-NA in Domain emails: 50.0\n",
            "GPT3 Accuracy for Problem afterSymbol-1 in Domain freetext: 100.0\n",
            "GPT3 Accuracy for Problem afterSymbol-2 in Domain freetext: 100.0\n",
            "GPT3 Accuracy for Problem betweenSymbols-1 in Domain freetext: 100.0\n",
            "GPT3 Accuracy for Problem betweenSymbols-2 in Domain freetext: 100.0\n",
            "GPT3 Accuracy for Problem brackets-1 in Domain freetext: 100.0\n",
            "GPT3 Accuracy for Problem brackets-2 in Domain freetext: 100.0\n",
            "GPT3 Accuracy for Problem deletePunctuation-1 in Domain freetext: 0\n",
            "GPT3 Accuracy for Problem deletePunctuation-2 in Domain freetext: 100.0\n",
            "GPT3 Accuracy for Problem deletePunctuation-3 in Domain freetext: 100.0\n",
            "GPT3 Accuracy for Problem deletePunctuation-4 in Domain freetext: 0\n",
            "GPT3 Accuracy for Problem deleteSpaces-2 in Domain freetext: 0\n",
            "GPT3 Accuracy for Problem digitToEnd-1 in Domain freetext: 100.0\n",
            "GPT3 Accuracy for Problem firstCharacter-1 in Domain freetext: 50.0\n",
            "GPT3 Accuracy for Problem firstCharacter-2 in Domain freetext: 50.0\n",
            "GPT3 Accuracy for Problem getAfterComma-1 in Domain freetext: 100.0\n",
            "GPT3 Accuracy for Problem getAfterComma-2 in Domain freetext: 100.0\n",
            "GPT3 Accuracy for Problem getBetweenCommas-1 in Domain freetext: 100.0\n",
            "GPT3 Accuracy for Problem getCaps-1 in Domain freetext: 100.0\n",
            "GPT3 Accuracy for Problem getCaps-2 in Domain freetext: 0\n",
            "GPT3 Accuracy for Problem getCaps-3 in Domain freetext: 100.0\n",
            "GPT3 Accuracy for Problem toUpper-1 in Domain freetext: 50.0\n",
            "GPT3 Accuracy for Problem toUpper-2 in Domain freetext: 50.0\n",
            "GPT3 Accuracy for Problem addTitle-1 in Domain names: 100.0\n",
            "GPT3 Accuracy for Problem addTitle-2 in Domain names: 50.0\n",
            "GPT3 Accuracy for Problem getTitle-1 in Domain names: 100.0\n",
            "GPT3 Accuracy for Problem getTitle-2 in Domain names: 100.0\n",
            "GPT3 Accuracy for Problem login-1 in Domain names: 0\n",
            "GPT3 Accuracy for Problem login-2 in Domain names: 0\n",
            "GPT3 Accuracy for Problem reduceName-1 in Domain names: 100.0\n",
            "GPT3 Accuracy for Problem reduceName-2 in Domain names: 100.0\n",
            "GPT3 Accuracy for Problem reduceName-3 in Domain names: 100.0\n",
            "GPT3 Accuracy for Problem reduceName-5 in Domain names: 100.0\n",
            "GPT3 Accuracy for Problem reduceName-6 in Domain names: 50.0\n",
            "GPT3 Accuracy for Problem reduceName-8 in Domain names: 100.0\n",
            "GPT3 Accuracy for Problem reduceName-9 in Domain names: 100.0\n",
            "GPT3 Accuracy for Problem countryPrefix-1 in Domain phones: 100.0\n",
            "GPT3 Accuracy for Problem countryPrefix-2 in Domain phones: 0\n",
            "GPT3 Accuracy for Problem countryPrefix-3 in Domain phones: 0\n",
            "GPT3 Accuracy for Problem countryPrefix-7 in Domain phones: 0\n",
            "GPT3 Accuracy for Problem countryPrefix-8 in Domain phones: 100.0\n",
            "GPT3 Accuracy for Problem countryPrefix-9 in Domain phones: 100.0\n",
            "GPT3 Accuracy for Problem deleteParentheses-1 in Domain phones: 50.0\n",
            "GPT3 Accuracy for Problem deleteParentheses-2 in Domain phones: 100.0\n",
            "GPT3 Accuracy for Problem getNumber-1 in Domain phones: 100.0\n",
            "GPT3 Accuracy for Problem getNumber-2 in Domain phones: 0\n",
            "GPT3 Accuracy for Problem setPrefix-1 in Domain phones: 0\n",
            "GPT3 Accuracy for Problem setPrefix-2 in Domain phones: 100.0\n",
            "GPT3 Accuracy for Problem setPrefix-3 in Domain phones: 100.0\n",
            "GPT3 Accuracy for Problem setPrefix-4 in Domain phones: 100.0\n",
            "GPT3 Accuracy for Problem setPrefix-5 in Domain phones: 0\n",
            "GPT3 Accuracy for Problem setPrefix-6 in Domain phones: 100.0\n",
            "GPT3 Accuracy for Problem setPunctuation-1 in Domain phones: 0\n",
            "GPT3 Accuracy for Problem setPunctuation-2 in Domain phones: 50.0\n",
            "GPT3 Accuracy for Problem addTime-1 in Domain times: 0\n",
            "GPT3 Accuracy for Problem addTime-2 in Domain times: 0\n",
            "GPT3 Accuracy for Problem appendTime-1 in Domain times: 50.0\n",
            "GPT3 Accuracy for Problem appendTime-2 in Domain times: 100.0\n",
            "GPT3 Accuracy for Problem appendTime-3 in Domain times: 50.0\n",
            "GPT3 Accuracy for Problem appendTime-4 in Domain times: 100.0\n",
            "GPT3 Accuracy for Problem convert-1 in Domain times: 50.0\n",
            "GPT3 Accuracy for Problem convert-10 in Domain times: 0\n",
            "GPT3 Accuracy for Problem convert-2 in Domain times: 100.0\n",
            "GPT3 Accuracy for Problem convert-3 in Domain times: 0\n",
            "GPT3 Accuracy for Problem convert-4 in Domain times: 50.0\n",
            "GPT3 Accuracy for Problem convert-5 in Domain times: 0\n",
            "GPT3 Accuracy for Problem convert-6 in Domain times: 50.0\n",
            "GPT3 Accuracy for Problem convert-7 in Domain times: 0\n",
            "GPT3 Accuracy for Problem convert-8 in Domain times: 0\n",
            "GPT3 Accuracy for Problem convert-9 in Domain times: 0\n",
            "GPT3 Accuracy for Problem deleteTime-1 in Domain times: 50.0\n",
            "GPT3 Accuracy for Problem deleteTime-2 in Domain times: 100.0\n",
            "GPT3 Accuracy for Problem getHour-1 in Domain times: 100.0\n",
            "GPT3 Accuracy for Problem getHour-2 in Domain times: 100.0\n",
            "GPT3 Accuracy for Problem getMinutes-1 in Domain times: 100.0\n",
            "GPT3 Accuracy for Problem getMinutes-2 in Domain times: 100.0\n",
            "GPT3 Accuracy for Problem getTime-1 in Domain times: 100.0\n",
            "GPT3 Accuracy for Problem getTime-2 in Domain times: 100.0\n",
            "GPT3 Accuracy for Problem convert-1 in Domain units: 0\n",
            "GPT3 Accuracy for Problem convert-2 in Domain units: 0\n",
            "GPT3 Accuracy for Problem convert-3 in Domain units: 0\n",
            "GPT3 Accuracy for Problem convert-4 in Domain units: 0\n",
            "GPT3 Accuracy for Problem getSystem-1 in Domain units: 0\n",
            "GPT3 Accuracy for Problem getSystem-2 in Domain units: 50.0\n",
            "GPT3 Accuracy for Problem getUnits-1 in Domain units: 100.0\n",
            "GPT3 Accuracy for Problem getUnits-2 in Domain units: 100.0\n",
            "GPT3 Accuracy for Problem getValue-1 in Domain units: 50.0\n",
            "GPT3 Accuracy for Problem getValue-2 in Domain units: 100.0\n"
          ],
          "name": "stdout"
        }
      ]
    },
    {
      "cell_type": "code",
      "metadata": {
        "colab": {
          "base_uri": "https://localhost:8080/"
        },
        "id": "1TnquWGi66dA",
        "outputId": "c5279f70-da73-46de-94a0-fbd4c3a2be49"
      },
      "source": [
        "sumAccuracy"
      ],
      "execution_count": null,
      "outputs": [
        {
          "output_type": "execute_result",
          "data": {
            "text/plain": [
              "74.0"
            ]
          },
          "metadata": {
            "tags": []
          },
          "execution_count": 114
        }
      ]
    },
    {
      "cell_type": "code",
      "metadata": {
        "colab": {
          "base_uri": "https://localhost:8080/"
        },
        "id": "zPepksPz66dB",
        "outputId": "8fbe5205-42b2-42be-dffb-396220bd93bd"
      },
      "source": [
        "#Evaluation (T-0) by domain\n",
        " \n",
        "correctAnswers = test_targets4\n",
        "\n",
        "sum = 0\n",
        "sumAccuracy = 0\n",
        "#Calculate the accuracies\n",
        "for d in range(0, len(domains)):\n",
        "  for i in range(0, len(final_problems)):\n",
        "    if final_problems[i][1] == domains[d]:\n",
        "      sum = sum + 1\n",
        "      accuracy = 0\n",
        "      for j in range(0, len(test_targets4[i])):\n",
        "        if results[i][j] == correctAnswers[i][j]:\n",
        "            accuracy = accuracy + (1/len(test_targets4[i]))\n",
        "      sumAccuracy = sumAccuracy + accuracy\n",
        "  print(\"GPT3 Accuracy for Domain \" + domains[d] + \": \" + str((sumAccuracy/sum)*100))\n",
        "  sum = 0\n",
        "  sumAccuracy = 0"
      ],
      "execution_count": null,
      "outputs": [
        {
          "output_type": "stream",
          "text": [
            "GPT3 Accuracy for Domain dates: 59.523809523809526\n",
            "GPT3 Accuracy for Domain emails: 94.44444444444444\n",
            "GPT3 Accuracy for Domain freetext: 72.72727272727273\n",
            "GPT3 Accuracy for Domain names: 76.92307692307693\n",
            "GPT3 Accuracy for Domain phones: 55.55555555555556\n",
            "GPT3 Accuracy for Domain times: 54.166666666666664\n",
            "GPT3 Accuracy for Domain units: 40.0\n"
          ],
          "name": "stdout"
        }
      ]
    },
    {
      "cell_type": "markdown",
      "metadata": {
        "id": "_mx_tk8B8tek"
      },
      "source": [
        "### GPT-3 Babbage 1-shot with Temp = 0// Prompt WITHOUT the task description"
      ]
    },
    {
      "cell_type": "code",
      "metadata": {
        "colab": {
          "resources": {
            "http://localhost:8080/nbextensions/google.colab/files.js": {
              "data": "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",
              "ok": true,
              "headers": [
                [
                  "content-type",
                  "application/javascript"
                ]
              ],
              "status": 200,
              "status_text": ""
            }
          },
          "base_uri": "https://localhost:8080/",
          "height": 72
        },
        "id": "99r27Lfu8tew",
        "outputId": "f36b4f12-0fa0-4c4e-9c6b-1da3a03b2458"
      },
      "source": [
        "from google.colab import files\n",
        "uploaded = files.upload()"
      ],
      "execution_count": null,
      "outputs": [
        {
          "output_type": "display_data",
          "data": {
            "text/html": [
              "\n",
              "     <input type=\"file\" id=\"files-36fccdfb-d1a3-41ac-8035-a7ae2c998730\" name=\"files[]\" multiple disabled\n",
              "        style=\"border:none\" />\n",
              "     <output id=\"result-36fccdfb-d1a3-41ac-8035-a7ae2c998730\">\n",
              "      Upload widget is only available when the cell has been executed in the\n",
              "      current browser session. Please rerun this cell to enable.\n",
              "      </output>\n",
              "      <script src=\"/nbextensions/google.colab/files.js\"></script> "
            ],
            "text/plain": [
              "<IPython.core.display.HTML object>"
            ]
          },
          "metadata": {
            "tags": []
          }
        },
        {
          "output_type": "stream",
          "text": [
            "Saving results_dw_t0_1s_b.txt to results_dw_t0_1s_b.txt\n"
          ],
          "name": "stdout"
        }
      ]
    },
    {
      "cell_type": "code",
      "metadata": {
        "id": "2qtbnSyg8tex"
      },
      "source": [
        "resdata = uploaded[\"results_dw_t0_1s_b.txt\"].decode(\"utf-8\").split(\"\\n\")"
      ],
      "execution_count": null,
      "outputs": []
    },
    {
      "cell_type": "code",
      "metadata": {
        "id": "SSRPuWtZ8tex"
      },
      "source": [
        "resdata = resdata[:-1]"
      ],
      "execution_count": null,
      "outputs": []
    },
    {
      "cell_type": "code",
      "metadata": {
        "id": "hONjdQC38tex"
      },
      "source": [
        "results = [[]]*len(final_problems)\n",
        "for i in range(0, len(final_problems)):\n",
        "  results[i] = ['']*len(test_targets[i])\n",
        "  for j in range(0, len(test_targets[i])):\n",
        "    results[i][j] = resdata[i*len(test_targets[i]) + j]"
      ],
      "execution_count": null,
      "outputs": []
    },
    {
      "cell_type": "code",
      "metadata": {
        "colab": {
          "base_uri": "https://localhost:8080/"
        },
        "id": "XORGpAuG8tey",
        "outputId": "58662114-252a-439f-d1fb-23f6b6ada08d"
      },
      "source": [
        "#Evaluation (T-0)\n",
        " \n",
        "correctAnswers = test_targets\n",
        "\n",
        "corr_num = 0\n",
        " \n",
        "#Calculate the accuracies\n",
        "for i in range(0, len(final_problems)):\n",
        "  for j in range(0, len(test_targets[i])):\n",
        "    if results[i][j] == correctAnswers[i][j]:\n",
        "        corr_num = corr_num + 1\n",
        "\n",
        "print(corr_num / len(resdata))"
      ],
      "execution_count": null,
      "outputs": [
        {
          "output_type": "stream",
          "text": [
            "0.3213675213675214\n"
          ],
          "name": "stdout"
        }
      ]
    },
    {
      "cell_type": "code",
      "metadata": {
        "colab": {
          "base_uri": "https://localhost:8080/"
        },
        "id": "__aUZK9g8tey",
        "outputId": "9f18fc2e-b558-4dab-e9cf-7194ea4fd2cf"
      },
      "source": [
        "corr_num"
      ],
      "execution_count": null,
      "outputs": [
        {
          "output_type": "execute_result",
          "data": {
            "text/plain": [
              "188"
            ]
          },
          "metadata": {
            "tags": []
          },
          "execution_count": 122
        }
      ]
    },
    {
      "cell_type": "code",
      "metadata": {
        "colab": {
          "base_uri": "https://localhost:8080/"
        },
        "id": "L49Gbgaf8tey",
        "outputId": "ad4f9d1b-ff71-4863-8d20-17b4377536d3"
      },
      "source": [
        "len(resdata)"
      ],
      "execution_count": null,
      "outputs": [
        {
          "output_type": "execute_result",
          "data": {
            "text/plain": [
              "585"
            ]
          },
          "metadata": {
            "tags": []
          },
          "execution_count": 123
        }
      ]
    },
    {
      "cell_type": "code",
      "metadata": {
        "colab": {
          "base_uri": "https://localhost:8080/"
        },
        "id": "Fql6tTki8tey",
        "outputId": "2390efb0-b85c-4e39-e92c-bc7d0cdfc148"
      },
      "source": [
        "#Evaluation (T-0)\n",
        " \n",
        "correctAnswers = test_targets\n",
        "\n",
        "sumAccuracy = 0\n",
        "#Calculate the accuracies\n",
        "for i in range(0, len(final_problems)):\n",
        "  accuracy = 0\n",
        "  for j in range(0, len(test_targets[i])):\n",
        "    if results[i][j] == correctAnswers[i][j]:\n",
        "        accuracy = accuracy + (1/len(test_targets[i]))\n",
        "        sumAccuracy = sumAccuracy + (1/len(test_targets[i]))\n",
        "  print(\"GPT3 Accuracy for Problem \" + final_problems[i][0] + \" in Domain \" + final_problems[i][1] + \": \" + str(accuracy*100))"
      ],
      "execution_count": null,
      "outputs": [
        {
          "output_type": "stream",
          "text": [
            "GPT3 Accuracy for Problem addPunctuation-1 in Domain dates: 60.00000000000001\n",
            "GPT3 Accuracy for Problem addPunctuation-2 in Domain dates: 40.0\n",
            "GPT3 Accuracy for Problem changeFormat-1 in Domain dates: 0\n",
            "GPT3 Accuracy for Problem changeFormat-2 in Domain dates: 0\n",
            "GPT3 Accuracy for Problem changeFormat-3 in Domain dates: 0\n",
            "GPT3 Accuracy for Problem changeFormat-4 in Domain dates: 40.0\n",
            "GPT3 Accuracy for Problem changePunctuation-1 in Domain dates: 60.00000000000001\n",
            "GPT3 Accuracy for Problem changePunctuation-2 in Domain dates: 80.0\n",
            "GPT3 Accuracy for Problem getDay-1 in Domain dates: 0\n",
            "GPT3 Accuracy for Problem getDay-2 in Domain dates: 0\n",
            "GPT3 Accuracy for Problem getDay-3 in Domain dates: 0\n",
            "GPT3 Accuracy for Problem getDayOrdinal-1 in Domain dates: 0\n",
            "GPT3 Accuracy for Problem getDayOrdinal-2 in Domain dates: 0\n",
            "GPT3 Accuracy for Problem getMonthName-1 in Domain dates: 40.0\n",
            "GPT3 Accuracy for Problem getMonthName-2 in Domain dates: 80.0\n",
            "GPT3 Accuracy for Problem getWeekDay-1 in Domain dates: 60.00000000000001\n",
            "GPT3 Accuracy for Problem getWeekDay-2 in Domain dates: 80.0\n",
            "GPT3 Accuracy for Problem reduceMonthName-1 in Domain dates: 20.0\n",
            "GPT3 Accuracy for Problem reduceMonthName-2 in Domain dates: 0\n",
            "GPT3 Accuracy for Problem setFormat-1 in Domain dates: 0\n",
            "GPT3 Accuracy for Problem setFormat-2 in Domain dates: 0\n",
            "GPT3 Accuracy for Problem generate-1 in Domain emails: 100.0\n",
            "GPT3 Accuracy for Problem generate-2 in Domain emails: 60.00000000000001\n",
            "GPT3 Accuracy for Problem generate-3 in Domain emails: 80.0\n",
            "GPT3 Accuracy for Problem getAfterAt-2 in Domain emails: 0\n",
            "GPT3 Accuracy for Problem getAfterAt-3 in Domain emails: 20.0\n",
            "GPT3 Accuracy for Problem getAfterAt-4 in Domain emails: 60.00000000000001\n",
            "GPT3 Accuracy for Problem getDomain-1 in Domain emails: 40.0\n",
            "GPT3 Accuracy for Problem getDomain-2 in Domain emails: 100.0\n",
            "GPT3 Accuracy for Problem someBeforeAt-NA in Domain emails: 60.00000000000001\n",
            "GPT3 Accuracy for Problem afterSymbol-1 in Domain freetext: 100.0\n",
            "GPT3 Accuracy for Problem afterSymbol-2 in Domain freetext: 100.0\n",
            "GPT3 Accuracy for Problem betweenSymbols-1 in Domain freetext: 100.0\n",
            "GPT3 Accuracy for Problem betweenSymbols-2 in Domain freetext: 80.0\n",
            "GPT3 Accuracy for Problem brackets-1 in Domain freetext: 80.0\n",
            "GPT3 Accuracy for Problem brackets-2 in Domain freetext: 40.0\n",
            "GPT3 Accuracy for Problem deletePunctuation-1 in Domain freetext: 0\n",
            "GPT3 Accuracy for Problem deletePunctuation-2 in Domain freetext: 40.0\n",
            "GPT3 Accuracy for Problem deletePunctuation-3 in Domain freetext: 40.0\n",
            "GPT3 Accuracy for Problem deletePunctuation-4 in Domain freetext: 0\n",
            "GPT3 Accuracy for Problem deleteSpaces-2 in Domain freetext: 0\n",
            "GPT3 Accuracy for Problem digitToEnd-1 in Domain freetext: 80.0\n",
            "GPT3 Accuracy for Problem firstCharacter-1 in Domain freetext: 40.0\n",
            "GPT3 Accuracy for Problem firstCharacter-2 in Domain freetext: 0\n",
            "GPT3 Accuracy for Problem getAfterComma-1 in Domain freetext: 80.0\n",
            "GPT3 Accuracy for Problem getAfterComma-2 in Domain freetext: 100.0\n",
            "GPT3 Accuracy for Problem getBetweenCommas-1 in Domain freetext: 100.0\n",
            "GPT3 Accuracy for Problem getCaps-1 in Domain freetext: 0\n",
            "GPT3 Accuracy for Problem getCaps-2 in Domain freetext: 0\n",
            "GPT3 Accuracy for Problem getCaps-3 in Domain freetext: 0\n",
            "GPT3 Accuracy for Problem toUpper-1 in Domain freetext: 0\n",
            "GPT3 Accuracy for Problem toUpper-2 in Domain freetext: 0\n",
            "GPT3 Accuracy for Problem addTitle-1 in Domain names: 40.0\n",
            "GPT3 Accuracy for Problem addTitle-2 in Domain names: 40.0\n",
            "GPT3 Accuracy for Problem getTitle-1 in Domain names: 0\n",
            "GPT3 Accuracy for Problem getTitle-2 in Domain names: 0\n",
            "GPT3 Accuracy for Problem login-1 in Domain names: 0\n",
            "GPT3 Accuracy for Problem login-2 in Domain names: 0\n",
            "GPT3 Accuracy for Problem reduceName-1 in Domain names: 80.0\n",
            "GPT3 Accuracy for Problem reduceName-2 in Domain names: 80.0\n",
            "GPT3 Accuracy for Problem reduceName-3 in Domain names: 100.0\n",
            "GPT3 Accuracy for Problem reduceName-5 in Domain names: 0\n",
            "GPT3 Accuracy for Problem reduceName-6 in Domain names: 0\n",
            "GPT3 Accuracy for Problem reduceName-8 in Domain names: 0\n",
            "GPT3 Accuracy for Problem reduceName-9 in Domain names: 0\n",
            "GPT3 Accuracy for Problem countryPrefix-1 in Domain phones: 20.0\n",
            "GPT3 Accuracy for Problem countryPrefix-2 in Domain phones: 0\n",
            "GPT3 Accuracy for Problem countryPrefix-3 in Domain phones: 0\n",
            "GPT3 Accuracy for Problem countryPrefix-7 in Domain phones: 0\n",
            "GPT3 Accuracy for Problem countryPrefix-8 in Domain phones: 80.0\n",
            "GPT3 Accuracy for Problem countryPrefix-9 in Domain phones: 80.0\n",
            "GPT3 Accuracy for Problem deleteParentheses-1 in Domain phones: 0\n",
            "GPT3 Accuracy for Problem deleteParentheses-2 in Domain phones: 40.0\n",
            "GPT3 Accuracy for Problem getNumber-1 in Domain phones: 60.00000000000001\n",
            "GPT3 Accuracy for Problem getNumber-2 in Domain phones: 60.00000000000001\n",
            "GPT3 Accuracy for Problem setPrefix-1 in Domain phones: 0\n",
            "GPT3 Accuracy for Problem setPrefix-2 in Domain phones: 20.0\n",
            "GPT3 Accuracy for Problem setPrefix-3 in Domain phones: 60.00000000000001\n",
            "GPT3 Accuracy for Problem setPrefix-4 in Domain phones: 20.0\n",
            "GPT3 Accuracy for Problem setPrefix-5 in Domain phones: 20.0\n",
            "GPT3 Accuracy for Problem setPrefix-6 in Domain phones: 0\n",
            "GPT3 Accuracy for Problem setPunctuation-1 in Domain phones: 20.0\n",
            "GPT3 Accuracy for Problem setPunctuation-2 in Domain phones: 20.0\n",
            "GPT3 Accuracy for Problem addTime-1 in Domain times: 20.0\n",
            "GPT3 Accuracy for Problem addTime-2 in Domain times: 0\n",
            "GPT3 Accuracy for Problem appendTime-1 in Domain times: 40.0\n",
            "GPT3 Accuracy for Problem appendTime-2 in Domain times: 80.0\n",
            "GPT3 Accuracy for Problem appendTime-3 in Domain times: 40.0\n",
            "GPT3 Accuracy for Problem appendTime-4 in Domain times: 80.0\n",
            "GPT3 Accuracy for Problem convert-1 in Domain times: 20.0\n",
            "GPT3 Accuracy for Problem convert-10 in Domain times: 20.0\n",
            "GPT3 Accuracy for Problem convert-2 in Domain times: 40.0\n",
            "GPT3 Accuracy for Problem convert-3 in Domain times: 20.0\n",
            "GPT3 Accuracy for Problem convert-4 in Domain times: 20.0\n",
            "GPT3 Accuracy for Problem convert-5 in Domain times: 20.0\n",
            "GPT3 Accuracy for Problem convert-6 in Domain times: 0\n",
            "GPT3 Accuracy for Problem convert-7 in Domain times: 20.0\n",
            "GPT3 Accuracy for Problem convert-8 in Domain times: 20.0\n",
            "GPT3 Accuracy for Problem convert-9 in Domain times: 20.0\n",
            "GPT3 Accuracy for Problem deleteTime-1 in Domain times: 0\n",
            "GPT3 Accuracy for Problem deleteTime-2 in Domain times: 20.0\n",
            "GPT3 Accuracy for Problem getHour-1 in Domain times: 20.0\n",
            "GPT3 Accuracy for Problem getHour-2 in Domain times: 60.00000000000001\n",
            "GPT3 Accuracy for Problem getMinutes-1 in Domain times: 80.0\n",
            "GPT3 Accuracy for Problem getMinutes-2 in Domain times: 20.0\n",
            "GPT3 Accuracy for Problem getTime-1 in Domain times: 60.00000000000001\n",
            "GPT3 Accuracy for Problem getTime-2 in Domain times: 100.0\n",
            "GPT3 Accuracy for Problem convert-1 in Domain units: 0\n",
            "GPT3 Accuracy for Problem convert-2 in Domain units: 0\n",
            "GPT3 Accuracy for Problem convert-3 in Domain units: 0\n",
            "GPT3 Accuracy for Problem convert-4 in Domain units: 0\n",
            "GPT3 Accuracy for Problem getSystem-1 in Domain units: 0\n",
            "GPT3 Accuracy for Problem getSystem-2 in Domain units: 0\n",
            "GPT3 Accuracy for Problem getUnits-1 in Domain units: 0\n",
            "GPT3 Accuracy for Problem getUnits-2 in Domain units: 0\n",
            "GPT3 Accuracy for Problem getValue-1 in Domain units: 40.0\n",
            "GPT3 Accuracy for Problem getValue-2 in Domain units: 0\n"
          ],
          "name": "stdout"
        }
      ]
    },
    {
      "cell_type": "code",
      "metadata": {
        "colab": {
          "base_uri": "https://localhost:8080/"
        },
        "id": "7lzHyg6m8tez",
        "outputId": "5dec97e2-178f-4c6d-8a54-37cb6eb55ce2"
      },
      "source": [
        "sumAccuracy"
      ],
      "execution_count": null,
      "outputs": [
        {
          "output_type": "execute_result",
          "data": {
            "text/plain": [
              "37.599999999999994"
            ]
          },
          "metadata": {
            "tags": []
          },
          "execution_count": 125
        }
      ]
    },
    {
      "cell_type": "code",
      "metadata": {
        "colab": {
          "base_uri": "https://localhost:8080/"
        },
        "id": "swJe2MPv8tez",
        "outputId": "d350f3a7-97a7-41c9-b3ac-71d2bf10c3c0"
      },
      "source": [
        "#Evaluation (T-0) by domain\n",
        " \n",
        "correctAnswers = test_targets\n",
        "\n",
        "sum = 0\n",
        "sumAccuracy = 0\n",
        "#Calculate the accuracies\n",
        "for d in range(0, len(domains)):\n",
        "  for i in range(0, len(final_problems)):\n",
        "    if final_problems[i][1] == domains[d]:\n",
        "      sum = sum + 1\n",
        "      accuracy = 0\n",
        "      for j in range(0, len(test_targets[i])):\n",
        "        if results[i][j] == correctAnswers[i][j]:\n",
        "            accuracy = accuracy + (1/len(test_targets[i]))\n",
        "      sumAccuracy = sumAccuracy + accuracy\n",
        "  print(\"GPT3 Accuracy for Domain \" + domains[d] + \": \" + str((sumAccuracy/sum)*100))\n",
        "  sum = 0\n",
        "  sumAccuracy = 0"
      ],
      "execution_count": null,
      "outputs": [
        {
          "output_type": "stream",
          "text": [
            "GPT3 Accuracy for Domain dates: 26.666666666666668\n",
            "GPT3 Accuracy for Domain emails: 57.77777777777779\n",
            "GPT3 Accuracy for Domain freetext: 44.54545454545455\n",
            "GPT3 Accuracy for Domain names: 26.153846153846157\n",
            "GPT3 Accuracy for Domain phones: 27.77777777777779\n",
            "GPT3 Accuracy for Domain times: 34.16666666666667\n",
            "GPT3 Accuracy for Domain units: 4.0\n"
          ],
          "name": "stdout"
        }
      ]
    },
    {
      "cell_type": "markdown",
      "metadata": {
        "id": "BHESXWhe8te0"
      },
      "source": [
        "### GPT-3 Babbage 2-shot with Temp = 0// Prompt WITHOUT the task description"
      ]
    },
    {
      "cell_type": "code",
      "metadata": {
        "colab": {
          "resources": {
            "http://localhost:8080/nbextensions/google.colab/files.js": {
              "data": "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",
              "ok": true,
              "headers": [
                [
                  "content-type",
                  "application/javascript"
                ]
              ],
              "status": 200,
              "status_text": ""
            }
          },
          "base_uri": "https://localhost:8080/",
          "height": 72
        },
        "id": "sF6Wxw1w8te1",
        "outputId": "a33ceb0c-978c-4007-8a56-920f2c414a7e"
      },
      "source": [
        "from google.colab import files\n",
        "uploaded = files.upload()"
      ],
      "execution_count": null,
      "outputs": [
        {
          "output_type": "display_data",
          "data": {
            "text/html": [
              "\n",
              "     <input type=\"file\" id=\"files-c8a63951-ca98-407d-8810-ff4a588f8004\" name=\"files[]\" multiple disabled\n",
              "        style=\"border:none\" />\n",
              "     <output id=\"result-c8a63951-ca98-407d-8810-ff4a588f8004\">\n",
              "      Upload widget is only available when the cell has been executed in the\n",
              "      current browser session. Please rerun this cell to enable.\n",
              "      </output>\n",
              "      <script src=\"/nbextensions/google.colab/files.js\"></script> "
            ],
            "text/plain": [
              "<IPython.core.display.HTML object>"
            ]
          },
          "metadata": {
            "tags": []
          }
        },
        {
          "output_type": "stream",
          "text": [
            "Saving results_dw_t0_2s_b.txt to results_dw_t0_2s_b.txt\n"
          ],
          "name": "stdout"
        }
      ]
    },
    {
      "cell_type": "code",
      "metadata": {
        "id": "uNfycexm8te1"
      },
      "source": [
        "resdata = uploaded[\"results_dw_t0_2s_b.txt\"].decode(\"utf-8\").split(\"\\n\")"
      ],
      "execution_count": null,
      "outputs": []
    },
    {
      "cell_type": "code",
      "metadata": {
        "id": "9zrexxKE8te1"
      },
      "source": [
        "resdata = resdata[:-1]"
      ],
      "execution_count": null,
      "outputs": []
    },
    {
      "cell_type": "code",
      "metadata": {
        "id": "TH6xxkan8te2"
      },
      "source": [
        "results = [[]]*len(final_problems)\n",
        "for i in range(0, len(final_problems)):\n",
        "  results[i] = ['']*len(test_targets2[i])\n",
        "  for j in range(0, len(test_targets2[i])):\n",
        "    results[i][j] = resdata[i*len(test_targets2[i]) + j]"
      ],
      "execution_count": null,
      "outputs": []
    },
    {
      "cell_type": "code",
      "metadata": {
        "colab": {
          "base_uri": "https://localhost:8080/"
        },
        "id": "beBpj11l8te2",
        "outputId": "3d77f69b-36cd-40ae-ff32-02c84c30fea1"
      },
      "source": [
        "#Evaluation (T-0)\n",
        " \n",
        "correctAnswers = test_targets2\n",
        "\n",
        "corr_num = 0\n",
        " \n",
        "#Calculate the accuracies\n",
        "for i in range(0, len(final_problems)):\n",
        "  for j in range(0, len(test_targets2[i])):\n",
        "    if results[i][j] == correctAnswers[i][j]:\n",
        "        corr_num = corr_num + 1\n",
        "\n",
        "print(corr_num / len(resdata))"
      ],
      "execution_count": null,
      "outputs": [
        {
          "output_type": "stream",
          "text": [
            "0.49572649572649574\n"
          ],
          "name": "stdout"
        }
      ]
    },
    {
      "cell_type": "code",
      "metadata": {
        "colab": {
          "base_uri": "https://localhost:8080/"
        },
        "id": "oV6QcHMt8te2",
        "outputId": "26f57bc8-7bb5-47fd-bfda-245bd6f3f2c3"
      },
      "source": [
        "corr_num"
      ],
      "execution_count": null,
      "outputs": [
        {
          "output_type": "execute_result",
          "data": {
            "text/plain": [
              "232"
            ]
          },
          "metadata": {
            "tags": []
          },
          "execution_count": 132
        }
      ]
    },
    {
      "cell_type": "code",
      "metadata": {
        "colab": {
          "base_uri": "https://localhost:8080/"
        },
        "id": "ixh6pxMo8te2",
        "outputId": "8630e439-e2b8-404b-aaeb-7a0cab744f7a"
      },
      "source": [
        "len(resdata)"
      ],
      "execution_count": null,
      "outputs": [
        {
          "output_type": "execute_result",
          "data": {
            "text/plain": [
              "468"
            ]
          },
          "metadata": {
            "tags": []
          },
          "execution_count": 133
        }
      ]
    },
    {
      "cell_type": "code",
      "metadata": {
        "colab": {
          "base_uri": "https://localhost:8080/"
        },
        "id": "0PzU_wjb8te3",
        "outputId": "23a404f1-9828-4bc8-9bb3-776455aa333e"
      },
      "source": [
        "#Evaluation (T-0)\n",
        " \n",
        "correctAnswers = test_targets2\n",
        "\n",
        "sumAccuracy = 0\n",
        "#Calculate the accuracies\n",
        "for i in range(0, len(final_problems)):\n",
        "  accuracy = 0\n",
        "  for j in range(0, len(test_targets2[i])):\n",
        "    if results[i][j] == correctAnswers[i][j]:\n",
        "        accuracy = accuracy + (1/len(test_targets2[i]))\n",
        "        sumAccuracy = sumAccuracy + (1/len(test_targets2[i]))\n",
        "  print(\"GPT3 Accuracy for Problem \" + final_problems[i][0] + \" in Domain \" + final_problems[i][1] + \": \" + str(accuracy*100))"
      ],
      "execution_count": null,
      "outputs": [
        {
          "output_type": "stream",
          "text": [
            "GPT3 Accuracy for Problem addPunctuation-1 in Domain dates: 75.0\n",
            "GPT3 Accuracy for Problem addPunctuation-2 in Domain dates: 50.0\n",
            "GPT3 Accuracy for Problem changeFormat-1 in Domain dates: 0\n",
            "GPT3 Accuracy for Problem changeFormat-2 in Domain dates: 0\n",
            "GPT3 Accuracy for Problem changeFormat-3 in Domain dates: 0\n",
            "GPT3 Accuracy for Problem changeFormat-4 in Domain dates: 75.0\n",
            "GPT3 Accuracy for Problem changePunctuation-1 in Domain dates: 100.0\n",
            "GPT3 Accuracy for Problem changePunctuation-2 in Domain dates: 100.0\n",
            "GPT3 Accuracy for Problem getDay-1 in Domain dates: 50.0\n",
            "GPT3 Accuracy for Problem getDay-2 in Domain dates: 25.0\n",
            "GPT3 Accuracy for Problem getDay-3 in Domain dates: 75.0\n",
            "GPT3 Accuracy for Problem getDayOrdinal-1 in Domain dates: 0\n",
            "GPT3 Accuracy for Problem getDayOrdinal-2 in Domain dates: 0\n",
            "GPT3 Accuracy for Problem getMonthName-1 in Domain dates: 50.0\n",
            "GPT3 Accuracy for Problem getMonthName-2 in Domain dates: 100.0\n",
            "GPT3 Accuracy for Problem getWeekDay-1 in Domain dates: 100.0\n",
            "GPT3 Accuracy for Problem getWeekDay-2 in Domain dates: 0\n",
            "GPT3 Accuracy for Problem reduceMonthName-1 in Domain dates: 25.0\n",
            "GPT3 Accuracy for Problem reduceMonthName-2 in Domain dates: 25.0\n",
            "GPT3 Accuracy for Problem setFormat-1 in Domain dates: 0\n",
            "GPT3 Accuracy for Problem setFormat-2 in Domain dates: 0\n",
            "GPT3 Accuracy for Problem generate-1 in Domain emails: 100.0\n",
            "GPT3 Accuracy for Problem generate-2 in Domain emails: 100.0\n",
            "GPT3 Accuracy for Problem generate-3 in Domain emails: 100.0\n",
            "GPT3 Accuracy for Problem getAfterAt-2 in Domain emails: 75.0\n",
            "GPT3 Accuracy for Problem getAfterAt-3 in Domain emails: 100.0\n",
            "GPT3 Accuracy for Problem getAfterAt-4 in Domain emails: 100.0\n",
            "GPT3 Accuracy for Problem getDomain-1 in Domain emails: 100.0\n",
            "GPT3 Accuracy for Problem getDomain-2 in Domain emails: 100.0\n",
            "GPT3 Accuracy for Problem someBeforeAt-NA in Domain emails: 50.0\n",
            "GPT3 Accuracy for Problem afterSymbol-1 in Domain freetext: 100.0\n",
            "GPT3 Accuracy for Problem afterSymbol-2 in Domain freetext: 100.0\n",
            "GPT3 Accuracy for Problem betweenSymbols-1 in Domain freetext: 100.0\n",
            "GPT3 Accuracy for Problem betweenSymbols-2 in Domain freetext: 100.0\n",
            "GPT3 Accuracy for Problem brackets-1 in Domain freetext: 75.0\n",
            "GPT3 Accuracy for Problem brackets-2 in Domain freetext: 25.0\n",
            "GPT3 Accuracy for Problem deletePunctuation-1 in Domain freetext: 25.0\n",
            "GPT3 Accuracy for Problem deletePunctuation-2 in Domain freetext: 25.0\n",
            "GPT3 Accuracy for Problem deletePunctuation-3 in Domain freetext: 25.0\n",
            "GPT3 Accuracy for Problem deletePunctuation-4 in Domain freetext: 0\n",
            "GPT3 Accuracy for Problem deleteSpaces-2 in Domain freetext: 0\n",
            "GPT3 Accuracy for Problem digitToEnd-1 in Domain freetext: 100.0\n",
            "GPT3 Accuracy for Problem firstCharacter-1 in Domain freetext: 25.0\n",
            "GPT3 Accuracy for Problem firstCharacter-2 in Domain freetext: 50.0\n",
            "GPT3 Accuracy for Problem getAfterComma-1 in Domain freetext: 75.0\n",
            "GPT3 Accuracy for Problem getAfterComma-2 in Domain freetext: 100.0\n",
            "GPT3 Accuracy for Problem getBetweenCommas-1 in Domain freetext: 100.0\n",
            "GPT3 Accuracy for Problem getCaps-1 in Domain freetext: 25.0\n",
            "GPT3 Accuracy for Problem getCaps-2 in Domain freetext: 50.0\n",
            "GPT3 Accuracy for Problem getCaps-3 in Domain freetext: 75.0\n",
            "GPT3 Accuracy for Problem toUpper-1 in Domain freetext: 50.0\n",
            "GPT3 Accuracy for Problem toUpper-2 in Domain freetext: 0\n",
            "GPT3 Accuracy for Problem addTitle-1 in Domain names: 75.0\n",
            "GPT3 Accuracy for Problem addTitle-2 in Domain names: 25.0\n",
            "GPT3 Accuracy for Problem getTitle-1 in Domain names: 0\n",
            "GPT3 Accuracy for Problem getTitle-2 in Domain names: 75.0\n",
            "GPT3 Accuracy for Problem login-1 in Domain names: 0\n",
            "GPT3 Accuracy for Problem login-2 in Domain names: 0\n",
            "GPT3 Accuracy for Problem reduceName-1 in Domain names: 50.0\n",
            "GPT3 Accuracy for Problem reduceName-2 in Domain names: 75.0\n",
            "GPT3 Accuracy for Problem reduceName-3 in Domain names: 100.0\n",
            "GPT3 Accuracy for Problem reduceName-5 in Domain names: 75.0\n",
            "GPT3 Accuracy for Problem reduceName-6 in Domain names: 50.0\n",
            "GPT3 Accuracy for Problem reduceName-8 in Domain names: 25.0\n",
            "GPT3 Accuracy for Problem reduceName-9 in Domain names: 100.0\n",
            "GPT3 Accuracy for Problem countryPrefix-1 in Domain phones: 75.0\n",
            "GPT3 Accuracy for Problem countryPrefix-2 in Domain phones: 0\n",
            "GPT3 Accuracy for Problem countryPrefix-3 in Domain phones: 0\n",
            "GPT3 Accuracy for Problem countryPrefix-7 in Domain phones: 0\n",
            "GPT3 Accuracy for Problem countryPrefix-8 in Domain phones: 75.0\n",
            "GPT3 Accuracy for Problem countryPrefix-9 in Domain phones: 75.0\n",
            "GPT3 Accuracy for Problem deleteParentheses-1 in Domain phones: 75.0\n",
            "GPT3 Accuracy for Problem deleteParentheses-2 in Domain phones: 100.0\n",
            "GPT3 Accuracy for Problem getNumber-1 in Domain phones: 50.0\n",
            "GPT3 Accuracy for Problem getNumber-2 in Domain phones: 25.0\n",
            "GPT3 Accuracy for Problem setPrefix-1 in Domain phones: 0\n",
            "GPT3 Accuracy for Problem setPrefix-2 in Domain phones: 100.0\n",
            "GPT3 Accuracy for Problem setPrefix-3 in Domain phones: 100.0\n",
            "GPT3 Accuracy for Problem setPrefix-4 in Domain phones: 100.0\n",
            "GPT3 Accuracy for Problem setPrefix-5 in Domain phones: 0\n",
            "GPT3 Accuracy for Problem setPrefix-6 in Domain phones: 100.0\n",
            "GPT3 Accuracy for Problem setPunctuation-1 in Domain phones: 25.0\n",
            "GPT3 Accuracy for Problem setPunctuation-2 in Domain phones: 25.0\n",
            "GPT3 Accuracy for Problem addTime-1 in Domain times: 0\n",
            "GPT3 Accuracy for Problem addTime-2 in Domain times: 25.0\n",
            "GPT3 Accuracy for Problem appendTime-1 in Domain times: 25.0\n",
            "GPT3 Accuracy for Problem appendTime-2 in Domain times: 100.0\n",
            "GPT3 Accuracy for Problem appendTime-3 in Domain times: 75.0\n",
            "GPT3 Accuracy for Problem appendTime-4 in Domain times: 100.0\n",
            "GPT3 Accuracy for Problem convert-1 in Domain times: 25.0\n",
            "GPT3 Accuracy for Problem convert-10 in Domain times: 0\n",
            "GPT3 Accuracy for Problem convert-2 in Domain times: 25.0\n",
            "GPT3 Accuracy for Problem convert-3 in Domain times: 25.0\n",
            "GPT3 Accuracy for Problem convert-4 in Domain times: 0\n",
            "GPT3 Accuracy for Problem convert-5 in Domain times: 25.0\n",
            "GPT3 Accuracy for Problem convert-6 in Domain times: 0\n",
            "GPT3 Accuracy for Problem convert-7 in Domain times: 50.0\n",
            "GPT3 Accuracy for Problem convert-8 in Domain times: 0\n",
            "GPT3 Accuracy for Problem convert-9 in Domain times: 50.0\n",
            "GPT3 Accuracy for Problem deleteTime-1 in Domain times: 25.0\n",
            "GPT3 Accuracy for Problem deleteTime-2 in Domain times: 0\n",
            "GPT3 Accuracy for Problem getHour-1 in Domain times: 0\n",
            "GPT3 Accuracy for Problem getHour-2 in Domain times: 100.0\n",
            "GPT3 Accuracy for Problem getMinutes-1 in Domain times: 75.0\n",
            "GPT3 Accuracy for Problem getMinutes-2 in Domain times: 75.0\n",
            "GPT3 Accuracy for Problem getTime-1 in Domain times: 100.0\n",
            "GPT3 Accuracy for Problem getTime-2 in Domain times: 100.0\n",
            "GPT3 Accuracy for Problem convert-1 in Domain units: 0\n",
            "GPT3 Accuracy for Problem convert-2 in Domain units: 0\n",
            "GPT3 Accuracy for Problem convert-3 in Domain units: 0\n",
            "GPT3 Accuracy for Problem convert-4 in Domain units: 0\n",
            "GPT3 Accuracy for Problem getSystem-1 in Domain units: 25.0\n",
            "GPT3 Accuracy for Problem getSystem-2 in Domain units: 25.0\n",
            "GPT3 Accuracy for Problem getUnits-1 in Domain units: 75.0\n",
            "GPT3 Accuracy for Problem getUnits-2 in Domain units: 25.0\n",
            "GPT3 Accuracy for Problem getValue-1 in Domain units: 75.0\n",
            "GPT3 Accuracy for Problem getValue-2 in Domain units: 100.0\n"
          ],
          "name": "stdout"
        }
      ]
    },
    {
      "cell_type": "code",
      "metadata": {
        "colab": {
          "base_uri": "https://localhost:8080/"
        },
        "id": "VbvrF7V78te3",
        "outputId": "7086955e-4412-4847-95c4-ccfb9c54b2d3"
      },
      "source": [
        "sumAccuracy"
      ],
      "execution_count": null,
      "outputs": [
        {
          "output_type": "execute_result",
          "data": {
            "text/plain": [
              "58.0"
            ]
          },
          "metadata": {
            "tags": []
          },
          "execution_count": 135
        }
      ]
    },
    {
      "cell_type": "code",
      "metadata": {
        "colab": {
          "base_uri": "https://localhost:8080/"
        },
        "id": "kIO2uKL88te3",
        "outputId": "50e91f05-76b9-424b-cb64-0cad96d560f7"
      },
      "source": [
        "#Evaluation (T-0) by domain\n",
        " \n",
        "correctAnswers = test_targets2\n",
        "\n",
        "sum = 0\n",
        "sumAccuracy = 0\n",
        "#Calculate the accuracies\n",
        "for d in range(0, len(domains)):\n",
        "  for i in range(0, len(final_problems)):\n",
        "    if final_problems[i][1] == domains[d]:\n",
        "      sum = sum + 1\n",
        "      accuracy = 0\n",
        "      for j in range(0, len(test_targets2[i])):\n",
        "        if results[i][j] == correctAnswers[i][j]:\n",
        "            accuracy = accuracy + (1/len(test_targets2[i]))\n",
        "      sumAccuracy = sumAccuracy + accuracy\n",
        "  print(\"GPT3 Accuracy for Domain \" + domains[d] + \": \" + str((sumAccuracy/sum)*100))\n",
        "  sum = 0\n",
        "  sumAccuracy = 0"
      ],
      "execution_count": null,
      "outputs": [
        {
          "output_type": "stream",
          "text": [
            "GPT3 Accuracy for Domain dates: 40.476190476190474\n",
            "GPT3 Accuracy for Domain emails: 91.66666666666666\n",
            "GPT3 Accuracy for Domain freetext: 55.68181818181818\n",
            "GPT3 Accuracy for Domain names: 50.0\n",
            "GPT3 Accuracy for Domain phones: 51.388888888888886\n",
            "GPT3 Accuracy for Domain times: 41.66666666666667\n",
            "GPT3 Accuracy for Domain units: 32.5\n"
          ],
          "name": "stdout"
        }
      ]
    },
    {
      "cell_type": "markdown",
      "metadata": {
        "id": "bCAZ4Cv28te3"
      },
      "source": [
        "### GPT-3 Babbage 3-shot with Temp = 0// Prompt WITHOUT the task description"
      ]
    },
    {
      "cell_type": "code",
      "metadata": {
        "colab": {
          "resources": {
            "http://localhost:8080/nbextensions/google.colab/files.js": {
              "data": "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",
              "ok": true,
              "headers": [
                [
                  "content-type",
                  "application/javascript"
                ]
              ],
              "status": 200,
              "status_text": ""
            }
          },
          "base_uri": "https://localhost:8080/",
          "height": 72
        },
        "id": "fvVgub728te3",
        "outputId": "7ab9bc5e-0a26-4359-f4b1-f97914f300ca"
      },
      "source": [
        "from google.colab import files\n",
        "uploaded = files.upload()"
      ],
      "execution_count": null,
      "outputs": [
        {
          "output_type": "display_data",
          "data": {
            "text/html": [
              "\n",
              "     <input type=\"file\" id=\"files-dba5e8e1-01f7-4d0d-8e69-c372acce6533\" name=\"files[]\" multiple disabled\n",
              "        style=\"border:none\" />\n",
              "     <output id=\"result-dba5e8e1-01f7-4d0d-8e69-c372acce6533\">\n",
              "      Upload widget is only available when the cell has been executed in the\n",
              "      current browser session. Please rerun this cell to enable.\n",
              "      </output>\n",
              "      <script src=\"/nbextensions/google.colab/files.js\"></script> "
            ],
            "text/plain": [
              "<IPython.core.display.HTML object>"
            ]
          },
          "metadata": {
            "tags": []
          }
        },
        {
          "output_type": "stream",
          "text": [
            "Saving results_dw_t0_3s_b.txt to results_dw_t0_3s_b.txt\n"
          ],
          "name": "stdout"
        }
      ]
    },
    {
      "cell_type": "code",
      "metadata": {
        "id": "R_mmaPo18te4"
      },
      "source": [
        "resdata = uploaded[\"results_dw_t0_3s_b.txt\"].decode(\"utf-8\").split(\"\\n\")"
      ],
      "execution_count": null,
      "outputs": []
    },
    {
      "cell_type": "code",
      "metadata": {
        "id": "TRHNjIi58te4"
      },
      "source": [
        "resdata = resdata[:-1]"
      ],
      "execution_count": null,
      "outputs": []
    },
    {
      "cell_type": "code",
      "metadata": {
        "id": "3iZIQMrG8te4"
      },
      "source": [
        "results = [[]]*len(final_problems)\n",
        "for i in range(0, len(final_problems)):\n",
        "  results[i] = ['']*len(test_targets3[i])\n",
        "  for j in range(0, len(test_targets3[i])):\n",
        "    results[i][j] = resdata[i*len(test_targets3[i]) + j]"
      ],
      "execution_count": null,
      "outputs": []
    },
    {
      "cell_type": "code",
      "metadata": {
        "colab": {
          "base_uri": "https://localhost:8080/"
        },
        "id": "BiV_GaS48te4",
        "outputId": "5ff4e9c1-d46c-4ee3-e160-2a5c7497d07c"
      },
      "source": [
        "#Evaluation (T-0)\n",
        " \n",
        "correctAnswers = test_targets3\n",
        "\n",
        "corr_num = 0\n",
        " \n",
        "#Calculate the accuracies\n",
        "for i in range(0, len(final_problems)):\n",
        "  for j in range(0, len(test_targets3[i])):\n",
        "    if results[i][j] == correctAnswers[i][j]:\n",
        "        corr_num = corr_num + 1\n",
        "\n",
        "print(corr_num / len(resdata))"
      ],
      "execution_count": null,
      "outputs": [
        {
          "output_type": "stream",
          "text": [
            "0.5555555555555556\n"
          ],
          "name": "stdout"
        }
      ]
    },
    {
      "cell_type": "code",
      "metadata": {
        "colab": {
          "base_uri": "https://localhost:8080/"
        },
        "id": "NjZaPAd18te4",
        "outputId": "6ed3dfdf-fd84-40aa-b48d-4e2241728156"
      },
      "source": [
        "corr_num"
      ],
      "execution_count": null,
      "outputs": [
        {
          "output_type": "execute_result",
          "data": {
            "text/plain": [
              "195"
            ]
          },
          "metadata": {
            "tags": []
          },
          "execution_count": 142
        }
      ]
    },
    {
      "cell_type": "code",
      "metadata": {
        "colab": {
          "base_uri": "https://localhost:8080/"
        },
        "id": "HcD2-S7n8te4",
        "outputId": "b93aa667-c904-4ea9-85f9-cd776bfc6244"
      },
      "source": [
        "len(resdata)"
      ],
      "execution_count": null,
      "outputs": [
        {
          "output_type": "execute_result",
          "data": {
            "text/plain": [
              "351"
            ]
          },
          "metadata": {
            "tags": []
          },
          "execution_count": 143
        }
      ]
    },
    {
      "cell_type": "code",
      "metadata": {
        "colab": {
          "base_uri": "https://localhost:8080/"
        },
        "id": "c0DDGJvD8te4",
        "outputId": "40b3c432-869a-4975-d643-e68fd1ad5109"
      },
      "source": [
        "#Evaluation (T-0)\n",
        " \n",
        "correctAnswers = test_targets3\n",
        "\n",
        "sumAccuracy = 0\n",
        "#Calculate the accuracies\n",
        "for i in range(0, len(final_problems)):\n",
        "  accuracy = 0\n",
        "  for j in range(0, len(test_targets3[i])):\n",
        "    if results[i][j] == correctAnswers[i][j]:\n",
        "        accuracy = accuracy + (1/len(test_targets3[i]))\n",
        "        sumAccuracy = sumAccuracy + (1/len(test_targets3[i]))\n",
        "  print(\"GPT3 Accuracy for Problem \" + final_problems[i][0] + \" in Domain \" + final_problems[i][1] + \": \" + str(accuracy*100))"
      ],
      "execution_count": null,
      "outputs": [
        {
          "output_type": "stream",
          "text": [
            "GPT3 Accuracy for Problem addPunctuation-1 in Domain dates: 66.66666666666666\n",
            "GPT3 Accuracy for Problem addPunctuation-2 in Domain dates: 33.33333333333333\n",
            "GPT3 Accuracy for Problem changeFormat-1 in Domain dates: 0\n",
            "GPT3 Accuracy for Problem changeFormat-2 in Domain dates: 0\n",
            "GPT3 Accuracy for Problem changeFormat-3 in Domain dates: 0\n",
            "GPT3 Accuracy for Problem changeFormat-4 in Domain dates: 0\n",
            "GPT3 Accuracy for Problem changePunctuation-1 in Domain dates: 100.0\n",
            "GPT3 Accuracy for Problem changePunctuation-2 in Domain dates: 100.0\n",
            "GPT3 Accuracy for Problem getDay-1 in Domain dates: 66.66666666666666\n",
            "GPT3 Accuracy for Problem getDay-2 in Domain dates: 100.0\n",
            "GPT3 Accuracy for Problem getDay-3 in Domain dates: 66.66666666666666\n",
            "GPT3 Accuracy for Problem getDayOrdinal-1 in Domain dates: 0\n",
            "GPT3 Accuracy for Problem getDayOrdinal-2 in Domain dates: 0\n",
            "GPT3 Accuracy for Problem getMonthName-1 in Domain dates: 66.66666666666666\n",
            "GPT3 Accuracy for Problem getMonthName-2 in Domain dates: 100.0\n",
            "GPT3 Accuracy for Problem getWeekDay-1 in Domain dates: 100.0\n",
            "GPT3 Accuracy for Problem getWeekDay-2 in Domain dates: 0\n",
            "GPT3 Accuracy for Problem reduceMonthName-1 in Domain dates: 33.33333333333333\n",
            "GPT3 Accuracy for Problem reduceMonthName-2 in Domain dates: 66.66666666666666\n",
            "GPT3 Accuracy for Problem setFormat-1 in Domain dates: 0\n",
            "GPT3 Accuracy for Problem setFormat-2 in Domain dates: 0\n",
            "GPT3 Accuracy for Problem generate-1 in Domain emails: 100.0\n",
            "GPT3 Accuracy for Problem generate-2 in Domain emails: 100.0\n",
            "GPT3 Accuracy for Problem generate-3 in Domain emails: 100.0\n",
            "GPT3 Accuracy for Problem getAfterAt-2 in Domain emails: 66.66666666666666\n",
            "GPT3 Accuracy for Problem getAfterAt-3 in Domain emails: 100.0\n",
            "GPT3 Accuracy for Problem getAfterAt-4 in Domain emails: 100.0\n",
            "GPT3 Accuracy for Problem getDomain-1 in Domain emails: 100.0\n",
            "GPT3 Accuracy for Problem getDomain-2 in Domain emails: 100.0\n",
            "GPT3 Accuracy for Problem someBeforeAt-NA in Domain emails: 33.33333333333333\n",
            "GPT3 Accuracy for Problem afterSymbol-1 in Domain freetext: 100.0\n",
            "GPT3 Accuracy for Problem afterSymbol-2 in Domain freetext: 100.0\n",
            "GPT3 Accuracy for Problem betweenSymbols-1 in Domain freetext: 100.0\n",
            "GPT3 Accuracy for Problem betweenSymbols-2 in Domain freetext: 100.0\n",
            "GPT3 Accuracy for Problem brackets-1 in Domain freetext: 100.0\n",
            "GPT3 Accuracy for Problem brackets-2 in Domain freetext: 100.0\n",
            "GPT3 Accuracy for Problem deletePunctuation-1 in Domain freetext: 33.33333333333333\n",
            "GPT3 Accuracy for Problem deletePunctuation-2 in Domain freetext: 0\n",
            "GPT3 Accuracy for Problem deletePunctuation-3 in Domain freetext: 33.33333333333333\n",
            "GPT3 Accuracy for Problem deletePunctuation-4 in Domain freetext: 33.33333333333333\n",
            "GPT3 Accuracy for Problem deleteSpaces-2 in Domain freetext: 0\n",
            "GPT3 Accuracy for Problem digitToEnd-1 in Domain freetext: 100.0\n",
            "GPT3 Accuracy for Problem firstCharacter-1 in Domain freetext: 66.66666666666666\n",
            "GPT3 Accuracy for Problem firstCharacter-2 in Domain freetext: 66.66666666666666\n",
            "GPT3 Accuracy for Problem getAfterComma-1 in Domain freetext: 100.0\n",
            "GPT3 Accuracy for Problem getAfterComma-2 in Domain freetext: 100.0\n",
            "GPT3 Accuracy for Problem getBetweenCommas-1 in Domain freetext: 100.0\n",
            "GPT3 Accuracy for Problem getCaps-1 in Domain freetext: 100.0\n",
            "GPT3 Accuracy for Problem getCaps-2 in Domain freetext: 66.66666666666666\n",
            "GPT3 Accuracy for Problem getCaps-3 in Domain freetext: 100.0\n",
            "GPT3 Accuracy for Problem toUpper-1 in Domain freetext: 0\n",
            "GPT3 Accuracy for Problem toUpper-2 in Domain freetext: 0\n",
            "GPT3 Accuracy for Problem addTitle-1 in Domain names: 66.66666666666666\n",
            "GPT3 Accuracy for Problem addTitle-2 in Domain names: 33.33333333333333\n",
            "GPT3 Accuracy for Problem getTitle-1 in Domain names: 33.33333333333333\n",
            "GPT3 Accuracy for Problem getTitle-2 in Domain names: 100.0\n",
            "GPT3 Accuracy for Problem login-1 in Domain names: 0\n",
            "GPT3 Accuracy for Problem login-2 in Domain names: 0\n",
            "GPT3 Accuracy for Problem reduceName-1 in Domain names: 100.0\n",
            "GPT3 Accuracy for Problem reduceName-2 in Domain names: 66.66666666666666\n",
            "GPT3 Accuracy for Problem reduceName-3 in Domain names: 100.0\n",
            "GPT3 Accuracy for Problem reduceName-5 in Domain names: 100.0\n",
            "GPT3 Accuracy for Problem reduceName-6 in Domain names: 66.66666666666666\n",
            "GPT3 Accuracy for Problem reduceName-8 in Domain names: 66.66666666666666\n",
            "GPT3 Accuracy for Problem reduceName-9 in Domain names: 100.0\n",
            "GPT3 Accuracy for Problem countryPrefix-1 in Domain phones: 66.66666666666666\n",
            "GPT3 Accuracy for Problem countryPrefix-2 in Domain phones: 33.33333333333333\n",
            "GPT3 Accuracy for Problem countryPrefix-3 in Domain phones: 0\n",
            "GPT3 Accuracy for Problem countryPrefix-7 in Domain phones: 0\n",
            "GPT3 Accuracy for Problem countryPrefix-8 in Domain phones: 66.66666666666666\n",
            "GPT3 Accuracy for Problem countryPrefix-9 in Domain phones: 100.0\n",
            "GPT3 Accuracy for Problem deleteParentheses-1 in Domain phones: 100.0\n",
            "GPT3 Accuracy for Problem deleteParentheses-2 in Domain phones: 100.0\n",
            "GPT3 Accuracy for Problem getNumber-1 in Domain phones: 100.0\n",
            "GPT3 Accuracy for Problem getNumber-2 in Domain phones: 100.0\n",
            "GPT3 Accuracy for Problem setPrefix-1 in Domain phones: 0\n",
            "GPT3 Accuracy for Problem setPrefix-2 in Domain phones: 100.0\n",
            "GPT3 Accuracy for Problem setPrefix-3 in Domain phones: 100.0\n",
            "GPT3 Accuracy for Problem setPrefix-4 in Domain phones: 100.0\n",
            "GPT3 Accuracy for Problem setPrefix-5 in Domain phones: 0\n",
            "GPT3 Accuracy for Problem setPrefix-6 in Domain phones: 100.0\n",
            "GPT3 Accuracy for Problem setPunctuation-1 in Domain phones: 0\n",
            "GPT3 Accuracy for Problem setPunctuation-2 in Domain phones: 33.33333333333333\n",
            "GPT3 Accuracy for Problem addTime-1 in Domain times: 0\n",
            "GPT3 Accuracy for Problem addTime-2 in Domain times: 33.33333333333333\n",
            "GPT3 Accuracy for Problem appendTime-1 in Domain times: 66.66666666666666\n",
            "GPT3 Accuracy for Problem appendTime-2 in Domain times: 100.0\n",
            "GPT3 Accuracy for Problem appendTime-3 in Domain times: 66.66666666666666\n",
            "GPT3 Accuracy for Problem appendTime-4 in Domain times: 100.0\n",
            "GPT3 Accuracy for Problem convert-1 in Domain times: 33.33333333333333\n",
            "GPT3 Accuracy for Problem convert-10 in Domain times: 0\n",
            "GPT3 Accuracy for Problem convert-2 in Domain times: 66.66666666666666\n",
            "GPT3 Accuracy for Problem convert-3 in Domain times: 33.33333333333333\n",
            "GPT3 Accuracy for Problem convert-4 in Domain times: 0\n",
            "GPT3 Accuracy for Problem convert-5 in Domain times: 33.33333333333333\n",
            "GPT3 Accuracy for Problem convert-6 in Domain times: 0\n",
            "GPT3 Accuracy for Problem convert-7 in Domain times: 33.33333333333333\n",
            "GPT3 Accuracy for Problem convert-8 in Domain times: 0\n",
            "GPT3 Accuracy for Problem convert-9 in Domain times: 33.33333333333333\n",
            "GPT3 Accuracy for Problem deleteTime-1 in Domain times: 33.33333333333333\n",
            "GPT3 Accuracy for Problem deleteTime-2 in Domain times: 0\n",
            "GPT3 Accuracy for Problem getHour-1 in Domain times: 0\n",
            "GPT3 Accuracy for Problem getHour-2 in Domain times: 100.0\n",
            "GPT3 Accuracy for Problem getMinutes-1 in Domain times: 66.66666666666666\n",
            "GPT3 Accuracy for Problem getMinutes-2 in Domain times: 0\n",
            "GPT3 Accuracy for Problem getTime-1 in Domain times: 100.0\n",
            "GPT3 Accuracy for Problem getTime-2 in Domain times: 100.0\n",
            "GPT3 Accuracy for Problem convert-1 in Domain units: 0\n",
            "GPT3 Accuracy for Problem convert-2 in Domain units: 0\n",
            "GPT3 Accuracy for Problem convert-3 in Domain units: 0\n",
            "GPT3 Accuracy for Problem convert-4 in Domain units: 0\n",
            "GPT3 Accuracy for Problem getSystem-1 in Domain units: 0\n",
            "GPT3 Accuracy for Problem getSystem-2 in Domain units: 0\n",
            "GPT3 Accuracy for Problem getUnits-1 in Domain units: 100.0\n",
            "GPT3 Accuracy for Problem getUnits-2 in Domain units: 100.0\n",
            "GPT3 Accuracy for Problem getValue-1 in Domain units: 66.66666666666666\n",
            "GPT3 Accuracy for Problem getValue-2 in Domain units: 100.0\n"
          ],
          "name": "stdout"
        }
      ]
    },
    {
      "cell_type": "code",
      "metadata": {
        "colab": {
          "base_uri": "https://localhost:8080/"
        },
        "id": "sM9tQFUA8te5",
        "outputId": "d6f67a6c-56a4-4096-81eb-14187ce14ba2"
      },
      "source": [
        "sumAccuracy"
      ],
      "execution_count": null,
      "outputs": [
        {
          "output_type": "execute_result",
          "data": {
            "text/plain": [
              "65.00000000000016"
            ]
          },
          "metadata": {
            "tags": []
          },
          "execution_count": 145
        }
      ]
    },
    {
      "cell_type": "code",
      "metadata": {
        "colab": {
          "base_uri": "https://localhost:8080/"
        },
        "id": "5JumCtjw8te5",
        "outputId": "6305889b-8116-41aa-c90f-dfcf214bd464"
      },
      "source": [
        "#Evaluation (T-0) by domain\n",
        " \n",
        "correctAnswers = test_targets3\n",
        "\n",
        "sum = 0\n",
        "sumAccuracy = 0\n",
        "#Calculate the accuracies\n",
        "for d in range(0, len(domains)):\n",
        "  for i in range(0, len(final_problems)):\n",
        "    if final_problems[i][1] == domains[d]:\n",
        "      sum = sum + 1\n",
        "      accuracy = 0\n",
        "      for j in range(0, len(test_targets3[i])):\n",
        "        if results[i][j] == correctAnswers[i][j]:\n",
        "            accuracy = accuracy + (1/len(test_targets3[i]))\n",
        "      sumAccuracy = sumAccuracy + accuracy\n",
        "  print(\"GPT3 Accuracy for Domain \" + domains[d] + \": \" + str((sumAccuracy/sum)*100))\n",
        "  sum = 0\n",
        "  sumAccuracy = 0"
      ],
      "execution_count": null,
      "outputs": [
        {
          "output_type": "stream",
          "text": [
            "GPT3 Accuracy for Domain dates: 42.857142857142854\n",
            "GPT3 Accuracy for Domain emails: 88.88888888888889\n",
            "GPT3 Accuracy for Domain freetext: 68.18181818181817\n",
            "GPT3 Accuracy for Domain names: 64.1025641025641\n",
            "GPT3 Accuracy for Domain phones: 61.111111111111114\n",
            "GPT3 Accuracy for Domain times: 41.66666666666667\n",
            "GPT3 Accuracy for Domain units: 36.666666666666664\n"
          ],
          "name": "stdout"
        }
      ]
    },
    {
      "cell_type": "markdown",
      "metadata": {
        "id": "FwjW6oyj8te5"
      },
      "source": [
        "### GPT-3 Babbage 4-shot with Temp = 0// Prompt WITHOUT the task description"
      ]
    },
    {
      "cell_type": "code",
      "metadata": {
        "colab": {
          "resources": {
            "http://localhost:8080/nbextensions/google.colab/files.js": {
              "data": "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",
              "ok": true,
              "headers": [
                [
                  "content-type",
                  "application/javascript"
                ]
              ],
              "status": 200,
              "status_text": ""
            }
          },
          "base_uri": "https://localhost:8080/",
          "height": 72
        },
        "id": "v2zZ3_e88te5",
        "outputId": "3f9be72d-1526-472a-ebd2-2b62112ba1df"
      },
      "source": [
        "from google.colab import files\n",
        "uploaded = files.upload()"
      ],
      "execution_count": null,
      "outputs": [
        {
          "output_type": "display_data",
          "data": {
            "text/html": [
              "\n",
              "     <input type=\"file\" id=\"files-aaa721e7-2039-47f0-98f6-8320273d78d1\" name=\"files[]\" multiple disabled\n",
              "        style=\"border:none\" />\n",
              "     <output id=\"result-aaa721e7-2039-47f0-98f6-8320273d78d1\">\n",
              "      Upload widget is only available when the cell has been executed in the\n",
              "      current browser session. Please rerun this cell to enable.\n",
              "      </output>\n",
              "      <script src=\"/nbextensions/google.colab/files.js\"></script> "
            ],
            "text/plain": [
              "<IPython.core.display.HTML object>"
            ]
          },
          "metadata": {
            "tags": []
          }
        },
        {
          "output_type": "stream",
          "text": [
            "Saving results_dw_t0_4s_b.txt to results_dw_t0_4s_b.txt\n"
          ],
          "name": "stdout"
        }
      ]
    },
    {
      "cell_type": "code",
      "metadata": {
        "id": "Pg0MNy928te5"
      },
      "source": [
        "resdata = uploaded[\"results_dw_t0_4s_b.txt\"].decode(\"utf-8\").split(\"\\n\")"
      ],
      "execution_count": null,
      "outputs": []
    },
    {
      "cell_type": "code",
      "metadata": {
        "id": "cHUk0zPv8te5"
      },
      "source": [
        "resdata = resdata[:-1]"
      ],
      "execution_count": null,
      "outputs": []
    },
    {
      "cell_type": "code",
      "metadata": {
        "id": "syh-B2Qk8te5"
      },
      "source": [
        "results = [[]]*len(final_problems)\n",
        "for i in range(0, len(final_problems)):\n",
        "  results[i] = ['']*len(test_targets4[i])\n",
        "  for j in range(0, len(test_targets4[i])):\n",
        "    results[i][j] = resdata[i*len(test_targets4[i]) + j]"
      ],
      "execution_count": null,
      "outputs": []
    },
    {
      "cell_type": "code",
      "metadata": {
        "colab": {
          "base_uri": "https://localhost:8080/"
        },
        "id": "DfDgzt3A8te5",
        "outputId": "d41e8d1e-01e7-4964-9fa1-97741eaf3917"
      },
      "source": [
        "#Evaluation (T-0)\n",
        " \n",
        "correctAnswers = test_targets4\n",
        "\n",
        "corr_num = 0\n",
        " \n",
        "#Calculate the accuracies\n",
        "for i in range(0, len(final_problems)):\n",
        "  for j in range(0, len(test_targets4[i])):\n",
        "    if results[i][j] == correctAnswers[i][j]:\n",
        "        corr_num = corr_num + 1\n",
        "\n",
        "print(corr_num / len(resdata))"
      ],
      "execution_count": null,
      "outputs": [
        {
          "output_type": "stream",
          "text": [
            "0.5512820512820513\n"
          ],
          "name": "stdout"
        }
      ]
    },
    {
      "cell_type": "code",
      "metadata": {
        "colab": {
          "base_uri": "https://localhost:8080/"
        },
        "id": "Y7h91-218te6",
        "outputId": "e50744c0-7216-42fc-dd3b-7f3fa421607f"
      },
      "source": [
        "corr_num"
      ],
      "execution_count": null,
      "outputs": [
        {
          "output_type": "execute_result",
          "data": {
            "text/plain": [
              "129"
            ]
          },
          "metadata": {
            "tags": []
          },
          "execution_count": 152
        }
      ]
    },
    {
      "cell_type": "code",
      "metadata": {
        "colab": {
          "base_uri": "https://localhost:8080/"
        },
        "id": "nD15TZK08te6",
        "outputId": "bf426e5a-019d-4023-88c5-fa3f86090c0b"
      },
      "source": [
        "len(resdata)"
      ],
      "execution_count": null,
      "outputs": [
        {
          "output_type": "execute_result",
          "data": {
            "text/plain": [
              "234"
            ]
          },
          "metadata": {
            "tags": []
          },
          "execution_count": 153
        }
      ]
    },
    {
      "cell_type": "code",
      "metadata": {
        "colab": {
          "base_uri": "https://localhost:8080/"
        },
        "id": "NiS4Us7e8te6",
        "outputId": "bec15b2f-c5c3-4296-897f-014b95748b33"
      },
      "source": [
        "#Evaluation (T-0)\n",
        " \n",
        "correctAnswers = test_targets4\n",
        "\n",
        "sumAccuracy = 0\n",
        "#Calculate the accuracies\n",
        "for i in range(0, len(final_problems)):\n",
        "  accuracy = 0\n",
        "  for j in range(0, len(test_targets4[i])):\n",
        "    if results[i][j] == correctAnswers[i][j]:\n",
        "        accuracy = accuracy + (1/len(test_targets4[i]))\n",
        "        sumAccuracy = sumAccuracy + (1/len(test_targets4[i]))\n",
        "  print(\"GPT3 Accuracy for Problem \" + final_problems[i][0] + \" in Domain \" + final_problems[i][1] + \": \" + str(accuracy*100))"
      ],
      "execution_count": null,
      "outputs": [
        {
          "output_type": "stream",
          "text": [
            "GPT3 Accuracy for Problem addPunctuation-1 in Domain dates: 100.0\n",
            "GPT3 Accuracy for Problem addPunctuation-2 in Domain dates: 50.0\n",
            "GPT3 Accuracy for Problem changeFormat-1 in Domain dates: 50.0\n",
            "GPT3 Accuracy for Problem changeFormat-2 in Domain dates: 0\n",
            "GPT3 Accuracy for Problem changeFormat-3 in Domain dates: 0\n",
            "GPT3 Accuracy for Problem changeFormat-4 in Domain dates: 50.0\n",
            "GPT3 Accuracy for Problem changePunctuation-1 in Domain dates: 100.0\n",
            "GPT3 Accuracy for Problem changePunctuation-2 in Domain dates: 100.0\n",
            "GPT3 Accuracy for Problem getDay-1 in Domain dates: 50.0\n",
            "GPT3 Accuracy for Problem getDay-2 in Domain dates: 100.0\n",
            "GPT3 Accuracy for Problem getDay-3 in Domain dates: 100.0\n",
            "GPT3 Accuracy for Problem getDayOrdinal-1 in Domain dates: 0\n",
            "GPT3 Accuracy for Problem getDayOrdinal-2 in Domain dates: 0\n",
            "GPT3 Accuracy for Problem getMonthName-1 in Domain dates: 50.0\n",
            "GPT3 Accuracy for Problem getMonthName-2 in Domain dates: 100.0\n",
            "GPT3 Accuracy for Problem getWeekDay-1 in Domain dates: 100.0\n",
            "GPT3 Accuracy for Problem getWeekDay-2 in Domain dates: 100.0\n",
            "GPT3 Accuracy for Problem reduceMonthName-1 in Domain dates: 50.0\n",
            "GPT3 Accuracy for Problem reduceMonthName-2 in Domain dates: 50.0\n",
            "GPT3 Accuracy for Problem setFormat-1 in Domain dates: 0\n",
            "GPT3 Accuracy for Problem setFormat-2 in Domain dates: 0\n",
            "GPT3 Accuracy for Problem generate-1 in Domain emails: 100.0\n",
            "GPT3 Accuracy for Problem generate-2 in Domain emails: 100.0\n",
            "GPT3 Accuracy for Problem generate-3 in Domain emails: 100.0\n",
            "GPT3 Accuracy for Problem getAfterAt-2 in Domain emails: 100.0\n",
            "GPT3 Accuracy for Problem getAfterAt-3 in Domain emails: 100.0\n",
            "GPT3 Accuracy for Problem getAfterAt-4 in Domain emails: 100.0\n",
            "GPT3 Accuracy for Problem getDomain-1 in Domain emails: 100.0\n",
            "GPT3 Accuracy for Problem getDomain-2 in Domain emails: 100.0\n",
            "GPT3 Accuracy for Problem someBeforeAt-NA in Domain emails: 0\n",
            "GPT3 Accuracy for Problem afterSymbol-1 in Domain freetext: 100.0\n",
            "GPT3 Accuracy for Problem afterSymbol-2 in Domain freetext: 100.0\n",
            "GPT3 Accuracy for Problem betweenSymbols-1 in Domain freetext: 100.0\n",
            "GPT3 Accuracy for Problem betweenSymbols-2 in Domain freetext: 100.0\n",
            "GPT3 Accuracy for Problem brackets-1 in Domain freetext: 100.0\n",
            "GPT3 Accuracy for Problem brackets-2 in Domain freetext: 100.0\n",
            "GPT3 Accuracy for Problem deletePunctuation-1 in Domain freetext: 0\n",
            "GPT3 Accuracy for Problem deletePunctuation-2 in Domain freetext: 0\n",
            "GPT3 Accuracy for Problem deletePunctuation-3 in Domain freetext: 50.0\n",
            "GPT3 Accuracy for Problem deletePunctuation-4 in Domain freetext: 0\n",
            "GPT3 Accuracy for Problem deleteSpaces-2 in Domain freetext: 0\n",
            "GPT3 Accuracy for Problem digitToEnd-1 in Domain freetext: 100.0\n",
            "GPT3 Accuracy for Problem firstCharacter-1 in Domain freetext: 0\n",
            "GPT3 Accuracy for Problem firstCharacter-2 in Domain freetext: 50.0\n",
            "GPT3 Accuracy for Problem getAfterComma-1 in Domain freetext: 100.0\n",
            "GPT3 Accuracy for Problem getAfterComma-2 in Domain freetext: 100.0\n",
            "GPT3 Accuracy for Problem getBetweenCommas-1 in Domain freetext: 100.0\n",
            "GPT3 Accuracy for Problem getCaps-1 in Domain freetext: 100.0\n",
            "GPT3 Accuracy for Problem getCaps-2 in Domain freetext: 50.0\n",
            "GPT3 Accuracy for Problem getCaps-3 in Domain freetext: 100.0\n",
            "GPT3 Accuracy for Problem toUpper-1 in Domain freetext: 0\n",
            "GPT3 Accuracy for Problem toUpper-2 in Domain freetext: 0\n",
            "GPT3 Accuracy for Problem addTitle-1 in Domain names: 100.0\n",
            "GPT3 Accuracy for Problem addTitle-2 in Domain names: 0\n",
            "GPT3 Accuracy for Problem getTitle-1 in Domain names: 50.0\n",
            "GPT3 Accuracy for Problem getTitle-2 in Domain names: 100.0\n",
            "GPT3 Accuracy for Problem login-1 in Domain names: 0\n",
            "GPT3 Accuracy for Problem login-2 in Domain names: 0\n",
            "GPT3 Accuracy for Problem reduceName-1 in Domain names: 100.0\n",
            "GPT3 Accuracy for Problem reduceName-2 in Domain names: 50.0\n",
            "GPT3 Accuracy for Problem reduceName-3 in Domain names: 100.0\n",
            "GPT3 Accuracy for Problem reduceName-5 in Domain names: 100.0\n",
            "GPT3 Accuracy for Problem reduceName-6 in Domain names: 50.0\n",
            "GPT3 Accuracy for Problem reduceName-8 in Domain names: 100.0\n",
            "GPT3 Accuracy for Problem reduceName-9 in Domain names: 100.0\n",
            "GPT3 Accuracy for Problem countryPrefix-1 in Domain phones: 100.0\n",
            "GPT3 Accuracy for Problem countryPrefix-2 in Domain phones: 0\n",
            "GPT3 Accuracy for Problem countryPrefix-3 in Domain phones: 0\n",
            "GPT3 Accuracy for Problem countryPrefix-7 in Domain phones: 0\n",
            "GPT3 Accuracy for Problem countryPrefix-8 in Domain phones: 100.0\n",
            "GPT3 Accuracy for Problem countryPrefix-9 in Domain phones: 100.0\n",
            "GPT3 Accuracy for Problem deleteParentheses-1 in Domain phones: 50.0\n",
            "GPT3 Accuracy for Problem deleteParentheses-2 in Domain phones: 100.0\n",
            "GPT3 Accuracy for Problem getNumber-1 in Domain phones: 100.0\n",
            "GPT3 Accuracy for Problem getNumber-2 in Domain phones: 50.0\n",
            "GPT3 Accuracy for Problem setPrefix-1 in Domain phones: 0\n",
            "GPT3 Accuracy for Problem setPrefix-2 in Domain phones: 100.0\n",
            "GPT3 Accuracy for Problem setPrefix-3 in Domain phones: 100.0\n",
            "GPT3 Accuracy for Problem setPrefix-4 in Domain phones: 100.0\n",
            "GPT3 Accuracy for Problem setPrefix-5 in Domain phones: 0\n",
            "GPT3 Accuracy for Problem setPrefix-6 in Domain phones: 100.0\n",
            "GPT3 Accuracy for Problem setPunctuation-1 in Domain phones: 0\n",
            "GPT3 Accuracy for Problem setPunctuation-2 in Domain phones: 50.0\n",
            "GPT3 Accuracy for Problem addTime-1 in Domain times: 0\n",
            "GPT3 Accuracy for Problem addTime-2 in Domain times: 0\n",
            "GPT3 Accuracy for Problem appendTime-1 in Domain times: 50.0\n",
            "GPT3 Accuracy for Problem appendTime-2 in Domain times: 100.0\n",
            "GPT3 Accuracy for Problem appendTime-3 in Domain times: 50.0\n",
            "GPT3 Accuracy for Problem appendTime-4 in Domain times: 100.0\n",
            "GPT3 Accuracy for Problem convert-1 in Domain times: 50.0\n",
            "GPT3 Accuracy for Problem convert-10 in Domain times: 0\n",
            "GPT3 Accuracy for Problem convert-2 in Domain times: 100.0\n",
            "GPT3 Accuracy for Problem convert-3 in Domain times: 0\n",
            "GPT3 Accuracy for Problem convert-4 in Domain times: 0\n",
            "GPT3 Accuracy for Problem convert-5 in Domain times: 0\n",
            "GPT3 Accuracy for Problem convert-6 in Domain times: 0\n",
            "GPT3 Accuracy for Problem convert-7 in Domain times: 0\n",
            "GPT3 Accuracy for Problem convert-8 in Domain times: 0\n",
            "GPT3 Accuracy for Problem convert-9 in Domain times: 0\n",
            "GPT3 Accuracy for Problem deleteTime-1 in Domain times: 50.0\n",
            "GPT3 Accuracy for Problem deleteTime-2 in Domain times: 0\n",
            "GPT3 Accuracy for Problem getHour-1 in Domain times: 0\n",
            "GPT3 Accuracy for Problem getHour-2 in Domain times: 100.0\n",
            "GPT3 Accuracy for Problem getMinutes-1 in Domain times: 100.0\n",
            "GPT3 Accuracy for Problem getMinutes-2 in Domain times: 0\n",
            "GPT3 Accuracy for Problem getTime-1 in Domain times: 100.0\n",
            "GPT3 Accuracy for Problem getTime-2 in Domain times: 100.0\n",
            "GPT3 Accuracy for Problem convert-1 in Domain units: 0\n",
            "GPT3 Accuracy for Problem convert-2 in Domain units: 0\n",
            "GPT3 Accuracy for Problem convert-3 in Domain units: 0\n",
            "GPT3 Accuracy for Problem convert-4 in Domain units: 0\n",
            "GPT3 Accuracy for Problem getSystem-1 in Domain units: 0\n",
            "GPT3 Accuracy for Problem getSystem-2 in Domain units: 0\n",
            "GPT3 Accuracy for Problem getUnits-1 in Domain units: 100.0\n",
            "GPT3 Accuracy for Problem getUnits-2 in Domain units: 100.0\n",
            "GPT3 Accuracy for Problem getValue-1 in Domain units: 50.0\n",
            "GPT3 Accuracy for Problem getValue-2 in Domain units: 100.0\n"
          ],
          "name": "stdout"
        }
      ]
    },
    {
      "cell_type": "code",
      "metadata": {
        "colab": {
          "base_uri": "https://localhost:8080/"
        },
        "id": "yQ-OmwVa8te6",
        "outputId": "9eb378ca-50e2-41b6-f0f2-44df143ffa7e"
      },
      "source": [
        "sumAccuracy"
      ],
      "execution_count": null,
      "outputs": [
        {
          "output_type": "execute_result",
          "data": {
            "text/plain": [
              "64.5"
            ]
          },
          "metadata": {
            "tags": []
          },
          "execution_count": 155
        }
      ]
    },
    {
      "cell_type": "code",
      "metadata": {
        "colab": {
          "base_uri": "https://localhost:8080/"
        },
        "id": "3y4ef3sT8te6",
        "outputId": "596c2f9b-cdcd-406b-845e-b487fade8caa"
      },
      "source": [
        "#Evaluation (T-0) by domain\n",
        " \n",
        "correctAnswers = test_targets4\n",
        "\n",
        "sum = 0\n",
        "sumAccuracy = 0\n",
        "#Calculate the accuracies\n",
        "for d in range(0, len(domains)):\n",
        "  for i in range(0, len(final_problems)):\n",
        "    if final_problems[i][1] == domains[d]:\n",
        "      sum = sum + 1\n",
        "      accuracy = 0\n",
        "      for j in range(0, len(test_targets4[i])):\n",
        "        if results[i][j] == correctAnswers[i][j]:\n",
        "            accuracy = accuracy + (1/len(test_targets4[i]))\n",
        "      sumAccuracy = sumAccuracy + accuracy\n",
        "  print(\"GPT3 Accuracy for Domain \" + domains[d] + \": \" + str((sumAccuracy/sum)*100))\n",
        "  sum = 0\n",
        "  sumAccuracy = 0"
      ],
      "execution_count": null,
      "outputs": [
        {
          "output_type": "stream",
          "text": [
            "GPT3 Accuracy for Domain dates: 54.761904761904766\n",
            "GPT3 Accuracy for Domain emails: 88.88888888888889\n",
            "GPT3 Accuracy for Domain freetext: 61.36363636363637\n",
            "GPT3 Accuracy for Domain names: 65.38461538461539\n",
            "GPT3 Accuracy for Domain phones: 58.333333333333336\n",
            "GPT3 Accuracy for Domain times: 37.5\n",
            "GPT3 Accuracy for Domain units: 35.0\n"
          ],
          "name": "stdout"
        }
      ]
    },
    {
      "cell_type": "markdown",
      "metadata": {
        "id": "KLmSq1W09iUS"
      },
      "source": [
        "### GPT-3 Ada 1-shot with Temp = 0// Prompt WITHOUT the task description"
      ]
    },
    {
      "cell_type": "code",
      "metadata": {
        "colab": {
          "resources": {
            "http://localhost:8080/nbextensions/google.colab/files.js": {
              "data": "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",
              "ok": true,
              "headers": [
                [
                  "content-type",
                  "application/javascript"
                ]
              ],
              "status": 200,
              "status_text": ""
            }
          },
          "base_uri": "https://localhost:8080/",
          "height": 72
        },
        "id": "BA__P8N09iUc",
        "outputId": "0893d217-3b2e-4ed0-a4bb-eb91a3386450"
      },
      "source": [
        "from google.colab import files\n",
        "uploaded = files.upload()"
      ],
      "execution_count": null,
      "outputs": [
        {
          "output_type": "display_data",
          "data": {
            "text/html": [
              "\n",
              "     <input type=\"file\" id=\"files-887a83b0-54e9-4918-a115-38abf57c40f5\" name=\"files[]\" multiple disabled\n",
              "        style=\"border:none\" />\n",
              "     <output id=\"result-887a83b0-54e9-4918-a115-38abf57c40f5\">\n",
              "      Upload widget is only available when the cell has been executed in the\n",
              "      current browser session. Please rerun this cell to enable.\n",
              "      </output>\n",
              "      <script src=\"/nbextensions/google.colab/files.js\"></script> "
            ],
            "text/plain": [
              "<IPython.core.display.HTML object>"
            ]
          },
          "metadata": {
            "tags": []
          }
        },
        {
          "output_type": "stream",
          "text": [
            "Saving results_dw_t0_1s_a.txt to results_dw_t0_1s_a.txt\n"
          ],
          "name": "stdout"
        }
      ]
    },
    {
      "cell_type": "code",
      "metadata": {
        "id": "bdg4DrEC9iUd"
      },
      "source": [
        "resdata = uploaded[\"results_dw_t0_1s_a.txt\"].decode(\"utf-8\").split(\"\\n\")"
      ],
      "execution_count": null,
      "outputs": []
    },
    {
      "cell_type": "code",
      "metadata": {
        "id": "W_H0LGdg9iUd"
      },
      "source": [
        "resdata = resdata[:-1]"
      ],
      "execution_count": null,
      "outputs": []
    },
    {
      "cell_type": "code",
      "metadata": {
        "id": "RqTGJsan9iUe"
      },
      "source": [
        "results = [[]]*len(final_problems)\n",
        "for i in range(0, len(final_problems)):\n",
        "  results[i] = ['']*len(test_targets[i])\n",
        "  for j in range(0, len(test_targets[i])):\n",
        "    results[i][j] = resdata[i*len(test_targets[i]) + j]"
      ],
      "execution_count": null,
      "outputs": []
    },
    {
      "cell_type": "code",
      "metadata": {
        "colab": {
          "base_uri": "https://localhost:8080/"
        },
        "id": "1rcziy7O9iUe",
        "outputId": "bf009f30-9d21-436a-a947-4d10b8b6290d"
      },
      "source": [
        "#Evaluation (T-0)\n",
        " \n",
        "correctAnswers = test_targets\n",
        "\n",
        "corr_num = 0\n",
        " \n",
        "#Calculate the accuracies\n",
        "for i in range(0, len(final_problems)):\n",
        "  for j in range(0, len(test_targets[i])):\n",
        "    if results[i][j] == correctAnswers[i][j]:\n",
        "        corr_num = corr_num + 1\n",
        "\n",
        "print(corr_num / len(resdata))"
      ],
      "execution_count": null,
      "outputs": [
        {
          "output_type": "stream",
          "text": [
            "0.2358974358974359\n"
          ],
          "name": "stdout"
        }
      ]
    },
    {
      "cell_type": "code",
      "metadata": {
        "colab": {
          "base_uri": "https://localhost:8080/"
        },
        "id": "zl1Hc1Lc9iUe",
        "outputId": "2594d7e8-9dc0-465a-8324-9356d07172c9"
      },
      "source": [
        "corr_num"
      ],
      "execution_count": null,
      "outputs": [
        {
          "output_type": "execute_result",
          "data": {
            "text/plain": [
              "138"
            ]
          },
          "metadata": {
            "tags": []
          },
          "execution_count": 162
        }
      ]
    },
    {
      "cell_type": "code",
      "metadata": {
        "colab": {
          "base_uri": "https://localhost:8080/"
        },
        "id": "wbk7F7z89iUe",
        "outputId": "74356025-d719-467b-cf7c-2207932d1374"
      },
      "source": [
        "len(resdata)"
      ],
      "execution_count": null,
      "outputs": [
        {
          "output_type": "execute_result",
          "data": {
            "text/plain": [
              "585"
            ]
          },
          "metadata": {
            "tags": []
          },
          "execution_count": 163
        }
      ]
    },
    {
      "cell_type": "code",
      "metadata": {
        "colab": {
          "base_uri": "https://localhost:8080/"
        },
        "id": "jc-MK5s89iUe",
        "outputId": "ce95c16b-dedb-4abf-acf2-a1130858d1cb"
      },
      "source": [
        "#Evaluation (T-0)\n",
        " \n",
        "correctAnswers = test_targets\n",
        "\n",
        "sumAccuracy = 0\n",
        "#Calculate the accuracies\n",
        "for i in range(0, len(final_problems)):\n",
        "  accuracy = 0\n",
        "  for j in range(0, len(test_targets[i])):\n",
        "    if results[i][j] == correctAnswers[i][j]:\n",
        "        accuracy = accuracy + (1/len(test_targets[i]))\n",
        "        sumAccuracy = sumAccuracy + (1/len(test_targets[i]))\n",
        "  print(\"GPT3 Accuracy for Problem \" + final_problems[i][0] + \" in Domain \" + final_problems[i][1] + \": \" + str(accuracy*100))"
      ],
      "execution_count": null,
      "outputs": [
        {
          "output_type": "stream",
          "text": [
            "GPT3 Accuracy for Problem addPunctuation-1 in Domain dates: 0\n",
            "GPT3 Accuracy for Problem addPunctuation-2 in Domain dates: 0\n",
            "GPT3 Accuracy for Problem changeFormat-1 in Domain dates: 0\n",
            "GPT3 Accuracy for Problem changeFormat-2 in Domain dates: 0\n",
            "GPT3 Accuracy for Problem changeFormat-3 in Domain dates: 0\n",
            "GPT3 Accuracy for Problem changeFormat-4 in Domain dates: 0\n",
            "GPT3 Accuracy for Problem changePunctuation-1 in Domain dates: 60.00000000000001\n",
            "GPT3 Accuracy for Problem changePunctuation-2 in Domain dates: 80.0\n",
            "GPT3 Accuracy for Problem getDay-1 in Domain dates: 20.0\n",
            "GPT3 Accuracy for Problem getDay-2 in Domain dates: 0\n",
            "GPT3 Accuracy for Problem getDay-3 in Domain dates: 20.0\n",
            "GPT3 Accuracy for Problem getDayOrdinal-1 in Domain dates: 20.0\n",
            "GPT3 Accuracy for Problem getDayOrdinal-2 in Domain dates: 0\n",
            "GPT3 Accuracy for Problem getMonthName-1 in Domain dates: 0\n",
            "GPT3 Accuracy for Problem getMonthName-2 in Domain dates: 80.0\n",
            "GPT3 Accuracy for Problem getWeekDay-1 in Domain dates: 0\n",
            "GPT3 Accuracy for Problem getWeekDay-2 in Domain dates: 20.0\n",
            "GPT3 Accuracy for Problem reduceMonthName-1 in Domain dates: 20.0\n",
            "GPT3 Accuracy for Problem reduceMonthName-2 in Domain dates: 0\n",
            "GPT3 Accuracy for Problem setFormat-1 in Domain dates: 0\n",
            "GPT3 Accuracy for Problem setFormat-2 in Domain dates: 0\n",
            "GPT3 Accuracy for Problem generate-1 in Domain emails: 100.0\n",
            "GPT3 Accuracy for Problem generate-2 in Domain emails: 0\n",
            "GPT3 Accuracy for Problem generate-3 in Domain emails: 80.0\n",
            "GPT3 Accuracy for Problem getAfterAt-2 in Domain emails: 20.0\n",
            "GPT3 Accuracy for Problem getAfterAt-3 in Domain emails: 0\n",
            "GPT3 Accuracy for Problem getAfterAt-4 in Domain emails: 80.0\n",
            "GPT3 Accuracy for Problem getDomain-1 in Domain emails: 0\n",
            "GPT3 Accuracy for Problem getDomain-2 in Domain emails: 20.0\n",
            "GPT3 Accuracy for Problem someBeforeAt-NA in Domain emails: 40.0\n",
            "GPT3 Accuracy for Problem afterSymbol-1 in Domain freetext: 100.0\n",
            "GPT3 Accuracy for Problem afterSymbol-2 in Domain freetext: 60.00000000000001\n",
            "GPT3 Accuracy for Problem betweenSymbols-1 in Domain freetext: 100.0\n",
            "GPT3 Accuracy for Problem betweenSymbols-2 in Domain freetext: 0\n",
            "GPT3 Accuracy for Problem brackets-1 in Domain freetext: 100.0\n",
            "GPT3 Accuracy for Problem brackets-2 in Domain freetext: 60.00000000000001\n",
            "GPT3 Accuracy for Problem deletePunctuation-1 in Domain freetext: 0\n",
            "GPT3 Accuracy for Problem deletePunctuation-2 in Domain freetext: 40.0\n",
            "GPT3 Accuracy for Problem deletePunctuation-3 in Domain freetext: 20.0\n",
            "GPT3 Accuracy for Problem deletePunctuation-4 in Domain freetext: 0\n",
            "GPT3 Accuracy for Problem deleteSpaces-2 in Domain freetext: 0\n",
            "GPT3 Accuracy for Problem digitToEnd-1 in Domain freetext: 80.0\n",
            "GPT3 Accuracy for Problem firstCharacter-1 in Domain freetext: 0\n",
            "GPT3 Accuracy for Problem firstCharacter-2 in Domain freetext: 0\n",
            "GPT3 Accuracy for Problem getAfterComma-1 in Domain freetext: 100.0\n",
            "GPT3 Accuracy for Problem getAfterComma-2 in Domain freetext: 100.0\n",
            "GPT3 Accuracy for Problem getBetweenCommas-1 in Domain freetext: 100.0\n",
            "GPT3 Accuracy for Problem getCaps-1 in Domain freetext: 0\n",
            "GPT3 Accuracy for Problem getCaps-2 in Domain freetext: 0\n",
            "GPT3 Accuracy for Problem getCaps-3 in Domain freetext: 0\n",
            "GPT3 Accuracy for Problem toUpper-1 in Domain freetext: 0\n",
            "GPT3 Accuracy for Problem toUpper-2 in Domain freetext: 0\n",
            "GPT3 Accuracy for Problem addTitle-1 in Domain names: 60.00000000000001\n",
            "GPT3 Accuracy for Problem addTitle-2 in Domain names: 40.0\n",
            "GPT3 Accuracy for Problem getTitle-1 in Domain names: 0\n",
            "GPT3 Accuracy for Problem getTitle-2 in Domain names: 20.0\n",
            "GPT3 Accuracy for Problem login-1 in Domain names: 0\n",
            "GPT3 Accuracy for Problem login-2 in Domain names: 0\n",
            "GPT3 Accuracy for Problem reduceName-1 in Domain names: 40.0\n",
            "GPT3 Accuracy for Problem reduceName-2 in Domain names: 60.00000000000001\n",
            "GPT3 Accuracy for Problem reduceName-3 in Domain names: 20.0\n",
            "GPT3 Accuracy for Problem reduceName-5 in Domain names: 0\n",
            "GPT3 Accuracy for Problem reduceName-6 in Domain names: 0\n",
            "GPT3 Accuracy for Problem reduceName-8 in Domain names: 0\n",
            "GPT3 Accuracy for Problem reduceName-9 in Domain names: 20.0\n",
            "GPT3 Accuracy for Problem countryPrefix-1 in Domain phones: 0\n",
            "GPT3 Accuracy for Problem countryPrefix-2 in Domain phones: 0\n",
            "GPT3 Accuracy for Problem countryPrefix-3 in Domain phones: 0\n",
            "GPT3 Accuracy for Problem countryPrefix-7 in Domain phones: 0\n",
            "GPT3 Accuracy for Problem countryPrefix-8 in Domain phones: 40.0\n",
            "GPT3 Accuracy for Problem countryPrefix-9 in Domain phones: 0\n",
            "GPT3 Accuracy for Problem deleteParentheses-1 in Domain phones: 0\n",
            "GPT3 Accuracy for Problem deleteParentheses-2 in Domain phones: 20.0\n",
            "GPT3 Accuracy for Problem getNumber-1 in Domain phones: 40.0\n",
            "GPT3 Accuracy for Problem getNumber-2 in Domain phones: 40.0\n",
            "GPT3 Accuracy for Problem setPrefix-1 in Domain phones: 0\n",
            "GPT3 Accuracy for Problem setPrefix-2 in Domain phones: 0\n",
            "GPT3 Accuracy for Problem setPrefix-3 in Domain phones: 100.0\n",
            "GPT3 Accuracy for Problem setPrefix-4 in Domain phones: 40.0\n",
            "GPT3 Accuracy for Problem setPrefix-5 in Domain phones: 20.0\n",
            "GPT3 Accuracy for Problem setPrefix-6 in Domain phones: 0\n",
            "GPT3 Accuracy for Problem setPunctuation-1 in Domain phones: 0\n",
            "GPT3 Accuracy for Problem setPunctuation-2 in Domain phones: 0\n",
            "GPT3 Accuracy for Problem addTime-1 in Domain times: 20.0\n",
            "GPT3 Accuracy for Problem addTime-2 in Domain times: 0\n",
            "GPT3 Accuracy for Problem appendTime-1 in Domain times: 40.0\n",
            "GPT3 Accuracy for Problem appendTime-2 in Domain times: 80.0\n",
            "GPT3 Accuracy for Problem appendTime-3 in Domain times: 80.0\n",
            "GPT3 Accuracy for Problem appendTime-4 in Domain times: 80.0\n",
            "GPT3 Accuracy for Problem convert-1 in Domain times: 40.0\n",
            "GPT3 Accuracy for Problem convert-10 in Domain times: 0\n",
            "GPT3 Accuracy for Problem convert-2 in Domain times: 20.0\n",
            "GPT3 Accuracy for Problem convert-3 in Domain times: 20.0\n",
            "GPT3 Accuracy for Problem convert-4 in Domain times: 20.0\n",
            "GPT3 Accuracy for Problem convert-5 in Domain times: 20.0\n",
            "GPT3 Accuracy for Problem convert-6 in Domain times: 0\n",
            "GPT3 Accuracy for Problem convert-7 in Domain times: 20.0\n",
            "GPT3 Accuracy for Problem convert-8 in Domain times: 0\n",
            "GPT3 Accuracy for Problem convert-9 in Domain times: 20.0\n",
            "GPT3 Accuracy for Problem deleteTime-1 in Domain times: 0\n",
            "GPT3 Accuracy for Problem deleteTime-2 in Domain times: 20.0\n",
            "GPT3 Accuracy for Problem getHour-1 in Domain times: 20.0\n",
            "GPT3 Accuracy for Problem getHour-2 in Domain times: 0\n",
            "GPT3 Accuracy for Problem getMinutes-1 in Domain times: 20.0\n",
            "GPT3 Accuracy for Problem getMinutes-2 in Domain times: 20.0\n",
            "GPT3 Accuracy for Problem getTime-1 in Domain times: 20.0\n",
            "GPT3 Accuracy for Problem getTime-2 in Domain times: 100.0\n",
            "GPT3 Accuracy for Problem convert-1 in Domain units: 0\n",
            "GPT3 Accuracy for Problem convert-2 in Domain units: 0\n",
            "GPT3 Accuracy for Problem convert-3 in Domain units: 0\n",
            "GPT3 Accuracy for Problem convert-4 in Domain units: 0\n",
            "GPT3 Accuracy for Problem getSystem-1 in Domain units: 0\n",
            "GPT3 Accuracy for Problem getSystem-2 in Domain units: 0\n",
            "GPT3 Accuracy for Problem getUnits-1 in Domain units: 0\n",
            "GPT3 Accuracy for Problem getUnits-2 in Domain units: 0\n",
            "GPT3 Accuracy for Problem getValue-1 in Domain units: 20.0\n",
            "GPT3 Accuracy for Problem getValue-2 in Domain units: 0\n"
          ],
          "name": "stdout"
        }
      ]
    },
    {
      "cell_type": "code",
      "metadata": {
        "colab": {
          "base_uri": "https://localhost:8080/"
        },
        "id": "yGLnScaG9iUf",
        "outputId": "21de339f-5f33-4909-969d-6d0f55621936"
      },
      "source": [
        "sumAccuracy"
      ],
      "execution_count": null,
      "outputs": [
        {
          "output_type": "execute_result",
          "data": {
            "text/plain": [
              "27.599999999999934"
            ]
          },
          "metadata": {
            "tags": []
          },
          "execution_count": 165
        }
      ]
    },
    {
      "cell_type": "code",
      "metadata": {
        "colab": {
          "base_uri": "https://localhost:8080/"
        },
        "id": "S0_aFmmb9iUf",
        "outputId": "83e0801c-051c-4e8c-ec45-80533d8bb699"
      },
      "source": [
        "#Evaluation (T-0) by domain\n",
        " \n",
        "correctAnswers = test_targets\n",
        "\n",
        "sum = 0\n",
        "sumAccuracy = 0\n",
        "#Calculate the accuracies\n",
        "for d in range(0, len(domains)):\n",
        "  for i in range(0, len(final_problems)):\n",
        "    if final_problems[i][1] == domains[d]:\n",
        "      sum = sum + 1\n",
        "      accuracy = 0\n",
        "      for j in range(0, len(test_targets[i])):\n",
        "        if results[i][j] == correctAnswers[i][j]:\n",
        "            accuracy = accuracy + (1/len(test_targets[i]))\n",
        "      sumAccuracy = sumAccuracy + accuracy\n",
        "  print(\"GPT3 Accuracy for Domain \" + domains[d] + \": \" + str((sumAccuracy/sum)*100))\n",
        "  sum = 0\n",
        "  sumAccuracy = 0"
      ],
      "execution_count": null,
      "outputs": [
        {
          "output_type": "stream",
          "text": [
            "GPT3 Accuracy for Domain dates: 15.238095238095239\n",
            "GPT3 Accuracy for Domain emails: 37.77777777777778\n",
            "GPT3 Accuracy for Domain freetext: 39.0909090909091\n",
            "GPT3 Accuracy for Domain names: 20.000000000000004\n",
            "GPT3 Accuracy for Domain phones: 16.666666666666664\n",
            "GPT3 Accuracy for Domain times: 27.500000000000007\n",
            "GPT3 Accuracy for Domain units: 2.0\n"
          ],
          "name": "stdout"
        }
      ]
    },
    {
      "cell_type": "markdown",
      "metadata": {
        "id": "IrtjBZWi9iUf"
      },
      "source": [
        "### GPT-3 Ada 2-shot with Temp = 0// Prompt WITHOUT the task description"
      ]
    },
    {
      "cell_type": "code",
      "metadata": {
        "colab": {
          "resources": {
            "http://localhost:8080/nbextensions/google.colab/files.js": {
              "data": "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",
              "ok": true,
              "headers": [
                [
                  "content-type",
                  "application/javascript"
                ]
              ],
              "status": 200,
              "status_text": ""
            }
          },
          "base_uri": "https://localhost:8080/",
          "height": 72
        },
        "id": "T7sjjnpf9iUg",
        "outputId": "3be435d6-6597-4540-c6d7-d1935aebde30"
      },
      "source": [
        "from google.colab import files\n",
        "uploaded = files.upload()"
      ],
      "execution_count": null,
      "outputs": [
        {
          "output_type": "display_data",
          "data": {
            "text/html": [
              "\n",
              "     <input type=\"file\" id=\"files-784183d1-b008-4a77-aa6d-3752d74095ff\" name=\"files[]\" multiple disabled\n",
              "        style=\"border:none\" />\n",
              "     <output id=\"result-784183d1-b008-4a77-aa6d-3752d74095ff\">\n",
              "      Upload widget is only available when the cell has been executed in the\n",
              "      current browser session. Please rerun this cell to enable.\n",
              "      </output>\n",
              "      <script src=\"/nbextensions/google.colab/files.js\"></script> "
            ],
            "text/plain": [
              "<IPython.core.display.HTML object>"
            ]
          },
          "metadata": {
            "tags": []
          }
        },
        {
          "output_type": "stream",
          "text": [
            "Saving results_dw_t0_2s_a.txt to results_dw_t0_2s_a.txt\n"
          ],
          "name": "stdout"
        }
      ]
    },
    {
      "cell_type": "code",
      "metadata": {
        "id": "zjKkvva89iUg"
      },
      "source": [
        "resdata = uploaded[\"results_dw_t0_2s_a.txt\"].decode(\"utf-8\").split(\"\\n\")"
      ],
      "execution_count": null,
      "outputs": []
    },
    {
      "cell_type": "code",
      "metadata": {
        "id": "ldfUDTIG9iUg"
      },
      "source": [
        "resdata = resdata[:-1]"
      ],
      "execution_count": null,
      "outputs": []
    },
    {
      "cell_type": "code",
      "metadata": {
        "id": "lKuYB7DJ9iUg"
      },
      "source": [
        "results = [[]]*len(final_problems)\n",
        "for i in range(0, len(final_problems)):\n",
        "  results[i] = ['']*len(test_targets2[i])\n",
        "  for j in range(0, len(test_targets2[i])):\n",
        "    results[i][j] = resdata[i*len(test_targets2[i]) + j]"
      ],
      "execution_count": null,
      "outputs": []
    },
    {
      "cell_type": "code",
      "metadata": {
        "colab": {
          "base_uri": "https://localhost:8080/"
        },
        "id": "2zgEs28m9iUg",
        "outputId": "07df9c8a-f361-4900-962a-e144f6a6bee1"
      },
      "source": [
        "#Evaluation (T-0)\n",
        " \n",
        "correctAnswers = test_targets2\n",
        "\n",
        "corr_num = 0\n",
        " \n",
        "#Calculate the accuracies\n",
        "for i in range(0, len(final_problems)):\n",
        "  for j in range(0, len(test_targets2[i])):\n",
        "    if results[i][j] == correctAnswers[i][j]:\n",
        "        corr_num = corr_num + 1\n",
        "\n",
        "print(corr_num / len(resdata))"
      ],
      "execution_count": null,
      "outputs": [
        {
          "output_type": "stream",
          "text": [
            "0.43162393162393164\n"
          ],
          "name": "stdout"
        }
      ]
    },
    {
      "cell_type": "code",
      "metadata": {
        "colab": {
          "base_uri": "https://localhost:8080/"
        },
        "id": "VS0c7aX09iUh",
        "outputId": "6b73c741-4113-429f-aef3-4981187a21a3"
      },
      "source": [
        "corr_num"
      ],
      "execution_count": null,
      "outputs": [
        {
          "output_type": "execute_result",
          "data": {
            "text/plain": [
              "202"
            ]
          },
          "metadata": {
            "tags": []
          },
          "execution_count": 172
        }
      ]
    },
    {
      "cell_type": "code",
      "metadata": {
        "colab": {
          "base_uri": "https://localhost:8080/"
        },
        "id": "MOTxne7r9iUh",
        "outputId": "d987e32c-aaef-4397-d786-f69feef6593c"
      },
      "source": [
        "len(resdata)"
      ],
      "execution_count": null,
      "outputs": [
        {
          "output_type": "execute_result",
          "data": {
            "text/plain": [
              "468"
            ]
          },
          "metadata": {
            "tags": []
          },
          "execution_count": 173
        }
      ]
    },
    {
      "cell_type": "code",
      "metadata": {
        "colab": {
          "base_uri": "https://localhost:8080/"
        },
        "id": "uaKl2YQV9iUi",
        "outputId": "340c6b18-b4f9-4d08-e908-9d0331e9ea3a"
      },
      "source": [
        "#Evaluation (T-0)\n",
        " \n",
        "correctAnswers = test_targets2\n",
        "\n",
        "sumAccuracy = 0\n",
        "#Calculate the accuracies\n",
        "for i in range(0, len(final_problems)):\n",
        "  accuracy = 0\n",
        "  for j in range(0, len(test_targets2[i])):\n",
        "    if results[i][j] == correctAnswers[i][j]:\n",
        "        accuracy = accuracy + (1/len(test_targets2[i]))\n",
        "        sumAccuracy = sumAccuracy + (1/len(test_targets2[i]))\n",
        "  print(\"GPT3 Accuracy for Problem \" + final_problems[i][0] + \" in Domain \" + final_problems[i][1] + \": \" + str(accuracy*100))"
      ],
      "execution_count": null,
      "outputs": [
        {
          "output_type": "stream",
          "text": [
            "GPT3 Accuracy for Problem addPunctuation-1 in Domain dates: 0\n",
            "GPT3 Accuracy for Problem addPunctuation-2 in Domain dates: 50.0\n",
            "GPT3 Accuracy for Problem changeFormat-1 in Domain dates: 0\n",
            "GPT3 Accuracy for Problem changeFormat-2 in Domain dates: 0\n",
            "GPT3 Accuracy for Problem changeFormat-3 in Domain dates: 0\n",
            "GPT3 Accuracy for Problem changeFormat-4 in Domain dates: 25.0\n",
            "GPT3 Accuracy for Problem changePunctuation-1 in Domain dates: 100.0\n",
            "GPT3 Accuracy for Problem changePunctuation-2 in Domain dates: 100.0\n",
            "GPT3 Accuracy for Problem getDay-1 in Domain dates: 50.0\n",
            "GPT3 Accuracy for Problem getDay-2 in Domain dates: 75.0\n",
            "GPT3 Accuracy for Problem getDay-3 in Domain dates: 75.0\n",
            "GPT3 Accuracy for Problem getDayOrdinal-1 in Domain dates: 25.0\n",
            "GPT3 Accuracy for Problem getDayOrdinal-2 in Domain dates: 0\n",
            "GPT3 Accuracy for Problem getMonthName-1 in Domain dates: 25.0\n",
            "GPT3 Accuracy for Problem getMonthName-2 in Domain dates: 100.0\n",
            "GPT3 Accuracy for Problem getWeekDay-1 in Domain dates: 100.0\n",
            "GPT3 Accuracy for Problem getWeekDay-2 in Domain dates: 25.0\n",
            "GPT3 Accuracy for Problem reduceMonthName-1 in Domain dates: 25.0\n",
            "GPT3 Accuracy for Problem reduceMonthName-2 in Domain dates: 0\n",
            "GPT3 Accuracy for Problem setFormat-1 in Domain dates: 0\n",
            "GPT3 Accuracy for Problem setFormat-2 in Domain dates: 0\n",
            "GPT3 Accuracy for Problem generate-1 in Domain emails: 100.0\n",
            "GPT3 Accuracy for Problem generate-2 in Domain emails: 100.0\n",
            "GPT3 Accuracy for Problem generate-3 in Domain emails: 75.0\n",
            "GPT3 Accuracy for Problem getAfterAt-2 in Domain emails: 25.0\n",
            "GPT3 Accuracy for Problem getAfterAt-3 in Domain emails: 100.0\n",
            "GPT3 Accuracy for Problem getAfterAt-4 in Domain emails: 100.0\n",
            "GPT3 Accuracy for Problem getDomain-1 in Domain emails: 100.0\n",
            "GPT3 Accuracy for Problem getDomain-2 in Domain emails: 100.0\n",
            "GPT3 Accuracy for Problem someBeforeAt-NA in Domain emails: 50.0\n",
            "GPT3 Accuracy for Problem afterSymbol-1 in Domain freetext: 50.0\n",
            "GPT3 Accuracy for Problem afterSymbol-2 in Domain freetext: 100.0\n",
            "GPT3 Accuracy for Problem betweenSymbols-1 in Domain freetext: 100.0\n",
            "GPT3 Accuracy for Problem betweenSymbols-2 in Domain freetext: 100.0\n",
            "GPT3 Accuracy for Problem brackets-1 in Domain freetext: 100.0\n",
            "GPT3 Accuracy for Problem brackets-2 in Domain freetext: 100.0\n",
            "GPT3 Accuracy for Problem deletePunctuation-1 in Domain freetext: 0\n",
            "GPT3 Accuracy for Problem deletePunctuation-2 in Domain freetext: 25.0\n",
            "GPT3 Accuracy for Problem deletePunctuation-3 in Domain freetext: 0\n",
            "GPT3 Accuracy for Problem deletePunctuation-4 in Domain freetext: 0\n",
            "GPT3 Accuracy for Problem deleteSpaces-2 in Domain freetext: 0\n",
            "GPT3 Accuracy for Problem digitToEnd-1 in Domain freetext: 75.0\n",
            "GPT3 Accuracy for Problem firstCharacter-1 in Domain freetext: 25.0\n",
            "GPT3 Accuracy for Problem firstCharacter-2 in Domain freetext: 0\n",
            "GPT3 Accuracy for Problem getAfterComma-1 in Domain freetext: 75.0\n",
            "GPT3 Accuracy for Problem getAfterComma-2 in Domain freetext: 100.0\n",
            "GPT3 Accuracy for Problem getBetweenCommas-1 in Domain freetext: 100.0\n",
            "GPT3 Accuracy for Problem getCaps-1 in Domain freetext: 0\n",
            "GPT3 Accuracy for Problem getCaps-2 in Domain freetext: 0\n",
            "GPT3 Accuracy for Problem getCaps-3 in Domain freetext: 0\n",
            "GPT3 Accuracy for Problem toUpper-1 in Domain freetext: 0\n",
            "GPT3 Accuracy for Problem toUpper-2 in Domain freetext: 0\n",
            "GPT3 Accuracy for Problem addTitle-1 in Domain names: 75.0\n",
            "GPT3 Accuracy for Problem addTitle-2 in Domain names: 50.0\n",
            "GPT3 Accuracy for Problem getTitle-1 in Domain names: 0\n",
            "GPT3 Accuracy for Problem getTitle-2 in Domain names: 75.0\n",
            "GPT3 Accuracy for Problem login-1 in Domain names: 0\n",
            "GPT3 Accuracy for Problem login-2 in Domain names: 0\n",
            "GPT3 Accuracy for Problem reduceName-1 in Domain names: 100.0\n",
            "GPT3 Accuracy for Problem reduceName-2 in Domain names: 100.0\n",
            "GPT3 Accuracy for Problem reduceName-3 in Domain names: 100.0\n",
            "GPT3 Accuracy for Problem reduceName-5 in Domain names: 75.0\n",
            "GPT3 Accuracy for Problem reduceName-6 in Domain names: 75.0\n",
            "GPT3 Accuracy for Problem reduceName-8 in Domain names: 0\n",
            "GPT3 Accuracy for Problem reduceName-9 in Domain names: 50.0\n",
            "GPT3 Accuracy for Problem countryPrefix-1 in Domain phones: 0\n",
            "GPT3 Accuracy for Problem countryPrefix-2 in Domain phones: 0\n",
            "GPT3 Accuracy for Problem countryPrefix-3 in Domain phones: 0\n",
            "GPT3 Accuracy for Problem countryPrefix-7 in Domain phones: 0\n",
            "GPT3 Accuracy for Problem countryPrefix-8 in Domain phones: 0\n",
            "GPT3 Accuracy for Problem countryPrefix-9 in Domain phones: 0\n",
            "GPT3 Accuracy for Problem deleteParentheses-1 in Domain phones: 100.0\n",
            "GPT3 Accuracy for Problem deleteParentheses-2 in Domain phones: 100.0\n",
            "GPT3 Accuracy for Problem getNumber-1 in Domain phones: 50.0\n",
            "GPT3 Accuracy for Problem getNumber-2 in Domain phones: 25.0\n",
            "GPT3 Accuracy for Problem setPrefix-1 in Domain phones: 0\n",
            "GPT3 Accuracy for Problem setPrefix-2 in Domain phones: 100.0\n",
            "GPT3 Accuracy for Problem setPrefix-3 in Domain phones: 100.0\n",
            "GPT3 Accuracy for Problem setPrefix-4 in Domain phones: 100.0\n",
            "GPT3 Accuracy for Problem setPrefix-5 in Domain phones: 0\n",
            "GPT3 Accuracy for Problem setPrefix-6 in Domain phones: 100.0\n",
            "GPT3 Accuracy for Problem setPunctuation-1 in Domain phones: 0\n",
            "GPT3 Accuracy for Problem setPunctuation-2 in Domain phones: 0\n",
            "GPT3 Accuracy for Problem addTime-1 in Domain times: 0\n",
            "GPT3 Accuracy for Problem addTime-2 in Domain times: 25.0\n",
            "GPT3 Accuracy for Problem appendTime-1 in Domain times: 75.0\n",
            "GPT3 Accuracy for Problem appendTime-2 in Domain times: 100.0\n",
            "GPT3 Accuracy for Problem appendTime-3 in Domain times: 75.0\n",
            "GPT3 Accuracy for Problem appendTime-4 in Domain times: 100.0\n",
            "GPT3 Accuracy for Problem convert-1 in Domain times: 25.0\n",
            "GPT3 Accuracy for Problem convert-10 in Domain times: 0\n",
            "GPT3 Accuracy for Problem convert-2 in Domain times: 25.0\n",
            "GPT3 Accuracy for Problem convert-3 in Domain times: 25.0\n",
            "GPT3 Accuracy for Problem convert-4 in Domain times: 0\n",
            "GPT3 Accuracy for Problem convert-5 in Domain times: 50.0\n",
            "GPT3 Accuracy for Problem convert-6 in Domain times: 0\n",
            "GPT3 Accuracy for Problem convert-7 in Domain times: 50.0\n",
            "GPT3 Accuracy for Problem convert-8 in Domain times: 0\n",
            "GPT3 Accuracy for Problem convert-9 in Domain times: 50.0\n",
            "GPT3 Accuracy for Problem deleteTime-1 in Domain times: 25.0\n",
            "GPT3 Accuracy for Problem deleteTime-2 in Domain times: 0\n",
            "GPT3 Accuracy for Problem getHour-1 in Domain times: 0\n",
            "GPT3 Accuracy for Problem getHour-2 in Domain times: 100.0\n",
            "GPT3 Accuracy for Problem getMinutes-1 in Domain times: 50.0\n",
            "GPT3 Accuracy for Problem getMinutes-2 in Domain times: 0\n",
            "GPT3 Accuracy for Problem getTime-1 in Domain times: 100.0\n",
            "GPT3 Accuracy for Problem getTime-2 in Domain times: 75.0\n",
            "GPT3 Accuracy for Problem convert-1 in Domain units: 0\n",
            "GPT3 Accuracy for Problem convert-2 in Domain units: 0\n",
            "GPT3 Accuracy for Problem convert-3 in Domain units: 0\n",
            "GPT3 Accuracy for Problem convert-4 in Domain units: 0\n",
            "GPT3 Accuracy for Problem getSystem-1 in Domain units: 0\n",
            "GPT3 Accuracy for Problem getSystem-2 in Domain units: 0\n",
            "GPT3 Accuracy for Problem getUnits-1 in Domain units: 50.0\n",
            "GPT3 Accuracy for Problem getUnits-2 in Domain units: 75.0\n",
            "GPT3 Accuracy for Problem getValue-1 in Domain units: 75.0\n",
            "GPT3 Accuracy for Problem getValue-2 in Domain units: 50.0\n"
          ],
          "name": "stdout"
        }
      ]
    },
    {
      "cell_type": "code",
      "metadata": {
        "colab": {
          "base_uri": "https://localhost:8080/"
        },
        "id": "a8MSxeWX9iUi",
        "outputId": "eee4ac9b-112e-419a-b72c-144848c4e777"
      },
      "source": [
        "sumAccuracy"
      ],
      "execution_count": null,
      "outputs": [
        {
          "output_type": "execute_result",
          "data": {
            "text/plain": [
              "50.5"
            ]
          },
          "metadata": {
            "tags": []
          },
          "execution_count": 175
        }
      ]
    },
    {
      "cell_type": "code",
      "metadata": {
        "colab": {
          "base_uri": "https://localhost:8080/"
        },
        "id": "WkAwY3c69iUj",
        "outputId": "ce82bbf9-46e6-4173-ba69-8dc819e47f71"
      },
      "source": [
        "#Evaluation (T-0) by domain\n",
        " \n",
        "correctAnswers = test_targets2\n",
        "\n",
        "sum = 0\n",
        "sumAccuracy = 0\n",
        "#Calculate the accuracies\n",
        "for d in range(0, len(domains)):\n",
        "  for i in range(0, len(final_problems)):\n",
        "    if final_problems[i][1] == domains[d]:\n",
        "      sum = sum + 1\n",
        "      accuracy = 0\n",
        "      for j in range(0, len(test_targets2[i])):\n",
        "        if results[i][j] == correctAnswers[i][j]:\n",
        "            accuracy = accuracy + (1/len(test_targets2[i]))\n",
        "      sumAccuracy = sumAccuracy + accuracy\n",
        "  print(\"GPT3 Accuracy for Domain \" + domains[d] + \": \" + str((sumAccuracy/sum)*100))\n",
        "  sum = 0\n",
        "  sumAccuracy = 0"
      ],
      "execution_count": null,
      "outputs": [
        {
          "output_type": "stream",
          "text": [
            "GPT3 Accuracy for Domain dates: 36.904761904761905\n",
            "GPT3 Accuracy for Domain emails: 83.33333333333334\n",
            "GPT3 Accuracy for Domain freetext: 43.18181818181818\n",
            "GPT3 Accuracy for Domain names: 53.84615384615385\n",
            "GPT3 Accuracy for Domain phones: 37.5\n",
            "GPT3 Accuracy for Domain times: 39.58333333333333\n",
            "GPT3 Accuracy for Domain units: 25.0\n"
          ],
          "name": "stdout"
        }
      ]
    },
    {
      "cell_type": "markdown",
      "metadata": {
        "id": "-cSPzAQ-9iUl"
      },
      "source": [
        "### GPT-3 Ada 3-shot with Temp = 0// Prompt WITHOUT the task description"
      ]
    },
    {
      "cell_type": "code",
      "metadata": {
        "colab": {
          "resources": {
            "http://localhost:8080/nbextensions/google.colab/files.js": {
              "data": "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",
              "ok": true,
              "headers": [
                [
                  "content-type",
                  "application/javascript"
                ]
              ],
              "status": 200,
              "status_text": ""
            }
          },
          "base_uri": "https://localhost:8080/",
          "height": 72
        },
        "id": "kGrqb88X9iUl",
        "outputId": "0372f074-2c85-4954-f62c-17fbace7e36f"
      },
      "source": [
        "from google.colab import files\n",
        "uploaded = files.upload()"
      ],
      "execution_count": null,
      "outputs": [
        {
          "output_type": "display_data",
          "data": {
            "text/html": [
              "\n",
              "     <input type=\"file\" id=\"files-6c577db7-ab2f-4580-8175-aa0efec65dbc\" name=\"files[]\" multiple disabled\n",
              "        style=\"border:none\" />\n",
              "     <output id=\"result-6c577db7-ab2f-4580-8175-aa0efec65dbc\">\n",
              "      Upload widget is only available when the cell has been executed in the\n",
              "      current browser session. Please rerun this cell to enable.\n",
              "      </output>\n",
              "      <script src=\"/nbextensions/google.colab/files.js\"></script> "
            ],
            "text/plain": [
              "<IPython.core.display.HTML object>"
            ]
          },
          "metadata": {
            "tags": []
          }
        },
        {
          "output_type": "stream",
          "text": [
            "Saving results_dw_t0_3s_a.txt to results_dw_t0_3s_a.txt\n"
          ],
          "name": "stdout"
        }
      ]
    },
    {
      "cell_type": "code",
      "metadata": {
        "id": "fhEJ3xPi9iUl"
      },
      "source": [
        "resdata = uploaded[\"results_dw_t0_3s_a.txt\"].decode(\"utf-8\").split(\"\\n\")"
      ],
      "execution_count": null,
      "outputs": []
    },
    {
      "cell_type": "code",
      "metadata": {
        "id": "A411goqI9iUl"
      },
      "source": [
        "resdata = resdata[:-1]"
      ],
      "execution_count": null,
      "outputs": []
    },
    {
      "cell_type": "code",
      "metadata": {
        "id": "nbXU5fa79iUl"
      },
      "source": [
        "results = [[]]*len(final_problems)\n",
        "for i in range(0, len(final_problems)):\n",
        "  results[i] = ['']*len(test_targets3[i])\n",
        "  for j in range(0, len(test_targets3[i])):\n",
        "    results[i][j] = resdata[i*len(test_targets3[i]) + j]"
      ],
      "execution_count": null,
      "outputs": []
    },
    {
      "cell_type": "code",
      "metadata": {
        "colab": {
          "base_uri": "https://localhost:8080/"
        },
        "id": "8Jn-U26Q9iUl",
        "outputId": "73a9054d-eae6-4d12-ec4e-5483745c9152"
      },
      "source": [
        "#Evaluation (T-0)\n",
        " \n",
        "correctAnswers = test_targets3\n",
        "\n",
        "corr_num = 0\n",
        " \n",
        "#Calculate the accuracies\n",
        "for i in range(0, len(final_problems)):\n",
        "  for j in range(0, len(test_targets3[i])):\n",
        "    if results[i][j] == correctAnswers[i][j]:\n",
        "        corr_num = corr_num + 1\n",
        "\n",
        "print(corr_num / len(resdata))"
      ],
      "execution_count": null,
      "outputs": [
        {
          "output_type": "stream",
          "text": [
            "0.4757834757834758\n"
          ],
          "name": "stdout"
        }
      ]
    },
    {
      "cell_type": "code",
      "metadata": {
        "colab": {
          "base_uri": "https://localhost:8080/"
        },
        "id": "lZyoIYn29iUl",
        "outputId": "103cd13e-12a4-460a-97b5-df149115d884"
      },
      "source": [
        "corr_num"
      ],
      "execution_count": null,
      "outputs": [
        {
          "output_type": "execute_result",
          "data": {
            "text/plain": [
              "167"
            ]
          },
          "metadata": {
            "tags": []
          },
          "execution_count": 182
        }
      ]
    },
    {
      "cell_type": "code",
      "metadata": {
        "colab": {
          "base_uri": "https://localhost:8080/"
        },
        "id": "_dvAgGV49iUm",
        "outputId": "015b5ada-2ae5-4997-d0b4-1bc606bf6cab"
      },
      "source": [
        "len(resdata)"
      ],
      "execution_count": null,
      "outputs": [
        {
          "output_type": "execute_result",
          "data": {
            "text/plain": [
              "351"
            ]
          },
          "metadata": {
            "tags": []
          },
          "execution_count": 183
        }
      ]
    },
    {
      "cell_type": "code",
      "metadata": {
        "colab": {
          "base_uri": "https://localhost:8080/"
        },
        "id": "17knloXM9iUm",
        "outputId": "5f551fc8-0c78-4073-fcf8-e5ece1a3ab14"
      },
      "source": [
        "#Evaluation (T-0)\n",
        " \n",
        "correctAnswers = test_targets3\n",
        "\n",
        "sumAccuracy = 0\n",
        "#Calculate the accuracies\n",
        "for i in range(0, len(final_problems)):\n",
        "  accuracy = 0\n",
        "  for j in range(0, len(test_targets3[i])):\n",
        "    if results[i][j] == correctAnswers[i][j]:\n",
        "        accuracy = accuracy + (1/len(test_targets3[i]))\n",
        "        sumAccuracy = sumAccuracy + (1/len(test_targets3[i]))\n",
        "  print(\"GPT3 Accuracy for Problem \" + final_problems[i][0] + \" in Domain \" + final_problems[i][1] + \": \" + str(accuracy*100))"
      ],
      "execution_count": null,
      "outputs": [
        {
          "output_type": "stream",
          "text": [
            "GPT3 Accuracy for Problem addPunctuation-1 in Domain dates: 33.33333333333333\n",
            "GPT3 Accuracy for Problem addPunctuation-2 in Domain dates: 66.66666666666666\n",
            "GPT3 Accuracy for Problem changeFormat-1 in Domain dates: 33.33333333333333\n",
            "GPT3 Accuracy for Problem changeFormat-2 in Domain dates: 0\n",
            "GPT3 Accuracy for Problem changeFormat-3 in Domain dates: 0\n",
            "GPT3 Accuracy for Problem changeFormat-4 in Domain dates: 0\n",
            "GPT3 Accuracy for Problem changePunctuation-1 in Domain dates: 100.0\n",
            "GPT3 Accuracy for Problem changePunctuation-2 in Domain dates: 100.0\n",
            "GPT3 Accuracy for Problem getDay-1 in Domain dates: 0\n",
            "GPT3 Accuracy for Problem getDay-2 in Domain dates: 100.0\n",
            "GPT3 Accuracy for Problem getDay-3 in Domain dates: 66.66666666666666\n",
            "GPT3 Accuracy for Problem getDayOrdinal-1 in Domain dates: 0\n",
            "GPT3 Accuracy for Problem getDayOrdinal-2 in Domain dates: 0\n",
            "GPT3 Accuracy for Problem getMonthName-1 in Domain dates: 0\n",
            "GPT3 Accuracy for Problem getMonthName-2 in Domain dates: 100.0\n",
            "GPT3 Accuracy for Problem getWeekDay-1 in Domain dates: 100.0\n",
            "GPT3 Accuracy for Problem getWeekDay-2 in Domain dates: 33.33333333333333\n",
            "GPT3 Accuracy for Problem reduceMonthName-1 in Domain dates: 66.66666666666666\n",
            "GPT3 Accuracy for Problem reduceMonthName-2 in Domain dates: 33.33333333333333\n",
            "GPT3 Accuracy for Problem setFormat-1 in Domain dates: 0\n",
            "GPT3 Accuracy for Problem setFormat-2 in Domain dates: 0\n",
            "GPT3 Accuracy for Problem generate-1 in Domain emails: 100.0\n",
            "GPT3 Accuracy for Problem generate-2 in Domain emails: 100.0\n",
            "GPT3 Accuracy for Problem generate-3 in Domain emails: 66.66666666666666\n",
            "GPT3 Accuracy for Problem getAfterAt-2 in Domain emails: 33.33333333333333\n",
            "GPT3 Accuracy for Problem getAfterAt-3 in Domain emails: 100.0\n",
            "GPT3 Accuracy for Problem getAfterAt-4 in Domain emails: 100.0\n",
            "GPT3 Accuracy for Problem getDomain-1 in Domain emails: 100.0\n",
            "GPT3 Accuracy for Problem getDomain-2 in Domain emails: 100.0\n",
            "GPT3 Accuracy for Problem someBeforeAt-NA in Domain emails: 33.33333333333333\n",
            "GPT3 Accuracy for Problem afterSymbol-1 in Domain freetext: 100.0\n",
            "GPT3 Accuracy for Problem afterSymbol-2 in Domain freetext: 100.0\n",
            "GPT3 Accuracy for Problem betweenSymbols-1 in Domain freetext: 100.0\n",
            "GPT3 Accuracy for Problem betweenSymbols-2 in Domain freetext: 100.0\n",
            "GPT3 Accuracy for Problem brackets-1 in Domain freetext: 100.0\n",
            "GPT3 Accuracy for Problem brackets-2 in Domain freetext: 100.0\n",
            "GPT3 Accuracy for Problem deletePunctuation-1 in Domain freetext: 0\n",
            "GPT3 Accuracy for Problem deletePunctuation-2 in Domain freetext: 0\n",
            "GPT3 Accuracy for Problem deletePunctuation-3 in Domain freetext: 0\n",
            "GPT3 Accuracy for Problem deletePunctuation-4 in Domain freetext: 33.33333333333333\n",
            "GPT3 Accuracy for Problem deleteSpaces-2 in Domain freetext: 0\n",
            "GPT3 Accuracy for Problem digitToEnd-1 in Domain freetext: 100.0\n",
            "GPT3 Accuracy for Problem firstCharacter-1 in Domain freetext: 66.66666666666666\n",
            "GPT3 Accuracy for Problem firstCharacter-2 in Domain freetext: 0\n",
            "GPT3 Accuracy for Problem getAfterComma-1 in Domain freetext: 100.0\n",
            "GPT3 Accuracy for Problem getAfterComma-2 in Domain freetext: 100.0\n",
            "GPT3 Accuracy for Problem getBetweenCommas-1 in Domain freetext: 100.0\n",
            "GPT3 Accuracy for Problem getCaps-1 in Domain freetext: 66.66666666666666\n",
            "GPT3 Accuracy for Problem getCaps-2 in Domain freetext: 33.33333333333333\n",
            "GPT3 Accuracy for Problem getCaps-3 in Domain freetext: 33.33333333333333\n",
            "GPT3 Accuracy for Problem toUpper-1 in Domain freetext: 0\n",
            "GPT3 Accuracy for Problem toUpper-2 in Domain freetext: 0\n",
            "GPT3 Accuracy for Problem addTitle-1 in Domain names: 66.66666666666666\n",
            "GPT3 Accuracy for Problem addTitle-2 in Domain names: 33.33333333333333\n",
            "GPT3 Accuracy for Problem getTitle-1 in Domain names: 0\n",
            "GPT3 Accuracy for Problem getTitle-2 in Domain names: 0\n",
            "GPT3 Accuracy for Problem login-1 in Domain names: 0\n",
            "GPT3 Accuracy for Problem login-2 in Domain names: 0\n",
            "GPT3 Accuracy for Problem reduceName-1 in Domain names: 100.0\n",
            "GPT3 Accuracy for Problem reduceName-2 in Domain names: 100.0\n",
            "GPT3 Accuracy for Problem reduceName-3 in Domain names: 66.66666666666666\n",
            "GPT3 Accuracy for Problem reduceName-5 in Domain names: 66.66666666666666\n",
            "GPT3 Accuracy for Problem reduceName-6 in Domain names: 66.66666666666666\n",
            "GPT3 Accuracy for Problem reduceName-8 in Domain names: 0\n",
            "GPT3 Accuracy for Problem reduceName-9 in Domain names: 33.33333333333333\n",
            "GPT3 Accuracy for Problem countryPrefix-1 in Domain phones: 0\n",
            "GPT3 Accuracy for Problem countryPrefix-2 in Domain phones: 0\n",
            "GPT3 Accuracy for Problem countryPrefix-3 in Domain phones: 0\n",
            "GPT3 Accuracy for Problem countryPrefix-7 in Domain phones: 0\n",
            "GPT3 Accuracy for Problem countryPrefix-8 in Domain phones: 33.33333333333333\n",
            "GPT3 Accuracy for Problem countryPrefix-9 in Domain phones: 33.33333333333333\n",
            "GPT3 Accuracy for Problem deleteParentheses-1 in Domain phones: 100.0\n",
            "GPT3 Accuracy for Problem deleteParentheses-2 in Domain phones: 100.0\n",
            "GPT3 Accuracy for Problem getNumber-1 in Domain phones: 66.66666666666666\n",
            "GPT3 Accuracy for Problem getNumber-2 in Domain phones: 33.33333333333333\n",
            "GPT3 Accuracy for Problem setPrefix-1 in Domain phones: 0\n",
            "GPT3 Accuracy for Problem setPrefix-2 in Domain phones: 100.0\n",
            "GPT3 Accuracy for Problem setPrefix-3 in Domain phones: 100.0\n",
            "GPT3 Accuracy for Problem setPrefix-4 in Domain phones: 100.0\n",
            "GPT3 Accuracy for Problem setPrefix-5 in Domain phones: 0\n",
            "GPT3 Accuracy for Problem setPrefix-6 in Domain phones: 100.0\n",
            "GPT3 Accuracy for Problem setPunctuation-1 in Domain phones: 0\n",
            "GPT3 Accuracy for Problem setPunctuation-2 in Domain phones: 33.33333333333333\n",
            "GPT3 Accuracy for Problem addTime-1 in Domain times: 0\n",
            "GPT3 Accuracy for Problem addTime-2 in Domain times: 33.33333333333333\n",
            "GPT3 Accuracy for Problem appendTime-1 in Domain times: 66.66666666666666\n",
            "GPT3 Accuracy for Problem appendTime-2 in Domain times: 100.0\n",
            "GPT3 Accuracy for Problem appendTime-3 in Domain times: 66.66666666666666\n",
            "GPT3 Accuracy for Problem appendTime-4 in Domain times: 100.0\n",
            "GPT3 Accuracy for Problem convert-1 in Domain times: 66.66666666666666\n",
            "GPT3 Accuracy for Problem convert-10 in Domain times: 0\n",
            "GPT3 Accuracy for Problem convert-2 in Domain times: 100.0\n",
            "GPT3 Accuracy for Problem convert-3 in Domain times: 33.33333333333333\n",
            "GPT3 Accuracy for Problem convert-4 in Domain times: 33.33333333333333\n",
            "GPT3 Accuracy for Problem convert-5 in Domain times: 33.33333333333333\n",
            "GPT3 Accuracy for Problem convert-6 in Domain times: 0\n",
            "GPT3 Accuracy for Problem convert-7 in Domain times: 33.33333333333333\n",
            "GPT3 Accuracy for Problem convert-8 in Domain times: 0\n",
            "GPT3 Accuracy for Problem convert-9 in Domain times: 33.33333333333333\n",
            "GPT3 Accuracy for Problem deleteTime-1 in Domain times: 33.33333333333333\n",
            "GPT3 Accuracy for Problem deleteTime-2 in Domain times: 33.33333333333333\n",
            "GPT3 Accuracy for Problem getHour-1 in Domain times: 0\n",
            "GPT3 Accuracy for Problem getHour-2 in Domain times: 100.0\n",
            "GPT3 Accuracy for Problem getMinutes-1 in Domain times: 33.33333333333333\n",
            "GPT3 Accuracy for Problem getMinutes-2 in Domain times: 0\n",
            "GPT3 Accuracy for Problem getTime-1 in Domain times: 100.0\n",
            "GPT3 Accuracy for Problem getTime-2 in Domain times: 100.0\n",
            "GPT3 Accuracy for Problem convert-1 in Domain units: 0\n",
            "GPT3 Accuracy for Problem convert-2 in Domain units: 0\n",
            "GPT3 Accuracy for Problem convert-3 in Domain units: 0\n",
            "GPT3 Accuracy for Problem convert-4 in Domain units: 0\n",
            "GPT3 Accuracy for Problem getSystem-1 in Domain units: 0\n",
            "GPT3 Accuracy for Problem getSystem-2 in Domain units: 0\n",
            "GPT3 Accuracy for Problem getUnits-1 in Domain units: 100.0\n",
            "GPT3 Accuracy for Problem getUnits-2 in Domain units: 100.0\n",
            "GPT3 Accuracy for Problem getValue-1 in Domain units: 66.66666666666666\n",
            "GPT3 Accuracy for Problem getValue-2 in Domain units: 66.66666666666666\n"
          ],
          "name": "stdout"
        }
      ]
    },
    {
      "cell_type": "code",
      "metadata": {
        "colab": {
          "base_uri": "https://localhost:8080/"
        },
        "id": "IMYuCv-H9iUm",
        "outputId": "decd2dd5-2658-40d2-82cb-25ca737f6494"
      },
      "source": [
        "sumAccuracy"
      ],
      "execution_count": null,
      "outputs": [
        {
          "output_type": "execute_result",
          "data": {
            "text/plain": [
              "55.666666666666785"
            ]
          },
          "metadata": {
            "tags": []
          },
          "execution_count": 187
        }
      ]
    },
    {
      "cell_type": "code",
      "metadata": {
        "colab": {
          "base_uri": "https://localhost:8080/"
        },
        "id": "hziarpBz9iUm",
        "outputId": "d15c61ab-19a5-4694-8107-f996ddd4bdff"
      },
      "source": [
        "#Evaluation (T-0) by domain\n",
        " \n",
        "correctAnswers = test_targets3\n",
        "\n",
        "sum = 0\n",
        "sumAccuracy = 0\n",
        "#Calculate the accuracies\n",
        "for d in range(0, len(domains)):\n",
        "  for i in range(0, len(final_problems)):\n",
        "    if final_problems[i][1] == domains[d]:\n",
        "      sum = sum + 1\n",
        "      accuracy = 0\n",
        "      for j in range(0, len(test_targets3[i])):\n",
        "        if results[i][j] == correctAnswers[i][j]:\n",
        "            accuracy = accuracy + (1/len(test_targets3[i]))\n",
        "      sumAccuracy = sumAccuracy + accuracy\n",
        "  print(\"GPT3 Accuracy for Domain \" + domains[d] + \": \" + str((sumAccuracy/sum)*100))\n",
        "  sum = 0\n",
        "  sumAccuracy = 0"
      ],
      "execution_count": null,
      "outputs": [
        {
          "output_type": "stream",
          "text": [
            "GPT3 Accuracy for Domain dates: 39.682539682539684\n",
            "GPT3 Accuracy for Domain emails: 81.48148148148148\n",
            "GPT3 Accuracy for Domain freetext: 56.06060606060607\n",
            "GPT3 Accuracy for Domain names: 41.02564102564102\n",
            "GPT3 Accuracy for Domain phones: 44.44444444444444\n",
            "GPT3 Accuracy for Domain times: 45.83333333333333\n",
            "GPT3 Accuracy for Domain units: 33.33333333333333\n"
          ],
          "name": "stdout"
        }
      ]
    },
    {
      "cell_type": "markdown",
      "metadata": {
        "id": "6aBZnPL59iUm"
      },
      "source": [
        "### GPT-3 Ada 4-shot with Temp = 0// Prompt WITHOUT the task description"
      ]
    },
    {
      "cell_type": "code",
      "metadata": {
        "colab": {
          "resources": {
            "http://localhost:8080/nbextensions/google.colab/files.js": {
              "data": "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",
              "ok": true,
              "headers": [
                [
                  "content-type",
                  "application/javascript"
                ]
              ],
              "status": 200,
              "status_text": ""
            }
          },
          "base_uri": "https://localhost:8080/",
          "height": 72
        },
        "id": "r2PQ7Lxk9iUm",
        "outputId": "8087e8de-4b2f-4760-b486-5f1d001c2adf"
      },
      "source": [
        "from google.colab import files\n",
        "uploaded = files.upload()"
      ],
      "execution_count": null,
      "outputs": [
        {
          "output_type": "display_data",
          "data": {
            "text/html": [
              "\n",
              "     <input type=\"file\" id=\"files-ba45c6e5-d056-4655-aef9-b6f85373ddce\" name=\"files[]\" multiple disabled\n",
              "        style=\"border:none\" />\n",
              "     <output id=\"result-ba45c6e5-d056-4655-aef9-b6f85373ddce\">\n",
              "      Upload widget is only available when the cell has been executed in the\n",
              "      current browser session. Please rerun this cell to enable.\n",
              "      </output>\n",
              "      <script src=\"/nbextensions/google.colab/files.js\"></script> "
            ],
            "text/plain": [
              "<IPython.core.display.HTML object>"
            ]
          },
          "metadata": {
            "tags": []
          }
        },
        {
          "output_type": "stream",
          "text": [
            "Saving results_dw_t0_4s_a.txt to results_dw_t0_4s_a.txt\n"
          ],
          "name": "stdout"
        }
      ]
    },
    {
      "cell_type": "code",
      "metadata": {
        "id": "GOY3pIvc9iUm"
      },
      "source": [
        "resdata = uploaded[\"results_dw_t0_4s_a.txt\"].decode(\"utf-8\").split(\"\\n\")"
      ],
      "execution_count": null,
      "outputs": []
    },
    {
      "cell_type": "code",
      "metadata": {
        "id": "UH4YvNwB9iUm"
      },
      "source": [
        "resdata = resdata[:-1]"
      ],
      "execution_count": null,
      "outputs": []
    },
    {
      "cell_type": "code",
      "metadata": {
        "id": "YaZDqZmX9iUn"
      },
      "source": [
        "results = [[]]*len(final_problems)\n",
        "for i in range(0, len(final_problems)):\n",
        "  results[i] = ['']*len(test_targets4[i])\n",
        "  for j in range(0, len(test_targets4[i])):\n",
        "    results[i][j] = resdata[i*len(test_targets4[i]) + j]"
      ],
      "execution_count": null,
      "outputs": []
    },
    {
      "cell_type": "code",
      "metadata": {
        "colab": {
          "base_uri": "https://localhost:8080/"
        },
        "id": "GH06uqrp9iUn",
        "outputId": "1531b85e-5806-465c-dec3-a0914da3c035"
      },
      "source": [
        "#Evaluation (T-0)\n",
        " \n",
        "correctAnswers = test_targets4\n",
        "\n",
        "corr_num = 0\n",
        " \n",
        "#Calculate the accuracies\n",
        "for i in range(0, len(final_problems)):\n",
        "  for j in range(0, len(test_targets4[i])):\n",
        "    if results[i][j] == correctAnswers[i][j]:\n",
        "        corr_num = corr_num + 1\n",
        "\n",
        "print(corr_num / len(resdata))"
      ],
      "execution_count": null,
      "outputs": [
        {
          "output_type": "stream",
          "text": [
            "0.5\n"
          ],
          "name": "stdout"
        }
      ]
    },
    {
      "cell_type": "code",
      "metadata": {
        "colab": {
          "base_uri": "https://localhost:8080/"
        },
        "id": "WLyFHiPs9iUn",
        "outputId": "1f665e4a-4067-46cf-f7e2-dd6e5b94636c"
      },
      "source": [
        "corr_num"
      ],
      "execution_count": null,
      "outputs": [
        {
          "output_type": "execute_result",
          "data": {
            "text/plain": [
              "117"
            ]
          },
          "metadata": {
            "tags": []
          },
          "execution_count": 194
        }
      ]
    },
    {
      "cell_type": "code",
      "metadata": {
        "colab": {
          "base_uri": "https://localhost:8080/"
        },
        "id": "-5s2v-MX9iUn",
        "outputId": "39f0c7ef-8e1f-4368-b309-c36f8fff7ed3"
      },
      "source": [
        "len(resdata)"
      ],
      "execution_count": null,
      "outputs": [
        {
          "output_type": "execute_result",
          "data": {
            "text/plain": [
              "234"
            ]
          },
          "metadata": {
            "tags": []
          },
          "execution_count": 195
        }
      ]
    },
    {
      "cell_type": "code",
      "metadata": {
        "colab": {
          "base_uri": "https://localhost:8080/"
        },
        "id": "JDzle8dq9iUn",
        "outputId": "f72bd283-d20b-4e30-e2a7-5daf45d80eab"
      },
      "source": [
        "#Evaluation (T-0)\n",
        " \n",
        "correctAnswers = test_targets4\n",
        "\n",
        "sumAccuracy = 0\n",
        "#Calculate the accuracies\n",
        "for i in range(0, len(final_problems)):\n",
        "  accuracy = 0\n",
        "  for j in range(0, len(test_targets4[i])):\n",
        "    if results[i][j] == correctAnswers[i][j]:\n",
        "        accuracy = accuracy + (1/len(test_targets4[i]))\n",
        "        sumAccuracy = sumAccuracy + (1/len(test_targets4[i]))\n",
        "  print(\"GPT3 Accuracy for Problem \" + final_problems[i][0] + \" in Domain \" + final_problems[i][1] + \": \" + str(accuracy*100))"
      ],
      "execution_count": null,
      "outputs": [
        {
          "output_type": "stream",
          "text": [
            "GPT3 Accuracy for Problem addPunctuation-1 in Domain dates: 50.0\n",
            "GPT3 Accuracy for Problem addPunctuation-2 in Domain dates: 50.0\n",
            "GPT3 Accuracy for Problem changeFormat-1 in Domain dates: 100.0\n",
            "GPT3 Accuracy for Problem changeFormat-2 in Domain dates: 0\n",
            "GPT3 Accuracy for Problem changeFormat-3 in Domain dates: 0\n",
            "GPT3 Accuracy for Problem changeFormat-4 in Domain dates: 0\n",
            "GPT3 Accuracy for Problem changePunctuation-1 in Domain dates: 100.0\n",
            "GPT3 Accuracy for Problem changePunctuation-2 in Domain dates: 100.0\n",
            "GPT3 Accuracy for Problem getDay-1 in Domain dates: 0\n",
            "GPT3 Accuracy for Problem getDay-2 in Domain dates: 100.0\n",
            "GPT3 Accuracy for Problem getDay-3 in Domain dates: 100.0\n",
            "GPT3 Accuracy for Problem getDayOrdinal-1 in Domain dates: 0\n",
            "GPT3 Accuracy for Problem getDayOrdinal-2 in Domain dates: 0\n",
            "GPT3 Accuracy for Problem getMonthName-1 in Domain dates: 50.0\n",
            "GPT3 Accuracy for Problem getMonthName-2 in Domain dates: 100.0\n",
            "GPT3 Accuracy for Problem getWeekDay-1 in Domain dates: 100.0\n",
            "GPT3 Accuracy for Problem getWeekDay-2 in Domain dates: 100.0\n",
            "GPT3 Accuracy for Problem reduceMonthName-1 in Domain dates: 50.0\n",
            "GPT3 Accuracy for Problem reduceMonthName-2 in Domain dates: 50.0\n",
            "GPT3 Accuracy for Problem setFormat-1 in Domain dates: 0\n",
            "GPT3 Accuracy for Problem setFormat-2 in Domain dates: 0\n",
            "GPT3 Accuracy for Problem generate-1 in Domain emails: 100.0\n",
            "GPT3 Accuracy for Problem generate-2 in Domain emails: 100.0\n",
            "GPT3 Accuracy for Problem generate-3 in Domain emails: 100.0\n",
            "GPT3 Accuracy for Problem getAfterAt-2 in Domain emails: 50.0\n",
            "GPT3 Accuracy for Problem getAfterAt-3 in Domain emails: 100.0\n",
            "GPT3 Accuracy for Problem getAfterAt-4 in Domain emails: 100.0\n",
            "GPT3 Accuracy for Problem getDomain-1 in Domain emails: 100.0\n",
            "GPT3 Accuracy for Problem getDomain-2 in Domain emails: 100.0\n",
            "GPT3 Accuracy for Problem someBeforeAt-NA in Domain emails: 0\n",
            "GPT3 Accuracy for Problem afterSymbol-1 in Domain freetext: 100.0\n",
            "GPT3 Accuracy for Problem afterSymbol-2 in Domain freetext: 100.0\n",
            "GPT3 Accuracy for Problem betweenSymbols-1 in Domain freetext: 100.0\n",
            "GPT3 Accuracy for Problem betweenSymbols-2 in Domain freetext: 100.0\n",
            "GPT3 Accuracy for Problem brackets-1 in Domain freetext: 100.0\n",
            "GPT3 Accuracy for Problem brackets-2 in Domain freetext: 100.0\n",
            "GPT3 Accuracy for Problem deletePunctuation-1 in Domain freetext: 0\n",
            "GPT3 Accuracy for Problem deletePunctuation-2 in Domain freetext: 0\n",
            "GPT3 Accuracy for Problem deletePunctuation-3 in Domain freetext: 0\n",
            "GPT3 Accuracy for Problem deletePunctuation-4 in Domain freetext: 0\n",
            "GPT3 Accuracy for Problem deleteSpaces-2 in Domain freetext: 0\n",
            "GPT3 Accuracy for Problem digitToEnd-1 in Domain freetext: 100.0\n",
            "GPT3 Accuracy for Problem firstCharacter-1 in Domain freetext: 0\n",
            "GPT3 Accuracy for Problem firstCharacter-2 in Domain freetext: 50.0\n",
            "GPT3 Accuracy for Problem getAfterComma-1 in Domain freetext: 100.0\n",
            "GPT3 Accuracy for Problem getAfterComma-2 in Domain freetext: 100.0\n",
            "GPT3 Accuracy for Problem getBetweenCommas-1 in Domain freetext: 100.0\n",
            "GPT3 Accuracy for Problem getCaps-1 in Domain freetext: 50.0\n",
            "GPT3 Accuracy for Problem getCaps-2 in Domain freetext: 50.0\n",
            "GPT3 Accuracy for Problem getCaps-3 in Domain freetext: 0\n",
            "GPT3 Accuracy for Problem toUpper-1 in Domain freetext: 0\n",
            "GPT3 Accuracy for Problem toUpper-2 in Domain freetext: 0\n",
            "GPT3 Accuracy for Problem addTitle-1 in Domain names: 100.0\n",
            "GPT3 Accuracy for Problem addTitle-2 in Domain names: 50.0\n",
            "GPT3 Accuracy for Problem getTitle-1 in Domain names: 0\n",
            "GPT3 Accuracy for Problem getTitle-2 in Domain names: 100.0\n",
            "GPT3 Accuracy for Problem login-1 in Domain names: 0\n",
            "GPT3 Accuracy for Problem login-2 in Domain names: 0\n",
            "GPT3 Accuracy for Problem reduceName-1 in Domain names: 100.0\n",
            "GPT3 Accuracy for Problem reduceName-2 in Domain names: 100.0\n",
            "GPT3 Accuracy for Problem reduceName-3 in Domain names: 50.0\n",
            "GPT3 Accuracy for Problem reduceName-5 in Domain names: 100.0\n",
            "GPT3 Accuracy for Problem reduceName-6 in Domain names: 100.0\n",
            "GPT3 Accuracy for Problem reduceName-8 in Domain names: 0\n",
            "GPT3 Accuracy for Problem reduceName-9 in Domain names: 0\n",
            "GPT3 Accuracy for Problem countryPrefix-1 in Domain phones: 0\n",
            "GPT3 Accuracy for Problem countryPrefix-2 in Domain phones: 0\n",
            "GPT3 Accuracy for Problem countryPrefix-3 in Domain phones: 0\n",
            "GPT3 Accuracy for Problem countryPrefix-7 in Domain phones: 0\n",
            "GPT3 Accuracy for Problem countryPrefix-8 in Domain phones: 100.0\n",
            "GPT3 Accuracy for Problem countryPrefix-9 in Domain phones: 50.0\n",
            "GPT3 Accuracy for Problem deleteParentheses-1 in Domain phones: 100.0\n",
            "GPT3 Accuracy for Problem deleteParentheses-2 in Domain phones: 100.0\n",
            "GPT3 Accuracy for Problem getNumber-1 in Domain phones: 100.0\n",
            "GPT3 Accuracy for Problem getNumber-2 in Domain phones: 50.0\n",
            "GPT3 Accuracy for Problem setPrefix-1 in Domain phones: 0\n",
            "GPT3 Accuracy for Problem setPrefix-2 in Domain phones: 100.0\n",
            "GPT3 Accuracy for Problem setPrefix-3 in Domain phones: 100.0\n",
            "GPT3 Accuracy for Problem setPrefix-4 in Domain phones: 100.0\n",
            "GPT3 Accuracy for Problem setPrefix-5 in Domain phones: 0\n",
            "GPT3 Accuracy for Problem setPrefix-6 in Domain phones: 100.0\n",
            "GPT3 Accuracy for Problem setPunctuation-1 in Domain phones: 0\n",
            "GPT3 Accuracy for Problem setPunctuation-2 in Domain phones: 50.0\n",
            "GPT3 Accuracy for Problem addTime-1 in Domain times: 0\n",
            "GPT3 Accuracy for Problem addTime-2 in Domain times: 0\n",
            "GPT3 Accuracy for Problem appendTime-1 in Domain times: 50.0\n",
            "GPT3 Accuracy for Problem appendTime-2 in Domain times: 100.0\n",
            "GPT3 Accuracy for Problem appendTime-3 in Domain times: 50.0\n",
            "GPT3 Accuracy for Problem appendTime-4 in Domain times: 100.0\n",
            "GPT3 Accuracy for Problem convert-1 in Domain times: 50.0\n",
            "GPT3 Accuracy for Problem convert-10 in Domain times: 0\n",
            "GPT3 Accuracy for Problem convert-2 in Domain times: 100.0\n",
            "GPT3 Accuracy for Problem convert-3 in Domain times: 0\n",
            "GPT3 Accuracy for Problem convert-4 in Domain times: 50.0\n",
            "GPT3 Accuracy for Problem convert-5 in Domain times: 0\n",
            "GPT3 Accuracy for Problem convert-6 in Domain times: 0\n",
            "GPT3 Accuracy for Problem convert-7 in Domain times: 0\n",
            "GPT3 Accuracy for Problem convert-8 in Domain times: 0\n",
            "GPT3 Accuracy for Problem convert-9 in Domain times: 0\n",
            "GPT3 Accuracy for Problem deleteTime-1 in Domain times: 50.0\n",
            "GPT3 Accuracy for Problem deleteTime-2 in Domain times: 0\n",
            "GPT3 Accuracy for Problem getHour-1 in Domain times: 0\n",
            "GPT3 Accuracy for Problem getHour-2 in Domain times: 100.0\n",
            "GPT3 Accuracy for Problem getMinutes-1 in Domain times: 50.0\n",
            "GPT3 Accuracy for Problem getMinutes-2 in Domain times: 0\n",
            "GPT3 Accuracy for Problem getTime-1 in Domain times: 100.0\n",
            "GPT3 Accuracy for Problem getTime-2 in Domain times: 100.0\n",
            "GPT3 Accuracy for Problem convert-1 in Domain units: 0\n",
            "GPT3 Accuracy for Problem convert-2 in Domain units: 0\n",
            "GPT3 Accuracy for Problem convert-3 in Domain units: 0\n",
            "GPT3 Accuracy for Problem convert-4 in Domain units: 0\n",
            "GPT3 Accuracy for Problem getSystem-1 in Domain units: 0\n",
            "GPT3 Accuracy for Problem getSystem-2 in Domain units: 0\n",
            "GPT3 Accuracy for Problem getUnits-1 in Domain units: 100.0\n",
            "GPT3 Accuracy for Problem getUnits-2 in Domain units: 100.0\n",
            "GPT3 Accuracy for Problem getValue-1 in Domain units: 50.0\n",
            "GPT3 Accuracy for Problem getValue-2 in Domain units: 100.0\n"
          ],
          "name": "stdout"
        }
      ]
    },
    {
      "cell_type": "code",
      "metadata": {
        "colab": {
          "base_uri": "https://localhost:8080/"
        },
        "id": "oPSemFDD9iUn",
        "outputId": "6206226c-25b0-4e52-ee6b-3a1e6f3c6292"
      },
      "source": [
        "sumAccuracy"
      ],
      "execution_count": null,
      "outputs": [
        {
          "output_type": "execute_result",
          "data": {
            "text/plain": [
              "58.5"
            ]
          },
          "metadata": {
            "tags": []
          },
          "execution_count": 198
        }
      ]
    },
    {
      "cell_type": "code",
      "metadata": {
        "colab": {
          "base_uri": "https://localhost:8080/"
        },
        "id": "RQ9C5xk99iUn",
        "outputId": "a0df0b07-d413-4a78-da6d-eda2b02084e9"
      },
      "source": [
        "#Evaluation (T-0) by domain\n",
        " \n",
        "correctAnswers = test_targets4\n",
        "\n",
        "sum = 0\n",
        "sumAccuracy = 0\n",
        "#Calculate the accuracies\n",
        "for d in range(0, len(domains)):\n",
        "  for i in range(0, len(final_problems)):\n",
        "    if final_problems[i][1] == domains[d]:\n",
        "      sum = sum + 1\n",
        "      accuracy = 0\n",
        "      for j in range(0, len(test_targets4[i])):\n",
        "        if results[i][j] == correctAnswers[i][j]:\n",
        "            accuracy = accuracy + (1/len(test_targets4[i]))\n",
        "      sumAccuracy = sumAccuracy + accuracy\n",
        "  print(\"GPT3 Accuracy for Domain \" + domains[d] + \": \" + str((sumAccuracy/sum)*100))\n",
        "  sum = 0\n",
        "  sumAccuracy = 0"
      ],
      "execution_count": null,
      "outputs": [
        {
          "output_type": "stream",
          "text": [
            "GPT3 Accuracy for Domain dates: 50.0\n",
            "GPT3 Accuracy for Domain emails: 83.33333333333334\n",
            "GPT3 Accuracy for Domain freetext: 52.27272727272727\n",
            "GPT3 Accuracy for Domain names: 53.84615384615385\n",
            "GPT3 Accuracy for Domain phones: 52.77777777777778\n",
            "GPT3 Accuracy for Domain times: 37.5\n",
            "GPT3 Accuracy for Domain units: 35.0\n"
          ],
          "name": "stdout"
        }
      ]
    }
  ]
}